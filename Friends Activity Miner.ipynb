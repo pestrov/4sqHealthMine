{
 "cells": [
  {
   "cell_type": "code",
   "execution_count": 1,
   "metadata": {
    "collapsed": false
   },
   "outputs": [],
   "source": [
    "import json\n",
    "import foursquareWithHosts\n",
    "from datetime import datetime\n",
    "from sys import stdout\n",
    "with open('keys/appCredentialsSudo.json') as credentialsFile:    \n",
    "    credentials = json.load(credentialsFile)\n",
    "with open('keys/accessTokensSudo.json') as tokensFile:    \n",
    "    accessTokens = json.load(tokensFile)\n",
    "    \n",
    "# with open('keys/hosts.json') as hostsFile:    \n",
    "#     hosts = json.load(hostsFile)"
   ]
  },
  {
   "cell_type": "markdown",
   "metadata": {},
   "source": [
    "# Initialization"
   ]
  },
  {
   "cell_type": "code",
   "execution_count": null,
   "metadata": {
    "collapsed": false
   },
   "outputs": [],
   "source": [
    "clients = []\n",
    "users = []\n",
    "for accessToken in accessTokens[:5]:\n",
    "    client = foursquareWithHosts.Foursquare(client_id=credentials['client_id'], client_secret=credentials['client_secret'], redirect_uri=credentials['redirect_uri'])\n",
    "    client.set_access_token(accessToken)\n",
    "    user = client.users()\n",
    "    clients.append(client)\n",
    "    users.append(user)"
   ]
  },
  {
   "cell_type": "code",
   "execution_count": null,
   "metadata": {
    "collapsed": true
   },
   "outputs": [],
   "source": [
    "auth_uri = client.oauth.auth_url()"
   ]
  },
  {
   "cell_type": "code",
   "execution_count": null,
   "metadata": {
    "collapsed": false
   },
   "outputs": [],
   "source": [
    "# Interrogate foursquare's servers to get the user's access_token\n",
    "access_token = client.oauth.get_token('code')\n",
    "\n",
    "# Apply the returned access token to the client\n",
    "client.set_access_token(access_token)\n",
    "\n",
    "# Get the user's data\n",
    "user = client.users()"
   ]
  },
  {
   "cell_type": "code",
   "execution_count": null,
   "metadata": {
    "collapsed": false
   },
   "outputs": [],
   "source": [
    "client.set_access_token(accessTokens[1])\n",
    "\n",
    "# Get the user's data\n",
    "user = client.users()"
   ]
  },
  {
   "cell_type": "markdown",
   "metadata": {},
   "source": [
    "# Get Activities"
   ]
  },
  {
   "cell_type": "code",
   "execution_count": 28,
   "metadata": {
    "collapsed": false
   },
   "outputs": [],
   "source": [
    "def progress(i, n):\n",
    "    stdout.write(\"\\r%f%%\" % (i*100/float(n)))\n",
    "    stdout.flush()\n",
    "    if i == n-1:\n",
    "        stdout.write(\"\\r100%\")\n",
    "        print(\"\\r\\n\")"
   ]
  },
  {
   "cell_type": "code",
   "execution_count": 386,
   "metadata": {
    "collapsed": false
   },
   "outputs": [],
   "source": [
    "#Get current friends info\n",
    "def getFriendsInfo(clients):\n",
    "    usersFriends = []\n",
    "    for client in clients[:5]:\n",
    "        friendsInfo = client.users.friends()\n",
    "        usersFriends.append(friendsInfo['friends'])\n",
    "    return usersFriends"
   ]
  },
  {
   "cell_type": "code",
   "execution_count": 387,
   "metadata": {
    "collapsed": false
   },
   "outputs": [],
   "source": [
    "#Get current friends ids\n",
    "def extractFriendsIds(usersFriends):\n",
    "    avaliableFriends = []\n",
    "    for userFriendSet in usersFriends:\n",
    "        userFriendGroup = userFriendSet['items']\n",
    "        friendIds = []\n",
    "        for friend in userFriendGroup:\n",
    "            friendIds.append(friend['id'])\n",
    "        avaliableFriends.append(friendIds)\n",
    "    return avaliableFriends"
   ]
  },
  {
   "cell_type": "code",
   "execution_count": 318,
   "metadata": {
    "collapsed": false
   },
   "outputs": [],
   "source": [
    "def countNewFriends(avaliableFriends):\n",
    "    newFriends = 0\n",
    "    for index, userSet in enumerate(avaliableFriends):\n",
    "        for userId in userSet:\n",
    "            if userId not in requestedActivitiesIds:\n",
    "                newFriends = newFriends+1\n",
    "    if newFriends:\n",
    "        print('{} new friends').format(newFriends)\n",
    "    else:\n",
    "        print('No new friends')\n",
    "    return newFriends"
   ]
  },
  {
   "cell_type": "code",
   "execution_count": 273,
   "metadata": {
    "collapsed": false
   },
   "outputs": [
    {
     "name": "stdout",
     "output_type": "stream",
     "text": [
      "71\n"
     ]
    }
   ],
   "source": [
    "print len(requestedActivitiesIds)"
   ]
  },
  {
   "cell_type": "code",
   "execution_count": 321,
   "metadata": {
    "collapsed": false
   },
   "outputs": [],
   "source": [
    "#Get the activities of new users\n",
    "def getFriendsActivities(avaliableFriends, clients, requestedActivitiesIds):\n",
    "    userActivities = []\n",
    "\n",
    "    for index, userSet in enumerate(avaliableFriends):\n",
    "        progress(index, len(clients))\n",
    "        for userId in userSet:\n",
    "            if userId not in requestedActivitiesIds:\n",
    "                userActivity = clients[index].users.activities(userId)\n",
    "                userActivities.append(userActivity)\n",
    "                db.activities.insert({'requestingUser':index,\n",
    "                                        'requestedUserId':userId,\n",
    "                                        'activity':userActivity,\n",
    "                                        'requestedAt':datetime.now()})\n",
    "                requestedActivitiesIds.append(userId)\n",
    "    return requestedActivitiesIds"
   ]
  },
  {
   "cell_type": "code",
   "execution_count": 320,
   "metadata": {
    "collapsed": false
   },
   "outputs": [],
   "source": [
    "#Get all the data from DataBase\n",
    "def getActivitiesFromDB(db):\n",
    "    activityProjection = {\"_id\":0,\n",
    "                          \"activity.activities.items.content.object.venue.id\":1,\n",
    "                          \"activity.activities.items.content.object.venue.name\":1,\n",
    "                            \"activity.activities.items.content.object.venue.location.lat\":1,\n",
    "                            \"activity.activities.items.content.object.venue.location.lng\":1,\n",
    "                            \"activity.activities.items.content.object.checkin.venue.id\":1,\n",
    "                            \"activity.activities.items.content.object.checkin.venue.name\":1,\n",
    "                             \"activity.activities.items.content.object.checkin.venue.location.lat\":1,\n",
    "                             \"activity.activities.items.content.object.checkin.venue.location.lng\":1,\n",
    "                             \"activity.activities.items.createdAt\":1,\n",
    "                              \"requestedUserId\":1}\n",
    "    activityQuery = {\"activity.activities.items.content.type\":\"checkin\"}\n",
    "    usersVenues = db.activities.find(activityQuery, activityProjection)\n",
    "    return usersVenues"
   ]
  },
  {
   "cell_type": "code",
   "execution_count": 322,
   "metadata": {
    "collapsed": false
   },
   "outputs": [],
   "source": [
    "#Transfer the data to python objects\n",
    "def getActivitiesObjects(usersVenues):\n",
    "    checkinsForUsers = []\n",
    "    for userActivity in enumerate(usersVenues):\n",
    "        checkinsForUser = []\n",
    "        for checkIn in userActivity[1]['activity']['activities']['items']:\n",
    "            checkinInfo = {}\n",
    "            checkinInfo['userId'] = userActivity[1]['requestedUserId']\n",
    "            checkinInfo[\"createdAt\"] = checkIn['createdAt']\n",
    "            checkinInfo[\"createdAtDate\"] = str(extractComponents(checkIn['createdAt'], 240))#Get the real time zone\n",
    "\n",
    "            if \"venue\" in checkIn['content']['object'].keys():\n",
    "                checkinInfo[\"venueId\"] = checkIn['content']['object'][\"venue\"][\"id\"]\n",
    "                checkinInfo[\"name\"] = checkIn['content']['object'][\"venue\"][\"name\"]\n",
    "                checkinInfo[\"lat\"] = checkIn['content']['object'][\"venue\"][\"location\"][\"lat\"]\n",
    "                checkinInfo[\"lng\"] = checkIn['content']['object'][\"venue\"][\"location\"][\"lng\"]\n",
    "                checkinsForUser.append(checkinInfo)\n",
    "            elif \"venue\" in checkIn['content']['object'].keys():\n",
    "                checkinInfo[\"venueId\"] = checkIn['content']['object']['checkin'][\"venue\"][\"id\"]\n",
    "                checkinInfo[\"name\"] = checkIn['content']['object']['checkin'][\"venue\"][\"name\"]\n",
    "                checkinInfo[\"lat\"] = checkIn['content']['object']['checkin'][\"venue\"][\"location\"][\"lat\"]\n",
    "                checkinInfo[\"lng\"] = checkIn['content']['object']['checkin'][\"venue\"][\"location\"][\"lng\"]\n",
    "                checkinsForUser.append(checkinInfo)\n",
    "        checkinsForUsers.append(checkinsForUser)\n",
    "    return checkinsForUsers"
   ]
  },
  {
   "cell_type": "code",
   "execution_count": 440,
   "metadata": {
    "collapsed": false
   },
   "outputs": [],
   "source": [
    "def countTotalFriends(avaliableFriends):\n",
    "    totalFriends = 0\n",
    "    for userSet in avaliableFriends:\n",
    "        totalFriends = totalFriends + len(userSet)\n",
    "    print('{} friends total').format(totalFriends)"
   ]
  },
  {
   "cell_type": "code",
   "execution_count": 324,
   "metadata": {
    "collapsed": false
   },
   "outputs": [],
   "source": [
    "#Save data to tsv\n",
    "def saveDataToCSV(checkinsForUsers):\n",
    "    plainListOfCheckins = [item for sublist in checkinsForUsers for item in sublist]\n",
    "    plainListOfCheckinsDF = pd.DataFrame(plainListOfCheckins)\n",
    "    plainListOfCheckinsDF.to_csv('data/24June2/checkinsHistory.tsv', sep='\\t',encoding='utf-8')"
   ]
  },
  {
   "cell_type": "code",
   "execution_count": 514,
   "metadata": {
    "collapsed": false
   },
   "outputs": [
    {
     "data": {
      "text/plain": [
       "10156"
      ]
     },
     "execution_count": 514,
     "metadata": {},
     "output_type": "execute_result"
    }
   ],
   "source": [
    "len(plainListOfCheckins)"
   ]
  },
  {
   "cell_type": "code",
   "execution_count": 326,
   "metadata": {
    "collapsed": false
   },
   "outputs": [],
   "source": [
    "def saveRequestedActivitiesIds(requestedActivitiesIds):\n",
    "    with open('data/requestedActivitiesIds.json','wb') as activitiesFile:\n",
    "        json.dump(requestedActivitiesIds,activitiesFile)"
   ]
  },
  {
   "cell_type": "code",
   "execution_count": null,
   "metadata": {
    "collapsed": true
   },
   "outputs": [],
   "source": [
    "import requests\n",
    "requests.packages.urllib3.disable_warnings()"
   ]
  },
  {
   "cell_type": "code",
   "execution_count": 441,
   "metadata": {
    "collapsed": true
   },
   "outputs": [],
   "source": [
    "def updateFriendListAndGetNewHistories(clients, requestedActivitiesIds):\n",
    "    print datetime.now()\n",
    "    #Check for new users\n",
    "    usersFriends = getFriendsInfo(clients)\n",
    "    avaliableFriends = extractFriendsIds(usersFriends)\n",
    "    countTotalFriends(avaliableFriends)\n",
    "    #Get activities of new ones\n",
    "    if countNewFriends(avaliableFriends):\n",
    "        print('Obtaining new users\\' activities')\n",
    "        requestedActivitiesIds = getFriendsActivities(avaliableFriends, clients, requestedActivitiesIds)\n",
    "        usersVenues = getActivitiesFromDB(db)\n",
    "        checkinsForUsers = getActivitiesObjects(usersVenues)\n",
    "        saveDataToCSV(checkinsForUsers)\n",
    "        saveRequestedActivitiesIds(requestedActivitiesIds)\n",
    "    print ''"
   ]
  },
  {
   "cell_type": "code",
   "execution_count": 521,
   "metadata": {
    "collapsed": false
   },
   "outputs": [
    {
     "name": "stdout",
     "output_type": "stream",
     "text": [
      "2015-06-26 00:28:38.195373\n",
      "118 friends total\n",
      "No new friends\n",
      "\n"
     ]
    }
   ],
   "source": [
    "updateFriendListAndGetNewHistories(clients, requestedActivitiesIds)"
   ]
  },
  {
   "cell_type": "code",
   "execution_count": 519,
   "metadata": {
    "collapsed": false
   },
   "outputs": [
    {
     "data": {
      "text/plain": [
       "201"
      ]
     },
     "execution_count": 519,
     "metadata": {},
     "output_type": "execute_result"
    }
   ],
   "source": [
    "len(np.unique(requestedActivitiesIds))"
   ]
  },
  {
   "cell_type": "markdown",
   "metadata": {},
   "source": [
    "# Run the loop"
   ]
  },
  {
   "cell_type": "code",
   "execution_count": null,
   "metadata": {
    "collapsed": false
   },
   "outputs": [],
   "source": [
    "import schedule\n",
    "import time\n",
    "\n",
    "schedule.clear()\n",
    "schedule.every(2).minutes.do(updateFriendListAndGetNewHistories, clients, requestedActivitiesIds)\n",
    "\n",
    "while True:\n",
    "    schedule.run_pending()\n",
    "    time.sleep(1)"
   ]
  },
  {
   "cell_type": "markdown",
   "metadata": {},
   "source": [
    "# Some other scripts"
   ]
  },
  {
   "cell_type": "code",
   "execution_count": 474,
   "metadata": {
    "collapsed": true
   },
   "outputs": [],
   "source": [
    "(checkinsDF, checkpointsDF, usersDF) = fillSourceDataFrames('24June/')"
   ]
  },
  {
   "cell_type": "code",
   "execution_count": 479,
   "metadata": {
    "collapsed": false
   },
   "outputs": [
    {
     "data": {
      "text/plain": [
       "833"
      ]
     },
     "execution_count": 479,
     "metadata": {},
     "output_type": "execute_result"
    }
   ],
   "source": [
    "len(np.unique(usersDF.userId))"
   ]
  },
  {
   "cell_type": "code",
   "execution_count": null,
   "metadata": {
    "collapsed": true
   },
   "outputs": [],
   "source": [
    "#4 Get the user that was checked-in\n",
    "requestedUser = client.users('someUserId')\n",
    "\n",
    "#5 Send requests to their friends \n",
    "if requestedUser['user']:\n",
    "    requestedUserInfo = requestedUser['user']\n",
    "    print 'Blocked:', requestedUserInfo['blockedStatus']\n",
    "    print requestedUserInfo['homeCity']\n",
    "    print requestedUserInfo['checkins']\n",
    "    print requestedUserInfo['gender']\n",
    "    print 'friends count:', requestedUserInfo['friends']['count']\n",
    "    for friendGroup in requestedUserInfo['friends']['groups']:\n",
    "        if friendGroup['type'] == 'friends':\n",
    "            if friendGroup['count'] > 3:\n",
    "                print 'Enough mutual friends'\n",
    "                break\n",
    "        if 0:\n",
    "            print 'Already requested'\n",
    "        print ''\n",
    "        for friend in friendGroup['items']:\n",
    "            if not friend['id'] in requestedUsersFriends:\n",
    "                print 'Add'\n",
    "                requestedUsersFriends.append(friend['id'])\n",
    "                client.users.request(friend['id'])"
   ]
  },
  {
   "cell_type": "code",
   "execution_count": 422,
   "metadata": {
    "collapsed": true
   },
   "outputs": [],
   "source": [
    "#Request user Info\n",
    "def getRequestedUsers(db):\n",
    "    existingRequestedUsers = []\n",
    "    existingRequestedUsersCoursor = db.requestedUsers.find()\n",
    "    for requestedUser in existingRequestedUsersCoursor:\n",
    "        existingRequestedUsers.append(int(requestedUser['requestedUser']['user']['id']))\n",
    "    return existingRequestedUsers\n",
    "\n",
    "def getUsersToRequest(usersDF, existingRequestedUsers):\n",
    "    return usersDF[~usersDF.userId.isin(existingRequestedUsers)].userId.tolist()\n",
    "\n",
    "def requestUsers(usersToRequest, db, clients):\n",
    "    requestedUsers = []\n",
    "    for index, userId in enumerate(usersToRequest):\n",
    "        progress(index,len(usersToRequest))\n",
    "        requestedUser = clients[index%len(clients)].users(userId)\n",
    "        requestedUsers.append(requestedUser)\n",
    "        db.requestedUsers.insert({'requestingUser':index%len(clients),\n",
    "                                    'requestedUser':requestedUser,\n",
    "                                     'requestedAt':datetime.now()})\n",
    "        return requestedUsers"
   ]
  },
  {
   "cell_type": "code",
   "execution_count": null,
   "metadata": {
    "collapsed": true
   },
   "outputs": [],
   "source": [
    "#1 Get the venues of interes\n",
    "yogaVenues = client.venues.search(params={'query': 'worldclass', 'near':'Moscow'})\n",
    "for yogaPlace in yogaVenues['venues']:\n",
    "    if yogaPlace['hereNow']['count'] > 0:\n",
    "        print ''\n",
    "        print yogaPlace['name']\n",
    "        print yogaPlace['id']\n",
    "        print 'here now:', yogaPlace['hereNow']['count']\n",
    "        print 'total users:', yogaPlace['stats']['usersCount']"
   ]
  }
 ],
 "metadata": {
  "kernelspec": {
   "display_name": "Python 2",
   "language": "python",
   "name": "python2"
  },
  "language_info": {
   "codemirror_mode": {
    "name": "ipython",
    "version": 2
   },
   "file_extension": ".py",
   "mimetype": "text/x-python",
   "name": "python",
   "nbconvert_exporter": "python",
   "pygments_lexer": "ipython2",
   "version": "2.7.6"
  }
 },
 "nbformat": 4,
 "nbformat_minor": 0
}
