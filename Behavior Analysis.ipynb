{
 "cells": [
  {
   "cell_type": "code",
   "execution_count": 115,
   "metadata": {
    "collapsed": true
   },
   "outputs": [],
   "source": [
    "import pandas as pd\n",
    "import numpy as np\n",
    "import json\n",
    "import datetime "
   ]
  },
  {
   "cell_type": "code",
   "execution_count": 116,
   "metadata": {
    "collapsed": false
   },
   "outputs": [],
   "source": [
    "sourceCheckins = pd.read_csv('data/July/server/checkins.tsv', sep='\\t')\n",
    "allCheckins = pd.read_csv('data/July/server/currentExtendedCheckinsHistory.tsv', sep='\\t')\n",
    "checkpoints = pd.read_csv('data/July/server/checkPoints.tsv', sep='\\t')"
   ]
  },
  {
   "cell_type": "code",
   "execution_count": 120,
   "metadata": {
    "collapsed": false
   },
   "outputs": [
    {
     "data": {
      "text/plain": [
       "2568"
      ]
     },
     "execution_count": 120,
     "metadata": {},
     "output_type": "execute_result"
    }
   ],
   "source": [
    "len(np.unique(allCheckins.userId.tolist()))"
   ]
  },
  {
   "cell_type": "code",
   "execution_count": 121,
   "metadata": {
    "collapsed": false
   },
   "outputs": [
    {
     "data": {
      "text/plain": [
       "283487"
      ]
     },
     "execution_count": 121,
     "metadata": {},
     "output_type": "execute_result"
    }
   ],
   "source": [
    "len(allCheckins)"
   ]
  },
  {
   "cell_type": "code",
   "execution_count": 119,
   "metadata": {
    "collapsed": false
   },
   "outputs": [],
   "source": [
    "allCheckins = allCheckins.drop_duplicates(subset = ['checkinId'])"
   ]
  },
  {
   "cell_type": "code",
   "execution_count": 9,
   "metadata": {
    "collapsed": true
   },
   "outputs": [],
   "source": [
    "allCheckins = pd.concat([checkins1, checkins])"
   ]
  },
  {
   "cell_type": "code",
   "execution_count": 3,
   "metadata": {
    "collapsed": true
   },
   "outputs": [],
   "source": [
    "allCheckins = pd.read_csv('data/July/server/currentExtendedCheckinsHistory.tsv', sep='\\t')"
   ]
  },
  {
   "cell_type": "code",
   "execution_count": 399,
   "metadata": {
    "collapsed": true
   },
   "outputs": [],
   "source": [
    "allCheckins.to_csv('data/July/server/currentExtendedCheckinsHistory.tsv', sep='\\t', encoding='utf-8')"
   ]
  },
  {
   "cell_type": "code",
   "execution_count": null,
   "metadata": {
    "collapsed": false
   },
   "outputs": [],
   "source": [
    "allCheckins.drop('Unnamed: 0.1', axis=1, inplace=True)"
   ]
  },
  {
   "cell_type": "code",
   "execution_count": 124,
   "metadata": {
    "collapsed": false
   },
   "outputs": [],
   "source": [
    "sortedVenues = []\n",
    "sortedVenuesIds = []\n",
    "for venueId, group in allCheckins.groupby('venueId').agg('size').order(ascending = False).iteritems():\n",
    "    sortedVenues.append({'venueId':venueId,\n",
    "                        'group':group})\n",
    "    sortedVenuesIds.append(venueId)"
   ]
  },
  {
   "cell_type": "code",
   "execution_count": 115,
   "metadata": {
    "collapsed": true
   },
   "outputs": [],
   "source": [
    "#'World Class Lite in top ten!, 520f117111d2a782f1211c3b'"
   ]
  },
  {
   "cell_type": "code",
   "execution_count": 125,
   "metadata": {
    "collapsed": false
   },
   "outputs": [],
   "source": [
    "groupedUsers = allCheckins.groupby('userId')\n",
    "userVenues = []\n",
    "for index, group in enumerate(groupedUsers):\n",
    "        userVenues.append(group[1]['venueId'].tolist())"
   ]
  },
  {
   "cell_type": "code",
   "execution_count": 126,
   "metadata": {
    "collapsed": false
   },
   "outputs": [
    {
     "data": {
      "text/plain": [
       "66667"
      ]
     },
     "execution_count": 126,
     "metadata": {},
     "output_type": "execute_result"
    }
   ],
   "source": [
    "len(sortedVenues)"
   ]
  },
  {
   "cell_type": "code",
   "execution_count": 127,
   "metadata": {
    "collapsed": false
   },
   "outputs": [],
   "source": [
    "top50VenuesCheckins = allCheckins[allCheckins.venueId.isin(sortedVenuesIds[:50])]"
   ]
  },
  {
   "cell_type": "code",
   "execution_count": 128,
   "metadata": {
    "collapsed": false
   },
   "outputs": [
    {
     "name": "stdout",
     "output_type": "stream",
     "text": [
      "ЦПКиО им. Горького / Gorky Park\n",
      "Москва / Moscow\n",
      "Парк искусств «Музеон» / Muzeon Park\n",
      "ВДНХ (Выставка достижений народного хозяйства)\n",
      "Международный аэропорт Домодедово / Domodedovo International Airport (DME)\n",
      "Россия / Russia\n",
      "Красная площадь / Red Square\n",
      "ПКиО «Сокольники»\n",
      "Международный аэропорт Шереметьево / Sheremetyevo International Airport (SVO)\n",
      "ТРЦ «Европейский»\n",
      "Арбат / Arbat Street\n",
      "Афимолл Сити / Afimall City\n",
      "ТРК «Атриум» / Atrium Mall\n",
      "Международный аэропорт Внуково / Vnukovo International Airport (VKO)\n",
      "Центральный детский магазин\n",
      "ТЦ «Метрополис»\n",
      "Ленинградский вокзал / Leningradsky Railway Terminal\n",
      "ТЦ «Охотный ряд»\n",
      "Патриаршие пруды / Patriarshiye Ponds\n",
      "Музей-заповедник «Коломенское»\n",
      "Московский вокзал / Moskovsky Railway Station\n",
      "Парк Победы (Поклонная гора) / Victory Park\n",
      "Нескучный сад\n",
      "ГУМ / GUM\n",
      "ТРЦ «Авиапарк»\n",
      "Tsvetnoy Central Market\n",
      "Физика\n",
      "Курский вокзал / Kursky Rail Terminal\n",
      "Казанский вокзал / Kazansky Rail Terminal\n",
      "Музей-заповедник «Царицыно»\n",
      "ТРЦ «Золотой Вавилон»\n",
      "Воробьёвская набережная\n",
      "МЕГА Белая Дача / MEGA Mall\n",
      "Александровский сад / Alexander Garden\n",
      "Ярославский вокзал\n",
      "Пушкинская площадь\n",
      "Смотровая площадка / Observation Deck\n",
      "GIPSY\n",
      "ПКиО «Измайловский»\n",
      "Artplay\n",
      "ТРК «Капитолий»\n",
      "ТРЦ «Калейдоскоп»\n",
      "Сад «Эрмитаж» / Hermitage Garden\n",
      "ПКиО «Красная Пресня»\n",
      "Фитнес-мания\n",
      "Чистые пруды\n",
      "ТРЦ «Columbus»\n",
      "Международный аэропорт Пулково / Pulkovo International Airport (LED)\n",
      "РЭУ им. Г. В. Плеханова\n",
      "Павелецкий вокзал / Paveletskiy Rail Terminal\n"
     ]
    }
   ],
   "source": [
    "for venueId in sortedVenuesIds[:50]:\n",
    "    print venueNameFromId(venueId)"
   ]
  },
  {
   "cell_type": "code",
   "execution_count": null,
   "metadata": {
    "collapsed": false
   },
   "outputs": [],
   "source": [
    "from pymining import itemmining\n",
    "relim_input = itemmining.get_relim_input(userVenues)\n",
    "report = itemmining.relim(relim_input, min_support=2)\n",
    "report"
   ]
  },
  {
   "cell_type": "code",
   "execution_count": 313,
   "metadata": {
    "collapsed": true
   },
   "outputs": [],
   "source": [
    "def load_dataset():\n",
    "    \"Load the sample dataset.\"\n",
    "    return userVenues\n",
    " \n",
    " \n",
    "def createC1(dataset):\n",
    "    \"Create a list of candidate item sets of size one.\"\n",
    "    c1 = []\n",
    "    for transaction in dataset:\n",
    "        for item in transaction:\n",
    "            if not [item] in c1:\n",
    "                c1.append([item])\n",
    "    c1.sort()\n",
    "    #frozenset because it will be a ket of a dictionary.\n",
    "    return map(frozenset, c1)\n",
    " \n",
    " \n",
    "def scanD(dataset, candidates, min_support):\n",
    "    \"Returns all candidates that meets a minimum support level\"\n",
    "    sscnt = {}\n",
    "    for tid in dataset:\n",
    "        for can in candidates:\n",
    "            if can.issubset(tid):\n",
    "                sscnt.setdefault(can, 0)\n",
    "                sscnt[can] += 1\n",
    " \n",
    "    num_items = float(len(dataset))\n",
    "    retlist = []\n",
    "    support_data = {}\n",
    "    for key in sscnt:\n",
    "        support = sscnt[key] / num_items\n",
    "        if support >= min_support:\n",
    "            retlist.insert(0, key)\n",
    "        support_data[key] = support\n",
    "    return retlist, support_data\n",
    " \n",
    " \n",
    "def aprioriGen(freq_sets, k):\n",
    "    \"Generate the joint transactions from candidate sets\"\n",
    "    retList = []\n",
    "    lenLk = len(freq_sets)\n",
    "    for i in range(lenLk):\n",
    "        for j in range(i + 1, lenLk):\n",
    "            L1 = list(freq_sets[i])[:k - 2]\n",
    "            L2 = list(freq_sets[j])[:k - 2]\n",
    "            L1.sort()\n",
    "            L2.sort()\n",
    "            if L1 == L2:\n",
    "                retList.append(freq_sets[i] | freq_sets[j])\n",
    "    return retList\n",
    " \n",
    " \n",
    "def apriori(dataset, minsupport=0.5):\n",
    "    \"Generate a list of candidate item sets\"\n",
    "    C1 = createC1(dataset)\n",
    "    D = map(set, dataset)\n",
    "    L1, support_data = scanD(D, C1, minsupport)\n",
    "    L = [L1]\n",
    "    k = 2\n",
    "    while (len(L[k - 2]) > 0):\n",
    "        Ck = aprioriGen(L[k - 2], k)\n",
    "        Lk, supK = scanD(D, Ck, minsupport)\n",
    "        support_data.update(supK)\n",
    "        L.append(Lk)\n",
    "        k += 1\n",
    " \n",
    "    return L, support_data"
   ]
  },
  {
   "cell_type": "code",
   "execution_count": null,
   "metadata": {
    "collapsed": false
   },
   "outputs": [],
   "source": [
    "C1 = createC1(userVenues)"
   ]
  },
  {
   "cell_type": "code",
   "execution_count": 252,
   "metadata": {
    "collapsed": true
   },
   "outputs": [],
   "source": [
    "D = map(set, userVenues)"
   ]
  },
  {
   "cell_type": "code",
   "execution_count": 253,
   "metadata": {
    "collapsed": false
   },
   "outputs": [],
   "source": [
    "L1, support_data = scanD(D, C1, 0.01)"
   ]
  },
  {
   "cell_type": "code",
   "execution_count": 315,
   "metadata": {
    "collapsed": true
   },
   "outputs": [],
   "source": [
    "L, supportData = apriori(userVenues, minsupport=0.01)"
   ]
  },
  {
   "cell_type": "code",
   "execution_count": 316,
   "metadata": {
    "collapsed": false
   },
   "outputs": [
    {
     "name": "stdout",
     "output_type": "stream",
     "text": [
      "frozenset(['4be6909fd4f7c9b6b2e02620', '4ba6146ef964a5202d3239e3'])\n",
      "frozenset(['4bd855b5f645c9b6f5a1a7e0', '4bae5064f964a52077a13be3'])\n",
      "frozenset(['4bdd5f27f219c9b6bb751210', '5526587c498e151e3d6ab2f4', '523c543311d2343c967a796e'])\n",
      "frozenset(['534f9f0b498ea76789184be0', '515dcc1ae4b0b437d6ad9c66'])\n",
      "frozenset(['534a9d1e498e5b2d5c3e5125'])\n",
      "frozenset(['4c0b65a2bbc676b003864bd5', '4ba91963f964a520480b3ae3'])\n"
     ]
    }
   ],
   "source": [
    "frequentVenues = []\n",
    "for itemset, support in zip(L, supportData):\n",
    "    if len(itemset)>5:\n",
    "        print support\n",
    "        frequentVenueSet = []\n",
    "        for item in itemset:\n",
    "            frequentVenueSet.append(next(enumerate(item))[1])\n",
    "        frequentVenues.append(frequentVenueSet)"
   ]
  },
  {
   "cell_type": "code",
   "execution_count": 40,
   "metadata": {
    "collapsed": false
   },
   "outputs": [
    {
     "data": {
      "text/plain": [
       "1.0000000000027"
      ]
     },
     "execution_count": 40,
     "metadata": {},
     "output_type": "execute_result"
    }
   ],
   "source": [
    "len(userVenues)*0.0015455950541"
   ]
  },
  {
   "cell_type": "code",
   "execution_count": 319,
   "metadata": {
    "collapsed": false
   },
   "outputs": [
    {
     "name": "stdout",
     "output_type": "stream",
     "text": [
      "Афимолл Сити / Afimall City\n",
      "Гин-но Таки\n",
      "McDonald's\n",
      "Cuba Libre\n",
      "Hard Rock Cafe Moscow\n",
      "Conversation Cafe\n",
      "Bar BQ Cafe\n",
      "Страна которой нет\n",
      "Каро Vegas 22\n",
      "Площадь Киевского Вокзала\n",
      "Счастье\n",
      "Площадь Восстания\n",
      "Starbucks\n",
      "Аэроэкспресс - Терминал на Павелецком вокзале\n",
      "Osteria della Piazza Bianca\n",
      "ТРK «Вегас» (Крокус Сити)\n",
      "Декатлон\n",
      "ТК «Горбушка»\n",
      "Теплый Стан\n",
      "Площадь Революции\n"
     ]
    }
   ],
   "source": [
    "for venueId in frequentVenues[0][:20]:\n",
    "    print venueNameFromId(venueId)"
   ]
  },
  {
   "cell_type": "code",
   "execution_count": 318,
   "metadata": {
    "collapsed": false
   },
   "outputs": [],
   "source": [
    "def generateRules(L, support_data, min_confidence=0.7):\n",
    "    \"\"\"Create the association rules\n",
    "    L: list of frequent item sets\n",
    "    support_data: support data for those itemsets\n",
    "    min_confidence: minimum confidence threshold\n",
    "    \"\"\"\n",
    "    rules = []\n",
    "    for i in range(1, len(L)):\n",
    "        for freqSet in L[i]:\n",
    "            H1 = [frozenset([item]) for item in freqSet]\n",
    "            #print \"freqSet\", freqSet, 'H1', H1\n",
    "            if (i > 1):\n",
    "                rules_from_conseq(freqSet, H1, support_data, rules, min_confidence)\n",
    "            else:\n",
    "                calc_confidence(freqSet, H1, support_data, rules, min_confidence)\n",
    "    return rules\n",
    " \n",
    " \n",
    "def calc_confidence(freqSet, H, support_data, rules, min_confidence=0.7):\n",
    "    \"Evaluate the rule generated\"\n",
    "    pruned_H = []\n",
    "    for conseq in H:\n",
    "        conf = support_data[freqSet] / support_data[freqSet - conseq]\n",
    "        if conf >= min_confidence:\n",
    "            print freqSet - conseq, '--->', conseq, 'conf:', conf\n",
    "            rules.append((freqSet - conseq, conseq, conf))\n",
    "            pruned_H.append(conseq)\n",
    "    return pruned_H\n",
    " \n",
    " \n",
    "def rules_from_conseq(freqSet, H, support_data, rules, min_confidence=0.7):\n",
    "    \"Generate a set of candidate rules\"\n",
    "    m = len(H[0])\n",
    "    if (len(freqSet) > (m + 1)):\n",
    "        Hmp1 = aprioriGen(H, m + 1)\n",
    "        Hmp1 = calc_confidence(freqSet, Hmp1,  support_data, rules, min_confidence)\n",
    "        if len(Hmp1) > 1:\n",
    "            rules_from_conseq(freqSet, Hmp1, support_data, rules, min_confidence)"
   ]
  },
  {
   "cell_type": "code",
   "execution_count": null,
   "metadata": {
    "collapsed": false,
    "scrolled": true
   },
   "outputs": [],
   "source": [
    "rules = generateRules(L, supportData, min_confidence=0.6)"
   ]
  },
  {
   "cell_type": "markdown",
   "metadata": {},
   "source": [
    "# Helper Functions"
   ]
  },
  {
   "cell_type": "code",
   "execution_count": 129,
   "metadata": {
    "collapsed": false
   },
   "outputs": [],
   "source": [
    "venuesDict = {}\n",
    "def venueNameFromId(venueId):\n",
    "    if venueId not in venuesDict.keys():\n",
    "        venuesDict[venueId] = allCheckins[allCheckins.venueId == venueId].iloc[0]['name']\n",
    "    return venuesDict[venueId]"
   ]
  },
  {
   "cell_type": "code",
   "execution_count": 481,
   "metadata": {
    "collapsed": true
   },
   "outputs": [],
   "source": [
    "venuesCatDict = {}\n",
    "def venueCategoryFromId(venueId):\n",
    "    if venueId not in venuesCatDict:\n",
    "        venuesCatDict[venueId] = allCheckins[allCheckins.venueId == venueId].iloc[0]['categoryName']\n",
    "    return venuesCatDict[venueId]"
   ]
  },
  {
   "cell_type": "code",
   "execution_count": 484,
   "metadata": {
    "collapsed": true
   },
   "outputs": [],
   "source": [
    "venuesCatIdsDict = {}\n",
    "def venueCategoryIdFromName(categoryName):\n",
    "    if categoryName not in venuesCatIdsDict:\n",
    "        venuesCatIdsDict[categoryName] = allCheckins[allCheckins.categoryName == categoryName].iloc[0]['categoryId']\n",
    "    return venuesCatIdsDict[categoryName]"
   ]
  },
  {
   "cell_type": "code",
   "execution_count": 131,
   "metadata": {
    "collapsed": true
   },
   "outputs": [],
   "source": [
    "categoriesDict = {}\n",
    "def categoryNameFromId(categoryId):\n",
    "    if categoryId not in categoriesDict.keys():\n",
    "        categoriesDict[categoryId] = allCheckins[allCheckins.categoryId == categoryId].iloc[0]['categoryName']\n",
    "    return categoriesDict[categoryId]"
   ]
  },
  {
   "cell_type": "code",
   "execution_count": 132,
   "metadata": {
    "collapsed": true
   },
   "outputs": [],
   "source": [
    "def countUsersAtVenue(venuedId):\n",
    "    return len(np.unique(allCheckins[allCheckins.venueId == venueId]['userId'].tolist()))"
   ]
  },
  {
   "cell_type": "code",
   "execution_count": 321,
   "metadata": {
    "collapsed": false,
    "scrolled": true
   },
   "outputs": [
    {
     "name": "stdout",
     "output_type": "stream",
     "text": [
      "ТРЦ «Галерея» / Galeria Shopping Mall\n",
      "ВДНХ (Выставка достижений народного хозяйства)\n",
      "--->\n",
      "Ленинградский вокзал / Leningradsky Railway Terminal\n",
      "Московский вокзал / Moskovsky Railway Station\n",
      "conf: 0.615384615385\n",
      "\n",
      "Невский проспект / Nevsky Prospect\n",
      "Московский вокзал / Moskovsky Railway Station\n",
      "--->\n",
      "Ленинградский вокзал / Leningradsky Railway Terminal\n",
      "Дворцовая площадь / Palace Square\n",
      "conf: 0.607142857143\n",
      "\n",
      "Парк искусств «Музеон» / Muzeon Park\n",
      "Каро 17 SKY\n",
      "--->\n",
      "ЦПКиО им. Горького / Gorky Park\n",
      "ТРЦ «Авиапарк»\n",
      "conf: 0.64\n",
      "\n",
      "Государственный Эрмитаж / Hermitage Museum\n",
      "Ленинградский вокзал / Leningradsky Railway Terminal\n",
      "--->\n",
      "ЦПКиО им. Горького / Gorky Park\n",
      "Московский вокзал / Moskovsky Railway Station\n",
      "conf: 0.64\n",
      "\n",
      "ВДНХ (Выставка достижений народного хозяйства)\n",
      "Дворцовая площадь / Palace Square\n",
      "--->\n",
      "Ленинградский вокзал / Leningradsky Railway Terminal\n",
      "Московский вокзал / Moskovsky Railway Station\n",
      "conf: 0.606060606061\n",
      "\n",
      "Ленинградский вокзал / Leningradsky Railway Terminal\n",
      "Невский проспект / Nevsky Prospect\n",
      "--->\n",
      "ЦПКиО им. Горького / Gorky Park\n",
      "Московский вокзал / Moskovsky Railway Station\n",
      "conf: 0.724137931034\n",
      "\n",
      "Ленинградский вокзал / Leningradsky Railway Terminal\n",
      "Дворцовая площадь / Palace Square\n",
      "--->\n",
      "ЦПКиО им. Горького / Gorky Park\n",
      "Московский вокзал / Moskovsky Railway Station\n",
      "conf: 0.622222222222\n",
      "\n",
      "Невский проспект / Nevsky Prospect\n",
      "Ленинградский вокзал / Leningradsky Railway Terminal\n",
      "ЦПКиО им. Горького / Gorky Park\n",
      "--->\n",
      "Дворцовая площадь / Palace Square\n",
      "Московский вокзал / Moskovsky Railway Station\n",
      "conf: 0.727272727273\n",
      "\n",
      "Невский проспект / Nevsky Prospect\n",
      "Ленинградский вокзал / Leningradsky Railway Terminal\n",
      "Дворцовая площадь / Palace Square\n",
      "--->\n",
      "ЦПКиО им. Горького / Gorky Park\n",
      "Московский вокзал / Moskovsky Railway Station\n",
      "conf: 0.842105263158\n",
      "\n",
      "Невский проспект / Nevsky Prospect\n",
      "Дворцовая площадь / Palace Square\n",
      "ЦПКиО им. Горького / Gorky Park\n",
      "--->\n",
      "Ленинградский вокзал / Leningradsky Railway Terminal\n",
      "Московский вокзал / Moskovsky Railway Station\n",
      "conf: 0.666666666667\n",
      "\n",
      "Невский проспект / Nevsky Prospect\n",
      "Ленинградский вокзал / Leningradsky Railway Terminal\n",
      "Московский вокзал / Moskovsky Railway Station\n",
      "--->\n",
      "ЦПКиО им. Горького / Gorky Park\n",
      "Дворцовая площадь / Palace Square\n",
      "conf: 0.615384615385\n",
      "\n",
      "Невский проспект / Nevsky Prospect\n",
      "ЦПКиО им. Горького / Gorky Park\n",
      "Московский вокзал / Moskovsky Railway Station\n",
      "--->\n",
      "Ленинградский вокзал / Leningradsky Railway Terminal\n",
      "Дворцовая площадь / Palace Square\n",
      "conf: 0.761904761905\n",
      "\n",
      "Ленинградский вокзал / Leningradsky Railway Terminal\n",
      "ВДНХ (Выставка достижений народного хозяйства)\n",
      "Дворцовая площадь / Palace Square\n",
      "--->\n",
      "ЦПКиО им. Горького / Gorky Park\n",
      "Московский вокзал / Moskovsky Railway Station\n",
      "conf: 0.666666666667\n",
      "\n",
      "ЦПКиО им. Горького / Gorky Park\n",
      "ВДНХ (Выставка достижений народного хозяйства)\n",
      "Дворцовая площадь / Palace Square\n",
      "--->\n",
      "Ленинградский вокзал / Leningradsky Railway Terminal\n",
      "Московский вокзал / Moskovsky Railway Station\n",
      "conf: 0.727272727273\n",
      "\n"
     ]
    }
   ],
   "source": [
    "for rule in rules:\n",
    "    simpleRule = 1\n",
    "    if len(rule[0]) < 2:\n",
    "        continue\n",
    "        \n",
    "    for venueId in enumerate(rule[0]):\n",
    "        if venueId[1] not in sortedVenuesIds[:20]:\n",
    "            simpleRule = 0\n",
    "            \n",
    "    if simpleRule:\n",
    "        continue\n",
    "    \n",
    "    simpleRule = 1\n",
    "    \n",
    "    for venueId in enumerate(rule[1]):\n",
    "        if venueId[1] not in sortedVenuesIds[:20]:\n",
    "            simpleRule = 0\n",
    "            \n",
    "    if simpleRule:\n",
    "        continue\n",
    "    \n",
    "    for venueId in enumerate(rule[0]):\n",
    "        print venueNameFromId(venueId[1])\n",
    "        \n",
    "    print '--->'\n",
    "    for venueId in enumerate(rule[1]):\n",
    "        print venueNameFromId(venueId[1])\n",
    "    print 'conf:', rule[2]\n",
    "    print ''"
   ]
  },
  {
   "cell_type": "code",
   "execution_count": null,
   "metadata": {
    "collapsed": true
   },
   "outputs": [],
   "source": [
    "#Using code for rules from here: http://aimotion.blogspot.ru/2013/01/machine-learning-and-data-mining.html"
   ]
  },
  {
   "cell_type": "code",
   "execution_count": 268,
   "metadata": {
    "collapsed": false
   },
   "outputs": [],
   "source": [
    "multiUserSortedVenues = filter(lambda x: x['group'] > 1, sortedVenues)"
   ]
  },
  {
   "cell_type": "code",
   "execution_count": 168,
   "metadata": {
    "collapsed": false
   },
   "outputs": [],
   "source": [
    "userVenueGroups = []\n",
    "for venueId, group in allCheckins.groupby('venueId'):\n",
    "    if len(group.groupby('userId'))>10:\n",
    "        userVenueGroups.append(venueId)"
   ]
  },
  {
   "cell_type": "code",
   "execution_count": 134,
   "metadata": {
    "collapsed": false
   },
   "outputs": [],
   "source": [
    "userVenueCategories = []\n",
    "for categoryId, group in allCheckins.groupby('categoryId'):\n",
    "    if len(group.groupby('userId'))>1:\n",
    "        userVenueCategories.append(categoryId)"
   ]
  },
  {
   "cell_type": "code",
   "execution_count": 169,
   "metadata": {
    "collapsed": false
   },
   "outputs": [],
   "source": [
    "#Make lists of users check-in venues\n",
    "multiUserCheckins = allCheckins[allCheckins.venueId.isin(userVenueGroups)]\n",
    "groupedUsers = multiUserCheckins.groupby('userId')\n",
    "userVenuesList = []\n",
    "userIds = []\n",
    "for index, group in enumerate(groupedUsers):\n",
    "        userVenuesList.append(group[1]['venueId'].tolist())\n",
    "        userIds.append(group[0])"
   ]
  },
  {
   "cell_type": "code",
   "execution_count": 136,
   "metadata": {
    "collapsed": false
   },
   "outputs": [],
   "source": [
    "#Make lists of users check-in catrgories\n",
    "fineCheckins = allCheckins[allCheckins.categoryId.isin(userVenueCategories)]\n",
    "groupedUsers = fineCheckins.groupby('userId')\n",
    "userCategoryList = []\n",
    "userIdsForCat = []\n",
    "for index, group in enumerate(groupedUsers):\n",
    "        userCategoryList.append(group[1]['categoryId'].tolist())\n",
    "        userIdsForCat.append(group[0])"
   ]
  },
  {
   "cell_type": "code",
   "execution_count": 160,
   "metadata": {
    "collapsed": false
   },
   "outputs": [
    {
     "data": {
      "text/plain": [
       "1858"
      ]
     },
     "execution_count": 160,
     "metadata": {},
     "output_type": "execute_result"
    }
   ],
   "source": [
    "len(userVenueGroups)"
   ]
  },
  {
   "cell_type": "markdown",
   "metadata": {},
   "source": [
    "# K-means, spectral"
   ]
  },
  {
   "cell_type": "code",
   "execution_count": 141,
   "metadata": {
    "collapsed": true
   },
   "outputs": [],
   "source": [
    "#Let's build some TF-ID vectors\n",
    "from sklearn.feature_extraction.text import CountVectorizer\n",
    "from sklearn.metrics.pairwise import cosine_similarity\n",
    "from sklearn.feature_extraction.text import TfidfVectorizer\n",
    "from sklearn.cluster.bicluster import SpectralCoclustering\n",
    "from sklearn.cluster import MiniBatchKMeans"
   ]
  },
  {
   "cell_type": "code",
   "execution_count": 170,
   "metadata": {
    "collapsed": false
   },
   "outputs": [],
   "source": [
    "venuesByUser = []\n",
    "for userList in userVenuesList:\n",
    "    venuesByUser.append(' '.join(userList))\n",
    "    \n",
    "categoriesByUser = []\n",
    "for userList in userCategoryList:\n",
    "    try:\n",
    "        categoriesByUser.append(' '.join(userList))\n",
    "    except:\n",
    "        print userList\n",
    "\n",
    "tfidf_vectorizer = TfidfVectorizer(vocabulary = userVenueGroups)\n",
    "tfidf_matrix_train = tfidf_vectorizer.fit_transform(venuesByUser)"
   ]
  },
  {
   "cell_type": "code",
   "execution_count": 143,
   "metadata": {
    "collapsed": false
   },
   "outputs": [
    {
     "name": "stdout",
     "output_type": "stream",
     "text": [
      "Coclustering...\n",
      "Done in 0.36s.\n",
      "MiniBatchKMeans...\n",
      "Done in 0.09s.\n"
     ]
    }
   ],
   "source": [
    "from time import time\n",
    "cocluster = SpectralCoclustering(n_clusters=20,\n",
    "                                 svd_method='arpack', random_state=0)\n",
    "kmeans = MiniBatchKMeans(n_clusters=20,\n",
    "                         random_state=0)\n",
    "\n",
    "print(\"Coclustering...\")\n",
    "start_time = time()\n",
    "cocluster.fit(tfidf_matrix_train)\n",
    "y_cocluster = cocluster.row_labels_\n",
    "print(\"Done in {:.2f}s.\".format(\n",
    "    time() - start_time))\n",
    "\n",
    "print(\"MiniBatchKMeans...\")\n",
    "start_time = time()\n",
    "y_kmeans = kmeans.fit_predict(tfidf_matrix_train)\n",
    "print(\"Done in {:.2f}s.\".format(\n",
    "    time() - start_time))\n",
    "\n",
    "feature_names = tfidf_vectorizer.get_feature_names()"
   ]
  },
  {
   "cell_type": "code",
   "execution_count": 41,
   "metadata": {
    "collapsed": false
   },
   "outputs": [],
   "source": [
    "clustersSpectral = [[] for i in range(20)]\n",
    "for index, clusterId in enumerate(y_cocluster):\n",
    "    clustersSpectral[clusterId].append(userIds[index])"
   ]
  },
  {
   "cell_type": "code",
   "execution_count": 42,
   "metadata": {
    "collapsed": false
   },
   "outputs": [
    {
     "ename": "NameError",
     "evalue": "name 'clusters' is not defined",
     "output_type": "error",
     "traceback": [
      "\u001b[0;31m---------------------------------------------------------------------------\u001b[0m",
      "\u001b[0;31mNameError\u001b[0m                                 Traceback (most recent call last)",
      "\u001b[0;32m<ipython-input-42-5651f0b9a819>\u001b[0m in \u001b[0;36m<module>\u001b[0;34m()\u001b[0m\n\u001b[0;32m----> 1\u001b[0;31m \u001b[0mnp\u001b[0m\u001b[0;34m.\u001b[0m\u001b[0mstd\u001b[0m\u001b[0;34m(\u001b[0m\u001b[0;34m[\u001b[0m\u001b[0mlen\u001b[0m\u001b[0;34m(\u001b[0m\u001b[0mcluster\u001b[0m\u001b[0;34m)\u001b[0m \u001b[0;32mfor\u001b[0m \u001b[0mcluster\u001b[0m \u001b[0;32min\u001b[0m  \u001b[0mclusters\u001b[0m\u001b[0;34m]\u001b[0m\u001b[0;34m)\u001b[0m\u001b[0;34m\u001b[0m\u001b[0m\n\u001b[0m",
      "\u001b[0;31mNameError\u001b[0m: name 'clusters' is not defined"
     ]
    }
   ],
   "source": [
    "np.std([len(cluster) for cluster in  clusters])"
   ]
  },
  {
   "cell_type": "code",
   "execution_count": 43,
   "metadata": {
    "collapsed": true
   },
   "outputs": [],
   "source": [
    "clusters = x = [[] for i in range(20)]\n",
    "for index, clustedId in enumerate(y_kmeans):\n",
    "    clusters[clustedId].append(userIds[index])"
   ]
  },
  {
   "cell_type": "markdown",
   "metadata": {},
   "source": [
    "# LDA"
   ]
  },
  {
   "cell_type": "code",
   "execution_count": 171,
   "metadata": {
    "collapsed": false
   },
   "outputs": [
    {
     "name": "stdout",
     "output_type": "stream",
     "text": [
      "Done Document matrix\n"
     ]
    }
   ],
   "source": [
    "import sklearn\n",
    "from sklearn.feature_extraction.text import CountVectorizer \n",
    "\n",
    "cv = sklearn.feature_extraction.text.CountVectorizer()\n",
    "mat = cv.fit_transform(venuesByUser).toarray()\n",
    "print('Done Document matrix')"
   ]
  },
  {
   "cell_type": "code",
   "execution_count": 172,
   "metadata": {
    "collapsed": false
   },
   "outputs": [
    {
     "data": {
      "text/plain": [
       "95054"
      ]
     },
     "execution_count": 172,
     "metadata": {},
     "output_type": "execute_result"
    }
   ],
   "source": [
    "sum([len(venuesUser) for venuesUser in userVenuesList])"
   ]
  },
  {
   "cell_type": "code",
   "execution_count": 146,
   "metadata": {
    "collapsed": false
   },
   "outputs": [
    {
     "name": "stdout",
     "output_type": "stream",
     "text": [
      "Done Document matrix\n"
     ]
    }
   ],
   "source": [
    "cvCategory = sklearn.feature_extraction.text.CountVectorizer()\n",
    "matCategory = cvCategory.fit_transform(categoriesByUser).toarray()\n",
    "print('Done Document matrix')"
   ]
  },
  {
   "cell_type": "code",
   "execution_count": 147,
   "metadata": {
    "collapsed": false
   },
   "outputs": [
    {
     "data": {
      "text/plain": [
       "559"
      ]
     },
     "execution_count": 147,
     "metadata": {},
     "output_type": "execute_result"
    }
   ],
   "source": [
    "len(userVenueCategories)"
   ]
  },
  {
   "cell_type": "code",
   "execution_count": 173,
   "metadata": {
    "collapsed": false
   },
   "outputs": [
    {
     "name": "stdout",
     "output_type": "stream",
     "text": [
      "1859\n"
     ]
    }
   ],
   "source": [
    "venuesVocab = cv.get_feature_names()\n",
    "print len(venuesVocab)"
   ]
  },
  {
   "cell_type": "code",
   "execution_count": 149,
   "metadata": {
    "collapsed": false
   },
   "outputs": [
    {
     "name": "stdout",
     "output_type": "stream",
     "text": [
      "559\n"
     ]
    }
   ],
   "source": [
    "categoriesVocab = cvCategory.get_feature_names()\n",
    "print len(categoriesVocab)"
   ]
  },
  {
   "cell_type": "code",
   "execution_count": 174,
   "metadata": {
    "collapsed": false
   },
   "outputs": [
    {
     "name": "stdout",
     "output_type": "stream",
     "text": [
      "Done LDA fitting\n"
     ]
    }
   ],
   "source": [
    "import lda\n",
    "model20 = lda.LDA(n_topics=20, n_iter=2000, random_state=1,alpha = 0.001)\n",
    "model20.fit(mat)  # model.fit_transform(X) is also available\n",
    "topic_word = model20.topic_word_  # model.components_ also works\n",
    "print('Done LDA fitting')"
   ]
  },
  {
   "cell_type": "code",
   "execution_count": 65,
   "metadata": {
    "collapsed": false
   },
   "outputs": [
    {
     "name": "stdout",
     "output_type": "stream",
     "text": [
      "Done LDA fitting\n"
     ]
    }
   ],
   "source": [
    "import lda\n",
    "model20Cat = lda.LDA(n_topics=20, n_iter=2000, random_state=1,alpha = 0.001)\n",
    "model20Cat.fit(matCategory)  # model.fit_transform(X) is also available\n",
    "topic_cats = model20Cat.topic_word_  # model.components_ also works\n",
    "print('Done LDA fitting')"
   ]
  },
  {
   "cell_type": "code",
   "execution_count": 480,
   "metadata": {
    "collapsed": false,
    "scrolled": true
   },
   "outputs": [
    {
     "name": "stdout",
     "output_type": "stream",
     "text": [
      "Cluster 1:\n",
      "Международный аэропорт Шереметьево / Sheremetyevo International Airport (SVO), 408 users 10.41%\n",
      "Международный аэропорт Домодедово / Domodedovo International Airport (DME), 591 users 7.67%\n",
      "Международный аэропорт Внуково / Vnukovo International Airport (VKO), 382 users 4.87%\n",
      "Терминал D / Terminal D, 149 users 3.24%\n",
      "Башня «Федерация» / Federation Tower, 39 users 1.59%\n",
      "ЦПКиО им. Горького / Gorky Park, 1316 users 1.17%\n",
      "Аэроэкспресс - Терминал на Белорусском вокзале / Aeroexpress Terminal at Belorusski Railway Station, 69 users 1.11%\n",
      "Международный аэропорт Симферополь / Simferopol International Airport (SIP), 40 users 1.02%\n",
      "\n",
      "Cluster 2:\n",
      "ЦПКиО им. Горького / Gorky Park, 1316 users 7.23%\n",
      "ТРЦ «Европейский», 419 users 2.92%\n",
      "Парк искусств «Музеон» / Muzeon Park, 755 users 2.46%\n",
      "ТРЦ «Columbus», 99 users 2.13%\n",
      "ТРК «Капитолий», 118 users 1.79%\n",
      "Арбат / Arbat Street, 430 users 1.52%\n",
      "ТРЦ «Филион», 85 users 1.49%\n",
      "Красная площадь / Red Square, 586 users 1.36%\n",
      "Афимолл Сити / Afimall City, 345 users 1.33%\n",
      "ТЦ «Охотный ряд», 323 users 1.29%\n",
      "ТРК «Атриум» / Atrium Mall, 407 users 1.26%\n",
      "ВДНХ (Выставка достижений народного хозяйства), 736 users 1.12%\n",
      "Парк Победы (Поклонная гора) / Victory Park, 279 users 1.07%\n",
      "Центральный детский магазин, 430 users 1.06%\n",
      "Курский вокзал / Kursky Rail Terminal, 215 users 1.06%\n",
      "ALEX-Fitness, 19 users 1.03%\n",
      "\n",
      "Cluster 3:\n",
      "ЦПКиО им. Горького / Gorky Park, 1316 users 2.87%\n",
      "ТРК «Атриум» / Atrium Mall, 407 users 1.92%\n",
      "ВДНХ (Выставка достижений народного хозяйства), 736 users 1.60%\n",
      "ПКиО «Сокольники», 503 users 1.45%\n",
      "Центральный детский магазин, 430 users 1.36%\n",
      "Сад им. Баумана, 92 users 1.32%\n",
      "Шоколадница, 18 users 1.15%\n",
      "ТК «Город», 91 users 1.12%\n",
      "Красная площадь / Red Square, 586 users 1.10%\n",
      "\n",
      "Cluster 4:\n",
      "ЦПКиО им. Горького / Gorky Park, 1316 users 4.83%\n",
      "Парк искусств «Музеон» / Muzeon Park, 755 users 2.48%\n",
      "Международный аэропорт Домодедово / Domodedovo International Airport (DME), 591 users 1.29%\n",
      "Tsvetnoy Central Market, 209 users 1.00%\n",
      "\n",
      "Cluster 5:\n",
      "Яндекс / Yandex HQ, 37 users 3.94%\n",
      "ЦПКиО им. Горького / Gorky Park, 1316 users 2.60%\n",
      "Патриаршие пруды / Patriarshiye Ponds, 312 users 2.29%\n",
      "Международный аэропорт Домодедово / Domodedovo International Airport (DME), 591 users 1.35%\n",
      "Международный аэропорт Шереметьево / Sheremetyevo International Airport (SVO), 408 users 1.18%\n",
      "Кофемания, 27 users 1.13%\n",
      "GIPSY, 134 users 1.06%\n",
      "Tsvetnoy Central Market, 209 users 1.06%\n",
      "ЦУМ, 114 users 1.06%\n",
      "Cook'kareku, 77 users 1.04%\n",
      "Кофемания, 27 users 1.04%\n",
      "\n",
      "Cluster 6:\n",
      "ТЦ «Метрополис», 305 users 5.21%\n",
      "Парк Дружбы, 79 users 4.10%\n",
      "ТРЦ «Калейдоскоп», 92 users 3.74%\n",
      "МЕГА Химки / MEGA Mall, 125 users 3.25%\n",
      "World Gym Синица, 17 users 2.80%\n",
      "Парк «Северное Тушино», 83 users 2.39%\n",
      "Природная зона «Ангарские Пруды», 15 users 2.09%\n",
      "IKEA, 119 users 1.78%\n",
      "ТЦ «Речной», 45 users 1.47%\n",
      "Долгопрудный, 15 users 1.42%\n",
      "ТЦ «Водный», 48 users 1.23%\n",
      "ТЦ «Капитолий», 46 users 1.16%\n",
      "Красная площадь / Red Square, 586 users 1.11%\n",
      "Курский вокзал / Kursky Rail Terminal, 215 users 1.04%\n",
      "МКАД (Московская кольцевая автомобильная дорога), 20 users 1.02%\n",
      "Метро Речной вокзал (metro Rechnoy Vokzal), 23 users 1.02%\n",
      "Покровское-Стрешнево (природно-исторический парк), 66 users 1.02%\n",
      "\n",
      "Cluster 7:\n",
      "Физика, 37 users 13.07%\n",
      "Афимолл Сити / Afimall City, 345 users 10.12%\n",
      "ПКиО «Красная Пресня», 129 users 3.02%\n",
      "ТЦ «ЕвроПарк» / EuroPark Mall, 48 users 2.26%\n",
      "ТЦ «Кунцево Плаза», 52 users 2.08%\n",
      "Екатерининский парк, 123 users 2.08%\n",
      "ТРЦ «Европейский», 419 users 2.00%\n",
      "Starbucks, 37 users 1.78%\n",
      "Район «Крылатское», 17 users 1.53%\n",
      "McDonald's, 25 users 1.53%\n",
      "Black Thai, 17 users 1.46%\n",
      "Район «Марьина Роща», 21 users 1.42%\n",
      "ТРЦ «Авиапарк», 183 users 1.38%\n",
      "ПКиО «Фили», 110 users 1.35%\n",
      "ТРЦ «Райкин Плаза», 58 users 1.31%\n",
      "Крылатские холмы, 26 users 1.27%\n",
      "Улица 1905 года, 25 users 1.24%\n",
      "Гончаровский парк, 11 users 1.17%\n",
      "Starbucks, 29 users 1.09%\n",
      "Красная площадь / Red Square, 586 users 1.09%\n",
      "ТРК «Атриум» / Atrium Mall, 407 users 1.06%\n",
      "Западный административный округ, 110 users 1.02%\n",
      "Петровский парк, 34 users 1.02%\n",
      "ТРК «Капитолий», 39 users 1.02%\n",
      "\n",
      "Cluster 8:\n",
      "ЦПКиО им. Горького / Gorky Park, 1316 users 3.07%\n",
      "Арбат / Arbat Street, 430 users 2.98%\n",
      "FitFashion, 12 users 2.71%\n",
      "Красная площадь / Red Square, 586 users 2.42%\n",
      "Государственный университет управления (ГУУ), 18 users 2.34%\n",
      "РГУ нефти и газа имени И. М. Губкина, 15 users 2.28%\n",
      "Пушкинская площадь, 174 users 2.24%\n",
      "Парк искусств «Музеон» / Muzeon Park, 755 users 2.03%\n",
      "Александровский сад / Alexander Garden, 238 users 1.84%\n",
      "Центральный детский магазин, 430 users 1.68%\n",
      "Улица Кузнецкий Мост, 76 users 1.58%\n",
      "Тверской бульвар, 71 users 1.53%\n",
      "ТГ «Модный сезон», 39 users 1.41%\n",
      "Новый Арбат / New Arbat Street, 118 users 1.28%\n",
      "ТЦ «Охотный ряд», 323 users 1.22%\n",
      "Москва / Moscow, 494 users 1.18%\n",
      "Тверская улица, 94 users 1.08%\n",
      "ТРЦ «Европейский», 419 users 1.08%\n",
      "Цветной бульвар, 98 users 1.08%\n",
      "ТЦ «Метрополис», 305 users 1.06%\n",
      "ГУМ / GUM, 287 users 1.04%\n",
      "Патриаршие пруды / Patriarshiye Ponds, 312 users 1.04%\n",
      "Podium Market, 27 users 1.02%\n",
      "Манежная площадь / Manezhnaya Square, 140 users 1.00%\n",
      "\n",
      "Cluster 9:\n",
      "РАНХиГС при Президенте РФ, 45 users 6.81%\n",
      "Alex Fitness, 17 users 5.71%\n",
      "МГИМО, 27 users 4.71%\n",
      "Российский университет дружбы народов (РУДН), 34 users 3.50%\n",
      "ЦПКиО им. Горького / Gorky Park, 1316 users 3.24%\n",
      "Набережная Тараса Шевченко, 44 users 2.58%\n",
      "МЕГА Тёплый Стан / MEGA Mall, 112 users 2.50%\n",
      "ТРЦ РИО «Ленинский», 51 users 1.84%\n",
      "Петровский парк, 34 users 1.69%\n",
      "Район «Нагатинский Затон», 16 users 1.69%\n",
      "Смотровая площадка / Observation Deck, 197 users 1.66%\n",
      "Парк искусств «Музеон» / Muzeon Park, 755 users 1.58%\n",
      "McDonald's, 29 users 1.51%\n",
      "Starbucks, 30 users 1.47%\n",
      "ТЦ «Фестиваль», 40 users 1.44%\n",
      "Korston Hotel, 20 users 1.40%\n",
      "ВДНХ (Выставка достижений народного хозяйства), 736 users 1.36%\n",
      "Smotra, 34 users 1.29%\n",
      "ТЦ «Метрополис», 305 users 1.25%\n",
      "Тропарёво, 32 users 1.22%\n",
      "ТЦ «Галерея Аэропорт» / Aeroport Gallery Mall, 34 users 1.18%\n",
      "Международный аэропорт Внуково / Vnukovo International Airport (VKO), 382 users 1.18%\n",
      "ТЦ «Звёздочка», 41 users 1.10%\n",
      "Музей-заповедник «Коломенское», 286 users 1.10%\n",
      "\n",
      "Cluster 10:\n",
      "ПКиО «Сокольники», 503 users 6.43%\n",
      "МЕГА Белая Дача / MEGA Mall, 180 users 4.91%\n",
      "ВДНХ (Выставка достижений народного хозяйства), 736 users 2.09%\n",
      "Сиреневый сад, 53 users 1.82%\n",
      "ЦПКиО им. Горького / Gorky Park, 1316 users 1.77%\n",
      "Центральный детский магазин, 430 users 1.62%\n",
      "Природно-исторический парк «Кузьминки-Люблино», 85 users 1.52%\n",
      "ТЦ «Тройка», 78 users 1.45%\n",
      "ТРК «Атриум» / Atrium Mall, 407 users 1.40%\n",
      "Outlet Village Белая Дача, 78 users 1.37%\n",
      "World Gym, 12 users 1.37%\n",
      "Craft rePUBlic, 31 users 1.37%\n",
      "Казанский вокзал / Kazansky Rail Terminal, 205 users 1.35%\n",
      "Красная площадь / Red Square, 586 users 1.30%\n",
      "Международный аэропорт Внуково / Vnukovo International Airport (VKO), 382 users 1.15%\n",
      "\n",
      "Cluster 11:\n",
      "Планета Фитнес, 20 users 13.83%\n",
      "РЭУ им. Г. В. Плеханова, 46 users 13.38%\n",
      "Gold's Gym, 14 users 12.04%\n",
      "Бассейн «Олимпийский», 25 users 8.01%\n",
      "Парк «Дубки», 19 users 2.24%\n",
      "Ray Just Arena, 48 users 2.18%\n",
      "Starbucks, 17 users 1.79%\n",
      "ТРЦ «Авиапарк», 183 users 1.73%\n",
      "Московский автомобильно-дорожный государственный технический университет (МАДИ), 15 users 1.73%\n",
      "СК «Олимпийский», 128 users 1.35%\n",
      "Патриаршие пруды / Patriarshiye Ponds, 312 users 1.22%\n",
      "БЦ «Омега Плаза» / Omega Plaza, 19 users 1.03%\n",
      "Кулинарная лавка братьев Караваевых, 12 users 1.03%\n",
      "\n",
      "Cluster 12:\n",
      "Факультет журналистики МГУ, 25 users 7.53%\n",
      "MANXЭТТЕН, 12 users 6.72%\n",
      "ТРЦ «Авиапарк», 183 users 5.24%\n",
      "Нескучный сад, 220 users 4.68%\n",
      "Воробьёвская набережная, 207 users 3.82%\n",
      "ЦПКиО им. Горького / Gorky Park, 1316 users 3.05%\n",
      "Метро Университет (metro Universitet), 18 users 2.60%\n",
      "Starbucks, 57 users 2.39%\n",
      "ТРК «Капитолий», 118 users 2.34%\n",
      "ТЦ «Охотный ряд», 323 users 1.68%\n",
      "МЕГА Казань / MEGA Mall, 11 users 1.63%\n",
      "Starbucks, 43 users 1.63%\n",
      "МГУ им. М. В. Ломоносова, 83 users 1.58%\n",
      "Митино, 23 users 1.53%\n",
      "Соловей, 138 users 1.48%\n",
      "Метро Юго-Западная (metro Yugo-Zapadnaya), 19 users 1.48%\n",
      "Парк искусств «Музеон» / Muzeon Park, 755 users 1.37%\n",
      "Ашан, 15 users 1.32%\n",
      "Красный Октябрь / Red October, 68 users 1.22%\n",
      "The 21 Food Market, 84 users 1.17%\n",
      "Арбат / Arbat Street, 430 users 1.12%\n",
      "Кулинарная лавка братьев Караваевых, 19 users 1.12%\n",
      "Шоколадница, 18 users 1.12%\n",
      "\n",
      "Cluster 13:\n",
      "Фитнес-мания, 25 users 17.94%\n",
      "Арбитражный суд Москвы, 19 users 5.08%\n",
      "Парк им. 50-летия Октября, 33 users 4.71%\n",
      "Международный аэропорт Внуково / Vnukovo International Airport (VKO), 382 users 3.89%\n",
      "Международный аэропорт Домодедово / Domodedovo International Airport (DME), 591 users 3.44%\n",
      "Кампус, 17 users 2.92%\n",
      "Starbucks, 45 users 2.39%\n",
      "МГУ им. М. В. Ломоносова, 83 users 2.17%\n",
      "Каро, 28 users 1.94%\n",
      "ТЦ «Калужский», 39 users 1.72%\n",
      "Синема Парк, 23 users 1.42%\n",
      "Парк Победы (Поклонная гора) / Victory Park, 279 users 1.27%\n",
      "Globus, 23 users 1.27%\n",
      "Gogol', 20 users 1.20%\n",
      "Российский онкологический научный центр им. Н. Н. Блохина РАМН, 12 users 1.20%\n",
      "Dubai International Airport (DXB) | مطار دبي الدولي, 19 users 1.20%\n",
      "Смотровая площадка / Observation Deck, 197 users 1.20%\n",
      "Starbucks, 36 users 1.20%\n",
      "НИИ скорой помощи им. Н. В. Склифосовского, 12 users 1.12%\n",
      "\n",
      "Cluster 14:\n",
      "World Class Lite, 16 users 6.89%\n",
      "ПКиО «Измайловский», 140 users 5.61%\n",
      "ПКиО «Сокольники», 503 users 5.61%\n",
      "РГГУ (Российский государственный гуманитарный университет), 33 users 4.72%\n",
      "Фитнес клуб \"Зебра\"/ ZEBRA FITNES and SPA, 11 users 4.63%\n",
      "Район «Сокольники», 54 users 2.76%\n",
      "ТРЦ «Семёновский», 46 users 2.76%\n",
      "Планета Фитнес, 11 users 2.64%\n",
      "ТЦ «Охотный ряд», 323 users 2.25%\n",
      "ЦПКиО им. Горького / Gorky Park, 1316 users 1.91%\n",
      "ТК «Город», 91 users 1.79%\n",
      "McDonald's, 39 users 1.62%\n",
      "ТРК «Атриум» / Atrium Mall, 407 users 1.57%\n",
      "Кофе Хауз, 15 users 1.32%\n",
      "Арбат / Arbat Street, 430 users 1.15%\n",
      "Семеновская площадь, 20 users 1.15%\n",
      "ТЦ «Тройка», 78 users 1.15%\n",
      "Кронверк Синема Семеновский, 31 users 1.06%\n",
      "\n",
      "Cluster 15:\n",
      "ЦПКиО им. Горького / Gorky Park, 1316 users 13.41%\n",
      "Парк искусств «Музеон» / Muzeon Park, 755 users 7.38%\n",
      "Московский государственный юридический университет им. О. Е. Кутафина (МГЮА), 11 users 5.62%\n",
      "World Gym, 13 users 4.32%\n",
      "Беговой клуб Nike, 31 users 3.57%\n",
      "Московский вокзал / Moskovsky Railway Station, 221 users 2.61%\n",
      "Ленинградский вокзал / Leningradsky Railway Terminal, 313 users 2.46%\n",
      "Крымская набережная, 65 users 2.31%\n",
      "Голицынские пруды, 13 users 1.61%\n",
      "Чайная высота, 17 users 1.56%\n",
      "Курский вокзал / Kursky Rail Terminal, 215 users 1.41%\n",
      "ТРЦ «Европейский», 419 users 1.41%\n",
      "Фрунзенская набережная, 43 users 1.41%\n",
      "ПКиО «Красная Пресня», 129 users 1.31%\n",
      "Ж/Д станция Царицыно, 16 users 1.16%\n",
      "Танцующий фонтан, 22 users 1.11%\n",
      "Нескучный сад, 220 users 1.05%\n",
      "Воробьёвская набережная, 207 users 1.05%\n",
      "Якиманская набережная, 16 users 1.05%\n",
      "\n",
      "Cluster 16:\n",
      "Москва / Moscow, 494 users 39.29%\n",
      "Россия / Russia, 248 users 18.95%\n",
      "Западный административный округ, 110 users 3.31%\n",
      "ЦПКиО им. Горького / Gorky Park, 1316 users 2.26%\n",
      "Северный административный округ, 73 users 1.65%\n",
      "Красная площадь / Red Square, 586 users 1.54%\n",
      "Парк искусств «Музеон» / Muzeon Park, 755 users 1.18%\n",
      "\n",
      "Cluster 17:\n",
      "Московский вокзал / Moskovsky Railway Station, 221 users 6.67%\n",
      "Ленинградский вокзал / Leningradsky Railway Terminal, 313 users 6.31%\n",
      "Международный аэропорт Пулково / Pulkovo International Airport (LED), 118 users 3.76%\n",
      "Невский проспект / Nevsky Prospect, 101 users 3.12%\n",
      "ТРЦ «Галерея» / Galeria Shopping Mall, 92 users 3.08%\n",
      "Дворцовая площадь / Palace Square, 120 users 2.93%\n",
      "Санкт-Петербург, 39 users 1.74%\n",
      "Новая Лига, 14 users 1.70%\n",
      "ЦПКиО им. Горького / Gorky Park, 1316 users 1.40%\n",
      "Государственный Эрмитаж / Hermitage Museum, 71 users 1.27%\n",
      "Площадь Восстания, 36 users 1.19%\n",
      "ВДНХ (Выставка достижений народного хозяйства), 736 users 1.19%\n",
      "Музей-заповедник «Петергоф», 59 users 1.08%\n",
      "Диво Остров, 35 users 1.06%\n",
      "Центральный район, 31 users 1.04%\n",
      "Пушкин / Pushkin, 14 users 1.04%\n",
      "Марсово поле / Field of Mars, 39 users 1.02%\n",
      "\n",
      "Cluster 18:\n",
      "ЦПКиО им. Горького / Gorky Park, 1316 users 4.13%\n",
      "Музей-заповедник «Коломенское», 286 users 2.68%\n",
      "Красная площадь / Red Square, 586 users 2.54%\n",
      "Арбат / Arbat Street, 430 users 1.89%\n",
      "Музей-заповедник «Царицыно», 254 users 1.78%\n",
      "ВДНХ (Выставка достижений народного хозяйства), 736 users 1.67%\n",
      "ТРЦ «Европейский», 419 users 1.15%\n",
      "Парк Победы (Поклонная гора) / Victory Park, 279 users 1.12%\n",
      "ТРК «Атриум» / Atrium Mall, 407 users 1.09%\n",
      "Международный аэропорт Домодедово / Domodedovo International Airport (DME), 591 users 1.07%\n",
      "Москва / Moscow, 494 users 1.07%\n",
      "Парк искусств «Музеон» / Muzeon Park, 755 users 1.04%\n",
      "\n",
      "Cluster 19:\n",
      "ВДНХ (Выставка достижений народного хозяйства), 736 users 8.19%\n",
      "ТРЦ «Золотой Вавилон», 164 users 5.81%\n",
      "World Class Lite, 13 users 5.65%\n",
      "Район «Отрадное», 30 users 1.76%\n",
      "МГЛУ / Московский государственный лингвистический университет / Moscow State Linguistic University, 18 users 1.54%\n",
      "ЦПКиО им. Горького / Gorky Park, 1316 users 1.43%\n",
      "ТРЦ Весна, Алтуфьево, 51 users 1.41%\n",
      "Люксор Центр, 44 users 1.32%\n",
      "Главный ботанический сад РАН им. Н. В. Цицина, 105 users 1.30%\n",
      "Район «Строгино», 31 users 1.30%\n",
      "Ярославский вокзал, 148 users 1.27%\n",
      "Красная площадь / Red Square, 586 users 1.27%\n",
      "Ж/Д станция Подлипки-Дачные, 12 users 1.08%\n",
      "ТРЦ «Золотой Вавилон», 32 users 1.03%\n",
      "\n",
      "Cluster 20:\n",
      "ТРЦ «Европейский», 419 users 5.47%\n",
      "Метро Бабушкинская (metro Babushkinskaya), 13 users 4.51%\n",
      "Метро Савёловская (metro Savyolovskaya), 14 users 3.75%\n",
      "Савеловский вокзал / Savyolovsky Rail Terminal, 49 users 3.24%\n",
      "Киевский вокзал / Kievsky Rail Terminal, 105 users 2.89%\n",
      "Ярославский вокзал, 148 users 2.53%\n",
      "Метро Октябрьское поле (metro Oktyabrskoye Pole), 12 users 2.38%\n",
      "Высшая школа экономики (НИУ ВШЭ), 18 users 2.23%\n",
      "Метро Белорусская, кольцевая (metro Belorusskaya, line 5), 13 users 1.87%\n",
      "Метро Университет (metro Universitet), 18 users 1.67%\n",
      "Метро Киевская, кольцевая (metro Kiyevskaya, line 5), 25 users 1.67%\n",
      "Метро ВДНХ (metro VDNH), 26 users 1.67%\n",
      "Казанский вокзал / Kazansky Rail Terminal, 205 users 1.62%\n",
      "Метро Маяковская (metro Mayakovskaya), 23 users 1.57%\n",
      "Метро Выхино (metro Vykhino), 14 users 1.57%\n",
      "Coffeeshop Company, 14 users 1.52%\n",
      "ВДНХ (Выставка достижений народного хозяйства), 736 users 1.47%\n",
      "Метро Проспект Мира, кольцевая (metro Prospekt Mira, line 5), 11 users 1.37%\n",
      "Павелецкий вокзал / Paveletskiy Rail Terminal, 160 users 1.37%\n",
      "Платформа Тимирязевская, 15 users 1.32%\n",
      "Coffeeshop Company, 28 users 1.32%\n",
      "Метро Петровско-Разумовская (metro Petrovsko-Razumovskaya), 12 users 1.22%\n",
      "Афимолл Сити / Afimall City, 345 users 1.11%\n",
      "Метро Охотный ряд (metro Okhotny ryad), 14 users 1.01%\n",
      "\n"
     ]
    }
   ],
   "source": [
    "n_top_venues = 10\n",
    "for i, venues_dist in enumerate(topic_word):\n",
    "    indicies = np.argsort(venues_dist)[::-1]\n",
    "    topic_venues = np.array(venuesVocab)[indicies]\n",
    "    topic_probs = venues_dist[indicies]\n",
    "    #print np.sort(venues_dist)[:-n_top_venues:-1]\n",
    "    print('Cluster {}:'.format(i+1))\n",
    "    for venueId, topicProb in zip(topic_venues, topic_probs):\n",
    "        if topicProb>=0.01:\n",
    "            print(\"{}, {} users {:.2f}%\").format(venueNameFromId(venueId),countUsersAtVenue(venueId),topicProb*100)\n",
    "        else:\n",
    "            break\n",
    "    print ''"
   ]
  },
  {
   "cell_type": "markdown",
   "metadata": {},
   "source": [
    "# Create LDA users clusters"
   ]
  },
  {
   "cell_type": "code",
   "execution_count": 152,
   "metadata": {
    "collapsed": false
   },
   "outputs": [],
   "source": [
    "def exportLDAClustersToCSV(venues_clusters, allCheckins):\n",
    "    topVenuesLDA = []\n",
    "    LDAclustersDF = pd.DataFrame()\n",
    "    for clustedId, venues_dist in enumerate(venues_clusters):\n",
    "        indicies = np.argsort(venues_dist)[::-1]\n",
    "        \n",
    "        topic_venues = np.array(venuesVocab)[indicies]\n",
    "        topic_probs = venues_dist[indicies]\n",
    "\n",
    "        topVenuesIds =  [venueId for venueId, topicProb in zip(topic_venues, topic_probs) if topicProb>=0.01]\n",
    "        topVenuesLDA.extend(topVenuesIds)\n",
    "        clusterCheckins = allCheckins[allCheckins.venueId.isin(topVenuesIds)]\n",
    "        clusterCheckins[\"clusterId\"] = clustedId+1\n",
    "        LDAclustersDF = LDAclustersDF.append(clusterCheckins)\n",
    "    print len(topVenuesLDA)\n",
    "    print len(set(topVenuesLDA))\n",
    "    return LDAclustersDF"
   ]
  },
  {
   "cell_type": "code",
   "execution_count": 153,
   "metadata": {
    "collapsed": false
   },
   "outputs": [
    {
     "name": "stdout",
     "output_type": "stream",
     "text": [
      "318\n",
      "221\n"
     ]
    },
    {
     "name": "stderr",
     "output_type": "stream",
     "text": [
      "/usr/local/lib/python2.7/site-packages/IPython/kernel/__main__.py:13: SettingWithCopyWarning: \n",
      "A value is trying to be set on a copy of a slice from a DataFrame.\n",
      "Try using .loc[row_indexer,col_indexer] = value instead\n",
      "\n",
      "See the the caveats in the documentation: http://pandas.pydata.org/pandas-docs/stable/indexing.html#indexing-view-versus-copy\n"
     ]
    }
   ],
   "source": [
    "LDAclustersDF = exportLDAClustersToCSV(topic_word, allCheckins)"
   ]
  },
  {
   "cell_type": "code",
   "execution_count": 154,
   "metadata": {
    "collapsed": false
   },
   "outputs": [],
   "source": [
    "LDAclustersDF.to_csv('data/July/LDATopVenuesMoreThan10.tsv', sep=\"\\t\", encoding=\"utf-8\")"
   ]
  },
  {
   "cell_type": "code",
   "execution_count": null,
   "metadata": {
    "collapsed": false
   },
   "outputs": [],
   "source": [
    "LDAclusteredUsersDF = pd.DataFrame()\n",
    "for clusterId, clusterLDA in enumerate(clustersLDA):\n",
    "    clusterCheckins = allCheckins[allCheckins.userId.isin(clusterLDA)]\n",
    "    clusterCheckins[\"clusterId\"] = clusterId + 1\n",
    "    LDAclusteredUsersDF = LDAclusteredUsersDF.append(clusterCheckins)\n",
    "    print len(clusterLDA)"
   ]
  },
  {
   "cell_type": "code",
   "execution_count": 177,
   "metadata": {
    "collapsed": true
   },
   "outputs": [],
   "source": [
    "LDAclusteredUsersDF.to_csv('data/July/LDAClusteredUsersMoreThan10.tsv', sep=\"\\t\", encoding=\"utf-8\")"
   ]
  },
  {
   "cell_type": "code",
   "execution_count": 176,
   "metadata": {
    "collapsed": false
   },
   "outputs": [],
   "source": [
    "from datetime import datetime\n",
    "def extractComponents(row):\n",
    "    date = datetime.utcfromtimestamp(row.createdAt+180*60)\n",
    "    hours.append(date.hour)\n",
    "    weekdays.append(date.weekday())\n",
    "    \n",
    "hours = []\n",
    "weekdays = []\n",
    "\n",
    "LDAclusteredUsersDF.apply(extractComponents, axis=1)\n",
    "LDAclusteredUsersDF['hour'] = hours\n",
    "LDAclusteredUsersDF['weekday'] = weekdays"
   ]
  },
  {
   "cell_type": "code",
   "execution_count": 476,
   "metadata": {
    "collapsed": false
   },
   "outputs": [
    {
     "name": "stdout",
     "output_type": "stream",
     "text": [
      " Checkins per user: "
     ]
    },
    {
     "ename": "IndexingError",
     "evalue": "Unalignable boolean Series key provided",
     "output_type": "error",
     "traceback": [
      "\u001b[0;31m---------------------------------------------------------------------------\u001b[0m",
      "\u001b[0;31mIndexingError\u001b[0m                             Traceback (most recent call last)",
      "\u001b[0;32m<ipython-input-476-542970821dd1>\u001b[0m in \u001b[0;36m<module>\u001b[0;34m()\u001b[0m\n\u001b[1;32m      1\u001b[0m \u001b[0;32mfor\u001b[0m \u001b[0mindex\u001b[0m\u001b[0;34m,\u001b[0m \u001b[0mgroup\u001b[0m \u001b[0;32min\u001b[0m \u001b[0menumerate\u001b[0m\u001b[0;34m(\u001b[0m\u001b[0mLDAclusteredUsersDF\u001b[0m\u001b[0;34m.\u001b[0m\u001b[0mgroupby\u001b[0m\u001b[0;34m(\u001b[0m\u001b[0;34m\"clusterId\"\u001b[0m\u001b[0;34m)\u001b[0m\u001b[0;34m)\u001b[0m\u001b[0;34m:\u001b[0m\u001b[0;34m\u001b[0m\u001b[0m\n\u001b[0;32m----> 2\u001b[0;31m     \u001b[0;32mprint\u001b[0m \u001b[0;34m'Checkins per user: '\u001b[0m\u001b[0;34m,\u001b[0m \u001b[0mlen\u001b[0m\u001b[0;34m(\u001b[0m\u001b[0mgroup\u001b[0m\u001b[0;34m[\u001b[0m\u001b[0;36m1\u001b[0m\u001b[0;34m]\u001b[0m\u001b[0;34m[\u001b[0m\u001b[0mgroup\u001b[0m\u001b[0;34m[\u001b[0m\u001b[0;36m1\u001b[0m\u001b[0;34m]\u001b[0m\u001b[0;34m[\u001b[0m\u001b[0;34m\"createdAtDate\"\u001b[0m\u001b[0;34m]\u001b[0m\u001b[0;34m[\u001b[0m\u001b[0;36m6\u001b[0m\u001b[0;34m:\u001b[0m\u001b[0;36m7\u001b[0m\u001b[0;34m]\u001b[0m \u001b[0;34m==\u001b[0m \u001b[0;34m'6'\u001b[0m\u001b[0;34m]\u001b[0m\u001b[0;34m)\u001b[0m\u001b[0;34m/\u001b[0m\u001b[0mlen\u001b[0m\u001b[0;34m(\u001b[0m\u001b[0mgroup\u001b[0m\u001b[0;34m[\u001b[0m\u001b[0;36m1\u001b[0m\u001b[0;34m]\u001b[0m\u001b[0;34m.\u001b[0m\u001b[0mgroupby\u001b[0m\u001b[0;34m(\u001b[0m\u001b[0;34m\"userId\"\u001b[0m\u001b[0;34m)\u001b[0m\u001b[0;34m)\u001b[0m\u001b[0;34m\u001b[0m\u001b[0m\n\u001b[0m",
      "\u001b[0;32m/usr/local/lib/python2.7/site-packages/pandas/core/frame.pyc\u001b[0m in \u001b[0;36m__getitem__\u001b[0;34m(self, key)\u001b[0m\n\u001b[1;32m   1789\u001b[0m         \u001b[0;32mif\u001b[0m \u001b[0misinstance\u001b[0m\u001b[0;34m(\u001b[0m\u001b[0mkey\u001b[0m\u001b[0;34m,\u001b[0m \u001b[0;34m(\u001b[0m\u001b[0mSeries\u001b[0m\u001b[0;34m,\u001b[0m \u001b[0mnp\u001b[0m\u001b[0;34m.\u001b[0m\u001b[0mndarray\u001b[0m\u001b[0;34m,\u001b[0m \u001b[0mIndex\u001b[0m\u001b[0;34m,\u001b[0m \u001b[0mlist\u001b[0m\u001b[0;34m)\u001b[0m\u001b[0;34m)\u001b[0m\u001b[0;34m:\u001b[0m\u001b[0;34m\u001b[0m\u001b[0m\n\u001b[1;32m   1790\u001b[0m             \u001b[0;31m# either boolean or fancy integer index\u001b[0m\u001b[0;34m\u001b[0m\u001b[0;34m\u001b[0m\u001b[0m\n\u001b[0;32m-> 1791\u001b[0;31m             \u001b[0;32mreturn\u001b[0m \u001b[0mself\u001b[0m\u001b[0;34m.\u001b[0m\u001b[0m_getitem_array\u001b[0m\u001b[0;34m(\u001b[0m\u001b[0mkey\u001b[0m\u001b[0;34m)\u001b[0m\u001b[0;34m\u001b[0m\u001b[0m\n\u001b[0m\u001b[1;32m   1792\u001b[0m         \u001b[0;32melif\u001b[0m \u001b[0misinstance\u001b[0m\u001b[0;34m(\u001b[0m\u001b[0mkey\u001b[0m\u001b[0;34m,\u001b[0m \u001b[0mDataFrame\u001b[0m\u001b[0;34m)\u001b[0m\u001b[0;34m:\u001b[0m\u001b[0;34m\u001b[0m\u001b[0m\n\u001b[1;32m   1793\u001b[0m             \u001b[0;32mreturn\u001b[0m \u001b[0mself\u001b[0m\u001b[0;34m.\u001b[0m\u001b[0m_getitem_frame\u001b[0m\u001b[0;34m(\u001b[0m\u001b[0mkey\u001b[0m\u001b[0;34m)\u001b[0m\u001b[0;34m\u001b[0m\u001b[0m\n",
      "\u001b[0;32m/usr/local/lib/python2.7/site-packages/pandas/core/frame.pyc\u001b[0m in \u001b[0;36m_getitem_array\u001b[0;34m(self, key)\u001b[0m\n\u001b[1;32m   1829\u001b[0m             \u001b[0;31m# check_bool_indexer will throw exception if Series key cannot\u001b[0m\u001b[0;34m\u001b[0m\u001b[0;34m\u001b[0m\u001b[0m\n\u001b[1;32m   1830\u001b[0m             \u001b[0;31m# be reindexed to match DataFrame rows\u001b[0m\u001b[0;34m\u001b[0m\u001b[0;34m\u001b[0m\u001b[0m\n\u001b[0;32m-> 1831\u001b[0;31m             \u001b[0mkey\u001b[0m \u001b[0;34m=\u001b[0m \u001b[0mcheck_bool_indexer\u001b[0m\u001b[0;34m(\u001b[0m\u001b[0mself\u001b[0m\u001b[0;34m.\u001b[0m\u001b[0mindex\u001b[0m\u001b[0;34m,\u001b[0m \u001b[0mkey\u001b[0m\u001b[0;34m)\u001b[0m\u001b[0;34m\u001b[0m\u001b[0m\n\u001b[0m\u001b[1;32m   1832\u001b[0m             \u001b[0mindexer\u001b[0m \u001b[0;34m=\u001b[0m \u001b[0mkey\u001b[0m\u001b[0;34m.\u001b[0m\u001b[0mnonzero\u001b[0m\u001b[0;34m(\u001b[0m\u001b[0;34m)\u001b[0m\u001b[0;34m[\u001b[0m\u001b[0;36m0\u001b[0m\u001b[0;34m]\u001b[0m\u001b[0;34m\u001b[0m\u001b[0m\n\u001b[1;32m   1833\u001b[0m             \u001b[0;32mreturn\u001b[0m \u001b[0mself\u001b[0m\u001b[0;34m.\u001b[0m\u001b[0mtake\u001b[0m\u001b[0;34m(\u001b[0m\u001b[0mindexer\u001b[0m\u001b[0;34m,\u001b[0m \u001b[0maxis\u001b[0m\u001b[0;34m=\u001b[0m\u001b[0;36m0\u001b[0m\u001b[0;34m,\u001b[0m \u001b[0mconvert\u001b[0m\u001b[0;34m=\u001b[0m\u001b[0mFalse\u001b[0m\u001b[0;34m)\u001b[0m\u001b[0;34m\u001b[0m\u001b[0m\n",
      "\u001b[0;32m/usr/local/lib/python2.7/site-packages/pandas/core/indexing.pyc\u001b[0m in \u001b[0;36mcheck_bool_indexer\u001b[0;34m(ax, key)\u001b[0m\n\u001b[1;32m   1657\u001b[0m         \u001b[0mmask\u001b[0m \u001b[0;34m=\u001b[0m \u001b[0mcom\u001b[0m\u001b[0;34m.\u001b[0m\u001b[0misnull\u001b[0m\u001b[0;34m(\u001b[0m\u001b[0mresult\u001b[0m\u001b[0;34m.\u001b[0m\u001b[0mvalues\u001b[0m\u001b[0;34m)\u001b[0m\u001b[0;34m\u001b[0m\u001b[0m\n\u001b[1;32m   1658\u001b[0m         \u001b[0;32mif\u001b[0m \u001b[0mmask\u001b[0m\u001b[0;34m.\u001b[0m\u001b[0many\u001b[0m\u001b[0;34m(\u001b[0m\u001b[0;34m)\u001b[0m\u001b[0;34m:\u001b[0m\u001b[0;34m\u001b[0m\u001b[0m\n\u001b[0;32m-> 1659\u001b[0;31m             \u001b[0;32mraise\u001b[0m \u001b[0mIndexingError\u001b[0m\u001b[0;34m(\u001b[0m\u001b[0;34m'Unalignable boolean Series key provided'\u001b[0m\u001b[0;34m)\u001b[0m\u001b[0;34m\u001b[0m\u001b[0m\n\u001b[0m\u001b[1;32m   1660\u001b[0m \u001b[0;34m\u001b[0m\u001b[0m\n\u001b[1;32m   1661\u001b[0m         \u001b[0mresult\u001b[0m \u001b[0;34m=\u001b[0m \u001b[0mresult\u001b[0m\u001b[0;34m.\u001b[0m\u001b[0mastype\u001b[0m\u001b[0;34m(\u001b[0m\u001b[0mbool\u001b[0m\u001b[0;34m)\u001b[0m\u001b[0;34m.\u001b[0m\u001b[0mvalues\u001b[0m\u001b[0;34m\u001b[0m\u001b[0m\n",
      "\u001b[0;31mIndexingError\u001b[0m: Unalignable boolean Series key provided"
     ]
    }
   ],
   "source": [
    "for index, group in enumerate(LDAclusteredUsersDF.groupby(\"clusterId\")):\n",
    "    print 'Checkins per user: ', len(group[1][group[1][\"createdAtDate\"][6:7] == '6'])/len(group[1].groupby(\"userId\"))"
   ]
  },
  {
   "cell_type": "code",
   "execution_count": null,
   "metadata": {
    "collapsed": false
   },
   "outputs": [],
   "source": [
    "for clusterLDA,clusterLDACat  in zip(clustersLDA,clustersLDACategory):\n",
    "    print len(clusterLDA), len(clusterLDACat)"
   ]
  },
  {
   "cell_type": "code",
   "execution_count": 109,
   "metadata": {
    "collapsed": false
   },
   "outputs": [
    {
     "name": "stdout",
     "output_type": "stream",
     "text": [
      "134866\n"
     ]
    }
   ],
   "source": [
    "LDACheckins = allCheckins[allCheckins.venueId.isin(venuesVocab)]\n",
    "print len(LDACheckins)"
   ]
  },
  {
   "cell_type": "code",
   "execution_count": null,
   "metadata": {
    "collapsed": false
   },
   "outputs": [],
   "source": [
    "LDAclusteredCategoriesDF = pd.DataFrame()\n",
    "for clusterId, clusterLDA in enumerate(clustersLDACategory):\n",
    "    clusterCheckins = LDACheckins[LDACheckins.userId.isin(clusterLDA)]\n",
    "    clusterCheckins[\"clusterId\"] = clusterId + 1\n",
    "    LDAclusteredCategoriesDF = LDAclusteredCategoriesDF.append(clusterCheckins)\n",
    "    print len(clusterCheckins)\n",
    "LDAclusteredCategoriesDF.to_csv('data/July/LDAClusteredUsersByCategory.tsv', sep=\"\\t\", encoding=\"utf-8\")"
   ]
  },
  {
   "cell_type": "code",
   "execution_count": 155,
   "metadata": {
    "collapsed": false
   },
   "outputs": [],
   "source": [
    "clustersLDA = [[] for i in range(20)]\n",
    "for index, userTopics in enumerate(model20.ndz_):\n",
    "    clustersLDA[np.argmax(userTopics)].append(userIds[index])"
   ]
  },
  {
   "cell_type": "code",
   "execution_count": 102,
   "metadata": {
    "collapsed": true
   },
   "outputs": [],
   "source": [
    "clustersLDACategory = [[] for i in range(20)]\n",
    "for index, userTopics in enumerate(model20Cat.ndz_):\n",
    "    clustersLDACategory[np.argmax(userTopics)].append(userIdsForCat[index])"
   ]
  },
  {
   "cell_type": "code",
   "execution_count": 113,
   "metadata": {
    "collapsed": false
   },
   "outputs": [],
   "source": [
    "#Match the clusters by min Jaccard Distance\n",
    "import distance\n",
    "LDAClustersMap = []\n",
    "LDAClustersMapIndexes = []\n",
    "# clustersLDACopy = clustersLDA\n",
    "distancesMatrix = []\n",
    "for clusterK in clusters:\n",
    "    distances = [distance.jaccard(clusterLDA,clusterK) for clusterLDA in clustersLDA]\n",
    "    distancesMatrix.append(distances)\n",
    "    index = np.argmin(distances)\n",
    "    LDAClustersMap.append(clustersLDA[index])\n",
    "#     clustersLDACopy.remove(clustersLDA[index])"
   ]
  },
  {
   "cell_type": "code",
   "execution_count": 156,
   "metadata": {
    "collapsed": true
   },
   "outputs": [],
   "source": [
    "clustersSpectral1 = [[0] if len(cluster) == 0 else cluster for cluster in clusterSpectreal]"
   ]
  },
  {
   "cell_type": "code",
   "execution_count": null,
   "metadata": {
    "collapsed": false
   },
   "outputs": [],
   "source": [
    "distancesMatrixKSpect = []\n",
    "for clusterK in clusters:\n",
    "    distances = [distance.jaccard(clusterSpectreal,clusterK) for clusterSpectreal in clustersSpectral]\n",
    "    distancesMatrixKSpect.append(distances)"
   ]
  },
  {
   "cell_type": "code",
   "execution_count": 114,
   "metadata": {
    "collapsed": false
   },
   "outputs": [
    {
     "name": "stdout",
     "output_type": "stream",
     "text": [
      "0.891365675713\n"
     ]
    }
   ],
   "source": [
    "#Average Jaccard Distance between clusters\n",
    "print np.mean([distance.jaccard(clusterK, LDAClustersMap[index]) for index, clusterK in enumerate(clusters) if len(clusterK)])"
   ]
  },
  {
   "cell_type": "code",
   "execution_count": 124,
   "metadata": {
    "collapsed": false
   },
   "outputs": [
    {
     "name": "stdout",
     "output_type": "stream",
     "text": [
      "0.923955972999\n"
     ]
    }
   ],
   "source": [
    "#Average Jaccard Distance between clusters\n",
    "print np.mean(np.min(distancesMatrix, axis=1))"
   ]
  },
  {
   "cell_type": "code",
   "execution_count": 89,
   "metadata": {
    "collapsed": false
   },
   "outputs": [
    {
     "name": "stdout",
     "output_type": "stream",
     "text": [
      "Cluster 1:\n",
      "Residential Building (Apartment / Condo), 10.83%\n",
      "Mall, 10.52%\n",
      "Coffee Shop, 9.17%\n",
      "Bank, 6.00%\n",
      "Park, 5.05%\n",
      "Fast Food Restaurant, 4.54%\n",
      "Grocery Store, 2.16%\n",
      "Big Box Store, 2.15%\n",
      "Sushi Restaurant, 1.95%\n",
      "\n",
      "Cluster 2:\n",
      "Park, 5.66%\n",
      "Coffee Shop, 5.09%\n",
      "Airport, 4.82%\n",
      "Mall, 4.81%\n",
      "Hotel, 3.55%\n",
      "Café, 3.08%\n",
      "Train Station, 2.73%\n",
      "City, 2.12%\n",
      "Restaurant, 1.76%\n",
      "\n",
      "Cluster 3:\n",
      "Office, 19.11%\n",
      "Gym / Fitness Center, 17.62%\n",
      "Tech Startup, 6.05%\n",
      "Airport, 3.92%\n",
      "Cocktail Bar, 2.27%\n",
      "Park, 1.97%\n",
      "Medical Center, 1.97%\n",
      "Mall, 1.88%\n",
      "Hotel, 1.83%\n",
      "\n",
      "Cluster 4:\n",
      "Home (private), 43.82%\n",
      "Office, 4.58%\n",
      "Mall, 4.33%\n",
      "Residential Building (Apartment / Condo), 3.73%\n",
      "Gym Pool, 2.25%\n",
      "Capitol Building, 1.96%\n",
      "Financial or Legal Service, 1.37%\n",
      "Airport, 1.33%\n",
      "Clothing Store, 1.29%\n",
      "\n",
      "Cluster 5:\n",
      "Gym / Fitness Center, 66.53%\n",
      "Mall, 6.70%\n",
      "College Communications Building, 1.96%\n",
      "Train Station, 1.67%\n",
      "Park, 1.56%\n",
      "Salon / Barbershop, 1.56%\n",
      "Multiplex, 1.54%\n",
      "Hockey Arena, 1.11%\n",
      "Sushi Restaurant, 1.06%\n",
      "\n",
      "Cluster 6:\n",
      "Park, 16.31%\n",
      "Mall, 5.01%\n",
      "Street, 4.63%\n",
      "Plaza, 3.31%\n",
      "Train Station, 3.25%\n",
      "Coffee Shop, 2.86%\n",
      "Café, 1.94%\n",
      "Lake, 1.90%\n",
      "Neighborhood, 1.86%\n",
      "\n",
      "Cluster 7:\n",
      "Café, 5.63%\n",
      "Airport, 5.13%\n",
      "Park, 4.91%\n",
      "Coffee Shop, 4.34%\n",
      "Nightclub, 3.84%\n",
      "Restaurant, 3.77%\n",
      "Italian Restaurant, 2.91%\n",
      "Bar, 2.90%\n",
      "Cocktail Bar, 2.43%\n",
      "\n",
      "Cluster 8:\n",
      "Home (private), 18.31%\n",
      "Park, 9.04%\n",
      "Street, 8.84%\n",
      "Mall, 6.88%\n",
      "School, 3.54%\n",
      "Neighborhood, 3.42%\n",
      "Plaza, 3.09%\n",
      "Residential Building (Apartment / Condo), 2.26%\n",
      "Fast Food Restaurant, 2.09%\n",
      "\n",
      "Cluster 9:\n",
      "Mall, 14.06%\n",
      "Street, 8.69%\n",
      "Neighborhood, 8.06%\n",
      "Government Building, 7.14%\n",
      "Park, 6.27%\n",
      "Plaza, 3.07%\n",
      "Gas Station / Garage, 2.60%\n",
      "Parking, 2.59%\n",
      "Fast Food Restaurant, 2.04%\n",
      "\n",
      "Cluster 10:\n",
      "University, 15.29%\n",
      "Mall, 10.01%\n",
      "Park, 5.66%\n",
      "College Academic Building, 4.06%\n",
      "Dance Studio, 3.67%\n",
      "Coffee Shop, 3.54%\n",
      "School, 3.52%\n",
      "College Arts Building, 2.88%\n",
      "Hookah Bar, 2.39%\n",
      "\n",
      "Cluster 11:\n",
      "Home (private), 66.68%\n",
      "Park, 2.86%\n",
      "Hospital, 2.58%\n",
      "Neighborhood, 2.27%\n",
      "City, 2.09%\n",
      "Advertising Agency, 1.75%\n",
      "Dentist's Office, 1.63%\n",
      "Plaza, 1.60%\n",
      "Train Station, 1.28%\n",
      "\n",
      "Cluster 12:\n",
      "Residential Building (Apartment / Condo), 23.33%\n",
      "Metro Station, 22.33%\n",
      "Train Station, 7.82%\n",
      "Bus Stop, 4.73%\n",
      "Middle School, 4.52%\n",
      "Mall, 4.24%\n",
      "Platform, 3.73%\n",
      "Home (private), 2.65%\n",
      "Bus Line, 2.44%\n",
      "\n",
      "Cluster 13:\n",
      "Factory, 17.09%\n",
      "Bar, 16.34%\n",
      "TV Station, 11.42%\n",
      "Pub, 8.70%\n",
      "Park, 3.90%\n",
      "Nightclub, 2.61%\n",
      "Home (private), 2.23%\n",
      "Video Game Store, 2.16%\n",
      "Speakeasy, 2.08%\n",
      "\n",
      "Cluster 14:\n",
      "City, 26.76%\n",
      "Country, 8.79%\n",
      "Neighborhood, 7.13%\n",
      "Park, 4.99%\n",
      "Street, 3.06%\n",
      "Plaza, 2.81%\n",
      "Hotel, 2.20%\n",
      "County, 2.14%\n",
      "Residential Building (Apartment / Condo), 1.86%\n",
      "\n",
      "Cluster 15:\n",
      "Gym, 41.29%\n",
      "Coffee Shop, 5.90%\n",
      "Cultural Center, 2.86%\n",
      "Theater, 2.39%\n",
      "Café, 2.16%\n",
      "Art Museum, 1.90%\n",
      "Medical Center, 1.82%\n",
      "Multiplex, 1.82%\n",
      "Sushi Restaurant, 1.79%\n",
      "\n",
      "Cluster 16:\n",
      "Gym / Fitness Center, 7.41%\n",
      "Park, 5.28%\n",
      "Coffee Shop, 5.20%\n",
      "Mall, 4.75%\n",
      "Café, 3.22%\n",
      "Salon / Barbershop, 3.01%\n",
      "Restaurant, 3.00%\n",
      "Hospital, 2.90%\n",
      "Multiplex, 2.85%\n",
      "\n",
      "Cluster 17:\n",
      "Coworking Space, 10.34%\n",
      "Housing Development, 9.21%\n",
      "Residential Building (Apartment / Condo), 4.19%\n",
      "Building, 3.51%\n",
      "Street, 2.84%\n",
      "Police Station, 2.84%\n",
      "Gas Station / Garage, 2.75%\n",
      "Office, 2.53%\n",
      "Hotel, 2.49%\n",
      "\n",
      "Cluster 18:\n",
      "University, 26.26%\n",
      "Mall, 8.69%\n",
      "College Residence Hall, 5.96%\n",
      "Park, 5.57%\n",
      "Residential Building (Apartment / Condo), 3.69%\n",
      "Home (private), 2.97%\n",
      "Plaza, 2.79%\n",
      "Neighborhood, 2.23%\n",
      "College Academic Building, 2.17%\n",
      "\n",
      "Cluster 19:\n",
      "Office, 62.50%\n",
      "Park, 3.72%\n",
      "Mall, 3.11%\n",
      "Coffee Shop, 2.44%\n",
      "Residential Building (Apartment / Condo), 1.94%\n",
      "Train Station, 1.62%\n",
      "Multiplex, 1.59%\n",
      "Military Base, 1.38%\n",
      "Sushi Restaurant, 1.30%\n",
      "\n",
      "Cluster 20:\n",
      "Residential Building (Apartment / Condo), 35.57%\n",
      "Mall, 5.08%\n",
      "Building, 4.33%\n",
      "Park, 3.76%\n",
      "Street, 3.03%\n",
      "Train Station, 2.76%\n",
      "Neighborhood, 2.76%\n",
      "Plaza, 2.66%\n",
      "Village, 1.94%\n",
      "\n"
     ]
    }
   ],
   "source": [
    "n_top_venues = 10\n",
    "for i, venues_dist in enumerate(topic_cats):\n",
    "    indicies = np.argsort(venues_dist)[:-n_top_venues:-1]\n",
    "    topic_venues = np.array(categoriesVocab)[indicies]\n",
    "    topic_probs = venues_dist[indicies]\n",
    "    print('Cluster {}:'.format(i+1))\n",
    "    for categoryId, topicProb in zip(topic_venues, topic_probs):\n",
    "        if topicProb>=0.01:\n",
    "            print(\"{}, {:.2f}%\").format(categoryNameFromId(categoryId),topicProb*100)\n",
    "        else:\n",
    "            break\n",
    "    print ''"
   ]
  },
  {
   "cell_type": "code",
   "execution_count": 228,
   "metadata": {
    "collapsed": false
   },
   "outputs": [
    {
     "name": "stdout",
     "output_type": "stream",
     "text": [
      "4\n",
      "140\n"
     ]
    }
   ],
   "source": [
    "print len(set(multiUserCheckins[multiUserCheckins.userId == clusters[10][1]]['venueId'].tolist()).intersection(multiUserCheckins[multiUserCheckins.userId == clusters[10][2]]['venueId'].tolist()))\n",
    "print len(set(multiUserCheckins[multiUserCheckins.userId == clusters[10][1]]['venueId'].tolist()).union(multiUserCheckins[multiUserCheckins.userId == clusters[10][2]]['venueId'].tolist()))"
   ]
  },
  {
   "cell_type": "code",
   "execution_count": 13,
   "metadata": {
    "collapsed": false
   },
   "outputs": [
    {
     "name": "stdout",
     "output_type": "stream",
     "text": [
      "2015-07-10 00:56:53.189411\n",
      "2015-07-10 00:58:12.707836\n",
      "2015-07-10 00:58:14.715938\n",
      "2015-07-10 00:58:16.722812\n"
     ]
    },
    {
     "ename": "KeyboardInterrupt",
     "evalue": "",
     "output_type": "error",
     "traceback": [
      "\u001b[0;31m---------------------------------------------------------------------------\u001b[0m",
      "\u001b[0;31mKeyboardInterrupt\u001b[0m                         Traceback (most recent call last)",
      "\u001b[0;32m<ipython-input-13-bfdad1bb8258>\u001b[0m in \u001b[0;36m<module>\u001b[0;34m()\u001b[0m\n\u001b[1;32m      7\u001b[0m \u001b[0;32mwhile\u001b[0m \u001b[0mTrue\u001b[0m\u001b[0;34m:\u001b[0m\u001b[0;34m\u001b[0m\u001b[0m\n\u001b[1;32m      8\u001b[0m     \u001b[0mschedule\u001b[0m\u001b[0;34m.\u001b[0m\u001b[0mrun_pending\u001b[0m\u001b[0;34m(\u001b[0m\u001b[0;34m)\u001b[0m\u001b[0;34m\u001b[0m\u001b[0m\n\u001b[0;32m----> 9\u001b[0;31m     \u001b[0mtime\u001b[0m\u001b[0;34m.\u001b[0m\u001b[0msleep\u001b[0m\u001b[0;34m(\u001b[0m\u001b[0;36m1\u001b[0m\u001b[0;34m)\u001b[0m\u001b[0;34m\u001b[0m\u001b[0m\n\u001b[0m",
      "\u001b[0;31mKeyboardInterrupt\u001b[0m: "
     ]
    }
   ],
   "source": [
    "import schedule\n",
    "import time\n",
    "\n",
    "schedule.clear()\n",
    "schedule.every(2).seconds.do(saveDate)\n",
    "\n",
    "while True:\n",
    "    schedule.run_pending()\n",
    "    time.sleep(1)"
   ]
  },
  {
   "cell_type": "code",
   "execution_count": 12,
   "metadata": {
    "collapsed": true
   },
   "outputs": [],
   "source": [
    "def saveDate():\n",
    "    global currentDate\n",
    "    print currentDate\n",
    "    currentDate = datetime.now()"
   ]
  },
  {
   "cell_type": "code",
   "execution_count": 6,
   "metadata": {
    "collapsed": false
   },
   "outputs": [],
   "source": [
    "from datetime import datetime\n",
    "currentDate = datetime.now()"
   ]
  },
  {
   "cell_type": "code",
   "execution_count": 181,
   "metadata": {
    "collapsed": false
   },
   "outputs": [
    {
     "data": {
      "text/plain": [
       "str"
      ]
     },
     "execution_count": 181,
     "metadata": {},
     "output_type": "execute_result"
    }
   ],
   "source": [
    "type(allCheckins[:2][\"createdAtDate\"][0]\n",
    "     from datetime import datetime\n",
    "def extractComponents(row):\n",
    "    date = datetime.utcfromtimestamp(row.createdAt+180*60)\n",
    "    hours.append(date.hour)\n",
    "    weekdays.append(date.weekday())"
   ]
  },
  {
   "cell_type": "markdown",
   "metadata": {},
   "source": [
    "# Code for Visualization"
   ]
  },
  {
   "cell_type": "code",
   "execution_count": 281,
   "metadata": {
    "collapsed": false
   },
   "outputs": [],
   "source": [
    "#Make lists of users check-in venues\n",
    "groupedUsersList = allCheckins.groupby('userId')\n",
    "TMUserVenuesList = []\n",
    "TMUsersCategoriesList = []\n",
    "TMUserIds = []\n",
    "\n",
    "for index, group in enumerate(groupedUsersList):\n",
    "    sortedCheckins = group[1].sort(\"createdAt\")\n",
    "    venuePairs = []\n",
    "    categoryPairs = []\n",
    "    for venue1, venue2 in pairwise(sortedCheckins['venueId'].tolist()):\n",
    "        venuePairs.append((venue1, venue2))\n",
    "        categoryPairs.append((venueCategoryFromId(venue1),venueCategoryFromId(venue2)))\n",
    "    timeDiffs = []\n",
    "    for checkin1, checkin2 in pairwise(sortedCheckins['createdAt'].tolist()):\n",
    "        timeDiffs.append((checkin2-checkin1)/60)\n",
    "    TMUserVenuesList.append(zip(venuePairs,timeDiffs))\n",
    "    TMUsersCategoriesList.append(zip(categoryPairs,timeDiffs))\n",
    "    TMUserIds.append(group[0])"
   ]
  },
  {
   "cell_type": "code",
   "execution_count": 496,
   "metadata": {
    "collapsed": false
   },
   "outputs": [],
   "source": [
    "from sys import stdout\n",
    "def progress(i, n):\n",
    "    stdout.write(\"\\r%f%%\" % (i*100/float(n)))\n",
    "    stdout.flush()\n",
    "    if i == n-1:\n",
    "        stdout.write(\"\\r100%\")\n",
    "        print(\"\\r\\n\")"
   ]
  },
  {
   "cell_type": "code",
   "execution_count": 518,
   "metadata": {
    "collapsed": false
   },
   "outputs": [],
   "source": [
    "def getSequencesFromCheckins(checkinsDF):\n",
    "    checkinsGroupedByUser = checkinsDF.groupby('userId')\n",
    "    venuePairsGroupedByUser = []\n",
    "    categoryPairsGroupedByUser = []\n",
    "    userIds = []\n",
    "    count = len(checkinsGroupedByUser)\n",
    "\n",
    "    for index, group in enumerate(checkinsGroupedByUser):\n",
    "        progress(index, count)\n",
    "        sortedCheckins = group[1].sort(\"createdAt\")\n",
    "        \n",
    "        venuePairs = []\n",
    "        categoryPairs = []\n",
    "        \n",
    "        for venue1, venue2 in pairwise(sortedCheckins['venueId'].tolist()):\n",
    "            venuePairs.append((venue1, venue2))\n",
    "            categoryPairs.append((venueCategoryFromId(venue1), venueCategoryFromId(venue2)))\n",
    "            \n",
    "        timeDiffs = []\n",
    "        for checkin1, checkin2 in pairwise(sortedCheckins['createdAt'].tolist()):\n",
    "            timeDiffs.append((checkin2-checkin1)/60)\n",
    "            \n",
    "        venuePairsGroupedByUser.append(zip(venuePairs,timeDiffs))\n",
    "        categoryPairsGroupedByUser.append(zip(categoryPairs,timeDiffs))\n",
    "        userIds.append(group[0])\n",
    "    return (venuePairsGroupedByUser, categoryPairsGroupedByUser, userIds)"
   ]
  },
  {
   "cell_type": "code",
   "execution_count": 526,
   "metadata": {
    "collapsed": false
   },
   "outputs": [
    {
     "name": "stdout",
     "output_type": "stream",
     "text": [
      "100%\n",
      "\n"
     ]
    }
   ],
   "source": [
    "(venuePairsGroupedByUser5, categoryPairsGroupedByUser5, userIds5) = getSequencesFromCheckins(LDAclusteredUsersDF[LDAclusteredUsersDF.clusterId == 5])"
   ]
  },
  {
   "cell_type": "code",
   "execution_count": 258,
   "metadata": {
    "collapsed": false
   },
   "outputs": [],
   "source": [
    "averageTimes = [np.mean([transitionTuple[1] for transitionTuple in userTransitions])/60 for userTransitions in TMUserVenuesList]"
   ]
  },
  {
   "cell_type": "code",
   "execution_count": 533,
   "metadata": {
    "collapsed": true
   },
   "outputs": [],
   "source": [
    "import collections\n",
    "def getCategoryPredcessorsCounter(categoryName, categoryPairs):\n",
    "    predcessorsByUser = [[transitionTuple[0][0] for transitionTuple in userTransitions if transitionTuple[0][1] == categoryName and transitionTuple[1] < 60*6] for userTransitions in categoryPairs]\n",
    "    predcessorsList = [item for sublist in predcessorsByUser for item in sublist]\n",
    "    return collections.Counter(predcessorsList)\n",
    "\n",
    "def getCategorySuccessorsCounter(categoryName, categoryPairs):\n",
    "    successorsByUser = [[transitionTuple[0][1] for transitionTuple in userTransitions if transitionTuple[0][0] == categoryName and transitionTuple[1] < 60*6] for userTransitions in categoryPairs]\n",
    "    successorsList =  [item for sublist in successorsByUser for item in sublist]\n",
    "    return collections.Counter(successorsList)"
   ]
  },
  {
   "cell_type": "code",
   "execution_count": 548,
   "metadata": {
    "collapsed": false
   },
   "outputs": [],
   "source": [
    "categoryCounter5 = getCategoryPredcessorsCounter('Coffee Shop', categoryPairsGroupedByUser5)"
   ]
  },
  {
   "cell_type": "code",
   "execution_count": 565,
   "metadata": {
    "collapsed": false
   },
   "outputs": [],
   "source": [
    "saveTopSuccessorsColorsJSON('Coffee Shop', categoryPairsGroupedByUser5, 'Production/vis/colors5.json', 10)"
   ]
  },
  {
   "cell_type": "code",
   "execution_count": 564,
   "metadata": {
    "collapsed": false
   },
   "outputs": [],
   "source": [
    "def getTopSuccessorsNames(categoryName, categoryPairs, nTop = 10):\n",
    "    topNames = [commonTuple[0] for commonTuple in  getCategoryPredcessorsCounter(categoryName, categoryPairs).most_common(nTop)]\n",
    "    return topNames\n",
    "def saveTopSuccessorsColorsCSV(categoryName, categoryPairs, filename, nTop = 10):\n",
    "    topNames = getTopSuccessorsNames(categoryName, categoryPairs, nTop)\n",
    "    nameColorList = pd.DataFrame({'name':topNames,\n",
    "    'color':[\n",
    "    '#3182bd',\n",
    "    '#e6550d',\n",
    "    '#fdae6b',\n",
    "    '#31a354',\n",
    "    '#756bb1',\n",
    "    '#636363',\n",
    "    '#d6616b',\n",
    "    '#7b4173',\n",
    "    '#bd9e39',\n",
    "    #'#b5cf6b',\n",
    "    '#a1d99b']})\n",
    "    nameColorList.to_csv(filename, encoding=\"utf-8\", index=None)\n",
    "    \n",
    "def saveTopSuccessorsColorsJSON(categoryName, categoryPairs, filename, nTop = 10):\n",
    "    topNames = getTopSuccessorsNames(categoryName, categoryPairs, nTop)\n",
    "    jsonOfColors = [dict(zip(['name', 'color'],row)) for row in izip(topNames,[\n",
    "    '#3182bd',\n",
    "    '#e6550d',\n",
    "    '#fdae6b',\n",
    "    '#31a354',\n",
    "    '#756bb1',\n",
    "    '#636363',\n",
    "    '#d6616b',\n",
    "    '#7b4173',\n",
    "    '#bd9e39',\n",
    "    #'#b5cf6b',\n",
    "    '#a1d99b'])]\n",
    "    with open(filename, 'w') as outfile:\n",
    "        json.dump(jsonOfColors, outfile)"
   ]
  },
  {
   "cell_type": "code",
   "execution_count": 546,
   "metadata": {
    "collapsed": false
   },
   "outputs": [],
   "source": [
    "def getMatrixForTopSuccessors(categoryName, categoryPairs, nTop = 10, withOthers = 1):\n",
    "    #Get the counter and list of successors\n",
    "    categoryCounter = getCategorySuccessorsCounter(categoryName, categoryPairs)\n",
    "    categoryTopSuccessors = categoryCounter.most_common(nTop)\n",
    "    topSuccessorsNames = [commonTuple[0] for commonTuple in categoryTopSuccessors]\n",
    "    \n",
    "    #Calculate total sums of inputs/outputs\n",
    "    totalOut = sum(categoryCounter.values())\n",
    "    totalTopCatsInterOut = 0\n",
    "    totalIn = sum(getCategoryPredcessorsCounter(categoryName, categoryPairs).values())\n",
    "    \n",
    "    #+1 for Others section\n",
    "    adjMatrix = [[] for i in range(nTop + withOthers)]\n",
    "    \n",
    "    #Fill the first element with the self value\n",
    "    adjMatrix[0] = [0 for i in range(nTop + withOthers)]\n",
    "    adjMatrix[0][0] = categoryCounter[categoryName]\n",
    "    \n",
    "    index = 1\n",
    "    for commonTuple in  categoryTopSuccessors:\n",
    "        successorCategory = commonTuple[0]\n",
    "        if successorCategory != categoryName:\n",
    "            #Count of transitions from source category\n",
    "            adjMatrix[0][index] = commonTuple[1]\n",
    "            \n",
    "            successorCategoryCounter = getCategorySuccessorsCounter(successorCategory, categoryPairs)\n",
    "            #Counts for all the important categories\n",
    "            adjRow = [0 for i in range(nTop)]\n",
    "            adjRow[0] = successorCategoryCounter[categoryName]\n",
    "            adjRow[1:] = [successorCategoryCounter[catName] for catName in topSuccessorsNames if catName!=categoryName]\n",
    "            #Others set to 0\n",
    "            if withOthers:\n",
    "                adjRow.append(0)\n",
    "            adjMatrix[index] = adjRow\n",
    "            totalTopCatsInterOut  = totalTopCatsInterOut + sum(adjRow)\n",
    "            index = index + 1\n",
    "    if withOthers:\n",
    "        adjMatrix[0][nTop] = totalOut - sum(adjMatrix[0])\n",
    "        adjMatrix[nTop] = [0 for i in range(nTop + withOthers)]\n",
    "        adjMatrix[nTop][0] = totalIn - sum(row[0] for row in adjMatrix)\n",
    "    \n",
    "    #Normalize\n",
    "    total = sum([sum(sublist) for sublist in adjMatrix])\n",
    "    normMatrix = [[float(count)/total for count in adjRow] for adjRow in adjMatrix]\n",
    "    return normMatrix"
   ]
  },
  {
   "cell_type": "code",
   "execution_count": 559,
   "metadata": {
    "collapsed": false
   },
   "outputs": [],
   "source": [
    "with open('Vis/coffeeMatrix5.json', 'w') as outfile:\n",
    "    json.dump(getMatrixForTopSuccessors('Coffee Shop', categoryPairsGroupedByUser5, 10, 0), outfile)"
   ]
  },
  {
   "cell_type": "code",
   "execution_count": null,
   "metadata": {
    "collapsed": false
   },
   "outputs": [],
   "source": [
    "import matplotlib.pyplot as plt\n",
    "%matplotlib inline"
   ]
  },
  {
   "cell_type": "code",
   "execution_count": null,
   "metadata": {
    "collapsed": false
   },
   "outputs": [],
   "source": [
    "averageTimesFiltered = [averageTime for averageTime in averageTimes if averageTime < 24*7]\n",
    "print int(float(len(averageTimesFiltered))/len(averageTimes)*100),\"%\"\n",
    "plt.hist(averageTimesFiltered, bins = 48-0.5)"
   ]
  },
  {
   "cell_type": "code",
   "execution_count": null,
   "metadata": {
    "collapsed": false
   },
   "outputs": [],
   "source": [
    "averageTimesFiltered = [averageTime for averageTime in averageTimes if averageTime >= 24*7 and averageTime <= 24*30]\n",
    "print int(float(len(averageTimesFiltered))/len(averageTimes)*100),\"%\"\n",
    "plt.hist(averageTimesFiltered, bins = 30-0.5)"
   ]
  },
  {
   "cell_type": "code",
   "execution_count": 283,
   "metadata": {
    "collapsed": false
   },
   "outputs": [],
   "source": [
    "with open('data/categoryPairs.json', 'w') as outfile:\n",
    "    json.dump(TMUsersCategoriesList, outfile)"
   ]
  },
  {
   "cell_type": "code",
   "execution_count": 195,
   "metadata": {
    "collapsed": false
   },
   "outputs": [],
   "source": [
    "from itertools import tee, izip\n",
    "def pairwise(iterable):\n",
    "    a, b = tee(iterable)\n",
    "    next(b, None)\n",
    "    return izip(a, b)"
   ]
  },
  {
   "cell_type": "code",
   "execution_count": null,
   "metadata": {
    "collapsed": true
   },
   "outputs": [],
   "source": []
  }
 ],
 "metadata": {
  "kernelspec": {
   "display_name": "Python 2",
   "language": "python",
   "name": "python2"
  },
  "language_info": {
   "codemirror_mode": {
    "name": "ipython",
    "version": 2
   },
   "file_extension": ".py",
   "mimetype": "text/x-python",
   "name": "python",
   "nbconvert_exporter": "python",
   "pygments_lexer": "ipython2",
   "version": "2.7.10"
  }
 },
 "nbformat": 4,
 "nbformat_minor": 0
}
