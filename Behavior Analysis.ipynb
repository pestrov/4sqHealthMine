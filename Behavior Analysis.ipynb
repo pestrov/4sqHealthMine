{
 "cells": [
  {
   "cell_type": "code",
   "execution_count": 1,
   "metadata": {
    "collapsed": true
   },
   "outputs": [],
   "source": [
    "import pandas as pd\n",
    "import numpy as np\n",
    "import json\n",
    "import datetime "
   ]
  },
  {
   "cell_type": "code",
   "execution_count": 80,
   "metadata": {
    "collapsed": false
   },
   "outputs": [],
   "source": [
    "sourceCheckins = pd.read_csv('data/July/server/checkins.tsv', sep='\\t')\n",
    "checkins = pd.read_csv('data/July/server/extendedCheckinsHistory.tsv', sep='\\t')\n",
    "checkins1 = pd.read_csv('data/July/server/extendedCheckinsHistoryJune.tsv', sep='\\t')\n",
    "checkpoints = pd.read_csv('data/July/server/checkPoints.tsv', sep='\\t')"
   ]
  },
  {
   "cell_type": "code",
   "execution_count": 81,
   "metadata": {
    "collapsed": false
   },
   "outputs": [
    {
     "data": {
      "text/plain": [
       "333"
      ]
     },
     "execution_count": 81,
     "metadata": {},
     "output_type": "execute_result"
    }
   ],
   "source": [
    "len(np.unique(checkins1.userId.tolist()))"
   ]
  },
  {
   "cell_type": "code",
   "execution_count": 92,
   "metadata": {
    "collapsed": true
   },
   "outputs": [],
   "source": [
    "allCheckins = allCheckins.drop_duplicates(subset = ['checkinId'])"
   ]
  },
  {
   "cell_type": "code",
   "execution_count": 89,
   "metadata": {
    "collapsed": true
   },
   "outputs": [],
   "source": [
    "allCheckins = pd.concat([checkins1, checkins])"
   ]
  },
  {
   "cell_type": "code",
   "execution_count": 94,
   "metadata": {
    "collapsed": true
   },
   "outputs": [],
   "source": [
    "allCheckins.to_csv('data/July/server/currentExtendedCheckinsHistory.tsv', sep='\\t', encoding='utf-8')"
   ]
  },
  {
   "cell_type": "code",
   "execution_count": 118,
   "metadata": {
    "collapsed": false
   },
   "outputs": [],
   "source": [
    "sortedVenues = []\n",
    "sortedVenuesIds = []\n",
    "for venueId, group in allCheckins.groupby('venueId').agg('size').order(ascending = False).iteritems():\n",
    "    sortedVenues.append({'venueId':venueId,\n",
    "                        'group':group})\n",
    "    sortedVenuesIds.append(venueId)"
   ]
  },
  {
   "cell_type": "code",
   "execution_count": 91,
   "metadata": {
    "collapsed": false
   },
   "outputs": [
    {
     "data": {
      "text/html": [
       "<div>\n",
       "<table border=\"1\" class=\"dataframe\">\n",
       "  <thead>\n",
       "    <tr style=\"text-align: right;\">\n",
       "      <th></th>\n",
       "      <th>Unnamed: 0</th>\n",
       "      <th>Unnamed: 0.1</th>\n",
       "      <th>categoryId</th>\n",
       "      <th>categoryName</th>\n",
       "      <th>checkinId</th>\n",
       "      <th>checkinsCount</th>\n",
       "      <th>createdAt</th>\n",
       "      <th>createdAtDate</th>\n",
       "      <th>lat</th>\n",
       "      <th>lng</th>\n",
       "      <th>name</th>\n",
       "      <th>tipCount</th>\n",
       "      <th>userId</th>\n",
       "      <th>usersCount</th>\n",
       "      <th>venueId</th>\n",
       "    </tr>\n",
       "  </thead>\n",
       "  <tbody>\n",
       "    <tr>\n",
       "      <th>0</th>\n",
       "      <td>0</td>\n",
       "      <td>0</td>\n",
       "      <td>4bf58dd8d48988d1fd931735</td>\n",
       "      <td>Metro Station</td>\n",
       "      <td>558ac442498e91c19449d814</td>\n",
       "      <td>14585</td>\n",
       "      <td>1435157570</td>\n",
       "      <td>2015-06-24 17:52:50</td>\n",
       "      <td>55.782920</td>\n",
       "      <td>37.720699</td>\n",
       "      <td>Метро Семёновская (metro Semyonovskaya)</td>\n",
       "      <td>26</td>\n",
       "      <td>74434491</td>\n",
       "      <td>3460</td>\n",
       "      <td>4bed6c2c9868a5933c555d46</td>\n",
       "    </tr>\n",
       "    <tr>\n",
       "      <th>1</th>\n",
       "      <td>1</td>\n",
       "      <td>1</td>\n",
       "      <td>4bf58dd8d48988d1d3941735</td>\n",
       "      <td>Vegetarian / Vegan Restaurant</td>\n",
       "      <td>558ababc498e7aa1a83dfb16</td>\n",
       "      <td>10096</td>\n",
       "      <td>1435155132</td>\n",
       "      <td>2015-06-24 17:12:12</td>\n",
       "      <td>55.758369</td>\n",
       "      <td>37.657153</td>\n",
       "      <td>Джаганнат</td>\n",
       "      <td>222</td>\n",
       "      <td>74434491</td>\n",
       "      <td>4972</td>\n",
       "      <td>4d8f05153bfef04d84a6a586</td>\n",
       "    </tr>\n",
       "  </tbody>\n",
       "</table>\n",
       "</div>"
      ],
      "text/plain": [
       "   Unnamed: 0  Unnamed: 0.1                categoryId  \\\n",
       "0           0             0  4bf58dd8d48988d1fd931735   \n",
       "1           1             1  4bf58dd8d48988d1d3941735   \n",
       "\n",
       "                    categoryName                 checkinId  checkinsCount  \\\n",
       "0                  Metro Station  558ac442498e91c19449d814          14585   \n",
       "1  Vegetarian / Vegan Restaurant  558ababc498e7aa1a83dfb16          10096   \n",
       "\n",
       "    createdAt        createdAtDate        lat        lng  \\\n",
       "0  1435157570  2015-06-24 17:52:50  55.782920  37.720699   \n",
       "1  1435155132  2015-06-24 17:12:12  55.758369  37.657153   \n",
       "\n",
       "                                      name  tipCount    userId  usersCount  \\\n",
       "0  Метро Семёновская (metro Semyonovskaya)        26  74434491        3460   \n",
       "1                                Джаганнат       222  74434491        4972   \n",
       "\n",
       "                    venueId  \n",
       "0  4bed6c2c9868a5933c555d46  \n",
       "1  4d8f05153bfef04d84a6a586  "
      ]
     },
     "execution_count": 91,
     "metadata": {},
     "output_type": "execute_result"
    }
   ],
   "source": [
    "allCheckins[:2]"
   ]
  },
  {
   "cell_type": "code",
   "execution_count": 99,
   "metadata": {
    "collapsed": false
   },
   "outputs": [
    {
     "data": {
      "text/plain": [
       "[{'group': 595, 'venueId': '4bdd5f27f219c9b6bb751210'},\n",
       " {'group': 411, 'venueId': '4bfc9df283bbd13aa4d462c5'},\n",
       " {'group': 263, 'venueId': '4bc090ca920eb7132e14192c'},\n",
       " {'group': 227, 'venueId': '4e4aab0f62e13240b700e034'},\n",
       " {'group': 215, 'venueId': '4bc8760792b376b03767513a'},\n",
       " {'group': 213, 'venueId': '4b62c18df964a52069512ae3'},\n",
       " {'group': 193, 'venueId': '4b63406af964a520a36d2ae3'},\n",
       " {'group': 180, 'venueId': '4bb3345942959c74d79d212c'},\n",
       " {'group': 175, 'venueId': '520f117111d2a782f1211c3b'},\n",
       " {'group': 164, 'venueId': '53110e9be4b03443dd848438'}]"
      ]
     },
     "execution_count": 99,
     "metadata": {},
     "output_type": "execute_result"
    }
   ],
   "source": [
    "sortedVenues[:10]"
   ]
  },
  {
   "cell_type": "code",
   "execution_count": 113,
   "metadata": {
    "collapsed": false
   },
   "outputs": [
    {
     "data": {
      "text/plain": [
       "935    World Class Lite\n",
       "Name: name, dtype: object"
      ]
     },
     "execution_count": 113,
     "metadata": {},
     "output_type": "execute_result"
    }
   ],
   "source": [
    "allCheckins[allCheckins.venueId == '520f117111d2a782f1211c3b'][:1]['name']"
   ]
  },
  {
   "cell_type": "code",
   "execution_count": 115,
   "metadata": {
    "collapsed": true
   },
   "outputs": [],
   "source": [
    "#'World Class Lite in top ten!, 520f117111d2a782f1211c3b'"
   ]
  },
  {
   "cell_type": "code",
   "execution_count": 142,
   "metadata": {
    "collapsed": false
   },
   "outputs": [],
   "source": [
    "groupedUsers = allCheckins.groupby('userId')\n",
    "userVenues = []\n",
    "for index, group in enumerate(groupedUsers):\n",
    "        userVenues.append(group[1]['venueId'].tolist())"
   ]
  },
  {
   "cell_type": "code",
   "execution_count": 144,
   "metadata": {
    "collapsed": false
   },
   "outputs": [
    {
     "data": {
      "text/plain": [
       "450"
      ]
     },
     "execution_count": 144,
     "metadata": {},
     "output_type": "execute_result"
    }
   ],
   "source": [
    "len(groupedUsers)"
   ]
  },
  {
   "cell_type": "code",
   "execution_count": 122,
   "metadata": {
    "collapsed": false
   },
   "outputs": [],
   "source": [
    "top50VenuesCheckins = allCheckins[allCheckins.venueId.isin(sortedVenuesIds[:50])]"
   ]
  },
  {
   "cell_type": "code",
   "execution_count": 127,
   "metadata": {
    "collapsed": false
   },
   "outputs": [
    {
     "name": "stdout",
     "output_type": "stream",
     "text": [
      "3    ЦПКиО им. Горького / Gorky Park\n",
      "Name: name, dtype: object\n",
      "485    Москва / Moscow\n",
      "Name: name, dtype: object\n",
      "348    Парк искусств «Музеон» / Muzeon Park\n",
      "Name: name, dtype: object\n",
      "639    ВДНХ (Выставка достижений народного хозяйства)\n",
      "Name: name, dtype: object\n",
      "187    ПКиО «Сокольники»\n",
      "Name: name, dtype: object\n",
      "1127    Международный аэропорт Домодедово / Domodedovo...\n",
      "Name: name, dtype: object\n",
      "317    ТРЦ «Европейский»\n",
      "Name: name, dtype: object\n",
      "807    Красная площадь / Red Square\n",
      "Name: name, dtype: object\n",
      "935    World Class Lite\n",
      "Name: name, dtype: object\n",
      "1094    Россия / Russia\n",
      "Name: name, dtype: object\n",
      "2    ТРК «Атриум» / Atrium Mall\n",
      "Name: name, dtype: object\n",
      "1335    Арбат / Arbat Street\n",
      "Name: name, dtype: object\n",
      "944    Музей-заповедник «Коломенское»\n",
      "Name: name, dtype: object\n",
      "630    Афимолл Сити / Afimall City\n",
      "Name: name, dtype: object\n",
      "901    Физика\n",
      "Name: name, dtype: object\n",
      "333    Нескучный сад\n",
      "Name: name, dtype: object\n",
      "687    Центральный детский магазин\n",
      "Name: name, dtype: object\n",
      "252    ТЦ «Метрополис»\n",
      "Name: name, dtype: object\n",
      "914    Планета Фитнес\n",
      "Name: name, dtype: object\n",
      "1820    Международный аэропорт Внуково / Vnukovo Inter...\n",
      "Name: name, dtype: object\n",
      "4735    Международный аэропорт Шереметьево / Sheremety...\n",
      "Name: name, dtype: object\n",
      "20    Ленинградский вокзал / Leningradsky Railway Te...\n",
      "Name: name, dtype: object\n",
      "515    Ярославский вокзал\n",
      "Name: name, dtype: object\n",
      "35498    sweet home ❤️🏡\n",
      "Name: name, dtype: object\n",
      "141    ПКиО «Измайловский»\n",
      "Name: name, dtype: object\n",
      "332    Воробьёвская набережная\n",
      "Name: name, dtype: object\n",
      "347    ГУМ / GUM\n",
      "Name: name, dtype: object\n",
      "925    FitFashion\n",
      "Name: name, dtype: object\n",
      "806    ТЦ «Охотный ряд»\n",
      "Name: name, dtype: object\n",
      "1737    ПКиО «Красная Пресня»\n",
      "Name: name, dtype: object\n",
      "20093    3-ий новоподмосковный переулок дом 3 корпус 3\n",
      "Name: name, dtype: object\n",
      "5415    Дома✌️\n",
      "Name: name, dtype: object\n",
      "898    СОК «Чайка»\n",
      "Name: name, dtype: object\n",
      "1824    Новая Лига\n",
      "Name: name, dtype: object\n",
      "910    Фитнес клуб \"Зебра\"/ ZEBRA FITNES and SPA\n",
      "Name: name, dtype: object\n",
      "6218    просп. Мира, 182\n",
      "Name: name, dtype: object\n",
      "1088    Пушкинская площадь\n",
      "Name: name, dtype: object\n",
      "17097    .Lis'ya Nora.\n",
      "Name: name, dtype: object\n",
      "1606    Парк Победы (Поклонная гора) / Victory Park\n",
      "Name: name, dtype: object\n",
      "613    Tsvetnoy Central Market\n",
      "Name: name, dtype: object\n",
      "11777    Братьев Кашириных, 107\n",
      "Name: name, dtype: object\n",
      "25739    Яндекс / Yandex HQ\n",
      "Name: name, dtype: object\n",
      "1771    Александровский сад / Alexander Garden\n",
      "Name: name, dtype: object\n",
      "908    Фитнес-мания\n",
      "Name: name, dtype: object\n",
      "19483    Shandins House\n",
      "Name: name, dtype: object\n",
      "38364    Volga\n",
      "Name: name, dtype: object\n",
      "29031    VIC's Luxury Resort\n",
      "Name: name, dtype: object\n",
      "303    Патриаршие пруды / Patriarshiye Ponds\n",
      "Name: name, dtype: object\n",
      "655    МЕГА Химки / MEGA Mall\n",
      "Name: name, dtype: object\n",
      "933    MANXЭТТЕН\n",
      "Name: name, dtype: object\n"
     ]
    }
   ],
   "source": [
    "for venueId in sortedVenuesIds[:50]:\n",
    "    print top50VenuesCheckins[top50VenuesCheckins.venueId == venueId][:1]['name']"
   ]
  },
  {
   "cell_type": "code",
   "execution_count": null,
   "metadata": {
    "collapsed": false
   },
   "outputs": [],
   "source": [
    "from pymining import itemmining\n",
    "relim_input = itemmining.get_relim_input(userVenues)\n",
    "report = itemmining.relim(relim_input, min_support=2)\n",
    "report"
   ]
  },
  {
   "cell_type": "code",
   "execution_count": null,
   "metadata": {
    "collapsed": true
   },
   "outputs": [],
   "source": []
  }
 ],
 "metadata": {
  "kernelspec": {
   "display_name": "Python 2",
   "language": "python",
   "name": "python2"
  },
  "language_info": {
   "codemirror_mode": {
    "name": "ipython",
    "version": 2
   },
   "file_extension": ".py",
   "mimetype": "text/x-python",
   "name": "python",
   "nbconvert_exporter": "python",
   "pygments_lexer": "ipython2",
   "version": "2.7.6"
  }
 },
 "nbformat": 4,
 "nbformat_minor": 0
}
