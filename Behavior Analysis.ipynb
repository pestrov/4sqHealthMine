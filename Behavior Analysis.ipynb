{
 "cells": [
  {
   "cell_type": "code",
   "execution_count": 1,
   "metadata": {
    "collapsed": true
   },
   "outputs": [],
   "source": [
    "import pandas as pd\n",
    "import numpy as np\n",
    "import json\n",
    "import datetime "
   ]
  },
  {
   "cell_type": "code",
   "execution_count": 11,
   "metadata": {
    "collapsed": false
   },
   "outputs": [],
   "source": [
    "sourceCheckins = pd.read_csv('data/July/server/checkins.tsv', sep='\\t')\n",
    "allCheckins = pd.read_csv('data/July/server/currentExtendedCheckinsHistory.tsv', sep='\\t')\n",
    "checkpoints = pd.read_csv('data/July/server/checkPoints.tsv', sep='\\t')"
   ]
  },
  {
   "cell_type": "code",
   "execution_count": 12,
   "metadata": {
    "collapsed": false
   },
   "outputs": [
    {
     "data": {
      "text/plain": [
       "1896"
      ]
     },
     "execution_count": 12,
     "metadata": {},
     "output_type": "execute_result"
    }
   ],
   "source": [
    "len(np.unique(allCheckins.userId.tolist()))"
   ]
  },
  {
   "cell_type": "code",
   "execution_count": 19,
   "metadata": {
    "collapsed": false
   },
   "outputs": [
    {
     "data": {
      "text/plain": [
       "215095"
      ]
     },
     "execution_count": 19,
     "metadata": {},
     "output_type": "execute_result"
    }
   ],
   "source": [
    "len(allCheckins)"
   ]
  },
  {
   "cell_type": "code",
   "execution_count": 14,
   "metadata": {
    "collapsed": false
   },
   "outputs": [],
   "source": [
    "allCheckins = allCheckins.drop_duplicates(subset = ['checkinId'])"
   ]
  },
  {
   "cell_type": "code",
   "execution_count": 9,
   "metadata": {
    "collapsed": true
   },
   "outputs": [],
   "source": [
    "allCheckins = pd.concat([checkins1, checkins])"
   ]
  },
  {
   "cell_type": "code",
   "execution_count": 3,
   "metadata": {
    "collapsed": true
   },
   "outputs": [],
   "source": [
    "allCheckins = pd.read_csv('data/July/server/currentExtendedCheckinsHistory.tsv', sep='\\t')"
   ]
  },
  {
   "cell_type": "code",
   "execution_count": 399,
   "metadata": {
    "collapsed": true
   },
   "outputs": [],
   "source": [
    "allCheckins.to_csv('data/July/server/currentExtendedCheckinsHistory.tsv', sep='\\t', encoding='utf-8')"
   ]
  },
  {
   "cell_type": "code",
   "execution_count": 18,
   "metadata": {
    "collapsed": false
   },
   "outputs": [],
   "source": [
    "allCheckins.drop('Unnamed: 0', axis=1, inplace=True)"
   ]
  },
  {
   "cell_type": "code",
   "execution_count": 21,
   "metadata": {
    "collapsed": false
   },
   "outputs": [],
   "source": [
    "sortedVenues = []\n",
    "sortedVenuesIds = []\n",
    "for venueId, group in allCheckins.groupby('venueId').agg('size').order(ascending = False).iteritems():\n",
    "    sortedVenues.append({'venueId':venueId,\n",
    "                        'group':group})\n",
    "    sortedVenuesIds.append(venueId)"
   ]
  },
  {
   "cell_type": "code",
   "execution_count": 115,
   "metadata": {
    "collapsed": true
   },
   "outputs": [],
   "source": [
    "#'World Class Lite in top ten!, 520f117111d2a782f1211c3b'"
   ]
  },
  {
   "cell_type": "code",
   "execution_count": 31,
   "metadata": {
    "collapsed": false
   },
   "outputs": [],
   "source": [
    "groupedUsers = allCheckins.groupby('userId')\n",
    "userVenues = []\n",
    "for index, group in enumerate(groupedUsers):\n",
    "        userVenues.append(group[1]['venueId'].tolist())"
   ]
  },
  {
   "cell_type": "code",
   "execution_count": 23,
   "metadata": {
    "collapsed": false
   },
   "outputs": [
    {
     "data": {
      "text/plain": [
       "52511"
      ]
     },
     "execution_count": 23,
     "metadata": {},
     "output_type": "execute_result"
    }
   ],
   "source": [
    "len(sortedVenues)"
   ]
  },
  {
   "cell_type": "code",
   "execution_count": 26,
   "metadata": {
    "collapsed": false
   },
   "outputs": [],
   "source": [
    "top50VenuesCheckins = allCheckins[allCheckins.venueId.isin(sortedVenuesIds[:50])]"
   ]
  },
  {
   "cell_type": "code",
   "execution_count": 32,
   "metadata": {
    "collapsed": false
   },
   "outputs": [
    {
     "name": "stdout",
     "output_type": "stream",
     "text": [
      "ЦПКиО им. Горького / Gorky Park\n",
      "Москва / Moscow\n",
      "Парк искусств «Музеон» / Muzeon Park\n",
      "ВДНХ (Выставка достижений народного хозяйства)\n",
      "Международный аэропорт Домодедово / Domodedovo International Airport (DME)\n",
      "Россия / Russia\n",
      "ПКиО «Сокольники»\n",
      "Красная площадь / Red Square\n",
      "ТРЦ «Европейский»\n",
      "Арбат / Arbat Street\n",
      "Международный аэропорт Шереметьево / Sheremetyevo International Airport (SVO)\n",
      "ТРК «Атриум» / Atrium Mall\n",
      "Международный аэропорт Внуково / Vnukovo International Airport (VKO)\n",
      "Афимолл Сити / Afimall City\n",
      "ТЦ «Метрополис»\n",
      "Центральный детский магазин\n",
      "Ленинградский вокзал / Leningradsky Railway Terminal\n",
      "Патриаршие пруды / Patriarshiye Ponds\n",
      "Музей-заповедник «Коломенское»\n",
      "ТЦ «Охотный ряд»\n",
      "Физика\n",
      "ТРЦ «Авиапарк»\n",
      "Нескучный сад\n",
      "Tsvetnoy Central Market\n",
      "ГУМ / GUM\n",
      "Московский вокзал / Moskovsky Railway Station\n",
      "Парк Победы (Поклонная гора) / Victory Park\n",
      "Казанский вокзал / Kazansky Rail Terminal\n",
      "Воробьёвская набережная\n",
      "Александровский сад / Alexander Garden\n",
      "Курский вокзал / Kursky Rail Terminal\n",
      "Музей-заповедник «Царицыно»\n",
      "ПКиО «Измайловский»\n",
      "МЕГА Белая Дача / MEGA Mall\n",
      "Ярославский вокзал\n",
      "Смотровая площадка / Observation Deck\n",
      "ПКиО «Красная Пресня»\n",
      "Фитнес-мания\n",
      "Планета Фитнес\n",
      "ТРЦ «Золотой Вавилон»\n",
      "Пушкинская площадь\n",
      "GIPSY\n",
      "World Class Lite\n",
      "Artplay\n",
      "Пропаганда\n",
      "Сад «Эрмитаж» / Hermitage Garden\n",
      "ТРЦ «Калейдоскоп»\n",
      "МЕГА Химки / MEGA Mall\n",
      "Западный административный округ\n",
      "Чистые пруды\n"
     ]
    }
   ],
   "source": [
    "for venueId in sortedVenuesIds[:50]:\n",
    "    print venueNameFromId(venueId)"
   ]
  },
  {
   "cell_type": "code",
   "execution_count": null,
   "metadata": {
    "collapsed": false
   },
   "outputs": [],
   "source": [
    "from pymining import itemmining\n",
    "relim_input = itemmining.get_relim_input(userVenues)\n",
    "report = itemmining.relim(relim_input, min_support=2)\n",
    "report"
   ]
  },
  {
   "cell_type": "code",
   "execution_count": 313,
   "metadata": {
    "collapsed": true
   },
   "outputs": [],
   "source": [
    "def load_dataset():\n",
    "    \"Load the sample dataset.\"\n",
    "    return userVenues\n",
    " \n",
    " \n",
    "def createC1(dataset):\n",
    "    \"Create a list of candidate item sets of size one.\"\n",
    "    c1 = []\n",
    "    for transaction in dataset:\n",
    "        for item in transaction:\n",
    "            if not [item] in c1:\n",
    "                c1.append([item])\n",
    "    c1.sort()\n",
    "    #frozenset because it will be a ket of a dictionary.\n",
    "    return map(frozenset, c1)\n",
    " \n",
    " \n",
    "def scanD(dataset, candidates, min_support):\n",
    "    \"Returns all candidates that meets a minimum support level\"\n",
    "    sscnt = {}\n",
    "    for tid in dataset:\n",
    "        for can in candidates:\n",
    "            if can.issubset(tid):\n",
    "                sscnt.setdefault(can, 0)\n",
    "                sscnt[can] += 1\n",
    " \n",
    "    num_items = float(len(dataset))\n",
    "    retlist = []\n",
    "    support_data = {}\n",
    "    for key in sscnt:\n",
    "        support = sscnt[key] / num_items\n",
    "        if support >= min_support:\n",
    "            retlist.insert(0, key)\n",
    "        support_data[key] = support\n",
    "    return retlist, support_data\n",
    " \n",
    " \n",
    "def aprioriGen(freq_sets, k):\n",
    "    \"Generate the joint transactions from candidate sets\"\n",
    "    retList = []\n",
    "    lenLk = len(freq_sets)\n",
    "    for i in range(lenLk):\n",
    "        for j in range(i + 1, lenLk):\n",
    "            L1 = list(freq_sets[i])[:k - 2]\n",
    "            L2 = list(freq_sets[j])[:k - 2]\n",
    "            L1.sort()\n",
    "            L2.sort()\n",
    "            if L1 == L2:\n",
    "                retList.append(freq_sets[i] | freq_sets[j])\n",
    "    return retList\n",
    " \n",
    " \n",
    "def apriori(dataset, minsupport=0.5):\n",
    "    \"Generate a list of candidate item sets\"\n",
    "    C1 = createC1(dataset)\n",
    "    D = map(set, dataset)\n",
    "    L1, support_data = scanD(D, C1, minsupport)\n",
    "    L = [L1]\n",
    "    k = 2\n",
    "    while (len(L[k - 2]) > 0):\n",
    "        Ck = aprioriGen(L[k - 2], k)\n",
    "        Lk, supK = scanD(D, Ck, minsupport)\n",
    "        support_data.update(supK)\n",
    "        L.append(Lk)\n",
    "        k += 1\n",
    " \n",
    "    return L, support_data"
   ]
  },
  {
   "cell_type": "code",
   "execution_count": null,
   "metadata": {
    "collapsed": false
   },
   "outputs": [],
   "source": [
    "C1 = createC1(userVenues)"
   ]
  },
  {
   "cell_type": "code",
   "execution_count": 252,
   "metadata": {
    "collapsed": true
   },
   "outputs": [],
   "source": [
    "D = map(set, userVenues)"
   ]
  },
  {
   "cell_type": "code",
   "execution_count": 253,
   "metadata": {
    "collapsed": false
   },
   "outputs": [],
   "source": [
    "L1, support_data = scanD(D, C1, 0.01)"
   ]
  },
  {
   "cell_type": "code",
   "execution_count": 315,
   "metadata": {
    "collapsed": true
   },
   "outputs": [],
   "source": [
    "L, supportData = apriori(userVenues, minsupport=0.01)"
   ]
  },
  {
   "cell_type": "code",
   "execution_count": 316,
   "metadata": {
    "collapsed": false
   },
   "outputs": [
    {
     "name": "stdout",
     "output_type": "stream",
     "text": [
      "frozenset(['4be6909fd4f7c9b6b2e02620', '4ba6146ef964a5202d3239e3'])\n",
      "frozenset(['4bd855b5f645c9b6f5a1a7e0', '4bae5064f964a52077a13be3'])\n",
      "frozenset(['4bdd5f27f219c9b6bb751210', '5526587c498e151e3d6ab2f4', '523c543311d2343c967a796e'])\n",
      "frozenset(['534f9f0b498ea76789184be0', '515dcc1ae4b0b437d6ad9c66'])\n",
      "frozenset(['534a9d1e498e5b2d5c3e5125'])\n",
      "frozenset(['4c0b65a2bbc676b003864bd5', '4ba91963f964a520480b3ae3'])\n"
     ]
    }
   ],
   "source": [
    "frequentVenues = []\n",
    "for itemset, support in zip(L, supportData):\n",
    "    if len(itemset)>5:\n",
    "        print support\n",
    "        frequentVenueSet = []\n",
    "        for item in itemset:\n",
    "            frequentVenueSet.append(next(enumerate(item))[1])\n",
    "        frequentVenues.append(frequentVenueSet)"
   ]
  },
  {
   "cell_type": "code",
   "execution_count": 40,
   "metadata": {
    "collapsed": false
   },
   "outputs": [
    {
     "data": {
      "text/plain": [
       "1.0000000000027"
      ]
     },
     "execution_count": 40,
     "metadata": {},
     "output_type": "execute_result"
    }
   ],
   "source": [
    "len(userVenues)*0.0015455950541"
   ]
  },
  {
   "cell_type": "code",
   "execution_count": 319,
   "metadata": {
    "collapsed": false
   },
   "outputs": [
    {
     "name": "stdout",
     "output_type": "stream",
     "text": [
      "Афимолл Сити / Afimall City\n",
      "Гин-но Таки\n",
      "McDonald's\n",
      "Cuba Libre\n",
      "Hard Rock Cafe Moscow\n",
      "Conversation Cafe\n",
      "Bar BQ Cafe\n",
      "Страна которой нет\n",
      "Каро Vegas 22\n",
      "Площадь Киевского Вокзала\n",
      "Счастье\n",
      "Площадь Восстания\n",
      "Starbucks\n",
      "Аэроэкспресс - Терминал на Павелецком вокзале\n",
      "Osteria della Piazza Bianca\n",
      "ТРK «Вегас» (Крокус Сити)\n",
      "Декатлон\n",
      "ТК «Горбушка»\n",
      "Теплый Стан\n",
      "Площадь Революции\n"
     ]
    }
   ],
   "source": [
    "for venueId in frequentVenues[0][:20]:\n",
    "    print venueNameFromId(venueId)"
   ]
  },
  {
   "cell_type": "code",
   "execution_count": 318,
   "metadata": {
    "collapsed": false
   },
   "outputs": [],
   "source": [
    "def generateRules(L, support_data, min_confidence=0.7):\n",
    "    \"\"\"Create the association rules\n",
    "    L: list of frequent item sets\n",
    "    support_data: support data for those itemsets\n",
    "    min_confidence: minimum confidence threshold\n",
    "    \"\"\"\n",
    "    rules = []\n",
    "    for i in range(1, len(L)):\n",
    "        for freqSet in L[i]:\n",
    "            H1 = [frozenset([item]) for item in freqSet]\n",
    "            #print \"freqSet\", freqSet, 'H1', H1\n",
    "            if (i > 1):\n",
    "                rules_from_conseq(freqSet, H1, support_data, rules, min_confidence)\n",
    "            else:\n",
    "                calc_confidence(freqSet, H1, support_data, rules, min_confidence)\n",
    "    return rules\n",
    " \n",
    " \n",
    "def calc_confidence(freqSet, H, support_data, rules, min_confidence=0.7):\n",
    "    \"Evaluate the rule generated\"\n",
    "    pruned_H = []\n",
    "    for conseq in H:\n",
    "        conf = support_data[freqSet] / support_data[freqSet - conseq]\n",
    "        if conf >= min_confidence:\n",
    "            print freqSet - conseq, '--->', conseq, 'conf:', conf\n",
    "            rules.append((freqSet - conseq, conseq, conf))\n",
    "            pruned_H.append(conseq)\n",
    "    return pruned_H\n",
    " \n",
    " \n",
    "def rules_from_conseq(freqSet, H, support_data, rules, min_confidence=0.7):\n",
    "    \"Generate a set of candidate rules\"\n",
    "    m = len(H[0])\n",
    "    if (len(freqSet) > (m + 1)):\n",
    "        Hmp1 = aprioriGen(H, m + 1)\n",
    "        Hmp1 = calc_confidence(freqSet, Hmp1,  support_data, rules, min_confidence)\n",
    "        if len(Hmp1) > 1:\n",
    "            rules_from_conseq(freqSet, Hmp1, support_data, rules, min_confidence)"
   ]
  },
  {
   "cell_type": "code",
   "execution_count": null,
   "metadata": {
    "collapsed": false,
    "scrolled": true
   },
   "outputs": [],
   "source": [
    "rules = generateRules(L, supportData, min_confidence=0.6)"
   ]
  },
  {
   "cell_type": "markdown",
   "metadata": {},
   "source": [
    "# Helper Functions"
   ]
  },
  {
   "cell_type": "code",
   "execution_count": 27,
   "metadata": {
    "collapsed": false
   },
   "outputs": [],
   "source": [
    "venuesDict = {}\n",
    "def venueNameFromId(venueId):\n",
    "    if venueId not in venuesDict.keys():\n",
    "        venuesDict[venueId] = allCheckins[allCheckins.venueId == venueId].iloc[0]['name']\n",
    "    return venuesDict[venueId]"
   ]
  },
  {
   "cell_type": "code",
   "execution_count": 28,
   "metadata": {
    "collapsed": true
   },
   "outputs": [],
   "source": [
    "venuesCatDict = {}\n",
    "def venueCategoryFromId(venueId):\n",
    "    if venueId not in venuesDict.keys():\n",
    "        venuesDict[venueId] = allCheckins[allCheckins.venueId == venueId].iloc[0]['categoryName']\n",
    "    return venuesDict[venueId]"
   ]
  },
  {
   "cell_type": "code",
   "execution_count": 29,
   "metadata": {
    "collapsed": true
   },
   "outputs": [],
   "source": [
    "categoriesDict = {}\n",
    "def categoryNameFromId(categoryId):\n",
    "    if categoryId not in categoriesDict.keys():\n",
    "        categoriesDict[categoryId] = allCheckins[allCheckins.categoryId == categoryId].iloc[0]['categoryName']\n",
    "    return categoriesDict[categoryId]"
   ]
  },
  {
   "cell_type": "code",
   "execution_count": 30,
   "metadata": {
    "collapsed": true
   },
   "outputs": [],
   "source": [
    "def countUsersAtVenue(venuedId):\n",
    "    return len(np.unique(allCheckins[allCheckins.venueId == venueId]['userId'].tolist()))"
   ]
  },
  {
   "cell_type": "code",
   "execution_count": 321,
   "metadata": {
    "collapsed": false,
    "scrolled": true
   },
   "outputs": [
    {
     "name": "stdout",
     "output_type": "stream",
     "text": [
      "ТРЦ «Галерея» / Galeria Shopping Mall\n",
      "ВДНХ (Выставка достижений народного хозяйства)\n",
      "--->\n",
      "Ленинградский вокзал / Leningradsky Railway Terminal\n",
      "Московский вокзал / Moskovsky Railway Station\n",
      "conf: 0.615384615385\n",
      "\n",
      "Невский проспект / Nevsky Prospect\n",
      "Московский вокзал / Moskovsky Railway Station\n",
      "--->\n",
      "Ленинградский вокзал / Leningradsky Railway Terminal\n",
      "Дворцовая площадь / Palace Square\n",
      "conf: 0.607142857143\n",
      "\n",
      "Парк искусств «Музеон» / Muzeon Park\n",
      "Каро 17 SKY\n",
      "--->\n",
      "ЦПКиО им. Горького / Gorky Park\n",
      "ТРЦ «Авиапарк»\n",
      "conf: 0.64\n",
      "\n",
      "Государственный Эрмитаж / Hermitage Museum\n",
      "Ленинградский вокзал / Leningradsky Railway Terminal\n",
      "--->\n",
      "ЦПКиО им. Горького / Gorky Park\n",
      "Московский вокзал / Moskovsky Railway Station\n",
      "conf: 0.64\n",
      "\n",
      "ВДНХ (Выставка достижений народного хозяйства)\n",
      "Дворцовая площадь / Palace Square\n",
      "--->\n",
      "Ленинградский вокзал / Leningradsky Railway Terminal\n",
      "Московский вокзал / Moskovsky Railway Station\n",
      "conf: 0.606060606061\n",
      "\n",
      "Ленинградский вокзал / Leningradsky Railway Terminal\n",
      "Невский проспект / Nevsky Prospect\n",
      "--->\n",
      "ЦПКиО им. Горького / Gorky Park\n",
      "Московский вокзал / Moskovsky Railway Station\n",
      "conf: 0.724137931034\n",
      "\n",
      "Ленинградский вокзал / Leningradsky Railway Terminal\n",
      "Дворцовая площадь / Palace Square\n",
      "--->\n",
      "ЦПКиО им. Горького / Gorky Park\n",
      "Московский вокзал / Moskovsky Railway Station\n",
      "conf: 0.622222222222\n",
      "\n",
      "Невский проспект / Nevsky Prospect\n",
      "Ленинградский вокзал / Leningradsky Railway Terminal\n",
      "ЦПКиО им. Горького / Gorky Park\n",
      "--->\n",
      "Дворцовая площадь / Palace Square\n",
      "Московский вокзал / Moskovsky Railway Station\n",
      "conf: 0.727272727273\n",
      "\n",
      "Невский проспект / Nevsky Prospect\n",
      "Ленинградский вокзал / Leningradsky Railway Terminal\n",
      "Дворцовая площадь / Palace Square\n",
      "--->\n",
      "ЦПКиО им. Горького / Gorky Park\n",
      "Московский вокзал / Moskovsky Railway Station\n",
      "conf: 0.842105263158\n",
      "\n",
      "Невский проспект / Nevsky Prospect\n",
      "Дворцовая площадь / Palace Square\n",
      "ЦПКиО им. Горького / Gorky Park\n",
      "--->\n",
      "Ленинградский вокзал / Leningradsky Railway Terminal\n",
      "Московский вокзал / Moskovsky Railway Station\n",
      "conf: 0.666666666667\n",
      "\n",
      "Невский проспект / Nevsky Prospect\n",
      "Ленинградский вокзал / Leningradsky Railway Terminal\n",
      "Московский вокзал / Moskovsky Railway Station\n",
      "--->\n",
      "ЦПКиО им. Горького / Gorky Park\n",
      "Дворцовая площадь / Palace Square\n",
      "conf: 0.615384615385\n",
      "\n",
      "Невский проспект / Nevsky Prospect\n",
      "ЦПКиО им. Горького / Gorky Park\n",
      "Московский вокзал / Moskovsky Railway Station\n",
      "--->\n",
      "Ленинградский вокзал / Leningradsky Railway Terminal\n",
      "Дворцовая площадь / Palace Square\n",
      "conf: 0.761904761905\n",
      "\n",
      "Ленинградский вокзал / Leningradsky Railway Terminal\n",
      "ВДНХ (Выставка достижений народного хозяйства)\n",
      "Дворцовая площадь / Palace Square\n",
      "--->\n",
      "ЦПКиО им. Горького / Gorky Park\n",
      "Московский вокзал / Moskovsky Railway Station\n",
      "conf: 0.666666666667\n",
      "\n",
      "ЦПКиО им. Горького / Gorky Park\n",
      "ВДНХ (Выставка достижений народного хозяйства)\n",
      "Дворцовая площадь / Palace Square\n",
      "--->\n",
      "Ленинградский вокзал / Leningradsky Railway Terminal\n",
      "Московский вокзал / Moskovsky Railway Station\n",
      "conf: 0.727272727273\n",
      "\n"
     ]
    }
   ],
   "source": [
    "for rule in rules:\n",
    "    simpleRule = 1\n",
    "    if len(rule[0]) < 2:\n",
    "        continue\n",
    "        \n",
    "    for venueId in enumerate(rule[0]):\n",
    "        if venueId[1] not in sortedVenuesIds[:20]:\n",
    "            simpleRule = 0\n",
    "            \n",
    "    if simpleRule:\n",
    "        continue\n",
    "    \n",
    "    simpleRule = 1\n",
    "    \n",
    "    for venueId in enumerate(rule[1]):\n",
    "        if venueId[1] not in sortedVenuesIds[:20]:\n",
    "            simpleRule = 0\n",
    "            \n",
    "    if simpleRule:\n",
    "        continue\n",
    "    \n",
    "    for venueId in enumerate(rule[0]):\n",
    "        print venueNameFromId(venueId[1])\n",
    "        \n",
    "    print '--->'\n",
    "    for venueId in enumerate(rule[1]):\n",
    "        print venueNameFromId(venueId[1])\n",
    "    print 'conf:', rule[2]\n",
    "    print ''"
   ]
  },
  {
   "cell_type": "code",
   "execution_count": null,
   "metadata": {
    "collapsed": true
   },
   "outputs": [],
   "source": [
    "#Using code for rules from here: http://aimotion.blogspot.ru/2013/01/machine-learning-and-data-mining.html"
   ]
  },
  {
   "cell_type": "code",
   "execution_count": 268,
   "metadata": {
    "collapsed": false
   },
   "outputs": [],
   "source": [
    "multiUserSortedVenues = filter(lambda x: x['group'] > 1, sortedVenues)"
   ]
  },
  {
   "cell_type": "code",
   "execution_count": 33,
   "metadata": {
    "collapsed": false
   },
   "outputs": [],
   "source": [
    "userVenueGroups = []\n",
    "for venueId, group in allCheckins.groupby('venueId'):\n",
    "    if len(group.groupby('userId'))>1:\n",
    "        userVenueGroups.append(venueId)"
   ]
  },
  {
   "cell_type": "code",
   "execution_count": 34,
   "metadata": {
    "collapsed": false
   },
   "outputs": [],
   "source": [
    "userVenueCategories = []\n",
    "for categoryId, group in allCheckins.groupby('categoryId'):\n",
    "    if len(group.groupby('userId'))>1:\n",
    "        userVenueCategories.append(categoryId)"
   ]
  },
  {
   "cell_type": "code",
   "execution_count": 35,
   "metadata": {
    "collapsed": false
   },
   "outputs": [],
   "source": [
    "#Make lists of users check-in venues\n",
    "multiUserCheckins = allCheckins[allCheckins.venueId.isin(userVenueGroups)]\n",
    "groupedUsers = multiUserCheckins.groupby('userId')\n",
    "userVenuesList = []\n",
    "userIds = []\n",
    "for index, group in enumerate(groupedUsers):\n",
    "        userVenuesList.append(group[1]['venueId'].tolist())\n",
    "        userIds.append(group[0])"
   ]
  },
  {
   "cell_type": "code",
   "execution_count": 36,
   "metadata": {
    "collapsed": false
   },
   "outputs": [],
   "source": [
    "#Make lists of users check-in catrgories\n",
    "fineCheckins = allCheckins[allCheckins.categoryId.isin(userVenueCategories)]\n",
    "groupedUsers = fineCheckins.groupby('userId')\n",
    "userCategoryList = []\n",
    "userIdsForCat = []\n",
    "for index, group in enumerate(groupedUsers):\n",
    "        userCategoryList.append(group[1]['categoryId'].tolist())\n",
    "        userIdsForCat.append(group[0])"
   ]
  },
  {
   "cell_type": "code",
   "execution_count": 37,
   "metadata": {
    "collapsed": false
   },
   "outputs": [
    {
     "data": {
      "text/plain": [
       "13042"
      ]
     },
     "execution_count": 37,
     "metadata": {},
     "output_type": "execute_result"
    }
   ],
   "source": [
    "len(userVenueGroups)"
   ]
  },
  {
   "cell_type": "markdown",
   "metadata": {},
   "source": [
    "# K-means, spectral"
   ]
  },
  {
   "cell_type": "code",
   "execution_count": 38,
   "metadata": {
    "collapsed": true
   },
   "outputs": [],
   "source": [
    "#Let's build some TF-ID vectors\n",
    "from sklearn.feature_extraction.text import CountVectorizer\n",
    "from sklearn.metrics.pairwise import cosine_similarity\n",
    "from sklearn.feature_extraction.text import TfidfVectorizer\n",
    "from sklearn.cluster.bicluster import SpectralCoclustering\n",
    "from sklearn.cluster import MiniBatchKMeans"
   ]
  },
  {
   "cell_type": "code",
   "execution_count": 39,
   "metadata": {
    "collapsed": false
   },
   "outputs": [],
   "source": [
    "venuesByUser = []\n",
    "for userList in userVenuesList:\n",
    "    venuesByUser.append(' '.join(userList))\n",
    "    \n",
    "categoriesByUser = []\n",
    "for userList in userCategoryList:\n",
    "    try:\n",
    "        categoriesByUser.append(' '.join(userList))\n",
    "    except:\n",
    "        print userList\n",
    "\n",
    "tfidf_vectorizer = TfidfVectorizer(vocabulary = userVenueGroups)\n",
    "tfidf_matrix_train = tfidf_vectorizer.fit_transform(venuesByUser)"
   ]
  },
  {
   "cell_type": "code",
   "execution_count": 40,
   "metadata": {
    "collapsed": false
   },
   "outputs": [
    {
     "name": "stdout",
     "output_type": "stream",
     "text": [
      "Coclustering...\n",
      "Done in 0.42s.\n",
      "MiniBatchKMeans...\n",
      "Done in 0.11s.\n"
     ]
    }
   ],
   "source": [
    "from time import time\n",
    "cocluster = SpectralCoclustering(n_clusters=20,\n",
    "                                 svd_method='arpack', random_state=0)\n",
    "kmeans = MiniBatchKMeans(n_clusters=20,\n",
    "                         random_state=0)\n",
    "\n",
    "print(\"Coclustering...\")\n",
    "start_time = time()\n",
    "cocluster.fit(tfidf_matrix_train)\n",
    "y_cocluster = cocluster.row_labels_\n",
    "print(\"Done in {:.2f}s.\".format(\n",
    "    time() - start_time))\n",
    "\n",
    "print(\"MiniBatchKMeans...\")\n",
    "start_time = time()\n",
    "y_kmeans = kmeans.fit_predict(tfidf_matrix_train)\n",
    "print(\"Done in {:.2f}s.\".format(\n",
    "    time() - start_time))\n",
    "\n",
    "feature_names = tfidf_vectorizer.get_feature_names()"
   ]
  },
  {
   "cell_type": "code",
   "execution_count": 41,
   "metadata": {
    "collapsed": false
   },
   "outputs": [],
   "source": [
    "clustersSpectral = [[] for i in range(20)]\n",
    "for index, clusterId in enumerate(y_cocluster):\n",
    "    clustersSpectral[clusterId].append(userIds[index])"
   ]
  },
  {
   "cell_type": "code",
   "execution_count": 42,
   "metadata": {
    "collapsed": false
   },
   "outputs": [
    {
     "ename": "NameError",
     "evalue": "name 'clusters' is not defined",
     "output_type": "error",
     "traceback": [
      "\u001b[0;31m---------------------------------------------------------------------------\u001b[0m",
      "\u001b[0;31mNameError\u001b[0m                                 Traceback (most recent call last)",
      "\u001b[0;32m<ipython-input-42-5651f0b9a819>\u001b[0m in \u001b[0;36m<module>\u001b[0;34m()\u001b[0m\n\u001b[0;32m----> 1\u001b[0;31m \u001b[0mnp\u001b[0m\u001b[0;34m.\u001b[0m\u001b[0mstd\u001b[0m\u001b[0;34m(\u001b[0m\u001b[0;34m[\u001b[0m\u001b[0mlen\u001b[0m\u001b[0;34m(\u001b[0m\u001b[0mcluster\u001b[0m\u001b[0;34m)\u001b[0m \u001b[0;32mfor\u001b[0m \u001b[0mcluster\u001b[0m \u001b[0;32min\u001b[0m  \u001b[0mclusters\u001b[0m\u001b[0;34m]\u001b[0m\u001b[0;34m)\u001b[0m\u001b[0;34m\u001b[0m\u001b[0m\n\u001b[0m",
      "\u001b[0;31mNameError\u001b[0m: name 'clusters' is not defined"
     ]
    }
   ],
   "source": [
    "np.std([len(cluster) for cluster in  clusters])"
   ]
  },
  {
   "cell_type": "code",
   "execution_count": 43,
   "metadata": {
    "collapsed": true
   },
   "outputs": [],
   "source": [
    "clusters = x = [[] for i in range(20)]\n",
    "for index, clustedId in enumerate(y_kmeans):\n",
    "    clusters[clustedId].append(userIds[index])"
   ]
  },
  {
   "cell_type": "markdown",
   "metadata": {},
   "source": [
    "# LDA"
   ]
  },
  {
   "cell_type": "code",
   "execution_count": 44,
   "metadata": {
    "collapsed": false
   },
   "outputs": [
    {
     "name": "stdout",
     "output_type": "stream",
     "text": [
      "Done Document matrix\n"
     ]
    }
   ],
   "source": [
    "import sklearn\n",
    "from sklearn.feature_extraction.text import CountVectorizer \n",
    "\n",
    "cv = sklearn.feature_extraction.text.CountVectorizer()\n",
    "mat = cv.fit_transform(venuesByUser).toarray()\n",
    "print('Done Document matrix')"
   ]
  },
  {
   "cell_type": "code",
   "execution_count": 63,
   "metadata": {
    "collapsed": false
   },
   "outputs": [
    {
     "data": {
      "text/plain": [
       "134866"
      ]
     },
     "execution_count": 63,
     "metadata": {},
     "output_type": "execute_result"
    }
   ],
   "source": [
    "sum([len(venuesUser) for venuesUser in userVenuesList])"
   ]
  },
  {
   "cell_type": "code",
   "execution_count": 45,
   "metadata": {
    "collapsed": false
   },
   "outputs": [
    {
     "name": "stdout",
     "output_type": "stream",
     "text": [
      "Done Document matrix\n"
     ]
    }
   ],
   "source": [
    "cvCategory = sklearn.feature_extraction.text.CountVectorizer()\n",
    "matCategory = cvCategory.fit_transform(categoriesByUser).toarray()\n",
    "print('Done Document matrix')"
   ]
  },
  {
   "cell_type": "code",
   "execution_count": 46,
   "metadata": {
    "collapsed": false
   },
   "outputs": [
    {
     "data": {
      "text/plain": [
       "542"
      ]
     },
     "execution_count": 46,
     "metadata": {},
     "output_type": "execute_result"
    }
   ],
   "source": [
    "len(userVenueCategories)"
   ]
  },
  {
   "cell_type": "code",
   "execution_count": 47,
   "metadata": {
    "collapsed": false
   },
   "outputs": [
    {
     "name": "stdout",
     "output_type": "stream",
     "text": [
      "13042\n"
     ]
    }
   ],
   "source": [
    "venuesVocab = cv.get_feature_names()\n",
    "print len(venuesVocab)"
   ]
  },
  {
   "cell_type": "code",
   "execution_count": 48,
   "metadata": {
    "collapsed": false
   },
   "outputs": [
    {
     "name": "stdout",
     "output_type": "stream",
     "text": [
      "542\n"
     ]
    }
   ],
   "source": [
    "categoriesVocab = cvCategory.get_feature_names()\n",
    "print len(categoriesVocab)"
   ]
  },
  {
   "cell_type": "code",
   "execution_count": 49,
   "metadata": {
    "collapsed": false
   },
   "outputs": [
    {
     "name": "stdout",
     "output_type": "stream",
     "text": [
      "Done LDA fitting\n"
     ]
    }
   ],
   "source": [
    "import lda\n",
    "model20 = lda.LDA(n_topics=20, n_iter=2000, random_state=1,alpha = 0.001)\n",
    "model20.fit(mat)  # model.fit_transform(X) is also available\n",
    "topic_word = model20.topic_word_  # model.components_ also works\n",
    "print('Done LDA fitting')"
   ]
  },
  {
   "cell_type": "code",
   "execution_count": 65,
   "metadata": {
    "collapsed": false
   },
   "outputs": [
    {
     "name": "stdout",
     "output_type": "stream",
     "text": [
      "Done LDA fitting\n"
     ]
    }
   ],
   "source": [
    "import lda\n",
    "model20Cat = lda.LDA(n_topics=20, n_iter=2000, random_state=1,alpha = 0.001)\n",
    "model20Cat.fit(matCategory)  # model.fit_transform(X) is also available\n",
    "topic_cats = model20Cat.topic_word_  # model.components_ also works\n",
    "print('Done LDA fitting')"
   ]
  },
  {
   "cell_type": "code",
   "execution_count": 64,
   "metadata": {
    "collapsed": false,
    "scrolled": true
   },
   "outputs": [
    {
     "name": "stdout",
     "output_type": "stream",
     "text": [
      "Cluster 1:\n",
      "Планета Фитнес, 19 users 6.01%\n",
      "FitFashion, 10 users 3.77%\n",
      "Патриаршие пруды / Patriarshiye Ponds, 238 users 2.15%\n",
      "Зебра, 8 users 1.93%\n",
      "Московский Комсомолец, 2 users 1.54%\n",
      "Swingin' Moscow, 2 users 1.54%\n",
      "ГУ МВД России по г. Москве, 3 users 1.29%\n",
      "Новинский бул., 18, 3 users 1.29%\n",
      "Институт журналистики и литературного творчества, 3 users 1.17%\n",
      "Сад им. Баумана, 71 users 1.12%\n",
      "Остановка «Метро Проспект Вернадского», 6 users 1.12%\n",
      "\n",
      "Cluster 2:\n",
      "Международный аэропорт Домодедово / Domodedovo International Airport (DME), 443 users 2.78%\n",
      "Международный аэропорт Шереметьево / Sheremetyevo International Airport (SVO), 297 users 2.25%\n",
      "Париж Life, 4 users 2.20%\n",
      "МГЛУ / Московский государственный лингвистический университет / Moscow State Linguistic University, 15 users 1.82%\n",
      "БЦ «Калейдоскоп», 6 users 1.33%\n",
      "AdWatch Isobar, 5 users 1.26%\n",
      "Оки Доки, 9 users 1.24%\n",
      "Министерство финансов Российской Федерации, 3 users 1.19%\n",
      "Международный аэропорт Внуково / Vnukovo International Airport (VKO), 283 users 1.08%\n",
      "Терминал D / Terminal D, 104 users 1.01%\n",
      "\n",
      "Cluster 3:\n",
      "Москва / Moscow, 371 users 23.21%\n",
      "Россия / Russia, 183 users 9.79%\n",
      "Западный административный округ, 92 users 2.05%\n",
      "ЦПКиО им. Горького / Gorky Park, 999 users 1.75%\n",
      "Парк искусств «Музеон» / Muzeon Park, 580 users 1.21%\n",
      "Красная площадь / Red Square, 444 users 1.19%\n",
      "Janinn Fitness, 5 users 1.05%\n",
      "Северный административный округ, 55 users 1.03%\n",
      "Traffic Isobar, 3 users 1.02%\n",
      "\n",
      "Cluster 4:\n",
      "Alex Fitness, 8 users 2.70%\n",
      "ТРЦ «Авиапарк», 148 users 2.13%\n",
      "СОК «Чайка», 9 users 2.06%\n",
      "ТРЦ «Филион», 62 users 2.03%\n",
      "ПКиО «Фили», 83 users 1.75%\n",
      "ALEX-Fitness, 18 users 1.66%\n",
      "\n",
      "Cluster 5:\n",
      "ЦПКиО им. Горького / Gorky Park, 999 users 3.87%\n",
      "Парк искусств «Музеон» / Muzeon Park, 580 users 2.26%\n",
      "\n",
      "Cluster 6:\n",
      "Физика, 32 users 5.40%\n",
      "Яндекс / Yandex HQ, 32 users 2.14%\n",
      "ЦПКиО им. Горького / Gorky Park, 999 users 2.00%\n",
      "Планета Фитнес, 9 users 1.95%\n",
      "ТРК «Капитолий», 89 users 1.72%\n",
      "Факультет коммуникаций, медиа и дизайна НИУ ВШЭ, 7 users 1.31%\n",
      "Magneto Sport&SPA, 2 users 1.08%\n",
      "ТРЦ РИО «Ленинский», 37 users 1.03%\n",
      "\n",
      "Cluster 7:\n",
      "World Gym Синица, 15 users 2.80%\n",
      "Международный аэропорт Домодедово / Domodedovo International Airport (DME), 443 users 1.98%\n",
      "PepsiCo, 5 users 1.50%\n",
      "World Class, 6 users 1.42%\n",
      "Международный аэропорт Шереметьево / Sheremetyevo International Airport (SVO), 297 users 1.18%\n",
      "Международный аэропорт Симферополь / Simferopol International Airport (SIP), 29 users 1.18%\n",
      "Московская школа управления «Сколково» / Skolkovo Business School, 4 users 1.18%\n",
      "На Вилле у Эни, 2 users 1.06%\n",
      "Международный аэропорт Внуково / Vnukovo International Airport (VKO), 283 users 1.01%\n",
      "\n",
      "Cluster 8:\n",
      "ЦПКиО им. Горького / Gorky Park, 999 users 2.57%\n",
      "ТРК «Атриум» / Atrium Mall, 310 users 1.52%\n",
      "ВДНХ (Выставка достижений народного хозяйства), 556 users 1.38%\n",
      "Красная площадь / Red Square, 444 users 1.30%\n",
      "ПКиО «Сокольники», 391 users 1.30%\n",
      "МЕГА Белая Дача / MEGA Mall, 129 users 1.27%\n",
      "\n",
      "Cluster 9:\n",
      "World Class Lite, 12 users 4.82%\n",
      "World Class Lite, 14 users 3.71%\n",
      "ТРЦ «Калейдоскоп», 73 users 2.97%\n",
      "Парк «Северное Тушино», 68 users 2.66%\n",
      "РГУ нефти и газа имени И. М. Губкина, 13 users 2.59%\n",
      "Новая ул., 10, 2 users 1.51%\n",
      "Территория Фитнеса, 8 users 1.44%\n",
      "Ангарская ул., 45 к.2, 2 users 1.39%\n",
      "Росгосстрах HQ, 4 users 1.30%\n",
      "МЕГА Химки / MEGA Mall, 99 users 1.30%\n",
      "Международный аэропорт Домодедово / Domodedovo International Airport (DME), 443 users 1.23%\n",
      "World Class, 6 users 1.23%\n",
      "Природная зона «Ангарские Пруды», 14 users 1.18%\n",
      "ЗАО \"АМТ\", 2 users 1.14%\n",
      "Мисс Фитнес, 2 users 1.02%\n",
      "\n",
      "Cluster 10:\n",
      "Московский вокзал / Moskovsky Railway Station, 159 users 3.09%\n",
      "Ленинградский вокзал / Leningradsky Railway Terminal, 231 users 2.97%\n",
      "Международный аэропорт Пулково / Pulkovo International Airport (LED), 78 users 1.73%\n",
      "Невский проспект / Nevsky Prospect, 76 users 1.48%\n",
      "ТРЦ «Галерея» / Galeria Shopping Mall, 68 users 1.46%\n",
      "Дворцовая площадь / Palace Square, 82 users 1.30%\n",
      "\n",
      "Cluster 11:\n",
      "ВДНХ (Выставка достижений народного хозяйства), 556 users 2.86%\n",
      "ЦПКиО им. Горького / Gorky Park, 999 users 2.14%\n",
      "Бассейн «Олимпийский», 19 users 1.83%\n",
      "ПКиО «Сокольники», 391 users 1.79%\n",
      "ТРЦ «Золотой Вавилон», 115 users 1.51%\n",
      "Парк искусств «Музеон» / Muzeon Park, 580 users 1.10%\n",
      "Красная площадь / Red Square, 444 users 1.07%\n",
      "\n",
      "Cluster 12:\n",
      "РАНХиГС при Президенте РФ, 35 users 1.52%\n",
      "ТРЦ «Авиапарк», 148 users 1.10%\n",
      "Школа 436, 2 users 1.08%\n",
      "\n",
      "Cluster 13:\n",
      "ТРЦ «Columbus», 70 users 2.45%\n",
      "Новая Лига, 13 users 2.00%\n",
      "Lamoda.ru, 5 users 1.53%\n",
      "Планета Фитнес, 9 users 1.27%\n",
      "Природный заказник «Долина реки Сетунь», 6 users 1.25%\n",
      "Район «Южное Бутово», 16 users 1.00%\n",
      "\n",
      "Cluster 14:\n",
      "Фитнес-мания, 21 users 5.88%\n",
      "РЭУ им. Г. В. Плеханова, 37 users 3.67%\n",
      "MANXЭТТЕН, 11 users 3.34%\n",
      "Билайн. Центральный офис, 4 users 2.64%\n",
      "Costa Coffee, 8 users 1.91%\n",
      "ФГУП ЦНИИмаш, 2 users 1.62%\n",
      "Нагатинский метромост, 26 users 1.35%\n",
      "Администрация Сосенское, 2 users 1.32%\n",
      "Makoto, 3 users 1.24%\n",
      "World Gym, 10 users 1.24%\n",
      "МФПУ «Синергия», 6 users 1.19%\n",
      "Парк «Дубки», 15 users 1.08%\n",
      "\n",
      "Cluster 15:\n",
      "Международный аэропорт Шереметьево / Sheremetyevo International Airport (SVO), 297 users 1.87%\n",
      "Международный аэропорт Домодедово / Domodedovo International Airport (DME), 443 users 1.61%\n",
      "\n",
      "Cluster 16:\n",
      "ЦПКиО им. Горького / Gorky Park, 999 users 3.89%\n",
      "ТРЦ «Европейский», 314 users 3.01%\n",
      "Арбат / Arbat Street, 329 users 1.98%\n",
      "ПКиО «Красная Пресня», 109 users 1.51%\n",
      "Нескучный сад, 175 users 1.38%\n",
      "Парк искусств «Музеон» / Muzeon Park, 580 users 1.25%\n",
      "Афимолл Сити / Afimall City, 276 users 1.22%\n",
      "Московский государственный юридический университет им. О. Е. Кутафина (МГЮА), 7 users 1.15%\n",
      "moonrise kingdom 🌜, 2 users 1.05%\n",
      "ТЦ «Метрополис», 241 users 1.02%\n",
      "\n",
      "Cluster 17:\n",
      "ЦПКиО им. Горького / Gorky Park, 999 users 4.33%\n",
      "Музей-заповедник «Коломенское», 215 users 3.24%\n",
      "Alex Fitness, 11 users 2.30%\n",
      "Game Insight, 3 users 1.92%\n",
      "Alex Fitness, 10 users 1.43%\n",
      "Парк искусств «Музеон» / Muzeon Park, 580 users 1.41%\n",
      "Музей-заповедник «Царицыно», 177 users 1.23%\n",
      "КПМГ / KPMG, 4 users 1.02%\n",
      "Беговой клуб Nike, 30 users 1.02%\n",
      "Район «Нагатинский Затон», 15 users 1.01%\n",
      "\n",
      "Cluster 18:\n",
      "Фитнес клуб \"Зебра\"/ ZEBRA FITNES and SPA, 8 users 2.17%\n",
      "Минобороны России, 5 users 1.25%\n",
      "Метро Бабушкинская (metro Babushkinskaya), 7 users 1.25%\n",
      "МГИМО, 22 users 1.15%\n",
      "Савеловский вокзал / Savyolovsky Rail Terminal, 35 users 1.09%\n",
      "\n",
      "Cluster 19:\n",
      "ПКиО «Сокольники», 391 users 2.76%\n",
      "Парк Дружбы, 60 users 2.32%\n",
      "ТЦ «Метрополис», 241 users 1.55%\n",
      "Ленинградский вокзал / Leningradsky Railway Terminal, 231 users 1.24%\n",
      "МЕГА Химки / MEGA Mall, 99 users 1.15%\n",
      "Район «Сокольники», 44 users 1.11%\n",
      "\n",
      "Cluster 20:\n",
      "Gold's Gym, 12 users 3.59%\n",
      "ЦПКиО им. Горького / Gorky Park, 999 users 2.92%\n",
      "РГГУ (Российский государственный гуманитарный университет), 31 users 1.64%\n",
      "Tsvetnoy Central Market, 164 users 1.55%\n",
      "Mindshare, 3 users 1.41%\n",
      "Афимолл Сити / Afimall City, 276 users 1.30%\n",
      "Клиника МГМУ им. И.М. Сеченова, 3 users 1.15%\n",
      "Мультимедиа арт-музей / Московский дом фотографии, 87 users 1.15%\n",
      "Парк искусств «Музеон» / Muzeon Park, 580 users 1.11%\n",
      "Пушкинская площадь, 132 users 1.03%\n",
      "\n"
     ]
    }
   ],
   "source": [
    "n_top_venues = 10\n",
    "for i, venues_dist in enumerate(topic_word):\n",
    "    indicies = np.argsort(venues_dist)[::-1]\n",
    "    topic_venues = np.array(venuesVocab)[indicies]\n",
    "    topic_probs = venues_dist[indicies]\n",
    "    #print np.sort(venues_dist)[:-n_top_venues:-1]\n",
    "    print('Cluster {}:'.format(i+1))\n",
    "    for venueId, topicProb in zip(topic_venues, topic_probs):\n",
    "        if topicProb>=0.01:\n",
    "            print(\"{}, {} users {:.2f}%\").format(venueNameFromId(venueId),countUsersAtVenue(venueId),topicProb*100)\n",
    "        else:\n",
    "            break\n",
    "    print ''"
   ]
  },
  {
   "cell_type": "code",
   "execution_count": 66,
   "metadata": {
    "collapsed": false
   },
   "outputs": [],
   "source": [
    "def exportLDAClustersToCSV(venues_clusters, allCheckins):\n",
    "    topVenuesLDA = []\n",
    "    LDAclustersDF = pd.DataFrame()\n",
    "    for clustedId, venues_dist in enumerate(venues_clusters):\n",
    "        indicies = np.argsort(venues_dist)[::-1]\n",
    "        \n",
    "        topic_venues = np.array(venuesVocab)[indicies]\n",
    "        topic_probs = venues_dist[indicies]\n",
    "\n",
    "        topVenuesIds =  [venueId for venueId, topicProb in zip(topic_venues, topic_probs) if topicProb>=0.01]\n",
    "        topVenuesLDA.extend(topVenuesIds)\n",
    "        clusterCheckins = allCheckins[allCheckins.venueId.isin(topVenuesIds)]\n",
    "        clusterCheckins[\"clusterId\"] = clustedId+1\n",
    "        LDAclustersDF = LDAclustersDF.append(clusterCheckins)\n",
    "    print len(topVenuesLDA)\n",
    "    print len(set(topVenuesLDA))\n",
    "    return LDAclustersDF"
   ]
  },
  {
   "cell_type": "code",
   "execution_count": 67,
   "metadata": {
    "collapsed": false
   },
   "outputs": [
    {
     "name": "stdout",
     "output_type": "stream",
     "text": [
      "153\n",
      "125\n"
     ]
    },
    {
     "name": "stderr",
     "output_type": "stream",
     "text": [
      "/usr/local/lib/python2.7/site-packages/IPython/kernel/__main__.py:13: SettingWithCopyWarning: \n",
      "A value is trying to be set on a copy of a slice from a DataFrame.\n",
      "Try using .loc[row_indexer,col_indexer] = value instead\n",
      "\n",
      "See the the caveats in the documentation: http://pandas.pydata.org/pandas-docs/stable/indexing.html#indexing-view-versus-copy\n"
     ]
    }
   ],
   "source": [
    "LDAclustersDF1 = exportLDAClustersToCSV(topic_word, allCheckins)"
   ]
  },
  {
   "cell_type": "code",
   "execution_count": 68,
   "metadata": {
    "collapsed": false
   },
   "outputs": [],
   "source": [
    "LDAclustersDF1.to_csv('data/July/LDAClusteredCheckins14.tsv', sep=\"\\t\", encoding=\"utf-8\")"
   ]
  },
  {
   "cell_type": "code",
   "execution_count": null,
   "metadata": {
    "collapsed": false
   },
   "outputs": [],
   "source": [
    "LDAclusteredUsersDF = pd.DataFrame()\n",
    "for clusterId, clusterLDA in enumerate(clustersLDA):\n",
    "    clusterCheckins = allCheckins[allCheckins.userId.isin(clusterLDA)]\n",
    "    clusterCheckins[\"clusterId\"] = clusterId + 1\n",
    "    LDAclusteredUsersDF = LDAclusteredUsersDF.append(clusterCheckins)\n",
    "    print len(clusterLDA)"
   ]
  },
  {
   "cell_type": "code",
   "execution_count": 88,
   "metadata": {
    "collapsed": true
   },
   "outputs": [],
   "source": [
    "LDAclusteredUsersDF.to_csv('data/July/LDAClusteredUsers.tsv', sep=\"\\t\", encoding=\"utf-8\")"
   ]
  },
  {
   "cell_type": "code",
   "execution_count": 87,
   "metadata": {
    "collapsed": false
   },
   "outputs": [],
   "source": [
    "from datetime import datetime\n",
    "def extractComponents(row):\n",
    "    date = datetime.utcfromtimestamp(row.createdAt+180*60)\n",
    "    hours.append(date.hour)\n",
    "    weekdays.append(date.weekday())\n",
    "    \n",
    "hours = []\n",
    "weekdays = []\n",
    "\n",
    "LDAclusteredUsersDF.apply(extractComponents, axis=1)\n",
    "LDAclusteredUsersDF['hour'] = hours\n",
    "LDAclusteredUsersDF['weekday'] = weekdays"
   ]
  },
  {
   "cell_type": "code",
   "execution_count": 81,
   "metadata": {
    "collapsed": false
   },
   "outputs": [
    {
     "data": {
      "text/plain": [
       "Index([u'categoryId', u'categoryName', u'checkinId', u'checkinsCount',\n",
       "       u'createdAt', u'createdAtDate', u'lat', u'lng', u'name', u'tipCount',\n",
       "       u'userId', u'usersCount', u'venueId', u'clusterId'],\n",
       "      dtype='object')"
      ]
     },
     "execution_count": 81,
     "metadata": {},
     "output_type": "execute_result"
    }
   ],
   "source": [
    "LDAclusteredUsersDF.keys()"
   ]
  },
  {
   "cell_type": "code",
   "execution_count": 79,
   "metadata": {
    "collapsed": false
   },
   "outputs": [
    {
     "name": "stdout",
     "output_type": "stream",
     "text": [
      "6275\n",
      "8053\n",
      "9921\n",
      "10156\n",
      "30774\n",
      "9145\n",
      "7544\n",
      "20819\n",
      "8100\n",
      "11291\n",
      "12421\n",
      "11874\n",
      "9103\n",
      "6278\n",
      "9698\n",
      "10092\n",
      "9087\n",
      "7612\n",
      "8984\n",
      "7868\n"
     ]
    }
   ],
   "source": [
    "for index, group in enumerate(LDAclusteredUsersDF.groupby(\"clusterId\")):\n",
    "        print len(group[1])"
   ]
  },
  {
   "cell_type": "code",
   "execution_count": 73,
   "metadata": {
    "collapsed": false
   },
   "outputs": [
    {
     "name": "stdout",
     "output_type": "stream",
     "text": [
      "43\n",
      "63\n",
      "83\n",
      "82\n",
      "363\n",
      "86\n",
      "56\n",
      "219\n",
      "64\n",
      "92\n",
      "106\n",
      "107\n",
      "60\n",
      "44\n",
      "82\n",
      "84\n",
      "77\n",
      "44\n",
      "61\n",
      "80\n"
     ]
    }
   ],
   "source": [
    "for clusterLDA in clustersLDA:\n",
    "    print len(clusterLDA)"
   ]
  },
  {
   "cell_type": "code",
   "execution_count": 70,
   "metadata": {
    "collapsed": false
   },
   "outputs": [],
   "source": [
    "clustersLDA = [[] for i in range(20)]\n",
    "for index, userTopics in enumerate(model20.ndz_):\n",
    "    clustersLDA[np.argmax(userTopics)].append(userIds[index])"
   ]
  },
  {
   "cell_type": "code",
   "execution_count": 113,
   "metadata": {
    "collapsed": false
   },
   "outputs": [],
   "source": [
    "#Match the clusters by min Jaccard Distance\n",
    "import distance\n",
    "LDAClustersMap = []\n",
    "LDAClustersMapIndexes = []\n",
    "# clustersLDACopy = clustersLDA\n",
    "distancesMatrix = []\n",
    "for clusterK in clusters:\n",
    "    distances = [distance.jaccard(clusterLDA,clusterK) for clusterLDA in clustersLDA]\n",
    "    distancesMatrix.append(distances)\n",
    "    index = np.argmin(distances)\n",
    "    LDAClustersMap.append(clustersLDA[index])\n",
    "#     clustersLDACopy.remove(clustersLDA[index])"
   ]
  },
  {
   "cell_type": "code",
   "execution_count": 156,
   "metadata": {
    "collapsed": true
   },
   "outputs": [],
   "source": [
    "clustersSpectral1 = [[0] if len(cluster) == 0 else cluster for cluster in clusterSpectreal]"
   ]
  },
  {
   "cell_type": "code",
   "execution_count": null,
   "metadata": {
    "collapsed": false
   },
   "outputs": [],
   "source": [
    "distancesMatrixKSpect = []\n",
    "for clusterK in clusters:\n",
    "    distances = [distance.jaccard(clusterSpectreal,clusterK) for clusterSpectreal in clustersSpectral]\n",
    "    distancesMatrixKSpect.append(distances)"
   ]
  },
  {
   "cell_type": "code",
   "execution_count": 114,
   "metadata": {
    "collapsed": false
   },
   "outputs": [
    {
     "name": "stdout",
     "output_type": "stream",
     "text": [
      "0.891365675713\n"
     ]
    }
   ],
   "source": [
    "#Average Jaccard Distance between clusters\n",
    "print np.mean([distance.jaccard(clusterK, LDAClustersMap[index]) for index, clusterK in enumerate(clusters) if len(clusterK)])"
   ]
  },
  {
   "cell_type": "code",
   "execution_count": 124,
   "metadata": {
    "collapsed": false
   },
   "outputs": [
    {
     "name": "stdout",
     "output_type": "stream",
     "text": [
      "0.923955972999\n"
     ]
    }
   ],
   "source": [
    "#Average Jaccard Distance between clusters\n",
    "print np.mean(np.min(distancesMatrix, axis=1))"
   ]
  },
  {
   "cell_type": "code",
   "execution_count": 299,
   "metadata": {
    "collapsed": false
   },
   "outputs": [
    {
     "name": "stdout",
     "output_type": "stream",
     "text": [
      "Cluster 1:\n",
      "Airport, 8.23%\n",
      "Hotel, 5.28%\n",
      "Park, 4.16%\n",
      "Café, 3.24%\n",
      "Restaurant, 2.80%\n",
      "City, 2.75%\n",
      "Mall, 2.70%\n",
      "Coffee Shop, 2.64%\n",
      "Italian Restaurant, 1.99%\n",
      "\n",
      "Cluster 2:\n",
      "Park, 6.61%\n",
      "Café, 4.62%\n",
      "Coffee Shop, 4.17%\n",
      "Airport, 3.67%\n",
      "Mall, 3.58%\n",
      "Hotel, 2.84%\n",
      "Restaurant, 2.43%\n",
      "Italian Restaurant, 2.05%\n",
      "Nightclub, 2.02%\n",
      "\n",
      "Cluster 3:\n",
      "Park, 8.92%\n",
      "Train Station, 3.47%\n",
      "Home (private), 3.37%\n",
      "Coffee Shop, 2.76%\n",
      "Café, 2.70%\n",
      "Concert Hall, 2.58%\n",
      "Mall, 2.20%\n",
      "Art Museum, 2.07%\n",
      "Event Space, 1.79%\n",
      "\n",
      "Cluster 4:\n",
      "Housing Development, 11.51%\n",
      "Building, 8.08%\n",
      "Factory, 7.28%\n",
      "General Entertainment, 6.93%\n",
      "Tech Startup, 4.61%\n",
      "Nightclub, 4.05%\n",
      "Cocktail Bar, 3.76%\n",
      "Gas Station / Garage, 2.88%\n",
      "Café, 2.79%\n",
      "\n",
      "Cluster 5:\n",
      "Home (private), 23.30%\n",
      "College Academic Building, 7.54%\n",
      "Residential Building (Apartment / Condo), 6.79%\n",
      "College Residence Hall, 6.25%\n",
      "University, 6.02%\n",
      "Metro Station, 4.20%\n",
      "Plaza, 3.53%\n",
      "Mall, 3.47%\n",
      "Fast Food Restaurant, 3.17%\n",
      "\n",
      "Cluster 6:\n",
      "Residential Building (Apartment / Condo), 44.91%\n",
      "Park, 5.73%\n",
      "Mall, 3.25%\n",
      "Neighborhood, 2.72%\n",
      "Street, 2.51%\n",
      "Fast Food Restaurant, 1.76%\n",
      "Supermarket, 1.72%\n",
      "Metro Station, 1.62%\n",
      "Plaza, 1.54%\n",
      "\n",
      "Cluster 7:\n",
      "Mall, 19.39%\n",
      "School, 11.27%\n",
      "Park, 9.17%\n",
      "Home (private), 4.17%\n",
      "College Arts Building, 3.84%\n",
      "Neighborhood, 3.73%\n",
      "Middle School, 3.17%\n",
      "Coffee Shop, 3.04%\n",
      "Fast Food Restaurant, 2.41%\n",
      "\n",
      "Cluster 8:\n",
      "Home (private), 53.71%\n",
      "Street, 3.96%\n",
      "Mall, 3.89%\n",
      "Park, 3.15%\n",
      "Metro Station, 2.78%\n",
      "Bus Stop, 2.16%\n",
      "Neighborhood, 1.89%\n",
      "Grocery Store, 1.32%\n",
      "Fast Food Restaurant, 1.19%\n",
      "\n",
      "Cluster 9:\n",
      "University, 34.46%\n",
      "Mall, 9.74%\n",
      "Park, 4.76%\n",
      "Coffee Shop, 3.13%\n",
      "Hookah Bar, 2.77%\n",
      "Multiplex, 2.16%\n",
      "Plaza, 2.06%\n",
      "Home (private), 1.72%\n",
      "Street, 1.56%\n",
      "\n",
      "Cluster 10:\n",
      "Bar, 14.62%\n",
      "Pub, 8.05%\n",
      "Office, 6.67%\n",
      "Advertising Agency, 5.72%\n",
      "Assisted Living, 4.76%\n",
      "Nightclub, 3.94%\n",
      "Cocktail Bar, 3.45%\n",
      "Mall, 3.32%\n",
      "Café, 3.02%\n",
      "\n",
      "Cluster 11:\n",
      "Gym / Fitness Center, 62.54%\n",
      "Mall, 3.26%\n",
      "Salon / Barbershop, 2.80%\n",
      "Airport, 1.61%\n",
      "Park, 1.55%\n",
      "Multiplex, 1.37%\n",
      "Sushi Restaurant, 1.16%\n",
      "\n",
      "Cluster 12:\n",
      "Park, 18.42%\n",
      "Mall, 8.55%\n",
      "Street, 8.42%\n",
      "Coffee Shop, 7.51%\n",
      "Plaza, 4.21%\n",
      "Bridge, 3.41%\n",
      "Lake, 2.35%\n",
      "Pedestrian Plaza, 2.10%\n",
      "Neighborhood, 1.97%\n",
      "\n",
      "Cluster 13:\n",
      "Office, 59.82%\n",
      "Mall, 4.76%\n",
      "Park, 4.34%\n",
      "Train Station, 2.55%\n",
      "Coffee Shop, 2.18%\n",
      "Residential Building (Apartment / Condo), 1.36%\n",
      "Bank, 1.10%\n",
      "Medical Center, 1.06%\n",
      "Platform, 1.04%\n",
      "\n",
      "Cluster 14:\n",
      "Mall, 9.65%\n",
      "Bank, 6.06%\n",
      "Gas Station / Garage, 3.87%\n",
      "Fast Food Restaurant, 3.35%\n",
      "Medical Center, 3.31%\n",
      "Park, 2.78%\n",
      "Office, 2.32%\n",
      "Grocery Store, 2.22%\n",
      "Government Building, 1.99%\n",
      "\n",
      "Cluster 15:\n",
      "City, 28.03%\n",
      "Country, 10.46%\n",
      "Neighborhood, 6.24%\n",
      "Park, 6.24%\n",
      "Street, 3.43%\n",
      "County, 2.96%\n",
      "Mall, 2.41%\n",
      "Plaza, 2.30%\n",
      "Residential Building (Apartment / Condo), 2.05%\n",
      "\n",
      "Cluster 16:\n",
      "Coffee Shop, 13.87%\n",
      "Gym / Fitness Center, 11.62%\n",
      "TV Station, 8.00%\n",
      "Mall, 5.66%\n",
      "Italian Restaurant, 4.72%\n",
      "Multiplex, 3.69%\n",
      "College Auditorium, 2.91%\n",
      "Café, 2.87%\n",
      "Rest Area, 2.63%\n",
      "\n",
      "Cluster 17:\n",
      "Gym, 53.34%\n",
      "Coffee Shop, 5.67%\n",
      "Sushi Restaurant, 2.85%\n",
      "Theater, 2.69%\n",
      "Trade School, 2.61%\n",
      "Bakery, 2.41%\n",
      "Video Game Store, 2.32%\n",
      "Multiplex, 1.84%\n",
      "Public Art, 1.67%\n",
      "\n",
      "Cluster 18:\n",
      "Park, 7.54%\n",
      "Coffee Shop, 7.08%\n",
      "Mall, 7.01%\n",
      "Café, 4.29%\n",
      "Restaurant, 3.80%\n",
      "Nightclub, 2.48%\n",
      "Multiplex, 2.39%\n",
      "Salon / Barbershop, 2.32%\n",
      "Italian Restaurant, 2.16%\n",
      "\n",
      "Cluster 19:\n",
      "Train Station, 11.28%\n",
      "Neighborhood, 9.16%\n",
      "Street, 9.03%\n",
      "Metro Station, 8.14%\n",
      "Park, 5.53%\n",
      "Plaza, 4.02%\n",
      "Platform, 3.76%\n",
      "City, 3.36%\n",
      "Bus Stop, 2.73%\n",
      "\n",
      "Cluster 20:\n",
      "Coworking Space, 24.60%\n",
      "Residential Building (Apartment / Condo), 20.67%\n",
      "Dance Studio, 12.74%\n",
      "Government Building, 8.53%\n",
      "Police Station, 4.05%\n",
      "Park, 2.78%\n",
      "College Academic Building, 2.02%\n",
      "Garden, 1.98%\n",
      "Athletics & Sports, 1.67%\n",
      "\n"
     ]
    }
   ],
   "source": [
    "n_top_venues = 10\n",
    "for i, venues_dist in enumerate(topic_cats):\n",
    "    indicies = np.argsort(venues_dist)[:-n_top_venues:-1]\n",
    "    topic_venues = np.array(categoriesVocab)[indicies]\n",
    "    topic_probs = venues_dist[indicies]\n",
    "    print('Cluster {}:'.format(i+1))\n",
    "    for categoryId, topicProb in zip(topic_venues, topic_probs):\n",
    "        if topicProb>=0.01:\n",
    "            print(\"{}, {:.2f}%\").format(categoryNameFromId(categoryId),topicProb*100)\n",
    "        else:\n",
    "            break\n",
    "    print ''"
   ]
  },
  {
   "cell_type": "code",
   "execution_count": 228,
   "metadata": {
    "collapsed": false
   },
   "outputs": [
    {
     "name": "stdout",
     "output_type": "stream",
     "text": [
      "4\n",
      "140\n"
     ]
    }
   ],
   "source": [
    "print len(set(multiUserCheckins[multiUserCheckins.userId == clusters[10][1]]['venueId'].tolist()).intersection(multiUserCheckins[multiUserCheckins.userId == clusters[10][2]]['venueId'].tolist()))\n",
    "print len(set(multiUserCheckins[multiUserCheckins.userId == clusters[10][1]]['venueId'].tolist()).union(multiUserCheckins[multiUserCheckins.userId == clusters[10][2]]['venueId'].tolist()))"
   ]
  },
  {
   "cell_type": "code",
   "execution_count": 13,
   "metadata": {
    "collapsed": false
   },
   "outputs": [
    {
     "name": "stdout",
     "output_type": "stream",
     "text": [
      "2015-07-10 00:56:53.189411\n",
      "2015-07-10 00:58:12.707836\n",
      "2015-07-10 00:58:14.715938\n",
      "2015-07-10 00:58:16.722812\n"
     ]
    },
    {
     "ename": "KeyboardInterrupt",
     "evalue": "",
     "output_type": "error",
     "traceback": [
      "\u001b[0;31m---------------------------------------------------------------------------\u001b[0m",
      "\u001b[0;31mKeyboardInterrupt\u001b[0m                         Traceback (most recent call last)",
      "\u001b[0;32m<ipython-input-13-bfdad1bb8258>\u001b[0m in \u001b[0;36m<module>\u001b[0;34m()\u001b[0m\n\u001b[1;32m      7\u001b[0m \u001b[0;32mwhile\u001b[0m \u001b[0mTrue\u001b[0m\u001b[0;34m:\u001b[0m\u001b[0;34m\u001b[0m\u001b[0m\n\u001b[1;32m      8\u001b[0m     \u001b[0mschedule\u001b[0m\u001b[0;34m.\u001b[0m\u001b[0mrun_pending\u001b[0m\u001b[0;34m(\u001b[0m\u001b[0;34m)\u001b[0m\u001b[0;34m\u001b[0m\u001b[0m\n\u001b[0;32m----> 9\u001b[0;31m     \u001b[0mtime\u001b[0m\u001b[0;34m.\u001b[0m\u001b[0msleep\u001b[0m\u001b[0;34m(\u001b[0m\u001b[0;36m1\u001b[0m\u001b[0;34m)\u001b[0m\u001b[0;34m\u001b[0m\u001b[0m\n\u001b[0m",
      "\u001b[0;31mKeyboardInterrupt\u001b[0m: "
     ]
    }
   ],
   "source": [
    "import schedule\n",
    "import time\n",
    "\n",
    "schedule.clear()\n",
    "schedule.every(2).seconds.do(saveDate)\n",
    "\n",
    "while True:\n",
    "    schedule.run_pending()\n",
    "    time.sleep(1)"
   ]
  },
  {
   "cell_type": "code",
   "execution_count": 12,
   "metadata": {
    "collapsed": true
   },
   "outputs": [],
   "source": [
    "def saveDate():\n",
    "    global currentDate\n",
    "    print currentDate\n",
    "    currentDate = datetime.now()"
   ]
  },
  {
   "cell_type": "code",
   "execution_count": 6,
   "metadata": {
    "collapsed": false
   },
   "outputs": [],
   "source": [
    "from datetime import datetime\n",
    "currentDate = datetime.now()"
   ]
  },
  {
   "cell_type": "code",
   "execution_count": null,
   "metadata": {
    "collapsed": true
   },
   "outputs": [],
   "source": []
  }
 ],
 "metadata": {
  "kernelspec": {
   "display_name": "Python 2",
   "language": "python",
   "name": "python2"
  },
  "language_info": {
   "codemirror_mode": {
    "name": "ipython",
    "version": 2
   },
   "file_extension": ".py",
   "mimetype": "text/x-python",
   "name": "python",
   "nbconvert_exporter": "python",
   "pygments_lexer": "ipython2",
   "version": "2.7.10"
  }
 },
 "nbformat": 4,
 "nbformat_minor": 0
}
