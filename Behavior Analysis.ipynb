{
 "cells": [
  {
   "cell_type": "code",
   "execution_count": 1,
   "metadata": {
    "collapsed": true
   },
   "outputs": [],
   "source": [
    "import pandas as pd\n",
    "import numpy as np\n",
    "import json\n",
    "import datetime "
   ]
  },
  {
   "cell_type": "code",
   "execution_count": 2,
   "metadata": {
    "collapsed": false
   },
   "outputs": [],
   "source": [
    "sourceCheckins = pd.read_csv('data/July/server/checkins.tsv', sep='\\t')\n",
    "checkins = pd.read_csv('data/July/server/extendedCheckinsHistory.tsv', sep='\\t')\n",
    "checkins1 = pd.read_csv('data/July/server/extendedCheckinsHistoryJune.tsv', sep='\\t')\n",
    "checkpoints = pd.read_csv('data/July/server/checkPoints.tsv', sep='\\t')"
   ]
  },
  {
   "cell_type": "code",
   "execution_count": 13,
   "metadata": {
    "collapsed": false
   },
   "outputs": [
    {
     "data": {
      "text/plain": [
       "647"
      ]
     },
     "execution_count": 13,
     "metadata": {},
     "output_type": "execute_result"
    }
   ],
   "source": [
    "len(np.unique(allCheckins.userId.tolist()))"
   ]
  },
  {
   "cell_type": "code",
   "execution_count": 14,
   "metadata": {
    "collapsed": false
   },
   "outputs": [
    {
     "data": {
      "text/plain": [
       "75690"
      ]
     },
     "execution_count": 14,
     "metadata": {},
     "output_type": "execute_result"
    }
   ],
   "source": [
    "len(allCheckins)"
   ]
  },
  {
   "cell_type": "code",
   "execution_count": 11,
   "metadata": {
    "collapsed": false
   },
   "outputs": [],
   "source": [
    "allCheckins = allCheckins.drop_duplicates(subset = ['checkinId'])"
   ]
  },
  {
   "cell_type": "code",
   "execution_count": 10,
   "metadata": {
    "collapsed": true
   },
   "outputs": [],
   "source": [
    "allCheckins = pd.concat([checkins1, checkins])"
   ]
  },
  {
   "cell_type": "code",
   "execution_count": 3,
   "metadata": {
    "collapsed": true
   },
   "outputs": [],
   "source": [
    "allCheckins = pd.read_csv('data/July/server/currentExtendedCheckinsHistory.tsv', sep='\\t')"
   ]
  },
  {
   "cell_type": "code",
   "execution_count": 12,
   "metadata": {
    "collapsed": true
   },
   "outputs": [],
   "source": [
    "allCheckins.to_csv('data/July/server/currentExtendedCheckinsHistory.tsv', sep='\\t', encoding='utf-8')"
   ]
  },
  {
   "cell_type": "code",
   "execution_count": 11,
   "metadata": {
    "collapsed": false
   },
   "outputs": [],
   "source": [
    "sortedVenues = []\n",
    "sortedVenuesIds = []\n",
    "for venueId, group in allCheckins.groupby('venueId').agg('size').order(ascending = False).iteritems():\n",
    "    sortedVenues.append({'venueId':venueId,\n",
    "                        'group':group})\n",
    "    sortedVenuesIds.append(venueId)"
   ]
  },
  {
   "cell_type": "code",
   "execution_count": 8,
   "metadata": {
    "collapsed": false
   },
   "outputs": [
    {
     "data": {
      "text/html": [
       "<div>\n",
       "<table border=\"1\" class=\"dataframe\">\n",
       "  <thead>\n",
       "    <tr style=\"text-align: right;\">\n",
       "      <th></th>\n",
       "      <th>Unnamed: 0</th>\n",
       "      <th>Unnamed: 0.1</th>\n",
       "      <th>categoryId</th>\n",
       "      <th>categoryName</th>\n",
       "      <th>checkinId</th>\n",
       "      <th>checkinsCount</th>\n",
       "      <th>createdAt</th>\n",
       "      <th>createdAtDate</th>\n",
       "      <th>lat</th>\n",
       "      <th>lng</th>\n",
       "      <th>name</th>\n",
       "      <th>tipCount</th>\n",
       "      <th>userId</th>\n",
       "      <th>usersCount</th>\n",
       "      <th>venueId</th>\n",
       "    </tr>\n",
       "  </thead>\n",
       "  <tbody>\n",
       "    <tr>\n",
       "      <th>0</th>\n",
       "      <td>0</td>\n",
       "      <td>0</td>\n",
       "      <td>4bf58dd8d48988d1fd931735</td>\n",
       "      <td>Metro Station</td>\n",
       "      <td>558ac442498e91c19449d814</td>\n",
       "      <td>14585</td>\n",
       "      <td>1435157570</td>\n",
       "      <td>2015-06-24 17:52:50</td>\n",
       "      <td>55.782920</td>\n",
       "      <td>37.720699</td>\n",
       "      <td>Метро Семёновская (metro Semyonovskaya)</td>\n",
       "      <td>26</td>\n",
       "      <td>74434491</td>\n",
       "      <td>3460</td>\n",
       "      <td>4bed6c2c9868a5933c555d46</td>\n",
       "    </tr>\n",
       "    <tr>\n",
       "      <th>1</th>\n",
       "      <td>1</td>\n",
       "      <td>1</td>\n",
       "      <td>4bf58dd8d48988d1d3941735</td>\n",
       "      <td>Vegetarian / Vegan Restaurant</td>\n",
       "      <td>558ababc498e7aa1a83dfb16</td>\n",
       "      <td>10096</td>\n",
       "      <td>1435155132</td>\n",
       "      <td>2015-06-24 17:12:12</td>\n",
       "      <td>55.758369</td>\n",
       "      <td>37.657153</td>\n",
       "      <td>Джаганнат</td>\n",
       "      <td>222</td>\n",
       "      <td>74434491</td>\n",
       "      <td>4972</td>\n",
       "      <td>4d8f05153bfef04d84a6a586</td>\n",
       "    </tr>\n",
       "  </tbody>\n",
       "</table>\n",
       "</div>"
      ],
      "text/plain": [
       "   Unnamed: 0  Unnamed: 0.1                categoryId  \\\n",
       "0           0             0  4bf58dd8d48988d1fd931735   \n",
       "1           1             1  4bf58dd8d48988d1d3941735   \n",
       "\n",
       "                    categoryName                 checkinId  checkinsCount  \\\n",
       "0                  Metro Station  558ac442498e91c19449d814          14585   \n",
       "1  Vegetarian / Vegan Restaurant  558ababc498e7aa1a83dfb16          10096   \n",
       "\n",
       "    createdAt        createdAtDate        lat        lng  \\\n",
       "0  1435157570  2015-06-24 17:52:50  55.782920  37.720699   \n",
       "1  1435155132  2015-06-24 17:12:12  55.758369  37.657153   \n",
       "\n",
       "                                      name  tipCount    userId  usersCount  \\\n",
       "0  Метро Семёновская (metro Semyonovskaya)        26  74434491        3460   \n",
       "1                                Джаганнат       222  74434491        4972   \n",
       "\n",
       "                    venueId  \n",
       "0  4bed6c2c9868a5933c555d46  \n",
       "1  4d8f05153bfef04d84a6a586  "
      ]
     },
     "execution_count": 8,
     "metadata": {},
     "output_type": "execute_result"
    }
   ],
   "source": [
    "allCheckins[:2]"
   ]
  },
  {
   "cell_type": "code",
   "execution_count": 5,
   "metadata": {
    "collapsed": false
   },
   "outputs": [
    {
     "data": {
      "text/plain": [
       "[{'group': 874, 'venueId': '4bdd5f27f219c9b6bb751210'},\n",
       " {'group': 636, 'venueId': '4bfc9df283bbd13aa4d462c5'},\n",
       " {'group': 375, 'venueId': '4bc090ca920eb7132e14192c'},\n",
       " {'group': 344, 'venueId': '4e4aab0f62e13240b700e034'},\n",
       " {'group': 290, 'venueId': '4b62c18df964a52069512ae3'},\n",
       " {'group': 280, 'venueId': '4bc8760792b376b03767513a'},\n",
       " {'group': 254, 'venueId': '4bb3345942959c74d79d212c'},\n",
       " {'group': 233, 'venueId': '53110e9be4b03443dd848438'},\n",
       " {'group': 226, 'venueId': '4b63406af964a520a36d2ae3'},\n",
       " {'group': 220, 'venueId': '538c981b498e254777d000e8'}]"
      ]
     },
     "execution_count": 5,
     "metadata": {},
     "output_type": "execute_result"
    }
   ],
   "source": [
    "sortedVenues[:10]"
   ]
  },
  {
   "cell_type": "code",
   "execution_count": 7,
   "metadata": {
    "collapsed": false
   },
   "outputs": [
    {
     "data": {
      "text/plain": [
       "3    ЦПКиО им. Горького / Gorky Park\n",
       "Name: name, dtype: object"
      ]
     },
     "execution_count": 7,
     "metadata": {},
     "output_type": "execute_result"
    }
   ],
   "source": [
    "allCheckins[allCheckins.venueId == '4bdd5f27f219c9b6bb751210'][:1]['name']"
   ]
  },
  {
   "cell_type": "code",
   "execution_count": 115,
   "metadata": {
    "collapsed": true
   },
   "outputs": [],
   "source": [
    "#'World Class Lite in top ten!, 520f117111d2a782f1211c3b'"
   ]
  },
  {
   "cell_type": "code",
   "execution_count": 15,
   "metadata": {
    "collapsed": false
   },
   "outputs": [],
   "source": [
    "groupedUsers = allCheckins.groupby('userId')\n",
    "userVenues = []\n",
    "for index, group in enumerate(groupedUsers):\n",
    "        userVenues.append(group[1]['venueId'].tolist())"
   ]
  },
  {
   "cell_type": "code",
   "execution_count": 16,
   "metadata": {
    "collapsed": false
   },
   "outputs": [
    {
     "data": {
      "text/plain": [
       "647"
      ]
     },
     "execution_count": 16,
     "metadata": {},
     "output_type": "execute_result"
    }
   ],
   "source": [
    "len(groupedUsers)"
   ]
  },
  {
   "cell_type": "code",
   "execution_count": 122,
   "metadata": {
    "collapsed": false
   },
   "outputs": [],
   "source": [
    "top50VenuesCheckins = allCheckins[allCheckins.venueId.isin(sortedVenuesIds[:50])]"
   ]
  },
  {
   "cell_type": "code",
   "execution_count": 127,
   "metadata": {
    "collapsed": false
   },
   "outputs": [
    {
     "name": "stdout",
     "output_type": "stream",
     "text": [
      "3    ЦПКиО им. Горького / Gorky Park\n",
      "Name: name, dtype: object\n",
      "485    Москва / Moscow\n",
      "Name: name, dtype: object\n",
      "348    Парк искусств «Музеон» / Muzeon Park\n",
      "Name: name, dtype: object\n",
      "639    ВДНХ (Выставка достижений народного хозяйства)\n",
      "Name: name, dtype: object\n",
      "187    ПКиО «Сокольники»\n",
      "Name: name, dtype: object\n",
      "1127    Международный аэропорт Домодедово / Domodedovo...\n",
      "Name: name, dtype: object\n",
      "317    ТРЦ «Европейский»\n",
      "Name: name, dtype: object\n",
      "807    Красная площадь / Red Square\n",
      "Name: name, dtype: object\n",
      "935    World Class Lite\n",
      "Name: name, dtype: object\n",
      "1094    Россия / Russia\n",
      "Name: name, dtype: object\n",
      "2    ТРК «Атриум» / Atrium Mall\n",
      "Name: name, dtype: object\n",
      "1335    Арбат / Arbat Street\n",
      "Name: name, dtype: object\n",
      "944    Музей-заповедник «Коломенское»\n",
      "Name: name, dtype: object\n",
      "630    Афимолл Сити / Afimall City\n",
      "Name: name, dtype: object\n",
      "901    Физика\n",
      "Name: name, dtype: object\n",
      "333    Нескучный сад\n",
      "Name: name, dtype: object\n",
      "687    Центральный детский магазин\n",
      "Name: name, dtype: object\n",
      "252    ТЦ «Метрополис»\n",
      "Name: name, dtype: object\n",
      "914    Планета Фитнес\n",
      "Name: name, dtype: object\n",
      "1820    Международный аэропорт Внуково / Vnukovo Inter...\n",
      "Name: name, dtype: object\n",
      "4735    Международный аэропорт Шереметьево / Sheremety...\n",
      "Name: name, dtype: object\n",
      "20    Ленинградский вокзал / Leningradsky Railway Te...\n",
      "Name: name, dtype: object\n",
      "515    Ярославский вокзал\n",
      "Name: name, dtype: object\n",
      "35498    sweet home ❤️🏡\n",
      "Name: name, dtype: object\n",
      "141    ПКиО «Измайловский»\n",
      "Name: name, dtype: object\n",
      "332    Воробьёвская набережная\n",
      "Name: name, dtype: object\n",
      "347    ГУМ / GUM\n",
      "Name: name, dtype: object\n",
      "925    FitFashion\n",
      "Name: name, dtype: object\n",
      "806    ТЦ «Охотный ряд»\n",
      "Name: name, dtype: object\n",
      "1737    ПКиО «Красная Пресня»\n",
      "Name: name, dtype: object\n",
      "20093    3-ий новоподмосковный переулок дом 3 корпус 3\n",
      "Name: name, dtype: object\n",
      "5415    Дома✌️\n",
      "Name: name, dtype: object\n",
      "898    СОК «Чайка»\n",
      "Name: name, dtype: object\n",
      "1824    Новая Лига\n",
      "Name: name, dtype: object\n",
      "910    Фитнес клуб \"Зебра\"/ ZEBRA FITNES and SPA\n",
      "Name: name, dtype: object\n",
      "6218    просп. Мира, 182\n",
      "Name: name, dtype: object\n",
      "1088    Пушкинская площадь\n",
      "Name: name, dtype: object\n",
      "17097    .Lis'ya Nora.\n",
      "Name: name, dtype: object\n",
      "1606    Парк Победы (Поклонная гора) / Victory Park\n",
      "Name: name, dtype: object\n",
      "613    Tsvetnoy Central Market\n",
      "Name: name, dtype: object\n",
      "11777    Братьев Кашириных, 107\n",
      "Name: name, dtype: object\n",
      "25739    Яндекс / Yandex HQ\n",
      "Name: name, dtype: object\n",
      "1771    Александровский сад / Alexander Garden\n",
      "Name: name, dtype: object\n",
      "908    Фитнес-мания\n",
      "Name: name, dtype: object\n",
      "19483    Shandins House\n",
      "Name: name, dtype: object\n",
      "38364    Volga\n",
      "Name: name, dtype: object\n",
      "29031    VIC's Luxury Resort\n",
      "Name: name, dtype: object\n",
      "303    Патриаршие пруды / Patriarshiye Ponds\n",
      "Name: name, dtype: object\n",
      "655    МЕГА Химки / MEGA Mall\n",
      "Name: name, dtype: object\n",
      "933    MANXЭТТЕН\n",
      "Name: name, dtype: object\n"
     ]
    }
   ],
   "source": [
    "for venueId in sortedVenuesIds[:50]:\n",
    "    print top50VenuesCheckins[top50VenuesCheckins.venueId == venueId][:1]['name']"
   ]
  },
  {
   "cell_type": "code",
   "execution_count": 12,
   "metadata": {
    "collapsed": false
   },
   "outputs": [
    {
     "ename": "ImportError",
     "evalue": "No module named pymining",
     "output_type": "error",
     "traceback": [
      "\u001b[0;31m---------------------------------------------------------------------------\u001b[0m",
      "\u001b[0;31mImportError\u001b[0m                               Traceback (most recent call last)",
      "\u001b[0;32m<ipython-input-12-ae3c51af3539>\u001b[0m in \u001b[0;36m<module>\u001b[0;34m()\u001b[0m\n\u001b[0;32m----> 1\u001b[0;31m \u001b[0;32mfrom\u001b[0m \u001b[0mpymining\u001b[0m \u001b[0;32mimport\u001b[0m \u001b[0mitemmining\u001b[0m\u001b[0;34m\u001b[0m\u001b[0m\n\u001b[0m\u001b[1;32m      2\u001b[0m \u001b[0mrelim_input\u001b[0m \u001b[0;34m=\u001b[0m \u001b[0mitemmining\u001b[0m\u001b[0;34m.\u001b[0m\u001b[0mget_relim_input\u001b[0m\u001b[0;34m(\u001b[0m\u001b[0muserVenues\u001b[0m\u001b[0;34m)\u001b[0m\u001b[0;34m\u001b[0m\u001b[0m\n\u001b[1;32m      3\u001b[0m \u001b[0mreport\u001b[0m \u001b[0;34m=\u001b[0m \u001b[0mitemmining\u001b[0m\u001b[0;34m.\u001b[0m\u001b[0mrelim\u001b[0m\u001b[0;34m(\u001b[0m\u001b[0mrelim_input\u001b[0m\u001b[0;34m,\u001b[0m \u001b[0mmin_support\u001b[0m\u001b[0;34m=\u001b[0m\u001b[0;36m2\u001b[0m\u001b[0;34m)\u001b[0m\u001b[0;34m\u001b[0m\u001b[0m\n\u001b[1;32m      4\u001b[0m \u001b[0mreport\u001b[0m\u001b[0;34m\u001b[0m\u001b[0m\n",
      "\u001b[0;31mImportError\u001b[0m: No module named pymining"
     ]
    }
   ],
   "source": [
    "from pymining import itemmining\n",
    "relim_input = itemmining.get_relim_input(userVenues)\n",
    "report = itemmining.relim(relim_input, min_support=2)\n",
    "report"
   ]
  },
  {
   "cell_type": "code",
   "execution_count": 13,
   "metadata": {
    "collapsed": true
   },
   "outputs": [],
   "source": [
    "def load_dataset():\n",
    "    \"Load the sample dataset.\"\n",
    "    return userVenues\n",
    " \n",
    " \n",
    "def createC1(dataset):\n",
    "    \"Create a list of candidate item sets of size one.\"\n",
    "    c1 = []\n",
    "    for transaction in dataset:\n",
    "        for item in transaction:\n",
    "            if not [item] in c1:\n",
    "                c1.append([item])\n",
    "    c1.sort()\n",
    "    #frozenset because it will be a ket of a dictionary.\n",
    "    return map(frozenset, c1)\n",
    " \n",
    " \n",
    "def scanD(dataset, candidates, min_support):\n",
    "    \"Returns all candidates that meets a minimum support level\"\n",
    "    sscnt = {}\n",
    "    for tid in dataset:\n",
    "        for can in candidates:\n",
    "            if can.issubset(tid):\n",
    "                sscnt.setdefault(can, 0)\n",
    "                sscnt[can] += 1\n",
    " \n",
    "    num_items = float(len(dataset))\n",
    "    retlist = []\n",
    "    support_data = {}\n",
    "    for key in sscnt:\n",
    "        support = sscnt[key] / num_items\n",
    "        if support >= min_support:\n",
    "            retlist.insert(0, key)\n",
    "        support_data[key] = support\n",
    "    return retlist, support_data\n",
    " \n",
    " \n",
    "def aprioriGen(freq_sets, k):\n",
    "    \"Generate the joint transactions from candidate sets\"\n",
    "    retList = []\n",
    "    lenLk = len(freq_sets)\n",
    "    for i in range(lenLk):\n",
    "        for j in range(i + 1, lenLk):\n",
    "            L1 = list(freq_sets[i])[:k - 2]\n",
    "            L2 = list(freq_sets[j])[:k - 2]\n",
    "            L1.sort()\n",
    "            L2.sort()\n",
    "            if L1 == L2:\n",
    "                retList.append(freq_sets[i] | freq_sets[j])\n",
    "    return retList\n",
    " \n",
    " \n",
    "def apriori(dataset, minsupport=0.5):\n",
    "    \"Generate a list of candidate item sets\"\n",
    "    C1 = createC1(dataset)\n",
    "    D = map(set, dataset)\n",
    "    L1, support_data = scanD(D, C1, minsupport)\n",
    "    L = [L1]\n",
    "    k = 2\n",
    "    while (len(L[k - 2]) > 0):\n",
    "        Ck = aprioriGen(L[k - 2], k)\n",
    "        Lk, supK = scanD(D, Ck, minsupport)\n",
    "        support_data.update(supK)\n",
    "        L.append(Lk)\n",
    "        k += 1\n",
    " \n",
    "    return L, support_data"
   ]
  },
  {
   "cell_type": "code",
   "execution_count": 16,
   "metadata": {
    "collapsed": false
   },
   "outputs": [],
   "source": [
    "C1 = createC1(userVenues)"
   ]
  },
  {
   "cell_type": "code",
   "execution_count": 22,
   "metadata": {
    "collapsed": true
   },
   "outputs": [],
   "source": [
    "D = map(set, userVenues)"
   ]
  },
  {
   "cell_type": "code",
   "execution_count": 42,
   "metadata": {
    "collapsed": false
   },
   "outputs": [],
   "source": [
    "L1, support_data = scanD(D, C1, 0.01)"
   ]
  },
  {
   "cell_type": "code",
   "execution_count": 56,
   "metadata": {
    "collapsed": true
   },
   "outputs": [],
   "source": [
    "L, supportData = apriori(userVenues, minsupport=0.01)"
   ]
  },
  {
   "cell_type": "code",
   "execution_count": 27,
   "metadata": {
    "collapsed": false
   },
   "outputs": [
    {
     "name": "stdout",
     "output_type": "stream",
     "text": [
      "frozenset(['526a9b4211d2be10cc62d215'])\n",
      "frozenset(['4fca7a60e4b0d8a39128edcb'])\n"
     ]
    }
   ],
   "source": [
    "frequentVenues = []\n",
    "for itemset, support in zip(L, supportData):\n",
    "    if len(itemset)>5:\n",
    "        print support\n",
    "        frequentVenueSet = []\n",
    "        for item in itemset:\n",
    "            frequentVenueSet.append(next(enumerate(item))[1])\n",
    "        frequentVenues.append(frequentVenueSet)"
   ]
  },
  {
   "cell_type": "code",
   "execution_count": 40,
   "metadata": {
    "collapsed": false
   },
   "outputs": [
    {
     "data": {
      "text/plain": [
       "1.0000000000027"
      ]
     },
     "execution_count": 40,
     "metadata": {},
     "output_type": "execute_result"
    }
   ],
   "source": [
    "len(userVenues)*0.0015455950541"
   ]
  },
  {
   "cell_type": "code",
   "execution_count": 24,
   "metadata": {
    "collapsed": false
   },
   "outputs": [
    {
     "name": "stdout",
     "output_type": "stream",
     "text": [
      "630    Афимолл Сити / Afimall City\n",
      "Name: name, dtype: object\n",
      "3    ЦПКиО им. Горького / Gorky Park\n",
      "Name: name, dtype: object\n",
      "806    ТЦ «Охотный ряд»\n",
      "Name: name, dtype: object\n",
      "4735    Международный аэропорт Шереметьево / Sheremety...\n",
      "Name: name, dtype: object\n",
      "1335    Арбат / Arbat Street\n",
      "Name: name, dtype: object\n",
      "303    Патриаршие пруды / Patriarshiye Ponds\n",
      "Name: name, dtype: object\n",
      "20    Ленинградский вокзал / Leningradsky Railway Te...\n",
      "Name: name, dtype: object\n",
      "944    Музей-заповедник «Коломенское»\n",
      "Name: name, dtype: object\n",
      "317    ТРЦ «Европейский»\n",
      "Name: name, dtype: object\n",
      "1606    Парк Победы (Поклонная гора) / Victory Park\n",
      "Name: name, dtype: object\n",
      "1094    Россия / Russia\n",
      "Name: name, dtype: object\n",
      "2    ТРК «Атриум» / Atrium Mall\n",
      "Name: name, dtype: object\n",
      "1771    Александровский сад / Alexander Garden\n",
      "Name: name, dtype: object\n",
      "1127    Международный аэропорт Домодедово / Domodedovo...\n",
      "Name: name, dtype: object\n",
      "1820    Международный аэропорт Внуково / Vnukovo Inter...\n",
      "Name: name, dtype: object\n",
      "252    ТЦ «Метрополис»\n",
      "Name: name, dtype: object\n",
      "485    Москва / Moscow\n",
      "Name: name, dtype: object\n",
      "639    ВДНХ (Выставка достижений народного хозяйства)\n",
      "Name: name, dtype: object\n",
      "807    Красная площадь / Red Square\n",
      "Name: name, dtype: object\n",
      "347    ГУМ / GUM\n",
      "Name: name, dtype: object\n",
      "187    ПКиО «Сокольники»\n",
      "Name: name, dtype: object\n",
      "348    Парк искусств «Музеон» / Muzeon Park\n",
      "Name: name, dtype: object\n",
      "687    Центральный детский магазин\n",
      "Name: name, dtype: object\n"
     ]
    }
   ],
   "source": [
    "for venueId in frequentVenues[0]:\n",
    "    print allCheckins[allCheckins.venueId == venueId][:1]['name']"
   ]
  },
  {
   "cell_type": "code",
   "execution_count": 94,
   "metadata": {
    "collapsed": false
   },
   "outputs": [
    {
     "data": {
      "text/plain": [
       "[['4d7b42a3f260a093113124ba',\n",
       "  '4bdd5f27f219c9b6bb751210',\n",
       "  '4be82d4488ed2d7fde85cb1d',\n",
       "  '4b4d5b48f964a52055d126e3',\n",
       "  '4bc09d91461576b055617a32',\n",
       "  '4bb41c28f187a593f1e913f8',\n",
       "  '4bc4f2f80191c9b6c7e0eab1',\n",
       "  '4b827a36f964a52098d430e3',\n",
       "  '4b63406af964a520a36d2ae3',\n",
       "  '4bdc9716afe8c9b689235085',\n",
       "  '53110e9be4b03443dd848438',\n",
       "  '4b5086ccf964a520212627e3',\n",
       "  '4bf7fa734a67c928e27624cf',\n",
       "  '4b62c18df964a52069512ae3',\n",
       "  '4b7563d3f964a520d8092ee3',\n",
       "  '4b645287f964a52095aa2ae3',\n",
       "  '4bfc9df283bbd13aa4d462c5',\n",
       "  '4e4aab0f62e13240b700e034',\n",
       "  '4bb3345942959c74d79d212c',\n",
       "  '4b76c7bdf964a520a85e2ee3',\n",
       "  '4bc8760792b376b03767513a',\n",
       "  '4bc090ca920eb7132e14192c',\n",
       "  '4e0776da1f6e2110338d2afc'],\n",
       " ['4bdd5f27f219c9b6bb751210',\n",
       "  '4bdd5f27f219c9b6bb751210',\n",
       "  '4bc090ca920eb7132e14192c',\n",
       "  '4bdd5f27f219c9b6bb751210',\n",
       "  '4bdd5f27f219c9b6bb751210',\n",
       "  '4bdd5f27f219c9b6bb751210',\n",
       "  '4bfc9df283bbd13aa4d462c5',\n",
       "  '4bb3345942959c74d79d212c',\n",
       "  '4bc090ca920eb7132e14192c',\n",
       "  '4bdd5f27f219c9b6bb751210',\n",
       "  '4bdd5f27f219c9b6bb751210',\n",
       "  '4bdd5f27f219c9b6bb751210',\n",
       "  '4bdd5f27f219c9b6bb751210']]"
      ]
     },
     "execution_count": 94,
     "metadata": {},
     "output_type": "execute_result"
    }
   ],
   "source": [
    "frequentVenues"
   ]
  },
  {
   "cell_type": "code",
   "execution_count": 45,
   "metadata": {
    "collapsed": false
   },
   "outputs": [
    {
     "ename": "KeyError",
     "evalue": "frozenset(['4bfc9df283bbd13aa4d462c5', '4bdd5f27f219c9b6bb751210', '4bb3345942959c74d79d212c', '4bc090ca920eb7132e14192c'])",
     "output_type": "error",
     "traceback": [
      "\u001b[0;31m---------------------------------------------------------------------------\u001b[0m",
      "\u001b[0;31mKeyError\u001b[0m                                  Traceback (most recent call last)",
      "\u001b[0;32m<ipython-input-45-3efa80a13e5b>\u001b[0m in \u001b[0;36m<module>\u001b[0;34m()\u001b[0m\n\u001b[0;32m----> 1\u001b[0;31m \u001b[0msupportData\u001b[0m\u001b[0;34m[\u001b[0m\u001b[0mfrozenset\u001b[0m\u001b[0;34m(\u001b[0m\u001b[0mfrequentVenues\u001b[0m\u001b[0;34m[\u001b[0m\u001b[0;36m1\u001b[0m\u001b[0;34m]\u001b[0m\u001b[0;34m)\u001b[0m\u001b[0;34m]\u001b[0m\u001b[0;34m\u001b[0m\u001b[0m\n\u001b[0m",
      "\u001b[0;31mKeyError\u001b[0m: frozenset(['4bfc9df283bbd13aa4d462c5', '4bdd5f27f219c9b6bb751210', '4bb3345942959c74d79d212c', '4bc090ca920eb7132e14192c'])"
     ]
    }
   ],
   "source": [
    "supportData[frozenset(frequentVenues[1])]"
   ]
  },
  {
   "cell_type": "code",
   "execution_count": 57,
   "metadata": {
    "collapsed": false
   },
   "outputs": [],
   "source": [
    "def generateRules(L, support_data, min_confidence=0.7):\n",
    "    \"\"\"Create the association rules\n",
    "    L: list of frequent item sets\n",
    "    support_data: support data for those itemsets\n",
    "    min_confidence: minimum confidence threshold\n",
    "    \"\"\"\n",
    "    rules = []\n",
    "    for i in range(1, len(L)):\n",
    "        for freqSet in L[i]:\n",
    "            H1 = [frozenset([item]) for item in freqSet]\n",
    "            #print \"freqSet\", freqSet, 'H1', H1\n",
    "            if (i > 1):\n",
    "                rules_from_conseq(freqSet, H1, support_data, rules, min_confidence)\n",
    "            else:\n",
    "                calc_confidence(freqSet, H1, support_data, rules, min_confidence)\n",
    "    return rules\n",
    " \n",
    " \n",
    "def calc_confidence(freqSet, H, support_data, rules, min_confidence=0.7):\n",
    "    \"Evaluate the rule generated\"\n",
    "    pruned_H = []\n",
    "    for conseq in H:\n",
    "        conf = support_data[freqSet] / support_data[freqSet - conseq]\n",
    "        if conf >= min_confidence:\n",
    "            print freqSet - conseq, '--->', conseq, 'conf:', conf\n",
    "            rules.append((freqSet - conseq, conseq, conf))\n",
    "            pruned_H.append(conseq)\n",
    "    return pruned_H\n",
    " \n",
    " \n",
    "def rules_from_conseq(freqSet, H, support_data, rules, min_confidence=0.7):\n",
    "    \"Generate a set of candidate rules\"\n",
    "    m = len(H[0])\n",
    "    if (len(freqSet) > (m + 1)):\n",
    "        Hmp1 = aprioriGen(H, m + 1)\n",
    "        Hmp1 = calc_confidence(freqSet, Hmp1,  support_data, rules, min_confidence)\n",
    "        if len(Hmp1) > 1:\n",
    "            rules_from_conseq(freqSet, Hmp1, support_data, rules, min_confidence)"
   ]
  },
  {
   "cell_type": "code",
   "execution_count": null,
   "metadata": {
    "collapsed": false
   },
   "outputs": [],
   "source": [
    "rules = generateRules(L, supportData, min_confidence=0.8)"
   ]
  },
  {
   "cell_type": "code",
   "execution_count": 98,
   "metadata": {
    "collapsed": false
   },
   "outputs": [],
   "source": [
    "venuesDict = {}\n",
    "def venueNameFromId(venueId):\n",
    "    if venueId not in venuesDict.keys():\n",
    "        venuesDict[venueId] = allCheckins[allCheckins.venueId == venueId].iloc[0]['name']\n",
    "    return venuesDict[venueId]"
   ]
  },
  {
   "cell_type": "code",
   "execution_count": 108,
   "metadata": {
    "collapsed": false
   },
   "outputs": [
    {
     "name": "stdout",
     "output_type": "stream",
     "text": [
      "ТРК «Атриум» / Atrium Mall\n",
      "Дворцовая площадь / Palace Square\n",
      "--->\n",
      "Ленинградский вокзал / Leningradsky Railway Terminal\n",
      "Московский вокзал / Moskovsky Railway Station\n",
      "conf: 0.888888888889\n",
      "\n",
      "ТРЦ «Галерея» / Galeria Shopping Mall\n",
      "ВДНХ (Выставка достижений народного хозяйства)\n",
      "--->\n",
      "Ленинградский вокзал / Leningradsky Railway Terminal\n",
      "Московский вокзал / Moskovsky Railway Station\n",
      "conf: 0.846153846154\n",
      "\n",
      "Парк искусств «Музеон» / Muzeon Park\n",
      "ТРЦ «Галерея» / Galeria Shopping Mall\n",
      "--->\n",
      "ЦПКиО им. Горького / Gorky Park\n",
      "Ленинградский вокзал / Leningradsky Railway Terminal\n",
      "conf: 0.818181818182\n",
      "\n",
      "Невский проспект / Nevsky Prospect\n",
      "ВДНХ (Выставка достижений народного хозяйства)\n",
      "--->\n",
      "ЦПКиО им. Горького / Gorky Park\n",
      "Дворцовая площадь / Palace Square\n",
      "conf: 1.0\n",
      "\n",
      "Ленинградский вокзал / Leningradsky Railway Terminal\n",
      "Невский проспект / Nevsky Prospect\n",
      "--->\n",
      "Дворцовая площадь / Palace Square\n",
      "Московский вокзал / Moskovsky Railway Station\n",
      "conf: 1.0\n",
      "\n",
      "Невский проспект / Nevsky Prospect\n",
      "Московский вокзал / Moskovsky Railway Station\n",
      "--->\n",
      "Ленинградский вокзал / Leningradsky Railway Terminal\n",
      "Дворцовая площадь / Palace Square\n",
      "conf: 1.0\n",
      "\n",
      "ТРЦ «Галерея» / Galeria Shopping Mall\n",
      "Дворцовая площадь / Palace Square\n",
      "--->\n",
      "Ленинградский вокзал / Leningradsky Railway Terminal\n",
      "Московский вокзал / Moskovsky Railway Station\n",
      "conf: 0.888888888889\n",
      "\n",
      "Центральный детский магазин\n",
      "Дворцовая площадь / Palace Square\n",
      "--->\n",
      "Ленинградский вокзал / Leningradsky Railway Terminal\n",
      "Московский вокзал / Moskovsky Railway Station\n",
      "conf: 0.818181818182\n",
      "\n",
      "Центральный детский магазин\n",
      "Московский вокзал / Moskovsky Railway Station\n",
      "--->\n",
      "Ленинградский вокзал / Leningradsky Railway Terminal\n",
      "Дворцовая площадь / Palace Square\n",
      "conf: 0.9\n",
      "\n",
      "Красная площадь / Red Square\n",
      "Московский вокзал / Moskovsky Railway Station\n",
      "--->\n",
      "ЦПКиО им. Горького / Gorky Park\n",
      "Ленинградский вокзал / Leningradsky Railway Terminal\n",
      "conf: 0.857142857143\n",
      "\n",
      "Дворцовая площадь / Palace Square\n",
      "Афимолл Сити / Afimall City\n",
      "--->\n",
      "Ленинградский вокзал / Leningradsky Railway Terminal\n",
      "Московский вокзал / Moskovsky Railway Station\n",
      "conf: 1.0\n",
      "\n",
      "ТЦ «Охотный ряд»\n",
      "Московский вокзал / Moskovsky Railway Station\n",
      "--->\n",
      "ЦПКиО им. Горького / Gorky Park\n",
      "Ленинградский вокзал / Leningradsky Railway Terminal\n",
      "conf: 0.833333333333\n",
      "\n",
      "Невский проспект / Nevsky Prospect\n",
      "ТРЦ «Галерея» / Galeria Shopping Mall\n",
      "--->\n",
      "ЦПКиО им. Горького / Gorky Park\n",
      "Дворцовая площадь / Palace Square\n",
      "conf: 0.875\n",
      "\n",
      "Невский проспект / Nevsky Prospect\n",
      "Ленинградский вокзал / Leningradsky Railway Terminal\n",
      "--->\n",
      "ЦПКиО им. Горького / Gorky Park\n",
      "Дворцовая площадь / Palace Square\n",
      "conf: 1.0\n",
      "\n",
      "Государственный Эрмитаж / Hermitage Museum\n",
      "Ленинградский вокзал / Leningradsky Railway Terminal\n",
      "--->\n",
      "ЦПКиО им. Горького / Gorky Park\n",
      "Московский вокзал / Moskovsky Railway Station\n",
      "conf: 1.0\n",
      "\n",
      "Государственный Эрмитаж / Hermitage Museum\n",
      "Московский вокзал / Moskovsky Railway Station\n",
      "--->\n",
      "ЦПКиО им. Горького / Gorky Park\n",
      "Ленинградский вокзал / Leningradsky Railway Terminal\n",
      "conf: 1.0\n",
      "\n",
      "Летний сад / Summer Garden\n",
      "Арбат / Arbat Street\n",
      "--->\n",
      "ЦПКиО им. Горького / Gorky Park\n",
      "Ленинградский вокзал / Leningradsky Railway Terminal\n",
      "conf: 0.875\n",
      "\n",
      "Колоннада Исаакиевского собора\n",
      "Дворцовая площадь / Palace Square\n",
      "--->\n",
      "Ленинградский вокзал / Leningradsky Railway Terminal\n",
      "Московский вокзал / Moskovsky Railway Station\n",
      "conf: 1.0\n",
      "\n",
      "Колоннада Исаакиевского собора\n",
      "Ленинградский вокзал / Leningradsky Railway Terminal\n",
      "--->\n",
      "Дворцовая площадь / Palace Square\n",
      "Московский вокзал / Moskovsky Railway Station\n",
      "conf: 1.0\n",
      "\n",
      "Колоннада Исаакиевского собора\n",
      "Московский вокзал / Moskovsky Railway Station\n",
      "--->\n",
      "Ленинградский вокзал / Leningradsky Railway Terminal\n",
      "Дворцовая площадь / Palace Square\n",
      "conf: 1.0\n",
      "\n",
      "Ленинградский вокзал / Leningradsky Railway Terminal\n",
      "Невский проспект / Nevsky Prospect\n",
      "--->\n",
      "ЦПКиО им. Горького / Gorky Park\n",
      "Московский вокзал / Moskovsky Railway Station\n",
      "conf: 1.0\n",
      "\n",
      "Невский проспект / Nevsky Prospect\n",
      "Московский вокзал / Moskovsky Railway Station\n",
      "--->\n",
      "ЦПКиО им. Горького / Gorky Park\n",
      "Ленинградский вокзал / Leningradsky Railway Terminal\n",
      "conf: 1.0\n",
      "\n",
      "Невский проспект / Nevsky Prospect\n",
      "Московский вокзал / Moskovsky Railway Station\n",
      "--->\n",
      "ЦПКиО им. Горького / Gorky Park\n",
      "Дворцовая площадь / Palace Square\n",
      "conf: 1.0\n",
      "\n",
      "ТЦ «Охотный ряд»\n",
      "Дворцовая площадь / Palace Square\n",
      "--->\n",
      "Ленинградский вокзал / Leningradsky Railway Terminal\n",
      "Московский вокзал / Moskovsky Railway Station\n",
      "conf: 1.0\n",
      "\n",
      "Центральный детский магазин\n",
      "Улица Кузнецкий Мост\n",
      "Парк искусств «Музеон» / Muzeon Park\n",
      "--->\n",
      "ЦПКиО им. Горького / Gorky Park\n",
      "Никольская улица\n",
      "conf: 0.875\n",
      "\n",
      "Центральный детский магазин\n",
      "Улица Кузнецкий Мост\n",
      "ЦПКиО им. Горького / Gorky Park\n",
      "--->\n",
      "Парк искусств «Музеон» / Muzeon Park\n",
      "Никольская улица\n",
      "conf: 0.875\n",
      "\n",
      "Ленинградский вокзал / Leningradsky Railway Terminal\n",
      "ТРЦ «Галерея» / Galeria Shopping Mall\n",
      "Дворцовая площадь / Palace Square\n",
      "--->\n",
      "ЦПКиО им. Горького / Gorky Park\n",
      "Московский вокзал / Moskovsky Railway Station\n",
      "conf: 0.875\n",
      "\n",
      "ЦПКиО им. Горького / Gorky Park\n",
      "ТРЦ «Галерея» / Galeria Shopping Mall\n",
      "Дворцовая площадь / Palace Square\n",
      "--->\n",
      "Ленинградский вокзал / Leningradsky Railway Terminal\n",
      "Московский вокзал / Moskovsky Railway Station\n",
      "conf: 0.875\n",
      "\n",
      "ТРЦ «Галерея» / Galeria Shopping Mall\n",
      "Дворцовая площадь / Palace Square\n",
      "Московский вокзал / Moskovsky Railway Station\n",
      "--->\n",
      "ЦПКиО им. Горького / Gorky Park\n",
      "Ленинградский вокзал / Leningradsky Railway Terminal\n",
      "conf: 0.875\n",
      "\n",
      "Центральный детский магазин\n",
      "Улица Кузнецкий Мост\n",
      "Парк искусств «Музеон» / Muzeon Park\n",
      "--->\n",
      "ТРЦ «Европейский»\n",
      "Никольская улица\n",
      "conf: 0.875\n",
      "\n",
      "Улица Кузнецкий Мост\n",
      "Центральный детский магазин\n",
      "ТРЦ «Европейский»\n",
      "--->\n",
      "Парк искусств «Музеон» / Muzeon Park\n",
      "Никольская улица\n",
      "conf: 0.875\n",
      "\n",
      "Центральный детский магазин\n",
      "ТРЦ «Европейский»\n",
      "Никольская улица\n",
      "--->\n",
      "Парк искусств «Музеон» / Muzeon Park\n",
      "Улица Кузнецкий Мост\n",
      "conf: 0.875\n",
      "\n",
      "Центральный детский магазин\n",
      "ЦПКиО им. Горького / Gorky Park\n",
      "Московский вокзал / Moskovsky Railway Station\n",
      "--->\n",
      "Ленинградский вокзал / Leningradsky Railway Terminal\n",
      "Дворцовая площадь / Palace Square\n",
      "conf: 0.875\n",
      "\n",
      "Афимолл Сити / Afimall City\n",
      "ВДНХ (Выставка достижений народного хозяйства)\n",
      "Дворцовая площадь / Palace Square\n",
      "--->\n",
      "Ленинградский вокзал / Leningradsky Railway Terminal\n",
      "Московский вокзал / Moskovsky Railway Station\n",
      "conf: 1.0\n",
      "\n",
      "Ленинградский вокзал / Leningradsky Railway Terminal\n",
      "ТРЦ «Галерея» / Galeria Shopping Mall\n",
      "Афимолл Сити / Afimall City\n",
      "--->\n",
      "ВДНХ (Выставка достижений народного хозяйства)\n",
      "Московский вокзал / Moskovsky Railway Station\n",
      "conf: 0.875\n",
      "\n",
      "ТРЦ «Галерея» / Galeria Shopping Mall\n",
      "Афимолл Сити / Afimall City\n",
      "Московский вокзал / Moskovsky Railway Station\n",
      "--->\n",
      "Ленинградский вокзал / Leningradsky Railway Terminal\n",
      "ВДНХ (Выставка достижений народного хозяйства)\n",
      "conf: 0.875\n",
      "\n",
      "ТРЦ «Галерея» / Galeria Shopping Mall\n",
      "ВДНХ (Выставка достижений народного хозяйства)\n",
      "Афимолл Сити / Afimall City\n",
      "--->\n",
      "Ленинградский вокзал / Leningradsky Railway Terminal\n",
      "Московский вокзал / Moskovsky Railway Station\n",
      "conf: 0.875\n",
      "\n",
      "Ленинградский вокзал / Leningradsky Railway Terminal\n",
      "ТРЦ «Галерея» / Galeria Shopping Mall\n",
      "Афимолл Сити / Afimall City\n",
      "--->\n",
      "ЦПКиО им. Горького / Gorky Park\n",
      "Московский вокзал / Moskovsky Railway Station\n",
      "conf: 0.875\n",
      "\n",
      "ЦПКиО им. Горького / Gorky Park\n",
      "ТРЦ «Галерея» / Galeria Shopping Mall\n",
      "Афимолл Сити / Afimall City\n",
      "--->\n",
      "Ленинградский вокзал / Leningradsky Railway Terminal\n",
      "Московский вокзал / Moskovsky Railway Station\n",
      "conf: 1.0\n",
      "\n",
      "ТРЦ «Галерея» / Galeria Shopping Mall\n",
      "Афимолл Сити / Afimall City\n",
      "Московский вокзал / Moskovsky Railway Station\n",
      "--->\n",
      "ЦПКиО им. Горького / Gorky Park\n",
      "Ленинградский вокзал / Leningradsky Railway Terminal\n",
      "conf: 0.875\n",
      "\n",
      "Парк искусств «Музеон» / Muzeon Park\n",
      "Ленинградский вокзал / Leningradsky Railway Terminal\n",
      "Дворцовая площадь / Palace Square\n",
      "--->\n",
      "ЦПКиО им. Горького / Gorky Park\n",
      "Московский вокзал / Moskovsky Railway Station\n",
      "conf: 0.888888888889\n",
      "\n",
      "Парк искусств «Музеон» / Muzeon Park\n",
      "Дворцовая площадь / Palace Square\n",
      "Московский вокзал / Moskovsky Railway Station\n",
      "--->\n",
      "ЦПКиО им. Горького / Gorky Park\n",
      "Ленинградский вокзал / Leningradsky Railway Terminal\n",
      "conf: 0.888888888889\n",
      "\n",
      "ТРК «Атриум» / Atrium Mall\n",
      "ВДНХ (Выставка достижений народного хозяйства)\n",
      "Московский вокзал / Moskovsky Railway Station\n",
      "--->\n",
      "ЦПКиО им. Горького / Gorky Park\n",
      "Ленинградский вокзал / Leningradsky Railway Terminal\n",
      "conf: 0.875\n",
      "\n",
      "Красная площадь / Red Square\n",
      "ВДНХ (Выставка достижений народного хозяйства)\n",
      "Московский вокзал / Moskovsky Railway Station\n",
      "--->\n",
      "ЦПКиО им. Горького / Gorky Park\n",
      "Ленинградский вокзал / Leningradsky Railway Terminal\n",
      "conf: 0.875\n",
      "\n",
      "ЦПКиО им. Горького / Gorky Park\n",
      "ТРЦ «Галерея» / Galeria Shopping Mall\n",
      "Московский вокзал / Moskovsky Railway Station\n",
      "--->\n",
      "Ленинградский вокзал / Leningradsky Railway Terminal\n",
      "ВДНХ (Выставка достижений народного хозяйства)\n",
      "conf: 0.833333333333\n",
      "\n",
      "Ленинградский вокзал / Leningradsky Railway Terminal\n",
      "ТРЦ «Галерея» / Galeria Shopping Mall\n",
      "ВДНХ (Выставка достижений народного хозяйства)\n",
      "--->\n",
      "ЦПКиО им. Горького / Gorky Park\n",
      "Московский вокзал / Moskovsky Railway Station\n",
      "conf: 0.833333333333\n",
      "\n",
      "ЦПКиО им. Горького / Gorky Park\n",
      "ТРЦ «Галерея» / Galeria Shopping Mall\n",
      "ВДНХ (Выставка достижений народного хозяйства)\n",
      "--->\n",
      "Ленинградский вокзал / Leningradsky Railway Terminal\n",
      "Московский вокзал / Moskovsky Railway Station\n",
      "conf: 1.0\n",
      "\n",
      "ТРЦ «Галерея» / Galeria Shopping Mall\n",
      "ВДНХ (Выставка достижений народного хозяйства)\n",
      "Московский вокзал / Moskovsky Railway Station\n",
      "--->\n",
      "ЦПКиО им. Горького / Gorky Park\n",
      "Ленинградский вокзал / Leningradsky Railway Terminal\n",
      "conf: 0.909090909091\n",
      "\n",
      "Невский проспект / Nevsky Prospect\n",
      "Ленинградский вокзал / Leningradsky Railway Terminal\n",
      "ЦПКиО им. Горького / Gorky Park\n",
      "--->\n",
      "Дворцовая площадь / Palace Square\n",
      "Московский вокзал / Moskovsky Railway Station\n",
      "conf: 1.0\n",
      "\n",
      "Невский проспект / Nevsky Prospect\n",
      "Ленинградский вокзал / Leningradsky Railway Terminal\n",
      "Дворцовая площадь / Palace Square\n",
      "--->\n",
      "ЦПКиО им. Горького / Gorky Park\n",
      "Московский вокзал / Moskovsky Railway Station\n",
      "conf: 1.0\n",
      "\n",
      "Невский проспект / Nevsky Prospect\n",
      "Ленинградский вокзал / Leningradsky Railway Terminal\n",
      "Московский вокзал / Moskovsky Railway Station\n",
      "--->\n",
      "ЦПКиО им. Горького / Gorky Park\n",
      "Дворцовая площадь / Palace Square\n",
      "conf: 1.0\n",
      "\n",
      "Невский проспект / Nevsky Prospect\n",
      "ЦПКиО им. Горького / Gorky Park\n",
      "Московский вокзал / Moskovsky Railway Station\n",
      "--->\n",
      "Ленинградский вокзал / Leningradsky Railway Terminal\n",
      "Дворцовая площадь / Palace Square\n",
      "conf: 1.0\n",
      "\n",
      "Невский проспект / Nevsky Prospect\n",
      "Дворцовая площадь / Palace Square\n",
      "Московский вокзал / Moskovsky Railway Station\n",
      "--->\n",
      "ЦПКиО им. Горького / Gorky Park\n",
      "Ленинградский вокзал / Leningradsky Railway Terminal\n",
      "conf: 1.0\n",
      "\n",
      "Невский проспект / Nevsky Prospect\n",
      "Ленинградский вокзал / Leningradsky Railway Terminal\n",
      "--->\n",
      "ЦПКиО им. Горького / Gorky Park\n",
      "Дворцовая площадь / Palace Square\n",
      "Московский вокзал / Moskovsky Railway Station\n",
      "conf: 1.0\n",
      "\n",
      "Невский проспект / Nevsky Prospect\n",
      "Московский вокзал / Moskovsky Railway Station\n",
      "--->\n",
      "ЦПКиО им. Горького / Gorky Park\n",
      "Ленинградский вокзал / Leningradsky Railway Terminal\n",
      "Дворцовая площадь / Palace Square\n",
      "conf: 1.0\n",
      "\n",
      "Центральный детский магазин\n",
      "Улица Кузнецкий Мост\n",
      "ЦПКиО им. Горького / Gorky Park\n",
      "--->\n",
      "ТРЦ «Европейский»\n",
      "Никольская улица\n",
      "conf: 0.875\n",
      "\n",
      "Улица Кузнецкий Мост\n",
      "Центральный детский магазин\n",
      "ТРЦ «Европейский»\n",
      "--->\n",
      "ЦПКиО им. Горького / Gorky Park\n",
      "Никольская улица\n",
      "conf: 0.875\n",
      "\n",
      "Центральный детский магазин\n",
      "ТРЦ «Европейский»\n",
      "Никольская улица\n",
      "--->\n",
      "ЦПКиО им. Горького / Gorky Park\n",
      "Улица Кузнецкий Мост\n",
      "conf: 0.875\n",
      "\n",
      "ТРК «Атриум» / Atrium Mall\n",
      "Красная площадь / Red Square\n",
      "Московский вокзал / Moskovsky Railway Station\n",
      "--->\n",
      "ЦПКиО им. Горького / Gorky Park\n",
      "Ленинградский вокзал / Leningradsky Railway Terminal\n",
      "conf: 1.0\n",
      "\n",
      "Парк искусств «Музеон» / Muzeon Park\n",
      "Никольская улица\n",
      "Арбат / Arbat Street\n",
      "--->\n",
      "ЦПКиО им. Горького / Gorky Park\n",
      "Улица Кузнецкий Мост\n",
      "conf: 0.875\n",
      "\n",
      "Центральный детский магазин\n",
      "ВДНХ (Выставка достижений народного хозяйства)\n",
      "Дворцовая площадь / Palace Square\n",
      "--->\n",
      "Ленинградский вокзал / Leningradsky Railway Terminal\n",
      "Московский вокзал / Moskovsky Railway Station\n",
      "conf: 1.0\n",
      "\n",
      "Центральный детский магазин\n",
      "ВДНХ (Выставка достижений народного хозяйства)\n",
      "Московский вокзал / Moskovsky Railway Station\n",
      "--->\n",
      "Ленинградский вокзал / Leningradsky Railway Terminal\n",
      "Дворцовая площадь / Palace Square\n",
      "conf: 0.875\n",
      "\n",
      "Парк искусств «Музеон» / Muzeon Park\n",
      "Красная площадь / Red Square\n",
      "Улица Кузнецкий Мост\n",
      "--->\n",
      "ЦПКиО им. Горького / Gorky Park\n",
      "Никольская улица\n",
      "conf: 0.888888888889\n",
      "\n",
      "Парк искусств «Музеон» / Muzeon Park\n",
      "ТРЦ «Галерея» / Galeria Shopping Mall\n",
      "Московский вокзал / Moskovsky Railway Station\n",
      "--->\n",
      "ЦПКиО им. Горького / Gorky Park\n",
      "Ленинградский вокзал / Leningradsky Railway Terminal\n",
      "conf: 1.0\n",
      "\n",
      "ЦПКиО им. Горького / Gorky Park\n",
      "Дворцовая площадь / Palace Square\n",
      "Афимолл Сити / Afimall City\n",
      "--->\n",
      "Ленинградский вокзал / Leningradsky Railway Terminal\n",
      "Московский вокзал / Moskovsky Railway Station\n",
      "conf: 1.0\n",
      "\n",
      "Парк искусств «Музеон» / Muzeon Park\n",
      "Красная площадь / Red Square\n",
      "Ленинградский вокзал / Leningradsky Railway Terminal\n",
      "--->\n",
      "ЦПКиО им. Горького / Gorky Park\n",
      "Московский вокзал / Moskovsky Railway Station\n",
      "conf: 0.818181818182\n",
      "\n",
      "Парк искусств «Музеон» / Muzeon Park\n",
      "Красная площадь / Red Square\n",
      "Московский вокзал / Moskovsky Railway Station\n",
      "--->\n",
      "ЦПКиО им. Горького / Gorky Park\n",
      "Ленинградский вокзал / Leningradsky Railway Terminal\n",
      "conf: 1.0\n",
      "\n",
      "Красная площадь / Red Square\n",
      "Дворцовая площадь / Palace Square\n",
      "Московский вокзал / Moskovsky Railway Station\n",
      "--->\n",
      "ЦПКиО им. Горького / Gorky Park\n",
      "Ленинградский вокзал / Leningradsky Railway Terminal\n",
      "conf: 0.888888888889\n",
      "\n",
      "ТЦ «Охотный ряд»\n",
      "Парк искусств «Музеон» / Muzeon Park\n",
      "Ленинградский вокзал / Leningradsky Railway Terminal\n",
      "--->\n",
      "ЦПКиО им. Горького / Gorky Park\n",
      "Московский вокзал / Moskovsky Railway Station\n",
      "conf: 1.0\n",
      "\n",
      "ТЦ «Охотный ряд»\n",
      "Парк искусств «Музеон» / Muzeon Park\n",
      "Московский вокзал / Moskovsky Railway Station\n",
      "--->\n",
      "ЦПКиО им. Горького / Gorky Park\n",
      "Ленинградский вокзал / Leningradsky Railway Terminal\n",
      "conf: 0.875\n",
      "\n",
      "Парк искусств «Музеон» / Muzeon Park\n",
      "Центральный детский магазин\n",
      "Улица Кузнецкий Мост\n",
      "ЦПКиО им. Горького / Gorky Park\n",
      "--->\n",
      "ТРЦ «Европейский»\n",
      "Никольская улица\n",
      "conf: 0.875\n",
      "\n",
      "Улица Кузнецкий Мост\n",
      "Центральный детский магазин\n",
      "ТРЦ «Европейский»\n",
      "Парк искусств «Музеон» / Muzeon Park\n",
      "--->\n",
      "ЦПКиО им. Горького / Gorky Park\n",
      "Никольская улица\n",
      "conf: 0.875\n",
      "\n",
      "Улица Кузнецкий Мост\n",
      "Центральный детский магазин\n",
      "ТРЦ «Европейский»\n",
      "ЦПКиО им. Горького / Gorky Park\n",
      "--->\n",
      "Парк искусств «Музеон» / Muzeon Park\n",
      "Никольская улица\n",
      "conf: 0.875\n",
      "\n",
      "Парк искусств «Музеон» / Muzeon Park\n",
      "Центральный детский магазин\n",
      "ТРЦ «Европейский»\n",
      "Никольская улица\n",
      "--->\n",
      "ЦПКиО им. Горького / Gorky Park\n",
      "Улица Кузнецкий Мост\n",
      "conf: 0.875\n",
      "\n",
      "Центральный детский магазин\n",
      "ТРЦ «Европейский»\n",
      "Никольская улица\n",
      "ЦПКиО им. Горького / Gorky Park\n",
      "--->\n",
      "Парк искусств «Музеон» / Muzeon Park\n",
      "Улица Кузнецкий Мост\n",
      "conf: 0.875\n",
      "\n",
      "Центральный детский магазин\n",
      "Улица Кузнецкий Мост\n",
      "Парк искусств «Музеон» / Muzeon Park\n",
      "--->\n",
      "ЦПКиО им. Горького / Gorky Park\n",
      "ТРЦ «Европейский»\n",
      "Никольская улица\n",
      "conf: 0.875\n",
      "\n",
      "Улица Кузнецкий Мост\n",
      "Центральный детский магазин\n",
      "ТРЦ «Европейский»\n",
      "--->\n",
      "Парк искусств «Музеон» / Muzeon Park\n",
      "ЦПКиО им. Горького / Gorky Park\n",
      "Никольская улица\n",
      "conf: 0.875\n",
      "\n",
      "Центральный детский магазин\n",
      "Улица Кузнецкий Мост\n",
      "ЦПКиО им. Горького / Gorky Park\n",
      "--->\n",
      "Парк искусств «Музеон» / Muzeon Park\n",
      "ТРЦ «Европейский»\n",
      "Никольская улица\n",
      "conf: 0.875\n",
      "\n",
      "Центральный детский магазин\n",
      "ТРЦ «Европейский»\n",
      "Никольская улица\n",
      "--->\n",
      "ЦПКиО им. Горького / Gorky Park\n",
      "Улица Кузнецкий Мост\n",
      "Парк искусств «Музеон» / Muzeon Park\n",
      "conf: 0.875\n",
      "\n",
      "ТРЦ «Европейский»\n",
      "Парк искусств «Музеон» / Muzeon Park\n",
      "Красная площадь / Red Square\n",
      "Улица Кузнецкий Мост\n",
      "--->\n",
      "ЦПКиО им. Горького / Gorky Park\n",
      "Никольская улица\n",
      "conf: 0.875\n",
      "\n"
     ]
    }
   ],
   "source": [
    "for rule in rules:\n",
    "    simpleRule = 1\n",
    "    if len(rule[0]) < 2:\n",
    "        continue\n",
    "        \n",
    "    for venueId in enumerate(rule[0]):\n",
    "        if venueId[1] not in sortedVenuesIds[:20]:\n",
    "            simpleRule = 0\n",
    "            \n",
    "    if simpleRule:\n",
    "        continue\n",
    "    \n",
    "    simpleRule = 1\n",
    "    \n",
    "    for venueId in enumerate(rule[1]):\n",
    "        if venueId[1] not in sortedVenuesIds[:20]:\n",
    "            simpleRule = 0\n",
    "            \n",
    "    if simpleRule:\n",
    "        continue\n",
    "    \n",
    "    for venueId in enumerate(rule[0]):\n",
    "        print venueNameFromId(venueId[1])\n",
    "        \n",
    "    print '--->'\n",
    "    for venueId in enumerate(rule[1]):\n",
    "        print venueNameFromId(venueId[1])\n",
    "    print 'conf:', rule[2]\n",
    "    print ''"
   ]
  },
  {
   "cell_type": "code",
   "execution_count": null,
   "metadata": {
    "collapsed": true
   },
   "outputs": [],
   "source": [
    "#Using code for rules from here: http://aimotion.blogspot.ru/2013/01/machine-learning-and-data-mining.html"
   ]
  },
  {
   "cell_type": "code",
   "execution_count": 118,
   "metadata": {
    "collapsed": false
   },
   "outputs": [],
   "source": [
    "multiUserSortedVenues = filter(lambda x: x['group'] > 10, sortedVenues)"
   ]
  },
  {
   "cell_type": "code",
   "execution_count": 148,
   "metadata": {
    "collapsed": false
   },
   "outputs": [],
   "source": [
    "userVenueGroups = []\n",
    "for venueId, group in allCheckins.groupby('venueId'):\n",
    "    if len(group.groupby('userId'))>1:\n",
    "        userVenueGroups.append(venueId)"
   ]
  },
  {
   "cell_type": "code",
   "execution_count": 207,
   "metadata": {
    "collapsed": false
   },
   "outputs": [],
   "source": [
    "#Make lists of users check-in venues\n",
    "multiUserCheckins = allCheckins[allCheckins.venueId.isin(userVenueGroups)]\n",
    "groupedUsers = multiUserCheckins.groupby('userId')\n",
    "userVenuesList = []\n",
    "userIds = []\n",
    "for index, group in enumerate(groupedUsers):\n",
    "        userVenuesList.append(group[1]['venueId'].tolist())\n",
    "        userIds.append(group[0])"
   ]
  },
  {
   "cell_type": "code",
   "execution_count": 173,
   "metadata": {
    "collapsed": true
   },
   "outputs": [],
   "source": [
    "#Let's build some TF-ID vectors\n",
    "from sklearn.feature_extraction.text import CountVectorizer\n",
    "from sklearn.metrics.pairwise import cosine_similarity\n",
    "from sklearn.feature_extraction.text import TfidfVectorizer\n",
    "from sklearn.cluster.bicluster import SpectralCoclustering\n",
    "from sklearn.cluster import MiniBatchKMeans"
   ]
  },
  {
   "cell_type": "code",
   "execution_count": 167,
   "metadata": {
    "collapsed": false
   },
   "outputs": [],
   "source": [
    "trainingList = []\n",
    "for userList in userVenuesList:\n",
    "    trainingList.append(' '.join(userList))\n",
    "\n",
    "tfidf_vectorizer = TfidfVectorizer(vocabulary = userVenueGroups)\n",
    "tfidf_matrix_train = tfidf_vectorizer.fit_transform(trainingList)"
   ]
  },
  {
   "cell_type": "code",
   "execution_count": 176,
   "metadata": {
    "collapsed": false
   },
   "outputs": [
    {
     "name": "stdout",
     "output_type": "stream",
     "text": [
      "Coclustering...\n",
      "Done in 0.20s.\n",
      "MiniBatchKMeans...\n",
      "Done in 0.11s.\n"
     ]
    }
   ],
   "source": [
    "from time import time\n",
    "cocluster = SpectralCoclustering(n_clusters=20,\n",
    "                                 svd_method='arpack', random_state=0)\n",
    "kmeans = MiniBatchKMeans(n_clusters=20,\n",
    "                         random_state=0)\n",
    "\n",
    "print(\"Coclustering...\")\n",
    "start_time = time()\n",
    "cocluster.fit(tfidf_matrix_train)\n",
    "y_cocluster = cocluster.row_labels_\n",
    "print(\"Done in {:.2f}s.\".format(\n",
    "    time() - start_time))\n",
    "\n",
    "print(\"MiniBatchKMeans...\")\n",
    "start_time = time()\n",
    "y_kmeans = kmeans.fit_predict(tfidf_matrix_train)\n",
    "print(\"Done in {:.2f}s.\".format(\n",
    "    time() - start_time))\n",
    "\n",
    "feature_names = tfidf_vectorizer.get_feature_names()"
   ]
  },
  {
   "cell_type": "code",
   "execution_count": 189,
   "metadata": {
    "collapsed": false
   },
   "outputs": [
    {
     "data": {
      "text/plain": [
       "3912"
      ]
     },
     "execution_count": 189,
     "metadata": {},
     "output_type": "execute_result"
    }
   ],
   "source": [
    "sum(cocluster.columns_[0])"
   ]
  },
  {
   "cell_type": "code",
   "execution_count": 210,
   "metadata": {
    "collapsed": false
   },
   "outputs": [],
   "source": [
    "clusters = x = [[] for i in range(20)]\n",
    "for index, clustedId in enumerate(y_kmeans):\n",
    "    clusters[clustedId].append(userIds[index])"
   ]
  },
  {
   "cell_type": "code",
   "execution_count": 228,
   "metadata": {
    "collapsed": false
   },
   "outputs": [
    {
     "name": "stdout",
     "output_type": "stream",
     "text": [
      "4\n",
      "140\n"
     ]
    }
   ],
   "source": [
    "print len(set(multiUserCheckins[multiUserCheckins.userId == clusters[10][1]]['venueId'].tolist()).intersection(multiUserCheckins[multiUserCheckins.userId == clusters[10][2]]['venueId'].tolist()))\n",
    "print len(set(multiUserCheckins[multiUserCheckins.userId == clusters[10][1]]['venueId'].tolist()).union(multiUserCheckins[multiUserCheckins.userId == clusters[10][2]]['venueId'].tolist()))"
   ]
  },
  {
   "cell_type": "code",
   "execution_count": null,
   "metadata": {
    "collapsed": true
   },
   "outputs": [],
   "source": []
  }
 ],
 "metadata": {
  "kernelspec": {
   "display_name": "Python 2",
   "language": "python",
   "name": "python2"
  },
  "language_info": {
   "codemirror_mode": {
    "name": "ipython",
    "version": 2
   },
   "file_extension": ".py",
   "mimetype": "text/x-python",
   "name": "python",
   "nbconvert_exporter": "python",
   "pygments_lexer": "ipython2",
   "version": "2.7.6"
  }
 },
 "nbformat": 4,
 "nbformat_minor": 0
}
