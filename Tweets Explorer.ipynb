{
 "cells": [
  {
   "cell_type": "code",
   "execution_count": 2,
   "metadata": {
    "collapsed": true
   },
   "outputs": [],
   "source": [
    "import urllib2\n",
    "import sqlite3\n",
    "import numpy as np\n",
    "import pandas as pd\n",
    "from sys import stdout\n",
    "from datetime import datetime\n",
    "import json\n",
    "\n",
    "foursquaredata = 0\n",
    "useWholeDB = False\n",
    "if useWholeDB:\n",
    "    con = sqlite3.connect('data/tweetsSpring.db')\n",
    "    foursquaredata = pd.read_sql(\"SELECT * from tweets WHERE source = 'Foursquare'\", con)\n",
    "else:\n",
    "    con = sqlite3.connect('data/foursquareSpring.db')\n",
    "    foursquaredata = pd.read_sql(\"SELECT * from tweets\", con)  "
   ]
  },
  {
   "cell_type": "code",
   "execution_count": 2,
   "metadata": {
    "collapsed": false
   },
   "outputs": [],
   "source": [
    "from bs4 import BeautifulSoup\n",
    "def extract_urls(lst):\n",
    "        urls = []\n",
    "        for j in lst.split(' '):\n",
    "            if j.startswith('http'):\n",
    "                urls.append(j)\n",
    "        return urls\n",
    "\n",
    "def resolve_url(starturl):\n",
    "    try:\n",
    "        req = urllib2.Request(starturl)\n",
    "        res = urllib2.urlopen(req, timeout = 2)\n",
    "        finalurl = res.geturl()\n",
    "        soup = BeautifulSoup(res.read())\n",
    "        #print soup.find_all('script')\n",
    "        #print(soup.prettify())\n",
    "        \n",
    "        return soup\n",
    "    except:\n",
    "        pass"
   ]
  },
  {
   "cell_type": "code",
   "execution_count": 4,
   "metadata": {
    "collapsed": false
   },
   "outputs": [
    {
     "name": "stdout",
     "output_type": "stream",
     "text": [
      "66342\n"
     ]
    }
   ],
   "source": [
    "print len(foursquaredata)"
   ]
  },
  {
   "cell_type": "code",
   "execution_count": null,
   "metadata": {
    "collapsed": false
   },
   "outputs": [
    {
     "name": "stdout",
     "output_type": "stream",
     "text": [
      "2\n",
      "100.210000%"
     ]
    }
   ],
   "source": [
    "for iteration in range(2,6):\n",
    "    print iteration\n",
    "    htmls = []\n",
    "    for index, row in foursquaredata[iteration*10000:(iteration+1)*10000].iterrows():\n",
    "        lst = row.content\n",
    "        urls = extract_urls(lst)\n",
    "        if len(urls):\n",
    "            htmls.append(resolve_url(urls[0]))\n",
    "        progress(index-10000,10000)\n",
    "        \n",
    "    scripts = []\n",
    "    for html in htmls:\n",
    "        if (html is not None):\n",
    "            if len(html.find_all('script'))>10:\n",
    "                scripts.append([str(html.find_all('script')[10])])\n",
    "            else:\n",
    "                scripts.append([])\n",
    "        else:\n",
    "            scripts.append([])\n",
    "            \n",
    "    with open('data/script'+str(iteration+1)+'.p', 'wb') as fileToSave:\n",
    "        np.save(fileToSave, scripts)"
   ]
  },
  {
   "cell_type": "code",
   "execution_count": null,
   "metadata": {
    "collapsed": false
   },
   "outputs": [],
   "source": [
    "redirects[0].find_all('script')[10]"
   ]
  },
  {
   "cell_type": "code",
   "execution_count": 3,
   "metadata": {
    "collapsed": true
   },
   "outputs": [],
   "source": [
    "    def progress(i, n):\n",
    "        stdout.write(\"\\r%f%%\" % (i*100/float(n)))\n",
    "        stdout.flush()\n",
    "        if i == n-1:\n",
    "            stdout.write(\"\\r100%\")\n",
    "            print(\"\\r\\n\")"
   ]
  },
  {
   "cell_type": "code",
   "execution_count": 5,
   "metadata": {
    "collapsed": false
   },
   "outputs": [
    {
     "data": {
      "text/plain": [
       "10000"
      ]
     },
     "execution_count": 5,
     "metadata": {},
     "output_type": "execute_result"
    }
   ],
   "source": [
    "len(htmls)"
   ]
  },
  {
   "cell_type": "code",
   "execution_count": 14,
   "metadata": {
    "collapsed": false
   },
   "outputs": [],
   "source": [
    "scripts = []\n",
    "for html in htmls:\n",
    "    if (html is not None):\n",
    "        if len(html.find_all('script'))>10:\n",
    "            scripts.append([str(html.find_all('script')[10])])\n",
    "        else:\n",
    "            scripts.append([])\n",
    "    else:\n",
    "        scripts.append([])"
   ]
  },
  {
   "cell_type": "code",
   "execution_count": 17,
   "metadata": {
    "collapsed": false
   },
   "outputs": [],
   "source": [
    "with open('data/script2.p', 'wb') as fileToSave:\n",
    "    np.save(fileToSave, scripts)"
   ]
  },
  {
   "cell_type": "code",
   "execution_count": 22,
   "metadata": {
    "collapsed": false
   },
   "outputs": [],
   "source": [
    "with open('data/script4.p', 'r') as fileToSave:\n",
    "    theScripts = np.load(fileToSave)"
   ]
  },
  {
   "cell_type": "code",
   "execution_count": 25,
   "metadata": {
    "collapsed": false
   },
   "outputs": [
    {
     "name": "stdout",
     "output_type": "stream",
     "text": [
      "Failed to parse JSON\n",
      "Failed to parse JSON\n",
      "Failed to parse JSON\n",
      "Failed to parse JSON\n",
      "Failed to parse JSON\n",
      "Failed to parse JSON\n",
      "Failed to parse JSON\n",
      "Failed to parse JSON\n",
      "Failed to parse JSON\n",
      "Failed to parse JSON\n",
      "Failed to parse JSON\n",
      "Failed to parse JSON\n",
      "Failed to parse JSON\n",
      "Failed to parse JSON\n",
      "Failed to parse JSON\n",
      "Failed to parse JSON\n",
      "Failed to parse JSON\n",
      "Failed to parse JSON\n",
      "Failed to parse JSON\n",
      "Failed to parse JSON\n",
      "Failed to parse JSON\n"
     ]
    }
   ],
   "source": [
    "checkinStopWord = 'checkin: '\n",
    "venueStopWord = ',venue: ' \n",
    "parsedCheckins = []\n",
    "for scriptArray in theScripts:\n",
    "    if len(scriptArray):\n",
    "        scriptString = scriptArray[0]\n",
    "        checkInJSON = scriptString[scriptString.find(checkinStopWord)+len(checkinStopWord):scriptString.find(venueStopWord)]\n",
    "        try:\n",
    "            parsedCheckins.append(json.loads(checkInJSON))\n",
    "        except:\n",
    "            print 'Failed to parse JSON'"
   ]
  },
  {
   "cell_type": "code",
   "execution_count": 11,
   "metadata": {
    "collapsed": false
   },
   "outputs": [
    {
     "data": {
      "text/plain": [
       "{u'canonicalPath': u'/margosanfirova/checkin/552a9b9e498ee5da5dbf273c',\n",
       " u'canonicalUrl': u'https://foursquare.com/margosanfirova/checkin/552a9b9e498ee5da5dbf273c',\n",
       " u'createdAt': 1428855710,\n",
       " u'id': u'552a9b9e498ee5da5dbf273c',\n",
       " u'likes': {u'count': 0, u'groups': []},\n",
       " u'photos': {u'count': 0, u'items': []},\n",
       " u'reasonCannotAddComments': u'loggedout',\n",
       " u'reasonCannotSeeComments': u'loggedout',\n",
       " u'score': {u'_scores': [{u'icon': u'https://ss1.4sqi.net/img/points/swarm-mayor.png',\n",
       "    u'message': u'5 check-ins at Movie Theaters in the past 2 months.',\n",
       "    u'points': 3}],\n",
       "  u'total': 3},\n",
       " u'shout': u'\\u0420\\u044b\\u0434\\u0430\\u0435\\u043c \\u0441 \\u041e\\u043b\\u0435\\u0439 \\u043f\\u043e\\u0441\\u043b\\u0435 \\u043f\\u0440\\u043e\\u0441\\u043c\\u043e\\u0442\\u0440\\u0430 \\u0424\\u043e\\u0440\\u0441\\u0430\\u0436 7\\U0001f62d\\U0001f62d',\n",
       " u'source': {u'name': u'Swarm for iOS', u'url': u'https://www.swarmapp.com'},\n",
       " u'timeZoneOffset': 240,\n",
       " u'type': u'checkin',\n",
       " u'user': {u'canonicalPath': u'/margosanfirova',\n",
       "  u'canonicalUrl': u'https://foursquare.com/margosanfirova',\n",
       "  u'firstName': u'Margarita',\n",
       "  u'gender': u'female',\n",
       "  u'id': u'86717627',\n",
       "  u'lastName': u'Sanfirova',\n",
       "  u'photo': {u'prefix': u'https://irs2.4sqi.net/img/user/',\n",
       "   u'suffix': u'/86717627-GKZLTSYXRRBGONPZ.jpg'}},\n",
       " u'venue': {u'canonicalPath': u'/v/%D0%BA%D0%B8%D0%BD%D0%BE%D0%BA%D0%BB%D1%83%D0%B1-%D1%8D%D0%BB%D1%8C%D0%B4%D0%B0%D1%80/4c9a18c878ffa093d95c6975',\n",
       "  u'canonicalUrl': u'https://foursquare.com/v/%D0%BA%D0%B8%D0%BD%D0%BE%D0%BA%D0%BB%D1%83%D0%B1-%D1%8D%D0%BB%D1%8C%D0%B4%D0%B0%D1%80/4c9a18c878ffa093d95c6975',\n",
       "  u'categories': [{u'icon': {u'mapPrefix': u'https://ss3.4sqi.net/img/categories_map/arts_entertainment/movietheater',\n",
       "     u'prefix': u'https://ss3.4sqi.net/img/categories_v2/arts_entertainment/movietheater_',\n",
       "     u'suffix': u'.png'},\n",
       "    u'id': u'4bf58dd8d48988d17f941735',\n",
       "    u'name': u'Movie Theater',\n",
       "    u'pluralName': u'Movie Theaters',\n",
       "    u'primary': True,\n",
       "    u'shortName': u'Movie Theater'}],\n",
       "  u'contact': {},\n",
       "  u'id': u'4c9a18c878ffa093d95c6975',\n",
       "  u'location': {u'address': u'\\u041b\\u0435\\u043d\\u0438\\u043d\\u0441\\u043a\\u0438\\u0439 \\u043f\\u0440., 105',\n",
       "   u'cc': u'RU',\n",
       "   u'city': u'\\u041c\\u043e\\u0441\\u043a\\u0432\\u0430',\n",
       "   u'contextLine': u'\\u041c\\u043e\\u0441\\u043a\\u0432\\u0430, \\u0420\\u043e\\u0441\\u0441\\u0438\\u044f',\n",
       "   u'country': u'\\u0420\\u043e\\u0441\\u0441\\u0438\\u044f',\n",
       "   u'lat': 55.665283954756866,\n",
       "   u'lng': 37.51350402832031,\n",
       "   u'neighborhood': u'\\u041e\\u0431\\u0440\\u0443\\u0447\\u0435\\u0432\\u0441\\u043a\\u0438\\u0439',\n",
       "   u'postalCode': u'119415'},\n",
       "  u'name': u'\\u041a\\u0438\\u043d\\u043e\\u043a\\u043b\\u0443\\u0431 \\xab\\u042d\\u043b\\u044c\\u0434\\u0430\\u0440\\xbb',\n",
       "  u'stats': {u'checkinsCount': 6261, u'tipCount': 93, u'usersCount': 3350},\n",
       "  u'verified': False}}"
      ]
     },
     "execution_count": 11,
     "metadata": {},
     "output_type": "execute_result"
    }
   ],
   "source": [
    "json.loads(checkInJSON)"
   ]
  },
  {
   "cell_type": "code",
   "execution_count": 24,
   "metadata": {
    "collapsed": true
   },
   "outputs": [],
   "source": [
    "with open('data/checkins.json', 'w') as outfile:\n",
    "    json.dump(parsedCheckins, outfile)"
   ]
  },
  {
   "cell_type": "code",
   "execution_count": null,
   "metadata": {
    "collapsed": true
   },
   "outputs": [],
   "source": []
  }
 ],
 "metadata": {
  "kernelspec": {
   "display_name": "Python 2",
   "language": "python",
   "name": "python2"
  },
  "language_info": {
   "codemirror_mode": {
    "name": "ipython",
    "version": 2
   },
   "file_extension": ".py",
   "mimetype": "text/x-python",
   "name": "python",
   "nbconvert_exporter": "python",
   "pygments_lexer": "ipython2",
   "version": "2.7.6"
  }
 },
 "nbformat": 4,
 "nbformat_minor": 0
}
