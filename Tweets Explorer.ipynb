{
 "cells": [
  {
   "cell_type": "code",
   "execution_count": 2,
   "metadata": {
    "collapsed": true
   },
   "outputs": [],
   "source": [
    "import urllib2\n",
    "import sqlite3\n",
    "import numpy as np\n",
    "import pandas as pd\n",
    "from sys import stdout\n",
    "from datetime import datetime\n",
    "import json"
   ]
  },
  {
   "cell_type": "markdown",
   "metadata": {},
   "source": [
    "# Step 1: Select tweets sent from Foursquare app"
   ]
  },
  {
   "cell_type": "code",
   "execution_count": 2,
   "metadata": {
    "collapsed": true
   },
   "outputs": [],
   "source": [
    "#Step 1: Select tweets sent from Foursquare app\n",
    "foursquaredata = 0\n",
    "useWholeDB = True\n",
    "if useWholeDB:\n",
    "    con = sqlite3.connect('data/allSpringTweets.db')\n",
    "    foursquaredata = pd.read_sql(\"SELECT * from tweets WHERE source = 'Foursquare'\", con)\n",
    "else:\n",
    "    con = sqlite3.connect('data/foursquareSpring.db')\n",
    "    foursquaredata = pd.read_sql(\"SELECT * from tweets\", con)"
   ]
  },
  {
   "cell_type": "code",
   "execution_count": 3,
   "metadata": {
    "collapsed": false
   },
   "outputs": [
    {
     "name": "stdout",
     "output_type": "stream",
     "text": [
      "Total tweets from 4sq: 92387\n"
     ]
    }
   ],
   "source": [
    "print 'Total tweets from 4sq:', len(foursquaredata)"
   ]
  },
  {
   "cell_type": "markdown",
   "metadata": {},
   "source": [
    "# Step 2: Extract scipt data that contains JSON from link in the tweets"
   ]
  },
  {
   "cell_type": "code",
   "execution_count": 3,
   "metadata": {
    "collapsed": false
   },
   "outputs": [],
   "source": [
    "from bs4 import BeautifulSoup\n",
    "def extract_urls(lst):\n",
    "        urls = []\n",
    "        for j in lst.split(' '):\n",
    "            if j.startswith('http'):\n",
    "                urls.append(j)\n",
    "        return urls\n",
    "\n",
    "def resolve_url(starturl):\n",
    "    try:\n",
    "        req = urllib2.Request(starturl)\n",
    "        res = urllib2.urlopen(req, timeout = 2)\n",
    "        finalurl = res.geturl()\n",
    "        soup = BeautifulSoup(res.read())\n",
    "        #print soup.find_all('script')\n",
    "        #print(soup.prettify())\n",
    "        \n",
    "        return soup\n",
    "    except:\n",
    "        pass\n",
    "    \n",
    "def progress(i, n):\n",
    "    stdout.write(\"\\r%f%%\" % (i*100/float(n)))\n",
    "    stdout.flush()\n",
    "    if i == n-1:\n",
    "        stdout.write(\"\\r100%\")\n",
    "        print(\"\\r\\n\")"
   ]
  },
  {
   "cell_type": "code",
   "execution_count": null,
   "metadata": {
    "collapsed": false
   },
   "outputs": [],
   "source": [
    "#Step 2: Extract scipt data that contains JSON from link in the tweets\n",
    "batchSize = len(foursquaredata)/10\n",
    "for iteration in range(1,11):\n",
    "    print iteration\n",
    "    print '\\n'\n",
    "    htmls = []\n",
    "    for index, row in foursquaredata[iteration*batchSize:(iteration+1)*batchSize].iterrows():\n",
    "        lst = row.content\n",
    "        urls = extract_urls(lst)\n",
    "        #Get the url content\n",
    "        if len(urls):\n",
    "            htmls.append(resolve_url(urls[0]))\n",
    "        progress(index-iteration*batchSize,batchSize)\n",
    "    \n",
    "    #Get the string with javascript and it's JSON\n",
    "    scripts = []\n",
    "    for html in htmls:\n",
    "        if (html is not None):\n",
    "            if len(html.find_all('script'))>10:\n",
    "                scripts.append([str(html.find_all('script')[10])])\n",
    "            else:\n",
    "                scripts.append([])\n",
    "        else:\n",
    "            scripts.append([])\n",
    "     \n",
    "    with open('data/script'+str(iteration+1)+'.p', 'wb') as fileToSave:\n",
    "        np.save(fileToSave, scripts)"
   ]
  },
  {
   "cell_type": "code",
   "execution_count": null,
   "metadata": {
    "collapsed": false
   },
   "outputs": [],
   "source": [
    "#You can load all the saved scripts\n",
    "with open('data/allScripts.p') as fileWithScripts:\n",
    "    theScripts = np.load(fileWithScripts)"
   ]
  },
  {
   "cell_type": "code",
   "execution_count": 89,
   "metadata": {
    "collapsed": false
   },
   "outputs": [
    {
     "name": "stdout",
     "output_type": "stream",
     "text": [
      "Total scripts from 4sq: 87253\n"
     ]
    }
   ],
   "source": [
    "totalExtracted = 0\n",
    "for scriptArray in theScripts:\n",
    "    if len(scriptArray):\n",
    "        totalExtracted = totalExtracted + 1\n",
    "print 'Total scripts from 4sq:', totalExtracted"
   ]
  },
  {
   "cell_type": "code",
   "execution_count": 6,
   "metadata": {
    "collapsed": false
   },
   "outputs": [],
   "source": [
    "#Join all the scripts \n",
    "for iteration in range(1,9):\n",
    "    with open('data/script'+str(iteration)+'.p', 'r') as fileToSave:\n",
    "        theScripts = np.append(theScripts, np.load(fileToSave))"
   ]
  },
  {
   "cell_type": "markdown",
   "metadata": {},
   "source": [
    "# Step 3: Get JSON out of scripts string"
   ]
  },
  {
   "cell_type": "code",
   "execution_count": 12,
   "metadata": {
    "collapsed": false
   },
   "outputs": [
    {
     "name": "stdout",
     "output_type": "stream",
     "text": [
      "204\n"
     ]
    }
   ],
   "source": [
    "#Step 3: Get JSON out of scripts string\n",
    "checkinStopWord = 'checkin: '\n",
    "venueStopWord = ',venue: ' \n",
    "failed = 0\n",
    "parsedCheckins = []\n",
    "for scriptArray in theScripts:\n",
    "    if len(scriptArray):\n",
    "        scriptString = scriptArray[0]\n",
    "        checkInJSON = scriptString[scriptString.find(checkinStopWord)+len(checkinStopWord):scriptString.find(venueStopWord)]\n",
    "        try:\n",
    "            parsedCheckins.append(json.loads(checkInJSON))\n",
    "        except:\n",
    "            failed = failed + 1\n",
    "print 'Failed to parse:', failed"
   ]
  },
  {
   "cell_type": "markdown",
   "metadata": {},
   "source": [
    "# Step 4: Save it all to big JSON array"
   ]
  },
  {
   "cell_type": "code",
   "execution_count": null,
   "metadata": {
    "collapsed": true
   },
   "outputs": [],
   "source": [
    "with open('data/checkins.json', 'w') as outfile:\n",
    "    json.dump(parsedCheckins, outfile)"
   ]
  },
  {
   "cell_type": "code",
   "execution_count": 104,
   "metadata": {
    "collapsed": false
   },
   "outputs": [
    {
     "name": "stdout",
     "output_type": "stream",
     "text": [
      "87049\n"
     ]
    }
   ],
   "source": [
    "with open('data/allSpringCheckins.json', 'r') as datafile:\n",
    "      parsedCheckins = json.load(datafile)\n",
    "print len(parsedCheckins)"
   ]
  },
  {
   "cell_type": "markdown",
   "metadata": {},
   "source": [
    "# Step 5: Get Data Frame out of JSON"
   ]
  },
  {
   "cell_type": "code",
   "execution_count": 106,
   "metadata": {
    "collapsed": true
   },
   "outputs": [],
   "source": [
    "#Create Categories data frame\n",
    "categories = []\n",
    "categoryIds = []\n",
    "for checkIn in parsedCheckins:\n",
    "    checkInVenue = checkIn['venue']\n",
    "    for category in checkInVenue['categories']:\n",
    "        if category['primary']:\n",
    "            if category['id'] not in categoryIds:\n",
    "                categories.append({'categoryId':category['id'],\n",
    "                                  'name':category['name']})\n",
    "                categoryIds.append(category['id'])\n",
    "                \n",
    "categoriesDF = pd.DataFrame(categories)"
   ]
  },
  {
   "cell_type": "code",
   "execution_count": 107,
   "metadata": {
    "collapsed": false
   },
   "outputs": [],
   "source": [
    "#Create Venues data frame\n",
    "venues = []\n",
    "venuesIds = []\n",
    "for checkIn in parsedCheckins:\n",
    "    checkInVenue = checkIn['venue']\n",
    "    if checkInVenue['id'] not in venuesIds:\n",
    "        venueInfo = {'venueId':checkInVenue['id'],\n",
    "                    'name':checkInVenue['name'],\n",
    "                    'checkinsCount':checkInVenue['stats']['checkinsCount'],\n",
    "                    'tipCount':checkInVenue['stats']['tipCount'],\n",
    "                    'usersCount':checkInVenue['stats']['usersCount']}\n",
    "        for category in checkInVenue['categories']:\n",
    "            if category['primary']:\n",
    "                venueInfo[\"categoryId\"] = category['id']\n",
    "        if checkInVenue['location']:\n",
    "            if 'address' in checkInVenue['location'].keys() and checkInVenue['location']['address']:\n",
    "                venueInfo[\"address\"] = checkInVenue['location']['address']\n",
    "        if 'postalCode' in checkInVenue['location'].keys() and checkInVenue['location']['postalCode']:\n",
    "            venueInfo[\"categoryId\"] = checkInVenue['location']['postalCode']\n",
    "        if 'neighborhood' in checkInVenue['location'].keys() and checkInVenue['location']['neighborhood']:\n",
    "            venueInfo[\"neighborhood\"] = checkInVenue['location']['neighborhood']\n",
    "        if 'lat' in checkInVenue['location'].keys() and 'lng' in checkInVenue['location'].keys() and checkInVenue['location']['lat'] and checkInVenue['location']['lng']:\n",
    "            venueInfo[\"lat\"] = checkInVenue['location']['lat']\n",
    "            venueInfo[\"lng\"] = checkInVenue['location']['lng']\n",
    "        venues.append(venueInfo)\n",
    "        venuesIds.append(checkInVenue['id'])\n",
    "                \n",
    "venuesDF = pd.DataFrame(venues)"
   ]
  },
  {
   "cell_type": "code",
   "execution_count": 108,
   "metadata": {
    "collapsed": false
   },
   "outputs": [],
   "source": [
    "#Create Users data frame\n",
    "users = []\n",
    "userIds = []\n",
    "for checkIn in parsedCheckins:\n",
    "    userInVenue = checkIn['user']\n",
    "    if userInVenue['id'] not in userIds:\n",
    "        userInfo = {'userId':userInVenue['id'],\n",
    "                    'checkinsCount':0}\n",
    "        if 'gender' in userInVenue.keys() and userInVenue['gender']:\n",
    "            userInfo[\"gender\"] = userInVenue['gender']\n",
    "        if 'firstName' in userInVenue.keys() and userInVenue['firstName']:\n",
    "            userInfo[\"firstName\"] = userInVenue['firstName']\n",
    "        if 'lastName' in userInVenue.keys() and userInVenue['lastName']:\n",
    "            userInfo[\"lastName\"] = userInVenue['lastName']\n",
    "        users.append(userInfo)\n",
    "        userIds.append(userInVenue['id'])\n",
    "                \n",
    "usersDF = pd.DataFrame(users)"
   ]
  },
  {
   "cell_type": "code",
   "execution_count": 109,
   "metadata": {
    "collapsed": false
   },
   "outputs": [],
   "source": [
    "#Create Check-ins data frame\n",
    "checkIns = []\n",
    "checinIds = []\n",
    "for checkIn in parsedCheckins:\n",
    "    if checkIn['id'] not in checinIds:\n",
    "        checkInInfo = {'checkinId':checkIn['id'],\n",
    "                    'createdAt':checkIn['createdAt'],\n",
    "                    'tzOffset':checkIn['timeZoneOffset'],\n",
    "                    'userId':checkIn['user']['id'],\n",
    "                    'venueId':checkIn['venue']['id']}\n",
    "        \n",
    "        if 'likes' in checkIn.keys() and checkIn['likes']:\n",
    "            userInfo[\"likes\"] = checkIn['likes']['count']\n",
    "        if 'photos' in checkIn.keys() and checkIn['photos']:\n",
    "            userInfo[\"photos\"] = checkIn['photos']['count']\n",
    "        checkIns.append(checkInInfo)\n",
    "        checinIds.append(checkIn['id'])\n",
    "                \n",
    "checkinsDF = pd.DataFrame(checkIns)"
   ]
  },
  {
   "cell_type": "code",
   "execution_count": 67,
   "metadata": {
    "collapsed": true
   },
   "outputs": [],
   "source": [
    "# A try on generic parser\n",
    "def getDataFrameFromCheckinsJSON(keysMapping, optionalKeysMapping, parsedCheckins, subPath = False):\n",
    "    items = []\n",
    "    itemIds = []\n",
    "    for checkIn in parsedCheckins:\n",
    "        \n",
    "        if subPath:\n",
    "            itemData = checkIn[subPath]\n",
    "        else:\n",
    "            itemData = checkIn\n",
    "\n",
    "        if itemData['id'] not in itemIds:\n",
    "            itemInfo = {}\n",
    "            \n",
    "            #Add all requires values\n",
    "            for keysMap in keysMapping:\n",
    "                if keysMap['jsonKey'] is str:\n",
    "                    itemInfo[keysMap['pandasKey']] = itemData[keysMap['jsonkey']]\n",
    "                else:\n",
    "                    itemInfo[keysMap['pandasKey']] = itemData[keysMap['jsonKey']['key']][keysMap['jsonKey']['subKey']]\n",
    "            \n",
    "            #Add all optional values\n",
    "            for key in optionalKeysMapping:\n",
    "                if keysMap['jsonKey'] is str:\n",
    "                    if keysMap['jsonkey'] in itemData.keys():\n",
    "                        itemInfo[keysMap['pandasKey']] = itemData[keysMap['jsonkey']]\n",
    "                else:\n",
    "                    if keysMap['jsonKey']['key'] in itemData.keys() and keysMap['jsonKey']['subKey'] in itemData[keysMap['jsonKey']['key']].keys():\n",
    "                        itemInfo[keysMap['pandasKey']] = itemData[keysMap['jsonKey']['key']][keysMap['jsonKey']['subKey']]\n",
    "\n",
    "            users.append(itemInfo)\n",
    "            itemIds.append(itemData['id'])\n",
    "\n",
    "    itemsDF = pd.DataFrame(items)"
   ]
  },
  {
   "cell_type": "code",
   "execution_count": 1,
   "metadata": {
    "collapsed": false
   },
   "outputs": [
    {
     "ename": "NameError",
     "evalue": "name 'parsedCheckins' is not defined",
     "output_type": "error",
     "traceback": [
      "\u001b[0;31m---------------------------------------------------------------------------\u001b[0m",
      "\u001b[0;31mNameError\u001b[0m                                 Traceback (most recent call last)",
      "\u001b[0;32m<ipython-input-1-2a2c9ead534a>\u001b[0m in \u001b[0;36m<module>\u001b[0;34m()\u001b[0m\n\u001b[0;32m----> 1\u001b[0;31m \u001b[0mparsedCheckins\u001b[0m\u001b[0;34m[\u001b[0m\u001b[0;36m0\u001b[0m\u001b[0;34m]\u001b[0m\u001b[0;34m\u001b[0m\u001b[0m\n\u001b[0m",
      "\u001b[0;31mNameError\u001b[0m: name 'parsedCheckins' is not defined"
     ]
    }
   ],
   "source": [
    "parsedCheckins[0]"
   ]
  },
  {
   "cell_type": "markdown",
   "metadata": {},
   "source": [
    "# Step 6: Saving all data from JSON to SQLLite with tables: Users, Venues, Checkins, Categories"
   ]
  },
  {
   "cell_type": "code",
   "execution_count": 4,
   "metadata": {
    "collapsed": true
   },
   "outputs": [],
   "source": [
    "#Saving all data from JSON to SQLLite\n",
    "checkinCon = sqlite3.connect('data/springCheckins.db')"
   ]
  },
  {
   "cell_type": "code",
   "execution_count": 112,
   "metadata": {
    "collapsed": true
   },
   "outputs": [],
   "source": [
    "checkinsDF.to_sql('checkins', checkinCon)"
   ]
  },
  {
   "cell_type": "code",
   "execution_count": 113,
   "metadata": {
    "collapsed": false
   },
   "outputs": [],
   "source": [
    "categoriesDF.to_sql('categories', checkinCon)"
   ]
  },
  {
   "cell_type": "code",
   "execution_count": 114,
   "metadata": {
    "collapsed": true
   },
   "outputs": [],
   "source": [
    "venuesDF.to_sql('venues', checkinCon)"
   ]
  },
  {
   "cell_type": "code",
   "execution_count": 115,
   "metadata": {
    "collapsed": true
   },
   "outputs": [],
   "source": [
    "usersDF.to_sql('users', checkinCon)"
   ]
  },
  {
   "cell_type": "code",
   "execution_count": 5,
   "metadata": {
    "collapsed": true
   },
   "outputs": [],
   "source": [
    "checkinsDF = pd.read_sql('SELECT * from checkins', checkinCon)\n",
    "categoriesDF = pd.read_sql('SELECT * from categories', checkinCon)\n",
    "venuesDF = pd.read_sql('SELECT * from venues', checkinCon)\n",
    "usersDF = pd.read_sql('SELECT * from users', checkinCon)"
   ]
  },
  {
   "cell_type": "code",
   "execution_count": 13,
   "metadata": {
    "collapsed": true
   },
   "outputs": [],
   "source": [
    "healthUsers.to_csv('data/users.tsv', sep='\\t',encoding='utf-8')"
   ]
  },
  {
   "cell_type": "code",
   "execution_count": 11,
   "metadata": {
    "collapsed": false
   },
   "outputs": [],
   "source": [
    "healthVenues.to_csv('data/venues.tsv', sep='\\t',encoding='utf-8')\n",
    "healthCheckIns.to_csv('data/checkins.tsv', sep='\\t',encoding='utf-8')"
   ]
  },
  {
   "cell_type": "code",
   "execution_count": 68,
   "metadata": {
    "collapsed": false
   },
   "outputs": [],
   "source": [
    "def extractComponents(row):\n",
    "    date = datetime.utcfromtimestamp(row.createdAt+row.tzOffset*60)\n",
    "    months.append(date.month)\n",
    "    days.append(date.day)\n",
    "    hours.append(date.hour)\n",
    "    miuntes.append(date.minute)\n",
    "    weekdays.append(date.weekday())\n",
    "    \n",
    "months = []\n",
    "days = []\n",
    "hours = []\n",
    "miuntes = []\n",
    "weekdays = []\n",
    "\n",
    "checkinsDF.apply(extractComponents, axis=1)\n",
    "checkinsDF['month'] = months\n",
    "checkinsDF['day'] = days\n",
    "checkinsDF['hour'] = hours\n",
    "checkinsDF['minute'] = miuntes\n",
    "checkinsDF['weekday'] = weekdays\n",
    "#help(pytz)"
   ]
  },
  {
   "cell_type": "code",
   "execution_count": 91,
   "metadata": {
    "collapsed": false
   },
   "outputs": [
    {
     "data": {
      "text/plain": [
       "<matplotlib.axes._subplots.AxesSubplot at 0x115acfa90>"
      ]
     },
     "execution_count": 91,
     "metadata": {},
     "output_type": "execute_result"
    },
    {
     "data": {
      "image/png": "[encoded data removed]",
      "text/plain": [
       "<matplotlib.figure.Figure at 0x115ad1350>"
      ]
     },
     "metadata": {},
     "output_type": "display_data"
    }
   ],
   "source": [
    "checkinsDF[checkinsDF.month == 3].weekday.hist(bins = 7)"
   ]
  },
  {
   "cell_type": "code",
   "execution_count": 128,
   "metadata": {
    "collapsed": false
   },
   "outputs": [
    {
     "data": {
      "text/plain": [
       "<matplotlib.axes._subplots.AxesSubplot at 0x10a197a10>"
      ]
     },
     "execution_count": 128,
     "metadata": {},
     "output_type": "execute_result"
    },
    {
     "data": {
      "image/png": "[encoded data removed]",
      "text/plain": [
       "<matplotlib.figure.Figure at 0x196aaee50>"
      ]
     },
     "metadata": {},
     "output_type": "display_data"
    }
   ],
   "source": [
    "healthCheckIns.weekday.hist(bins = 7)"
   ]
  },
  {
   "cell_type": "markdown",
   "metadata": {},
   "source": [
    "### Analyze!"
   ]
  },
  {
   "cell_type": "code",
   "execution_count": 9,
   "metadata": {
    "collapsed": false
   },
   "outputs": [],
   "source": [
    "healthVenues = venuesDF[venuesDF['categoryId'].isin(healthIds)].sort('checkinsCount',ascending = False)"
   ]
  },
  {
   "cell_type": "code",
   "execution_count": 103,
   "metadata": {
    "collapsed": false
   },
   "outputs": [
    {
     "data": {
      "text/plain": [
       "Index([u'index', u'address', u'categoryId', u'checkinsCount', u'name',\n",
       "       u'tipCount', u'usersCount', u'venueId'],\n",
       "      dtype='object')"
      ]
     },
     "execution_count": 103,
     "metadata": {},
     "output_type": "execute_result"
    }
   ],
   "source": [
    "healthVenues.keys()"
   ]
  },
  {
   "cell_type": "code",
   "execution_count": 10,
   "metadata": {
    "collapsed": false
   },
   "outputs": [],
   "source": [
    "healthCheckIns = checkinsDF[checkinsDF.venueId.isin(healthVenues.venueId.tolist())]"
   ]
  },
  {
   "cell_type": "code",
   "execution_count": 12,
   "metadata": {
    "collapsed": true
   },
   "outputs": [],
   "source": [
    "healthUsers = usersDF[usersDF.userId.isin(healthCheckIns.userId.tolist())]"
   ]
  },
  {
   "cell_type": "code",
   "execution_count": null,
   "metadata": {
    "collapsed": true
   },
   "outputs": [],
   "source": [
    "healthCheckIns.groupby('')"
   ]
  },
  {
   "cell_type": "code",
   "execution_count": 224,
   "metadata": {
    "collapsed": false
   },
   "outputs": [],
   "source": [
    "categories = []\n",
    "for checkIn in parsedCheckins:\n",
    "    checkInVenue = checkIn['venue']\n",
    "    for category in checkInVenue['categories']:\n",
    "        if category['primary']:\n",
    "            categories.append({'id':category['id'],\n",
    "                              'name':category['name']})\n",
    "catDF = pd.DataFrame(categories)"
   ]
  },
  {
   "cell_type": "code",
   "execution_count": 225,
   "metadata": {
    "collapsed": true
   },
   "outputs": [],
   "source": [
    "healthCheckins = []\n",
    "for checkIn in parsedCheckins:\n",
    "    checkInVenue = checkIn['venue']\n",
    "    for category in checkInVenue['categories']:\n",
    "        if category['id'] in healthIds:\n",
    "            healthCheckins.append(checkIn)\n",
    "            break"
   ]
  },
  {
   "cell_type": "code",
   "execution_count": 226,
   "metadata": {
    "collapsed": true
   },
   "outputs": [],
   "source": [
    "healthUsers = []\n",
    "for checkIn in healthCheckins:\n",
    "    checkInUser = checkIn['user']\n",
    "    healthUsers.append({'id':checkInUser['id']})\n",
    "healthUserDF = pd.DataFrame(healthUsers)"
   ]
  },
  {
   "cell_type": "code",
   "execution_count": 227,
   "metadata": {
    "collapsed": true
   },
   "outputs": [],
   "source": [
    "venues = []\n",
    "for checkIn in healthCheckins:\n",
    "    checkInVenue = checkIn['venue']\n",
    "    venues.append({'id':checkInVenue['id'],\n",
    "                              'name':checkInVenue['name'],\n",
    "                              'usersCount':checkInVenue['stats']['usersCount']})\n",
    "healthVenuesDF = pd.DataFrame(venues)"
   ]
  },
  {
   "cell_type": "code",
   "execution_count": 228,
   "metadata": {
    "collapsed": true
   },
   "outputs": [],
   "source": [
    "healthUsersTotal = []\n",
    "for checkIn in healthCheckins:\n",
    "    checkInUser = checkIn['user']\n",
    "    if checkInUser['id'] in healthUsersIds:\n",
    "        healthUsersTotal.append({'id':checkInUser['id']})\n",
    "healthUserTotalDF = pd.DataFrame(healthUsersTotal)"
   ]
  },
  {
   "cell_type": "code",
   "execution_count": 243,
   "metadata": {
    "collapsed": false
   },
   "outputs": [],
   "source": [
    "groupedCat = catDF.groupby(['name'])['id'].agg('count').order(ascending=False)"
   ]
  },
  {
   "cell_type": "code",
   "execution_count": 230,
   "metadata": {
    "collapsed": true
   },
   "outputs": [],
   "source": [
    "groupedUsersHealth = healthUserDF.groupby(['id'])['id'].agg('count').order(ascending=False)"
   ]
  },
  {
   "cell_type": "code",
   "execution_count": 231,
   "metadata": {
    "collapsed": true
   },
   "outputs": [],
   "source": [
    "groupedUsersHealthTotal = healthUserTotalDF.groupby(['id'])['id'].agg('count').order(ascending=False)"
   ]
  },
  {
   "cell_type": "code",
   "execution_count": 232,
   "metadata": {
    "collapsed": false
   },
   "outputs": [],
   "source": [
    "groupedUsers = userDF.groupby(['id'])['id'].agg('count').order(ascending=False)"
   ]
  },
  {
   "cell_type": "code",
   "execution_count": 250,
   "metadata": {
    "collapsed": false
   },
   "outputs": [],
   "source": [
    "groupedVenues = healthVenuesDF.groupby(['id'])['id'].agg('count').order(ascending=False)"
   ]
  },
  {
   "cell_type": "code",
   "execution_count": 251,
   "metadata": {
    "collapsed": false
   },
   "outputs": [
    {
     "data": {
      "text/plain": [
       "id\n",
       "4bdd5f27f219c9b6bb751210    384\n",
       "4e4aab0f62e13240b700e034    167\n",
       "4bc090ca920eb7132e14192c     84\n",
       "4bc8760792b376b03767513a     73\n",
       "4b9bb751f964a520361d36e3     70\n",
       "4bdc9716afe8c9b689235085     61\n",
       "4bb41c28f187a593f1e913f8     51\n",
       "4cee97333b03f04da5ba3adc     39\n",
       "4c11f318d5599521185818b9     34\n",
       "4b827a36f964a52098d430e3     31\n",
       "Name: id, dtype: int64"
      ]
     },
     "execution_count": 251,
     "metadata": {},
     "output_type": "execute_result"
    }
   ],
   "source": [
    "groupedVenues[0:10]"
   ]
  },
  {
   "cell_type": "code",
   "execution_count": 235,
   "metadata": {
    "collapsed": false
   },
   "outputs": [
    {
     "data": {
      "text/plain": [
       "<matplotlib.axes._subplots.AxesSubplot at 0x15df670d0>"
      ]
     },
     "execution_count": 235,
     "metadata": {},
     "output_type": "execute_result"
    },
    {
     "data": {
      "image/png": "[encoded data removed]",
      "text/plain": [
       "<matplotlib.figure.Figure at 0x110facb90>"
      ]
     },
     "metadata": {},
     "output_type": "display_data"
    }
   ],
   "source": [
    "%matplotlib inline \n",
    "groupedUsersHealthTotal[2:200].hist(bins = 20)"
   ]
  },
  {
   "cell_type": "code",
   "execution_count": 240,
   "metadata": {
    "collapsed": false
   },
   "outputs": [
    {
     "data": {
      "text/plain": [
       "<matplotlib.axes._subplots.AxesSubplot at 0x16073a3d0>"
      ]
     },
     "execution_count": 240,
     "metadata": {},
     "output_type": "execute_result"
    },
    {
     "data": {
      "image/png": "[encoded data removed]",
      "text/plain": [
       "<matplotlib.figure.Figure at 0x1604db390>"
      ]
     },
     "metadata": {},
     "output_type": "display_data"
    }
   ],
   "source": [
    "#Per user\n",
    "groupedUsers[10:300].hist(bins = 30)"
   ]
  },
  {
   "cell_type": "code",
   "execution_count": 249,
   "metadata": {
    "collapsed": false
   },
   "outputs": [
    {
     "data": {
      "text/plain": [
       "19"
      ]
     },
     "execution_count": 249,
     "metadata": {},
     "output_type": "execute_result"
    }
   ],
   "source": [
    "len(catDF[catDF.name.str.contains('Yoga')])"
   ]
  },
  {
   "cell_type": "code",
   "execution_count": 7,
   "metadata": {
    "collapsed": false
   },
   "outputs": [],
   "source": [
    "healthCategories = [\n",
    "     {'id':'4bf58dd8d48988d163941735',\n",
    " 'name':'Park'},\n",
    "{'id':'4bf58dd8d48988d175941735',\n",
    "'name':'Gym / Fitness Center'},\n",
    "{'id':'4bf58dd8d48988d176941735',\n",
    "'name':'Gym'},\n",
    "{'id':'4bf58dd8d48988d188941735 ',\n",
    "'name':'Soccer Stadium'},\n",
    "{'id':'4bf58dd8d48988d104941735',\n",
    "'name':'Medical Center'},\n",
    "{'id':'4bf58dd8d48988d196941735',\n",
    "'name':'Hospital'},\n",
    "{'id':'4bf58dd8d48988d134941735',\n",
    "'name':'Dance Studio'},\n",
    "{'id':'4bf58dd8d48988d184941735',\n",
    "'name':'Stadium'},\n",
    "{'id':'4bf58dd8d48988d178941735',\n",
    "'name':'Dentist\\'s Office '},\n",
    "{'id':'4bf58dd8d48988d185941735',\n",
    "'name':'Hockey Arena'},\n",
    "{'id':'4bf58dd8d48988d105941735',\n",
    "'name':'Gym Pool'},\n",
    "{'id':'4bf58dd8d48988d15e941735',\n",
    "'name':'Pool'},\n",
    "{'id':'4f4528bc4b90abdf24c9de85',\n",
    "'name':'Athletics & Sports'},\n",
    "{'id':'4cce455aebf7b749d5e191f5',\n",
    "'name':'Soccer Field'},\n",
    " {'id':'4bf58dd8d48988d102941735',\n",
    "'name':'Yoga Studio'}]\n",
    "\n",
    "with open('data/healthCategories.json', 'w') as outfile:\n",
    "    json.dump(healthCategories, outfile)"
   ]
  },
  {
   "cell_type": "code",
   "execution_count": 6,
   "metadata": {
    "collapsed": true
   },
   "outputs": [],
   "source": [
    "with open('data/healthCategories.json') as healthCatsFile:\n",
    "    healthCategories = json.load(healthCatsFile)"
   ]
  },
  {
   "cell_type": "code",
   "execution_count": 8,
   "metadata": {
    "collapsed": true
   },
   "outputs": [],
   "source": [
    "healthIds = [healthCat['id'] for healthCat in healthCategories]"
   ]
  },
  {
   "cell_type": "code",
   "execution_count": 159,
   "metadata": {
    "collapsed": true
   },
   "outputs": [],
   "source": [
    "#Get all the health venues\n",
    "healthVenues = venuesDF[venuesDF.categoryId.isin(healthIds)]"
   ]
  },
  {
   "cell_type": "code",
   "execution_count": 160,
   "metadata": {
    "collapsed": false
   },
   "outputs": [],
   "source": [
    "#Get corresponding check-ins\n",
    "healthCheckIns = checkinsDF[checkinsDF.venueId.isin(healthVenues.venueId.tolist())]"
   ]
  },
  {
   "cell_type": "code",
   "execution_count": 161,
   "metadata": {
    "collapsed": false
   },
   "outputs": [],
   "source": [
    "sortedHealthVenues = []\n",
    "for venueId, group in healthCheckIns.groupby('venueId').agg('size').order(ascending = False).iteritems():\n",
    "    sortedHealthVenues.append(venueId)"
   ]
  },
  {
   "cell_type": "code",
   "execution_count": 162,
   "metadata": {
    "collapsed": false
   },
   "outputs": [
    {
     "data": {
      "text/plain": [
       "[u'4b9bb751f964a520361d36e3',\n",
       " u'4cee97333b03f04da5ba3adc',\n",
       " u'4bc6e22e0050b7138eb3b73b',\n",
       " u'538c981b498e254777d000e8',\n",
       " u'4be05b23652b0f4790247211',\n",
       " u'4ee75de0e4b06ce67470a92a',\n",
       " u'4c1dde9ab306c928913f66b7',\n",
       " u'4c3f4508e26920a1aa2f5be7',\n",
       " u'4cdfdba3567d2d430c6ca11c',\n",
       " u'4e005aa57d8beaa1649c2cdb']"
      ]
     },
     "execution_count": 162,
     "metadata": {},
     "output_type": "execute_result"
    }
   ],
   "source": [
    "sortedHealthVenues[:10]"
   ]
  },
  {
   "cell_type": "code",
   "execution_count": 163,
   "metadata": {
    "collapsed": false
   },
   "outputs": [
    {
     "name": "stderr",
     "output_type": "stream",
     "text": [
      "/Library/Python/2.7/site-packages/IPython/kernel/__main__.py:5: SettingWithCopyWarning: \n",
      "A value is trying to be set on a copy of a slice from a DataFrame.\n",
      "Try using .loc[row_indexer,col_indexer] = value instead\n",
      "\n",
      "See the the caveats in the documentation: http://pandas.pydata.org/pandas-docs/stable/indexing.html#indexing-view-versus-copy\n"
     ]
    }
   ],
   "source": [
    "#add a specific order\n",
    "healthVenues['sortedId'] = pd.Categorical(\n",
    "    healthVenues['venueId'], \n",
    "    categories=sortedHealthVenues, \n",
    "    ordered=True\n",
    ")"
   ]
  },
  {
   "cell_type": "code",
   "execution_count": 166,
   "metadata": {
    "collapsed": false
   },
   "outputs": [
    {
     "data": {
      "text/plain": [
       "1165"
      ]
     },
     "execution_count": 166,
     "metadata": {},
     "output_type": "execute_result"
    }
   ],
   "source": [
    "len(healthVenues)"
   ]
  },
  {
   "cell_type": "code",
   "execution_count": 147,
   "metadata": {
    "collapsed": true
   },
   "outputs": [],
   "source": [
    "healthUsersIds = [hU['id'] for hU in healthUsers]"
   ]
  },
  {
   "cell_type": "code",
   "execution_count": 165,
   "metadata": {
    "collapsed": false
   },
   "outputs": [
    {
     "data": {
      "text/html": [
       "<div style=\"max-height:1000px;max-width:1500px;overflow:auto;\">\n",
       "<table border=\"1\" class=\"dataframe\">\n",
       "  <thead>\n",
       "    <tr style=\"text-align: right;\">\n",
       "      <th></th>\n",
       "      <th>address</th>\n",
       "      <th>categoryId</th>\n",
       "      <th>checkinsCount</th>\n",
       "      <th>name</th>\n",
       "      <th>tipCount</th>\n",
       "      <th>usersCount</th>\n",
       "      <th>venueId</th>\n",
       "      <th>sortedId</th>\n",
       "    </tr>\n",
       "  </thead>\n",
       "  <tbody>\n",
       "    <tr>\n",
       "      <th>2034</th>\n",
       "      <td>Олимпийский просп., 16</td>\n",
       "      <td>4bf58dd8d48988d184941735</td>\n",
       "      <td>44706</td>\n",
       "      <td>СК «Олимпийский»</td>\n",
       "      <td>238</td>\n",
       "      <td>26782</td>\n",
       "      <td>4b9bb751f964a520361d36e3</td>\n",
       "      <td>4b9bb751f964a520361d36e3</td>\n",
       "    </tr>\n",
       "    <tr>\n",
       "      <th>2683</th>\n",
       "      <td>ТРЦ \"Филион\"</td>\n",
       "      <td>4bf58dd8d48988d175941735</td>\n",
       "      <td>14363</td>\n",
       "      <td>ALEX-Fitness</td>\n",
       "      <td>83</td>\n",
       "      <td>1291</td>\n",
       "      <td>4cee97333b03f04da5ba3adc</td>\n",
       "      <td>4cee97333b03f04da5ba3adc</td>\n",
       "    </tr>\n",
       "    <tr>\n",
       "      <th>1214</th>\n",
       "      <td>ул. Правды, д.21, с.2</td>\n",
       "      <td>4bf58dd8d48988d175941735</td>\n",
       "      <td>19852</td>\n",
       "      <td>Планета Фитнес</td>\n",
       "      <td>119</td>\n",
       "      <td>1434</td>\n",
       "      <td>4bc6e22e0050b7138eb3b73b</td>\n",
       "      <td>4bc6e22e0050b7138eb3b73b</td>\n",
       "    </tr>\n",
       "    <tr>\n",
       "      <th>1176</th>\n",
       "      <td>ТРЦ «Афимолл Сити»</td>\n",
       "      <td>4bf58dd8d48988d175941735</td>\n",
       "      <td>7541</td>\n",
       "      <td>Физика</td>\n",
       "      <td>27</td>\n",
       "      <td>776</td>\n",
       "      <td>538c981b498e254777d000e8</td>\n",
       "      <td>538c981b498e254777d000e8</td>\n",
       "    </tr>\n",
       "    <tr>\n",
       "      <th>2021</th>\n",
       "      <td>ул. Авиамоторная, 10</td>\n",
       "      <td>4bf58dd8d48988d175941735</td>\n",
       "      <td>11670</td>\n",
       "      <td>Планета Фитнес</td>\n",
       "      <td>47</td>\n",
       "      <td>926</td>\n",
       "      <td>4be05b23652b0f4790247211</td>\n",
       "      <td>4be05b23652b0f4790247211</td>\n",
       "    </tr>\n",
       "    <tr>\n",
       "      <th>128</th>\n",
       "      <td>Волгоградский пр. д. 1 стр. 2</td>\n",
       "      <td>4bf58dd8d48988d175941735</td>\n",
       "      <td>12305</td>\n",
       "      <td>Зебра</td>\n",
       "      <td>85</td>\n",
       "      <td>964</td>\n",
       "      <td>4ee75de0e4b06ce67470a92a</td>\n",
       "      <td>4ee75de0e4b06ce67470a92a</td>\n",
       "    </tr>\n",
       "    <tr>\n",
       "      <th>749</th>\n",
       "      <td>Пятницкое ш., 29, корп. 5</td>\n",
       "      <td>4bf58dd8d48988d175941735</td>\n",
       "      <td>15924</td>\n",
       "      <td>World Class Lite</td>\n",
       "      <td>94</td>\n",
       "      <td>998</td>\n",
       "      <td>4c1dde9ab306c928913f66b7</td>\n",
       "      <td>4c1dde9ab306c928913f66b7</td>\n",
       "    </tr>\n",
       "    <tr>\n",
       "      <th>1566</th>\n",
       "      <td>Олимпийский просп., 16, стр. 2</td>\n",
       "      <td>4bf58dd8d48988d15e941735</td>\n",
       "      <td>16941</td>\n",
       "      <td>Бассейн «Олимпийский»</td>\n",
       "      <td>158</td>\n",
       "      <td>3655</td>\n",
       "      <td>4c3f4508e26920a1aa2f5be7</td>\n",
       "      <td>4c3f4508e26920a1aa2f5be7</td>\n",
       "    </tr>\n",
       "    <tr>\n",
       "      <th>2088</th>\n",
       "      <td>Столярный пер., 3</td>\n",
       "      <td>4bf58dd8d48988d175941735</td>\n",
       "      <td>6039</td>\n",
       "      <td>Swim</td>\n",
       "      <td>20</td>\n",
       "      <td>445</td>\n",
       "      <td>4cdfdba3567d2d430c6ca11c</td>\n",
       "      <td>4cdfdba3567d2d430c6ca11c</td>\n",
       "    </tr>\n",
       "    <tr>\n",
       "      <th>1719</th>\n",
       "      <td>Каланчевская ул., 16</td>\n",
       "      <td>4bf58dd8d48988d175941735</td>\n",
       "      <td>15259</td>\n",
       "      <td>Зебра</td>\n",
       "      <td>113</td>\n",
       "      <td>1164</td>\n",
       "      <td>4e005aa57d8beaa1649c2cdb</td>\n",
       "      <td>4e005aa57d8beaa1649c2cdb</td>\n",
       "    </tr>\n",
       "    <tr>\n",
       "      <th>4266</th>\n",
       "      <td>Люблинская ул., 169, корп. 2</td>\n",
       "      <td>4bf58dd8d48988d176941735</td>\n",
       "      <td>11530</td>\n",
       "      <td>Alex Fitness</td>\n",
       "      <td>50</td>\n",
       "      <td>896</td>\n",
       "      <td>4e477763a809fb2fa3f9d686</td>\n",
       "      <td>4e477763a809fb2fa3f9d686</td>\n",
       "    </tr>\n",
       "    <tr>\n",
       "      <th>506</th>\n",
       "      <td>Докукина, 8 стр.2</td>\n",
       "      <td>4bf58dd8d48988d176941735</td>\n",
       "      <td>8044</td>\n",
       "      <td>Зебра</td>\n",
       "      <td>59</td>\n",
       "      <td>716</td>\n",
       "      <td>4d89fe434757721e4c1cad69</td>\n",
       "      <td>4d89fe434757721e4c1cad69</td>\n",
       "    </tr>\n",
       "    <tr>\n",
       "      <th>2930</th>\n",
       "      <td>Сиреневый бул., 2</td>\n",
       "      <td>4bf58dd8d48988d15e941735</td>\n",
       "      <td>4074</td>\n",
       "      <td>Бассейн РГУФКСиТ</td>\n",
       "      <td>25</td>\n",
       "      <td>994</td>\n",
       "      <td>4d4e8116e0f2a1cdf4d98d8d</td>\n",
       "      <td>4d4e8116e0f2a1cdf4d98d8d</td>\n",
       "    </tr>\n",
       "    <tr>\n",
       "      <th>1955</th>\n",
       "      <td>ул. Петрозаводская, 11/3</td>\n",
       "      <td>4bf58dd8d48988d176941735</td>\n",
       "      <td>2353</td>\n",
       "      <td>Париж Life</td>\n",
       "      <td>9</td>\n",
       "      <td>254</td>\n",
       "      <td>4da70a944df0260c3e9ef20a</td>\n",
       "      <td>4da70a944df0260c3e9ef20a</td>\n",
       "    </tr>\n",
       "    <tr>\n",
       "      <th>507</th>\n",
       "      <td>Лужнецкая наб., 24, стр. 1</td>\n",
       "      <td>4bf58dd8d48988d184941735</td>\n",
       "      <td>46277</td>\n",
       "      <td>Стадион «Лужники» / Luzhniki Stadium</td>\n",
       "      <td>74</td>\n",
       "      <td>20865</td>\n",
       "      <td>4bb733c646d4a593732cc7c0</td>\n",
       "      <td>4bb733c646d4a593732cc7c0</td>\n",
       "    </tr>\n",
       "    <tr>\n",
       "      <th>411</th>\n",
       "      <td>БЦ «Silver City»</td>\n",
       "      <td>4bf58dd8d48988d176941735</td>\n",
       "      <td>1769</td>\n",
       "      <td>Republika</td>\n",
       "      <td>13</td>\n",
       "      <td>151</td>\n",
       "      <td>52ebc5dc498e2dabed48406a</td>\n",
       "      <td>52ebc5dc498e2dabed48406a</td>\n",
       "    </tr>\n",
       "    <tr>\n",
       "      <th>1246</th>\n",
       "      <td>ул. Лужники, 24, стр. 3</td>\n",
       "      <td>4bf58dd8d48988d185941735</td>\n",
       "      <td>17206</td>\n",
       "      <td>Малая спортивная арена «Лужники»\\ Luzhniki Sma...</td>\n",
       "      <td>60</td>\n",
       "      <td>8503</td>\n",
       "      <td>4c9d8f872fb1a1439816e240</td>\n",
       "      <td>4c9d8f872fb1a1439816e240</td>\n",
       "    </tr>\n",
       "    <tr>\n",
       "      <th>1209</th>\n",
       "      <td>Мясницкая ул., 15</td>\n",
       "      <td>4bf58dd8d48988d134941735</td>\n",
       "      <td>5065</td>\n",
       "      <td>9 залов</td>\n",
       "      <td>18</td>\n",
       "      <td>847</td>\n",
       "      <td>4f2a821bc2eeafc8a7ba872e</td>\n",
       "      <td>4f2a821bc2eeafc8a7ba872e</td>\n",
       "    </tr>\n",
       "    <tr>\n",
       "      <th>1326</th>\n",
       "      <td>Турчанинов пер., 3, стр.1</td>\n",
       "      <td>4bf58dd8d48988d105941735</td>\n",
       "      <td>10459</td>\n",
       "      <td>СОК «Чайка»</td>\n",
       "      <td>95</td>\n",
       "      <td>2091</td>\n",
       "      <td>4bf6bfc0b182c9b65e6c745a</td>\n",
       "      <td>4bf6bfc0b182c9b65e6c745a</td>\n",
       "    </tr>\n",
       "    <tr>\n",
       "      <th>1191</th>\n",
       "      <td>ул. Лодочная, 43</td>\n",
       "      <td>4bf58dd8d48988d175941735</td>\n",
       "      <td>10310</td>\n",
       "      <td>World Class Lite</td>\n",
       "      <td>29</td>\n",
       "      <td>659</td>\n",
       "      <td>520f117111d2a782f1211c3b</td>\n",
       "      <td>520f117111d2a782f1211c3b</td>\n",
       "    </tr>\n",
       "    <tr>\n",
       "      <th>934</th>\n",
       "      <td>Жуковский пр., 10</td>\n",
       "      <td>4bf58dd8d48988d175941735</td>\n",
       "      <td>552</td>\n",
       "      <td>Wellness Club Family</td>\n",
       "      <td>4</td>\n",
       "      <td>70</td>\n",
       "      <td>523981e111d23c84ed0eda75</td>\n",
       "      <td>523981e111d23c84ed0eda75</td>\n",
       "    </tr>\n",
       "    <tr>\n",
       "      <th>401</th>\n",
       "      <td>1-й пр. Перова поля, 9</td>\n",
       "      <td>4bf58dd8d48988d175941735</td>\n",
       "      <td>10920</td>\n",
       "      <td>World Gym</td>\n",
       "      <td>87</td>\n",
       "      <td>785</td>\n",
       "      <td>4f16ed94e4b0044a28ac6094</td>\n",
       "      <td>4f16ed94e4b0044a28ac6094</td>\n",
       "    </tr>\n",
       "    <tr>\n",
       "      <th>5725</th>\n",
       "      <td>Новодмитровская ул., 5А, стр. 2</td>\n",
       "      <td>4bf58dd8d48988d175941735</td>\n",
       "      <td>7210</td>\n",
       "      <td>MANXЭТТЕН</td>\n",
       "      <td>22</td>\n",
       "      <td>579</td>\n",
       "      <td>522482e811d2c23bb3190e1f</td>\n",
       "      <td>522482e811d2c23bb3190e1f</td>\n",
       "    </tr>\n",
       "    <tr>\n",
       "      <th>2191</th>\n",
       "      <td>Рублевское шоссе, 10</td>\n",
       "      <td>4bf58dd8d48988d175941735</td>\n",
       "      <td>10689</td>\n",
       "      <td>Олимпик Стар</td>\n",
       "      <td>36</td>\n",
       "      <td>732</td>\n",
       "      <td>4d7e476c3633a093b5b87b9d</td>\n",
       "      <td>4d7e476c3633a093b5b87b9d</td>\n",
       "    </tr>\n",
       "    <tr>\n",
       "      <th>4477</th>\n",
       "      <td>ул. Кирова 24</td>\n",
       "      <td>4f4528bc4b90abdf24c9de85</td>\n",
       "      <td>337</td>\n",
       "      <td>УТЦ ФК «Химки»</td>\n",
       "      <td>0</td>\n",
       "      <td>26</td>\n",
       "      <td>517f8c5fe4b03eb0df58d057</td>\n",
       "      <td>517f8c5fe4b03eb0df58d057</td>\n",
       "    </tr>\n",
       "    <tr>\n",
       "      <th>1510</th>\n",
       "      <td>Улица Маши Порываевой, 34</td>\n",
       "      <td>4bf58dd8d48988d175941735</td>\n",
       "      <td>109</td>\n",
       "      <td>Культ личности</td>\n",
       "      <td>1</td>\n",
       "      <td>11</td>\n",
       "      <td>54d9e1a3498e114e5207bd0e</td>\n",
       "      <td>54d9e1a3498e114e5207bd0e</td>\n",
       "    </tr>\n",
       "    <tr>\n",
       "      <th>1764</th>\n",
       "      <td>ул. Большая Семёновская, 11/1</td>\n",
       "      <td>4bf58dd8d48988d175941735</td>\n",
       "      <td>12614</td>\n",
       "      <td>Фитнес клуб \"Зебра\"/ ZEBRA FITNES and SPA</td>\n",
       "      <td>112</td>\n",
       "      <td>1147</td>\n",
       "      <td>4e5b506081dcc95bf501eb47</td>\n",
       "      <td>4e5b506081dcc95bf501eb47</td>\n",
       "    </tr>\n",
       "    <tr>\n",
       "      <th>1751</th>\n",
       "      <td>ул.Троицкая, 9а</td>\n",
       "      <td>4bf58dd8d48988d176941735</td>\n",
       "      <td>2506</td>\n",
       "      <td>Фитнес-клуб Iron Fitness</td>\n",
       "      <td>14</td>\n",
       "      <td>236</td>\n",
       "      <td>4e796e2f52b1fc6a4ae3f44f</td>\n",
       "      <td>4e796e2f52b1fc6a4ae3f44f</td>\n",
       "    </tr>\n",
       "    <tr>\n",
       "      <th>4689</th>\n",
       "      <td>ул. Мневники, 19</td>\n",
       "      <td>4bf58dd8d48988d134941735</td>\n",
       "      <td>723</td>\n",
       "      <td>Тодес / Todes</td>\n",
       "      <td>1</td>\n",
       "      <td>90</td>\n",
       "      <td>4dcd786322718eed7a1f7ef0</td>\n",
       "      <td>4dcd786322718eed7a1f7ef0</td>\n",
       "    </tr>\n",
       "    <tr>\n",
       "      <th>385</th>\n",
       "      <td>Смирновская, 4</td>\n",
       "      <td>4bf58dd8d48988d134941735</td>\n",
       "      <td>1278</td>\n",
       "      <td>Студия TODES Люберцы</td>\n",
       "      <td>1</td>\n",
       "      <td>104</td>\n",
       "      <td>4f88054be4b0e5ed73193c3a</td>\n",
       "      <td>4f88054be4b0e5ed73193c3a</td>\n",
       "    </tr>\n",
       "  </tbody>\n",
       "</table>\n",
       "</div>"
      ],
      "text/plain": [
       "                              address                categoryId  \\\n",
       "2034           Олимпийский просп., 16  4bf58dd8d48988d184941735   \n",
       "2683                     ТРЦ \"Филион\"  4bf58dd8d48988d175941735   \n",
       "1214            ул. Правды, д.21, с.2  4bf58dd8d48988d175941735   \n",
       "1176               ТРЦ «Афимолл Сити»  4bf58dd8d48988d175941735   \n",
       "2021             ул. Авиамоторная, 10  4bf58dd8d48988d175941735   \n",
       "128     Волгоградский пр. д. 1 стр. 2  4bf58dd8d48988d175941735   \n",
       "749         Пятницкое ш., 29, корп. 5  4bf58dd8d48988d175941735   \n",
       "1566   Олимпийский просп., 16, стр. 2  4bf58dd8d48988d15e941735   \n",
       "2088                Столярный пер., 3  4bf58dd8d48988d175941735   \n",
       "1719             Каланчевская ул., 16  4bf58dd8d48988d175941735   \n",
       "4266     Люблинская ул., 169, корп. 2  4bf58dd8d48988d176941735   \n",
       "506                 Докукина, 8 стр.2  4bf58dd8d48988d176941735   \n",
       "2930                Сиреневый бул., 2  4bf58dd8d48988d15e941735   \n",
       "1955         ул. Петрозаводская, 11/3  4bf58dd8d48988d176941735   \n",
       "507        Лужнецкая наб., 24, стр. 1  4bf58dd8d48988d184941735   \n",
       "411                  БЦ «Silver City»  4bf58dd8d48988d176941735   \n",
       "1246          ул. Лужники, 24, стр. 3  4bf58dd8d48988d185941735   \n",
       "1209                Мясницкая ул., 15  4bf58dd8d48988d134941735   \n",
       "1326        Турчанинов пер., 3, стр.1  4bf58dd8d48988d105941735   \n",
       "1191                 ул. Лодочная, 43  4bf58dd8d48988d175941735   \n",
       "934                 Жуковский пр., 10  4bf58dd8d48988d175941735   \n",
       "401            1-й пр. Перова поля, 9  4bf58dd8d48988d175941735   \n",
       "5725  Новодмитровская ул., 5А, стр. 2  4bf58dd8d48988d175941735   \n",
       "2191             Рублевское шоссе, 10  4bf58dd8d48988d175941735   \n",
       "4477                    ул. Кирова 24  4f4528bc4b90abdf24c9de85   \n",
       "1510        Улица Маши Порываевой, 34  4bf58dd8d48988d175941735   \n",
       "1764    ул. Большая Семёновская, 11/1  4bf58dd8d48988d175941735   \n",
       "1751                  ул.Троицкая, 9а  4bf58dd8d48988d176941735   \n",
       "4689                 ул. Мневники, 19  4bf58dd8d48988d134941735   \n",
       "385                    Смирновская, 4  4bf58dd8d48988d134941735   \n",
       "\n",
       "      checkinsCount                                               name  \\\n",
       "2034          44706                                   СК «Олимпийский»   \n",
       "2683          14363                                       ALEX-Fitness   \n",
       "1214          19852                                     Планета Фитнес   \n",
       "1176           7541                                             Физика   \n",
       "2021          11670                                     Планета Фитнес   \n",
       "128           12305                                              Зебра   \n",
       "749           15924                                   World Class Lite   \n",
       "1566          16941                              Бассейн «Олимпийский»   \n",
       "2088           6039                                               Swim   \n",
       "1719          15259                                              Зебра   \n",
       "4266          11530                                       Alex Fitness   \n",
       "506            8044                                              Зебра   \n",
       "2930           4074                                   Бассейн РГУФКСиТ   \n",
       "1955           2353                                         Париж Life   \n",
       "507           46277               Стадион «Лужники» / Luzhniki Stadium   \n",
       "411            1769                                          Republika   \n",
       "1246          17206  Малая спортивная арена «Лужники»\\ Luzhniki Sma...   \n",
       "1209           5065                                            9 залов   \n",
       "1326          10459                                        СОК «Чайка»   \n",
       "1191          10310                                   World Class Lite   \n",
       "934             552                               Wellness Club Family   \n",
       "401           10920                                          World Gym   \n",
       "5725           7210                                          MANXЭТТЕН   \n",
       "2191          10689                                       Олимпик Стар   \n",
       "4477            337                                     УТЦ ФК «Химки»   \n",
       "1510            109                                     Культ личности   \n",
       "1764          12614          Фитнес клуб \"Зебра\"/ ZEBRA FITNES and SPA   \n",
       "1751           2506                           Фитнес-клуб Iron Fitness   \n",
       "4689            723                                      Тодес / Todes   \n",
       "385            1278                               Студия TODES Люберцы   \n",
       "\n",
       "      tipCount  usersCount                   venueId                  sortedId  \n",
       "2034       238       26782  4b9bb751f964a520361d36e3  4b9bb751f964a520361d36e3  \n",
       "2683        83        1291  4cee97333b03f04da5ba3adc  4cee97333b03f04da5ba3adc  \n",
       "1214       119        1434  4bc6e22e0050b7138eb3b73b  4bc6e22e0050b7138eb3b73b  \n",
       "1176        27         776  538c981b498e254777d000e8  538c981b498e254777d000e8  \n",
       "2021        47         926  4be05b23652b0f4790247211  4be05b23652b0f4790247211  \n",
       "128         85         964  4ee75de0e4b06ce67470a92a  4ee75de0e4b06ce67470a92a  \n",
       "749         94         998  4c1dde9ab306c928913f66b7  4c1dde9ab306c928913f66b7  \n",
       "1566       158        3655  4c3f4508e26920a1aa2f5be7  4c3f4508e26920a1aa2f5be7  \n",
       "2088        20         445  4cdfdba3567d2d430c6ca11c  4cdfdba3567d2d430c6ca11c  \n",
       "1719       113        1164  4e005aa57d8beaa1649c2cdb  4e005aa57d8beaa1649c2cdb  \n",
       "4266        50         896  4e477763a809fb2fa3f9d686  4e477763a809fb2fa3f9d686  \n",
       "506         59         716  4d89fe434757721e4c1cad69  4d89fe434757721e4c1cad69  \n",
       "2930        25         994  4d4e8116e0f2a1cdf4d98d8d  4d4e8116e0f2a1cdf4d98d8d  \n",
       "1955         9         254  4da70a944df0260c3e9ef20a  4da70a944df0260c3e9ef20a  \n",
       "507         74       20865  4bb733c646d4a593732cc7c0  4bb733c646d4a593732cc7c0  \n",
       "411         13         151  52ebc5dc498e2dabed48406a  52ebc5dc498e2dabed48406a  \n",
       "1246        60        8503  4c9d8f872fb1a1439816e240  4c9d8f872fb1a1439816e240  \n",
       "1209        18         847  4f2a821bc2eeafc8a7ba872e  4f2a821bc2eeafc8a7ba872e  \n",
       "1326        95        2091  4bf6bfc0b182c9b65e6c745a  4bf6bfc0b182c9b65e6c745a  \n",
       "1191        29         659  520f117111d2a782f1211c3b  520f117111d2a782f1211c3b  \n",
       "934          4          70  523981e111d23c84ed0eda75  523981e111d23c84ed0eda75  \n",
       "401         87         785  4f16ed94e4b0044a28ac6094  4f16ed94e4b0044a28ac6094  \n",
       "5725        22         579  522482e811d2c23bb3190e1f  522482e811d2c23bb3190e1f  \n",
       "2191        36         732  4d7e476c3633a093b5b87b9d  4d7e476c3633a093b5b87b9d  \n",
       "4477         0          26  517f8c5fe4b03eb0df58d057  517f8c5fe4b03eb0df58d057  \n",
       "1510         1          11  54d9e1a3498e114e5207bd0e  54d9e1a3498e114e5207bd0e  \n",
       "1764       112        1147  4e5b506081dcc95bf501eb47  4e5b506081dcc95bf501eb47  \n",
       "1751        14         236  4e796e2f52b1fc6a4ae3f44f  4e796e2f52b1fc6a4ae3f44f  \n",
       "4689         1          90  4dcd786322718eed7a1f7ef0  4dcd786322718eed7a1f7ef0  \n",
       "385          1         104  4f88054be4b0e5ed73193c3a  4f88054be4b0e5ed73193c3a  "
      ]
     },
     "execution_count": 165,
     "metadata": {},
     "output_type": "execute_result"
    }
   ],
   "source": [
    "healthVenues.sort('sortedId')[:30]"
   ]
  },
  {
   "cell_type": "code",
   "execution_count": 247,
   "metadata": {
    "collapsed": false
   },
   "outputs": [
    {
     "data": {
      "text/plain": [
       "name\n",
       "Law School                         69\n",
       "Parking                            68\n",
       "Cosmetics Shop                     67\n",
       "Dentist's Office                   66\n",
       "Ramen / Noodle House               65\n",
       "TV Station                         65\n",
       "Convention Center                  64\n",
       "Sporting Goods Shop                64\n",
       "Asian Restaurant                   61\n",
       "Electronics Store                  60\n",
       "Embassy / Consulate                60\n",
       "Road                               58\n",
       "Supermarket                        58\n",
       "Athletics & Sports                 57\n",
       "Hockey Arena                       56\n",
       "Other Event                        56\n",
       "Botanical Garden                   56\n",
       "Arcade                             56\n",
       "Airport Gate                       55\n",
       "Library                            53\n",
       "General Travel                     53\n",
       "Music Venue                        51\n",
       "Cultural Center                    51\n",
       "Steakhouse                         50\n",
       "Rock Club                          48\n",
       "Pool                               48\n",
       "Food & Drink Shop                  48\n",
       "Nail Salon                         47\n",
       "Factory                            47\n",
       "Historic Site                      46\n",
       "Car Wash                           46\n",
       "Soccer Field                       46\n",
       "Sandwich Place                     45\n",
       "Circus                             45\n",
       "Convenience Store                  44\n",
       "Hardware Store                     44\n",
       "Cemetery                           44\n",
       "Museum                             44\n",
       "Gym Pool                           43\n",
       "Vegetarian / Vegan Restaurant      42\n",
       "Playground                         42\n",
       "College Administrative Building    41\n",
       "Modern European Restaurant         41\n",
       "College Science Building           40\n",
       "Community College                  39\n",
       "Medical School                     38\n",
       "Gaming Cafe                        38\n",
       "Sports Bar                         38\n",
       "Karaoke Bar                        37\n",
       "Racetrack                          37\n",
       "Name: id, dtype: int64"
      ]
     },
     "execution_count": 247,
     "metadata": {},
     "output_type": "execute_result"
    }
   ],
   "source": [
    "groupedCat[100:150]"
   ]
  },
  {
   "cell_type": "code",
   "execution_count": 263,
   "metadata": {
    "collapsed": false
   },
   "outputs": [],
   "source": [
    "# Get the last unbroken script\n",
    "scriptId = 0\n",
    "scriptStep = 0\n",
    "for scriptArray in theScripts:\n",
    "    if len(scriptArray)>0:\n",
    "        scriptId = scriptStep\n",
    "    scriptStep = scriptStep+1"
   ]
  }
 ],
 "metadata": {
  "kernelspec": {
   "display_name": "Python 2",
   "language": "python",
   "name": "python2"
  },
  "language_info": {
   "codemirror_mode": {
    "name": "ipython",
    "version": 2
   },
   "file_extension": ".py",
   "mimetype": "text/x-python",
   "name": "python",
   "nbconvert_exporter": "python",
   "pygments_lexer": "ipython2",
   "version": "2.7.6"
  }
 },
 "nbformat": 4,
 "nbformat_minor": 0
}
