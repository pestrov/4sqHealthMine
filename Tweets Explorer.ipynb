{
 "cells": [
  {
   "cell_type": "code",
   "execution_count": null,
   "metadata": {
    "collapsed": true
   },
   "outputs": [],
   "source": [
    "import urllib2\n",
    "import sqlite3\n",
    "import numpy as np\n",
    "import pandas as pd\n",
    "from sys import stdout\n",
    "from datetime import datetime\n",
    "import json"
   ]
  },
  {
   "cell_type": "markdown",
   "metadata": {},
   "source": [
    "# Step 1: Select tweets sent from Foursquare app"
   ]
  },
  {
   "cell_type": "code",
   "execution_count": null,
   "metadata": {
    "collapsed": true
   },
   "outputs": [],
   "source": [
    "#Step 1: Select tweets sent from Foursquare app\n",
    "foursquaredata = 0\n",
    "useWholeDB = True\n",
    "if useWholeDB:\n",
    "    con = sqlite3.connect('data/allSpringTweets.db')\n",
    "    foursquaredata = pd.read_sql(\"SELECT * from tweets WHERE source = 'Foursquare'\", con)\n",
    "else:\n",
    "    con = sqlite3.connect('data/foursquareSpring.db')\n",
    "    foursquaredata = pd.read_sql(\"SELECT * from tweets\", con)"
   ]
  },
  {
   "cell_type": "code",
   "execution_count": 82,
   "metadata": {
    "collapsed": false
   },
   "outputs": [
    {
     "name": "stdout",
     "output_type": "stream",
     "text": [
      "Total tweets from 4sq: 92387\n"
     ]
    }
   ],
   "source": [
    "print 'Total tweets from 4sq:', len(foursquaredata)"
   ]
  },
  {
   "cell_type": "markdown",
   "metadata": {},
   "source": [
    "# Step 2: Extract scipt data that contains JSON from link in the tweets"
   ]
  },
  {
   "cell_type": "code",
   "execution_count": 87,
   "metadata": {
    "collapsed": true
   },
   "outputs": [],
   "source": [
    "from bs4 import BeautifulSoup\n",
    "def extract_urls(lst):\n",
    "        urls = []\n",
    "        for j in lst.split(' '):\n",
    "            if j.startswith('http'):\n",
    "                urls.append(j)\n",
    "        return urls\n",
    "\n",
    "def resolve_url(starturl):\n",
    "    try:\n",
    "        req = urllib2.Request(starturl)\n",
    "        res = urllib2.urlopen(req, timeout = 2)\n",
    "        finalurl = res.geturl()\n",
    "        soup = BeautifulSoup(res.read())\n",
    "        #print soup.find_all('script')\n",
    "        #print(soup.prettify())\n",
    "        \n",
    "        return soup\n",
    "    except:\n",
    "        pass\n",
    "    \n",
    "def progress(i, n):\n",
    "    stdout.write(\"\\r%f%%\" % (i*100/float(n)))\n",
    "    stdout.flush()\n",
    "    if i == n-1:\n",
    "        stdout.write(\"\\r100%\")\n",
    "        print(\"\\r\\n\")"
   ]
  },
  {
   "cell_type": "code",
   "execution_count": null,
   "metadata": {
    "collapsed": false
   },
   "outputs": [],
   "source": [
    "#Step 2: Extract scipt data that contains JSON from link in the tweets\n",
    "batchSize = len(foursquaredata)/10\n",
    "for iteration in range(1,11):\n",
    "    print iteration\n",
    "    print '\\n'\n",
    "    htmls = []\n",
    "    for index, row in foursquaredata[iteration*batchSize:(iteration+1)*batchSize].iterrows():\n",
    "        lst = row.content\n",
    "        urls = extract_urls(lst)\n",
    "        #Get the url content\n",
    "        if len(urls):\n",
    "            htmls.append(resolve_url(urls[0]))\n",
    "        progress(index-iteration*batchSize,batchSize)\n",
    "    \n",
    "    #Get the string with javascript and it's JSON\n",
    "    scripts = []\n",
    "    for html in htmls:\n",
    "        if (html is not None):\n",
    "            if len(html.find_all('script'))>10:\n",
    "                scripts.append([str(html.find_all('script')[10])])\n",
    "            else:\n",
    "                scripts.append([])\n",
    "        else:\n",
    "            scripts.append([])\n",
    "     \n",
    "    with open('data/script'+str(iteration+1)+'.p', 'wb') as fileToSave:\n",
    "        np.save(fileToSave, scripts)"
   ]
  },
  {
   "cell_type": "code",
   "execution_count": null,
   "metadata": {
    "collapsed": false
   },
   "outputs": [],
   "source": [
    "#You can load all the saved scripts\n",
    "with open('data/allScripts.p') as fileWithScripts:\n",
    "    theScripts = np.load(fileWithScripts)"
   ]
  },
  {
   "cell_type": "code",
   "execution_count": 89,
   "metadata": {
    "collapsed": false
   },
   "outputs": [
    {
     "name": "stdout",
     "output_type": "stream",
     "text": [
      "Total scripts from 4sq: 87253\n"
     ]
    }
   ],
   "source": [
    "totalExtracted = 0\n",
    "for scriptArray in theScripts:\n",
    "    if len(scriptArray):\n",
    "        totalExtracted = totalExtracted + 1\n",
    "print 'Total scripts from 4sq:', totalExtracted"
   ]
  },
  {
   "cell_type": "code",
   "execution_count": 6,
   "metadata": {
    "collapsed": false
   },
   "outputs": [],
   "source": [
    "#Join all the scripts \n",
    "for iteration in range(1,9):\n",
    "    with open('data/script'+str(iteration)+'.p', 'r') as fileToSave:\n",
    "        theScripts = np.append(theScripts, np.load(fileToSave))"
   ]
  },
  {
   "cell_type": "markdown",
   "metadata": {},
   "source": [
    "# Step 3: Get JSON out of scripts string"
   ]
  },
  {
   "cell_type": "code",
   "execution_count": 12,
   "metadata": {
    "collapsed": false
   },
   "outputs": [
    {
     "name": "stdout",
     "output_type": "stream",
     "text": [
      "204\n"
     ]
    }
   ],
   "source": [
    "#Step 3: Get JSON out of scripts string\n",
    "checkinStopWord = 'checkin: '\n",
    "venueStopWord = ',venue: ' \n",
    "failed = 0\n",
    "parsedCheckins = []\n",
    "for scriptArray in theScripts:\n",
    "    if len(scriptArray):\n",
    "        scriptString = scriptArray[0]\n",
    "        checkInJSON = scriptString[scriptString.find(checkinStopWord)+len(checkinStopWord):scriptString.find(venueStopWord)]\n",
    "        try:\n",
    "            parsedCheckins.append(json.loads(checkInJSON))\n",
    "        except:\n",
    "            failed = failed + 1\n",
    "print 'Failed to parse:', failed"
   ]
  },
  {
   "cell_type": "markdown",
   "metadata": {},
   "source": [
    "# Step 4: Save it all to big JSON array"
   ]
  },
  {
   "cell_type": "code",
   "execution_count": null,
   "metadata": {
    "collapsed": true
   },
   "outputs": [],
   "source": [
    "with open('data/checkins.json', 'w') as outfile:\n",
    "    json.dump(parsedCheckins, outfile)"
   ]
  },
  {
   "cell_type": "code",
   "execution_count": 4,
   "metadata": {
    "collapsed": false
   },
   "outputs": [
    {
     "name": "stdout",
     "output_type": "stream",
     "text": [
      "87049\n"
     ]
    }
   ],
   "source": [
    "with open('data/allSpringCheckins.json', 'r') as datafile:\n",
    "      parsedCheckins = json.load(datafile)\n",
    "print len(parsedCheckins)"
   ]
  },
  {
   "cell_type": "markdown",
   "metadata": {},
   "source": [
    "# Step 5: Get Data Frame out of JSON"
   ]
  },
  {
   "cell_type": "code",
   "execution_count": 96,
   "metadata": {
    "collapsed": true
   },
   "outputs": [],
   "source": [
    "#Create Categories data frame\n",
    "categories = []\n",
    "categoryIds = []\n",
    "for checkIn in parsedCheckins:\n",
    "    checkInVenue = checkIn['venue']\n",
    "    for category in checkInVenue['categories']:\n",
    "        if category['primary']:\n",
    "            if category['id'] not in categoryIds:\n",
    "                categories.append({'categoryId':category['id'],\n",
    "                                  'name':category['name']})\n",
    "                categoryIds.append(category['id'])\n",
    "                \n",
    "categoriesDF = pd.DataFrame(categories)"
   ]
  },
  {
   "cell_type": "code",
   "execution_count": 97,
   "metadata": {
    "collapsed": false
   },
   "outputs": [],
   "source": [
    "#Create Venues data frame\n",
    "venues = []\n",
    "venuesIds = []\n",
    "for checkIn in parsedCheckins:\n",
    "    checkInVenue = checkIn['venue']\n",
    "    if checkInVenue['id'] not in venuesIds:\n",
    "        venueInfo = {'venueId':checkInVenue['id'],\n",
    "                    'name':checkInVenue['name'],\n",
    "                    'checkinsCount':checkInVenue['stats']['checkinsCount'],\n",
    "                    'tipCount':checkInVenue['stats']['tipCount'],\n",
    "                    'usersCount':checkInVenue['stats']['usersCount']}\n",
    "        for category in checkInVenue['categories']:\n",
    "            if category['primary']:\n",
    "                venueInfo[\"categoryId\"] = category['id']\n",
    "        if checkInVenue['location']:\n",
    "            if 'address' in checkInVenue['location'].keys() and checkInVenue['location']['address']:\n",
    "                venueInfo[\"address\"] = checkInVenue['location']['address']\n",
    "        if 'postalCode' in checkInVenue.keys() and checkInVenue['postalCode']:\n",
    "            venueInfo[\"categoryId\"] = checkInVenue['postalCode']\n",
    "        if 'neighborhood' in checkInVenue.keys() and checkInVenue['neighborhood']:\n",
    "            venueInfo[\"neighborhood\"] = checkInVenue['neighborhood']\n",
    "        if 'lat' in checkInVenue.keys() and 'lng' in checkInVenue.keys() and checkInVenue['lat'] and checkInVenue['lng']:\n",
    "            venueInfo[\"lat\"] = checkInVenue['lat']\n",
    "            venueInfo[\"lng\"] = checkInVenue['lng']\n",
    "        venues.append(venueInfo)\n",
    "        venuesIds.append(checkInVenue['id'])\n",
    "                \n",
    "venuesDF = pd.DataFrame(venues)"
   ]
  },
  {
   "cell_type": "code",
   "execution_count": 98,
   "metadata": {
    "collapsed": false
   },
   "outputs": [],
   "source": [
    "#Create Users data frame\n",
    "users = []\n",
    "userIds = []\n",
    "for checkIn in parsedCheckins:\n",
    "    userInVenue = checkIn['user']\n",
    "    if userInVenue['id'] not in userIds:\n",
    "        userInfo = {'userId':userInVenue['id'],\n",
    "                    'checkinsCount':0}\n",
    "        if 'gender' in userInVenue.keys() and userInVenue['gender']:\n",
    "            userInfo[\"gender\"] = userInVenue['gender']\n",
    "        if 'firstName' in userInVenue.keys() and userInVenue['firstName']:\n",
    "            userInfo[\"firstName\"] = userInVenue['firstName']\n",
    "        if 'lastName' in userInVenue.keys() and userInVenue['lastName']:\n",
    "            userInfo[\"lastName\"] = userInVenue['lastName']\n",
    "        users.append(userInfo)\n",
    "        userIds.append(userInVenue['id'])\n",
    "                \n",
    "usersDF = pd.DataFrame(users)"
   ]
  },
  {
   "cell_type": "code",
   "execution_count": 99,
   "metadata": {
    "collapsed": false
   },
   "outputs": [],
   "source": [
    "#Create Check-ins data frame\n",
    "checkIns = []\n",
    "checinIds = []\n",
    "for checkIn in parsedCheckins:\n",
    "    if checkIn['id'] not in checinIds:\n",
    "        checkInInfo = {'checinId':checkIn['id'],\n",
    "                    'createdAt':checkIn['createdAt'],\n",
    "                    'tzOffset':checkIn['timeZoneOffset'],\n",
    "                    'userId':checkIn['user']['id'],\n",
    "                    'venueId':checkIn['venue']['id']}\n",
    "        \n",
    "        if 'likes' in checkIn.keys() and checkIn['likes']:\n",
    "            userInfo[\"likes\"] = checkIn['likes']['count']\n",
    "        if 'photos' in checkIn.keys() and checkIn['photos']:\n",
    "            userInfo[\"photos\"] = checkIn['photos']['count']\n",
    "        checkIns.append(checkInInfo)\n",
    "        checinIds.append(checkIn['id'])\n",
    "                \n",
    "checkinsDF = pd.DataFrame(checkIns)"
   ]
  },
  {
   "cell_type": "code",
   "execution_count": 67,
   "metadata": {
    "collapsed": true
   },
   "outputs": [],
   "source": [
    "# A try on generic parser\n",
    "def getDataFrameFromCheckinsJSON(keysMapping, optionalKeysMapping, parsedCheckins, subPath = False):\n",
    "    items = []\n",
    "    itemIds = []\n",
    "    for checkIn in parsedCheckins:\n",
    "        \n",
    "        if subPath:\n",
    "            itemData = checkIn[subPath]\n",
    "        else:\n",
    "            itemData = checkIn\n",
    "\n",
    "        if itemData['id'] not in itemIds:\n",
    "            itemInfo = {}\n",
    "            \n",
    "            #Add all requires values\n",
    "            for keysMap in keysMapping:\n",
    "                if keysMap['jsonKey'] is str:\n",
    "                    itemInfo[keysMap['pandasKey']] = itemData[keysMap['jsonkey']]\n",
    "                else:\n",
    "                    itemInfo[keysMap['pandasKey']] = itemData[keysMap['jsonKey']['key']][keysMap['jsonKey']['subKey']]\n",
    "            \n",
    "            #Add all optional values\n",
    "            for key in optionalKeysMapping:\n",
    "                if keysMap['jsonKey'] is str:\n",
    "                    if keysMap['jsonkey'] in itemData.keys():\n",
    "                        itemInfo[keysMap['pandasKey']] = itemData[keysMap['jsonkey']]\n",
    "                else:\n",
    "                    if keysMap['jsonKey']['key'] in itemData.keys() and keysMap['jsonKey']['subKey'] in itemData[keysMap['jsonKey']['key']].keys():\n",
    "                        itemInfo[keysMap['pandasKey']] = itemData[keysMap['jsonKey']['key']][keysMap['jsonKey']['subKey']]\n",
    "\n",
    "            users.append(itemInfo)\n",
    "            itemIds.append(itemData['id'])\n",
    "\n",
    "    itemsDF = pd.DataFrame(items)"
   ]
  },
  {
   "cell_type": "markdown",
   "metadata": {},
   "source": [
    "# Step 4: Saving all data from JSON to SQLLite with tables: Users, Venues, Checkins, Categories"
   ]
  },
  {
   "cell_type": "code",
   "execution_count": 100,
   "metadata": {
    "collapsed": true
   },
   "outputs": [],
   "source": [
    "#Saving all data from JSON to SQLLite\n",
    "checkinCon = sqlite3.connect('data/checkins.db')"
   ]
  },
  {
   "cell_type": "code",
   "execution_count": 104,
   "metadata": {
    "collapsed": true
   },
   "outputs": [],
   "source": [
    "checkinsDF.to_sql('checkins', checkinCon)"
   ]
  },
  {
   "cell_type": "code",
   "execution_count": 103,
   "metadata": {
    "collapsed": false
   },
   "outputs": [],
   "source": [
    "categoriesDF.to_sql('categories', checkinCon)"
   ]
  },
  {
   "cell_type": "code",
   "execution_count": 102,
   "metadata": {
    "collapsed": true
   },
   "outputs": [],
   "source": [
    "venuesDF.to_sql('venues', checkinCon)"
   ]
  },
  {
   "cell_type": "code",
   "execution_count": 101,
   "metadata": {
    "collapsed": true
   },
   "outputs": [],
   "source": [
    "usersDF.to_sql('users', checkinCon)"
   ]
  },
  {
   "cell_type": "markdown",
   "metadata": {},
   "source": [
    "# Analyze!"
   ]
  },
  {
   "cell_type": "code",
   "execution_count": null,
   "metadata": {
    "collapsed": false
   },
   "outputs": [],
   "source": [
    "venuesDF[venuesDF['categoryId'].isin(healthIds)].sort('checkinsCount',ascending = False)"
   ]
  },
  {
   "cell_type": "code",
   "execution_count": 224,
   "metadata": {
    "collapsed": false
   },
   "outputs": [],
   "source": [
    "categories = []\n",
    "for checkIn in parsedCheckins:\n",
    "    checkInVenue = checkIn['venue']\n",
    "    for category in checkInVenue['categories']:\n",
    "        if category['primary']:\n",
    "            categories.append({'id':category['id'],\n",
    "                              'name':category['name']})\n",
    "catDF = pd.DataFrame(categories)"
   ]
  },
  {
   "cell_type": "code",
   "execution_count": 225,
   "metadata": {
    "collapsed": true
   },
   "outputs": [],
   "source": [
    "healthCheckins = []\n",
    "for checkIn in parsedCheckins:\n",
    "    checkInVenue = checkIn['venue']\n",
    "    for category in checkInVenue['categories']:\n",
    "        if category['id'] in healthIds:\n",
    "            healthCheckins.append(checkIn)\n",
    "            break"
   ]
  },
  {
   "cell_type": "code",
   "execution_count": 226,
   "metadata": {
    "collapsed": true
   },
   "outputs": [],
   "source": [
    "healthUsers = []\n",
    "for checkIn in healthCheckins:\n",
    "    checkInUser = checkIn['user']\n",
    "    healthUsers.append({'id':checkInUser['id']})\n",
    "healthUserDF = pd.DataFrame(healthUsers)"
   ]
  },
  {
   "cell_type": "code",
   "execution_count": 227,
   "metadata": {
    "collapsed": true
   },
   "outputs": [],
   "source": [
    "venues = []\n",
    "for checkIn in healthCheckins:\n",
    "    checkInVenue = checkIn['venue']\n",
    "    venues.append({'id':checkInVenue['id'],\n",
    "                              'name':checkInVenue['name'],\n",
    "                              'usersCount':checkInVenue['stats']['usersCount']})\n",
    "healthVenuesDF = pd.DataFrame(venues)"
   ]
  },
  {
   "cell_type": "code",
   "execution_count": 228,
   "metadata": {
    "collapsed": true
   },
   "outputs": [],
   "source": [
    "healthUsersTotal = []\n",
    "for checkIn in healthCheckins:\n",
    "    checkInUser = checkIn['user']\n",
    "    if checkInUser['id'] in healthUsersIds:\n",
    "        healthUsersTotal.append({'id':checkInUser['id']})\n",
    "healthUserTotalDF = pd.DataFrame(healthUsersTotal)"
   ]
  },
  {
   "cell_type": "code",
   "execution_count": 243,
   "metadata": {
    "collapsed": false
   },
   "outputs": [],
   "source": [
    "groupedCat = catDF.groupby(['name'])['id'].agg('count').order(ascending=False)"
   ]
  },
  {
   "cell_type": "code",
   "execution_count": 230,
   "metadata": {
    "collapsed": true
   },
   "outputs": [],
   "source": [
    "groupedUsersHealth = healthUserDF.groupby(['id'])['id'].agg('count').order(ascending=False)"
   ]
  },
  {
   "cell_type": "code",
   "execution_count": 231,
   "metadata": {
    "collapsed": true
   },
   "outputs": [],
   "source": [
    "groupedUsersHealthTotal = healthUserTotalDF.groupby(['id'])['id'].agg('count').order(ascending=False)"
   ]
  },
  {
   "cell_type": "code",
   "execution_count": 232,
   "metadata": {
    "collapsed": false
   },
   "outputs": [],
   "source": [
    "groupedUsers = userDF.groupby(['id'])['id'].agg('count').order(ascending=False)"
   ]
  },
  {
   "cell_type": "code",
   "execution_count": 250,
   "metadata": {
    "collapsed": false
   },
   "outputs": [],
   "source": [
    "groupedVenues = healthVenuesDF.groupby(['id'])['id'].agg('count').order(ascending=False)"
   ]
  },
  {
   "cell_type": "code",
   "execution_count": 251,
   "metadata": {
    "collapsed": false
   },
   "outputs": [
    {
     "data": {
      "text/plain": [
       "id\n",
       "4bdd5f27f219c9b6bb751210    384\n",
       "4e4aab0f62e13240b700e034    167\n",
       "4bc090ca920eb7132e14192c     84\n",
       "4bc8760792b376b03767513a     73\n",
       "4b9bb751f964a520361d36e3     70\n",
       "4bdc9716afe8c9b689235085     61\n",
       "4bb41c28f187a593f1e913f8     51\n",
       "4cee97333b03f04da5ba3adc     39\n",
       "4c11f318d5599521185818b9     34\n",
       "4b827a36f964a52098d430e3     31\n",
       "Name: id, dtype: int64"
      ]
     },
     "execution_count": 251,
     "metadata": {},
     "output_type": "execute_result"
    }
   ],
   "source": [
    "groupedVenues[0:10]"
   ]
  },
  {
   "cell_type": "code",
   "execution_count": 235,
   "metadata": {
    "collapsed": false
   },
   "outputs": [
    {
     "data": {
      "text/plain": [
       "<matplotlib.axes._subplots.AxesSubplot at 0x15df670d0>"
      ]
     },
     "execution_count": 235,
     "metadata": {},
     "output_type": "execute_result"
    },
    {
     "data": {
      "image/png": "[encoded data removed]",
      "text/plain": [
       "<matplotlib.figure.Figure at 0x110facb90>"
      ]
     },
     "metadata": {},
     "output_type": "display_data"
    }
   ],
   "source": [
    "%matplotlib inline \n",
    "groupedUsersHealthTotal[2:200].hist(bins = 20)"
   ]
  },
  {
   "cell_type": "code",
   "execution_count": 240,
   "metadata": {
    "collapsed": false
   },
   "outputs": [
    {
     "data": {
      "text/plain": [
       "<matplotlib.axes._subplots.AxesSubplot at 0x16073a3d0>"
      ]
     },
     "execution_count": 240,
     "metadata": {},
     "output_type": "execute_result"
    },
    {
     "data": {
      "image/png": "[encoded data removed]",
      "text/plain": [
       "<matplotlib.figure.Figure at 0x1604db390>"
      ]
     },
     "metadata": {},
     "output_type": "display_data"
    }
   ],
   "source": [
    "#Per user\n",
    "groupedUsers[10:300].hist(bins = 30)"
   ]
  },
  {
   "cell_type": "code",
   "execution_count": 249,
   "metadata": {
    "collapsed": false
   },
   "outputs": [
    {
     "data": {
      "text/plain": [
       "19"
      ]
     },
     "execution_count": 249,
     "metadata": {},
     "output_type": "execute_result"
    }
   ],
   "source": [
    "len(catDF[catDF.name.str.contains('Yoga')])"
   ]
  },
  {
   "cell_type": "code",
   "execution_count": 40,
   "metadata": {
    "collapsed": false
   },
   "outputs": [],
   "source": [
    "healthCategories = [{'id':'4bf58dd8d48988d163941735',\n",
    "'name':'Park'},\n",
    "{'id':'4bf58dd8d48988d175941735',\n",
    "'name':'Gym / Fitness Center'},\n",
    "{'id':'4bf58dd8d48988d176941735',\n",
    "'name':'Gym'},\n",
    "{'id':'4bf58dd8d48988d188941735 ',\n",
    "'name':'Soccer Stadium'},\n",
    "{'id':'4bf58dd8d48988d104941735',\n",
    "'name':'Medical Center'},\n",
    "{'id':'4bf58dd8d48988d196941735',\n",
    "'name':'Hospital'},\n",
    "{'id':'4bf58dd8d48988d134941735',\n",
    "'name':'Dance Studio'},\n",
    "{'id':'4bf58dd8d48988d184941735',\n",
    "'name':'Stadium'},\n",
    "{'id':'4bf58dd8d48988d178941735',\n",
    "'name':'Dentist\\'s Office '},\n",
    "{'id':'4bf58dd8d48988d185941735',\n",
    "'name':'Hockey Arena'},\n",
    "{'id':'4bf58dd8d48988d105941735',\n",
    "'name':'Gym Pool'},\n",
    "{'id':'4bf58dd8d48988d15e941735',\n",
    "'name':'Pool'},\n",
    "{'id':'4f4528bc4b90abdf24c9de85',\n",
    "'name':'Athletics & Sports'},\n",
    "{'id':'4cce455aebf7b749d5e191f5',\n",
    "'name':'Soccer Field'},\n",
    " {'id':'4bf58dd8d48988d102941735',\n",
    "'name':'Yoga Studio'}]\n",
    "\n",
    "with open('data/healthCategories.json', 'w') as outfile:\n",
    "    json.dump(healthCategories, outfile)"
   ]
  },
  {
   "cell_type": "code",
   "execution_count": 92,
   "metadata": {
    "collapsed": true
   },
   "outputs": [],
   "source": [
    "with open('data/healthCategories.json') as healthCatsFile:\n",
    "    healthCategories = json.load(healthCatsFile)"
   ]
  },
  {
   "cell_type": "code",
   "execution_count": 93,
   "metadata": {
    "collapsed": true
   },
   "outputs": [],
   "source": [
    "healthIds = [healthCat['id'] for healthCat in healthCategories]"
   ]
  },
  {
   "cell_type": "code",
   "execution_count": 139,
   "metadata": {
    "collapsed": false
   },
   "outputs": [
    {
     "data": {
      "text/plain": [
       "1024"
      ]
     },
     "execution_count": 139,
     "metadata": {},
     "output_type": "execute_result"
    }
   ],
   "source": [
    "checkinsDF[healthIds]"
   ]
  },
  {
   "cell_type": "code",
   "execution_count": 147,
   "metadata": {
    "collapsed": true
   },
   "outputs": [],
   "source": [
    "healthUsersIds = [hU['id'] for hU in healthUsers]"
   ]
  },
  {
   "cell_type": "code",
   "execution_count": 247,
   "metadata": {
    "collapsed": false
   },
   "outputs": [
    {
     "data": {
      "text/plain": [
       "name\n",
       "Law School                         69\n",
       "Parking                            68\n",
       "Cosmetics Shop                     67\n",
       "Dentist's Office                   66\n",
       "Ramen / Noodle House               65\n",
       "TV Station                         65\n",
       "Convention Center                  64\n",
       "Sporting Goods Shop                64\n",
       "Asian Restaurant                   61\n",
       "Electronics Store                  60\n",
       "Embassy / Consulate                60\n",
       "Road                               58\n",
       "Supermarket                        58\n",
       "Athletics & Sports                 57\n",
       "Hockey Arena                       56\n",
       "Other Event                        56\n",
       "Botanical Garden                   56\n",
       "Arcade                             56\n",
       "Airport Gate                       55\n",
       "Library                            53\n",
       "General Travel                     53\n",
       "Music Venue                        51\n",
       "Cultural Center                    51\n",
       "Steakhouse                         50\n",
       "Rock Club                          48\n",
       "Pool                               48\n",
       "Food & Drink Shop                  48\n",
       "Nail Salon                         47\n",
       "Factory                            47\n",
       "Historic Site                      46\n",
       "Car Wash                           46\n",
       "Soccer Field                       46\n",
       "Sandwich Place                     45\n",
       "Circus                             45\n",
       "Convenience Store                  44\n",
       "Hardware Store                     44\n",
       "Cemetery                           44\n",
       "Museum                             44\n",
       "Gym Pool                           43\n",
       "Vegetarian / Vegan Restaurant      42\n",
       "Playground                         42\n",
       "College Administrative Building    41\n",
       "Modern European Restaurant         41\n",
       "College Science Building           40\n",
       "Community College                  39\n",
       "Medical School                     38\n",
       "Gaming Cafe                        38\n",
       "Sports Bar                         38\n",
       "Karaoke Bar                        37\n",
       "Racetrack                          37\n",
       "Name: id, dtype: int64"
      ]
     },
     "execution_count": 247,
     "metadata": {},
     "output_type": "execute_result"
    }
   ],
   "source": [
    "groupedCat[100:150]"
   ]
  },
  {
   "cell_type": "code",
   "execution_count": 263,
   "metadata": {
    "collapsed": false
   },
   "outputs": [],
   "source": [
    "# Get the last unbroken script\n",
    "scriptId = 0\n",
    "scriptStep = 0\n",
    "for scriptArray in theScripts:\n",
    "    if len(scriptArray)>0:\n",
    "        scriptId = scriptStep\n",
    "    scriptStep = scriptStep+1"
   ]
  }
 ],
 "metadata": {
  "kernelspec": {
   "display_name": "Python 2",
   "language": "python",
   "name": "python2"
  },
  "language_info": {
   "codemirror_mode": {
    "name": "ipython",
    "version": 2
   },
   "file_extension": ".py",
   "mimetype": "text/x-python",
   "name": "python",
   "nbconvert_exporter": "python",
   "pygments_lexer": "ipython2",
   "version": "2.7.6"
  }
 },
 "nbformat": 4,
 "nbformat_minor": 0
}
