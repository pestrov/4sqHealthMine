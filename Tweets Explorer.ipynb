{
 "cells": [
  {
   "cell_type": "code",
   "execution_count": 1,
   "metadata": {
    "collapsed": true
   },
   "outputs": [],
   "source": [
    "import urllib2\n",
    "import sqlite3\n",
    "import numpy as np\n",
    "import pandas as pd\n",
    "from sys import stdout\n",
    "from datetime import datetime\n",
    "import json"
   ]
  },
  {
   "cell_type": "markdown",
   "metadata": {},
   "source": [
    "# Step 1: Select tweets sent from Foursquare app"
   ]
  },
  {
   "cell_type": "code",
   "execution_count": 2,
   "metadata": {
    "collapsed": true
   },
   "outputs": [],
   "source": [
    "#Step 1: Select tweets sent from Foursquare app\n",
    "foursquaredata = 0\n",
    "useWholeDB = True\n",
    "if useWholeDB:\n",
    "    con = sqlite3.connect('data/allSpringTweets.db')\n",
    "    foursquaredata = pd.read_sql(\"SELECT * from tweets WHERE source = 'Foursquare'\", con)\n",
    "else:\n",
    "    con = sqlite3.connect('data/foursquareSpring.db')\n",
    "    foursquaredata = pd.read_sql(\"SELECT * from tweets\", con)"
   ]
  },
  {
   "cell_type": "code",
   "execution_count": 3,
   "metadata": {
    "collapsed": false
   },
   "outputs": [
    {
     "name": "stdout",
     "output_type": "stream",
     "text": [
      "Total tweets from 4sq: 92387\n"
     ]
    }
   ],
   "source": [
    "print 'Total tweets from 4sq:', len(foursquaredata)"
   ]
  },
  {
   "cell_type": "markdown",
   "metadata": {},
   "source": [
    "# Step 2: Extract scipt data that contains JSON from link in the tweets"
   ]
  },
  {
   "cell_type": "code",
   "execution_count": 3,
   "metadata": {
    "collapsed": false
   },
   "outputs": [],
   "source": [
    "from bs4 import BeautifulSoup\n",
    "def extract_urls(lst):\n",
    "        urls = []\n",
    "        for j in lst.split(' '):\n",
    "            if j.startswith('http'):\n",
    "                urls.append(j)\n",
    "        return urls\n",
    "\n",
    "def resolve_url(starturl):\n",
    "    try:\n",
    "        req = urllib2.Request(starturl)\n",
    "        res = urllib2.urlopen(req, timeout = 2)\n",
    "        finalurl = res.geturl()\n",
    "        soup = BeautifulSoup(res.read())\n",
    "        #print soup.find_all('script')\n",
    "        #print(soup.prettify())\n",
    "        \n",
    "        return soup\n",
    "    except:\n",
    "        pass\n",
    "    \n",
    "def progress(i, n):\n",
    "    stdout.write(\"\\r%f%%\" % (i*100/float(n)))\n",
    "    stdout.flush()\n",
    "    if i == n-1:\n",
    "        stdout.write(\"\\r100%\")\n",
    "        print(\"\\r\\n\")"
   ]
  },
  {
   "cell_type": "code",
   "execution_count": null,
   "metadata": {
    "collapsed": false
   },
   "outputs": [],
   "source": [
    "#Step 2: Extract scipt data that contains JSON from link in the tweets\n",
    "batchSize = len(foursquaredata)/10\n",
    "for iteration in range(1,11):\n",
    "    print iteration\n",
    "    print '\\n'\n",
    "    htmls = []\n",
    "    for index, row in foursquaredata[iteration*batchSize:(iteration+1)*batchSize].iterrows():\n",
    "        lst = row.content\n",
    "        urls = extract_urls(lst)\n",
    "        #Get the url content\n",
    "        if len(urls):\n",
    "            htmls.append(resolve_url(urls[0]))\n",
    "        progress(index-iteration*batchSize,batchSize)\n",
    "    \n",
    "    #Get the string with javascript and it's JSON\n",
    "    scripts = []\n",
    "    for html in htmls:\n",
    "        if (html is not None):\n",
    "            if len(html.find_all('script'))>10:\n",
    "                scripts.append([str(html.find_all('script')[10])])\n",
    "            else:\n",
    "                scripts.append([])\n",
    "        else:\n",
    "            scripts.append([])\n",
    "     \n",
    "    with open('data/script'+str(iteration+1)+'.p', 'wb') as fileToSave:\n",
    "        np.save(fileToSave, scripts)"
   ]
  },
  {
   "cell_type": "code",
   "execution_count": null,
   "metadata": {
    "collapsed": false
   },
   "outputs": [],
   "source": [
    "#You can load all the saved scripts\n",
    "with open('data/allScripts.p') as fileWithScripts:\n",
    "    theScripts = np.load(fileWithScripts)"
   ]
  },
  {
   "cell_type": "code",
   "execution_count": 89,
   "metadata": {
    "collapsed": false
   },
   "outputs": [
    {
     "name": "stdout",
     "output_type": "stream",
     "text": [
      "Total scripts from 4sq: 87253\n"
     ]
    }
   ],
   "source": [
    "totalExtracted = 0\n",
    "for scriptArray in theScripts:\n",
    "    if len(scriptArray):\n",
    "        totalExtracted = totalExtracted + 1\n",
    "print 'Total scripts from 4sq:', totalExtracted"
   ]
  },
  {
   "cell_type": "code",
   "execution_count": 6,
   "metadata": {
    "collapsed": false
   },
   "outputs": [],
   "source": [
    "#Join all the scripts \n",
    "for iteration in range(1,9):\n",
    "    with open('data/script'+str(iteration)+'.p', 'r') as fileToSave:\n",
    "        theScripts = np.append(theScripts, np.load(fileToSave))"
   ]
  },
  {
   "cell_type": "markdown",
   "metadata": {},
   "source": [
    "# Step 3: Get JSON out of scripts string"
   ]
  },
  {
   "cell_type": "code",
   "execution_count": 12,
   "metadata": {
    "collapsed": false
   },
   "outputs": [
    {
     "name": "stdout",
     "output_type": "stream",
     "text": [
      "204\n"
     ]
    }
   ],
   "source": [
    "#Step 3: Get JSON out of scripts string\n",
    "checkinStopWord = 'checkin: '\n",
    "venueStopWord = ',venue: ' \n",
    "failed = 0\n",
    "parsedCheckins = []\n",
    "for scriptArray in theScripts:\n",
    "    if len(scriptArray):\n",
    "        scriptString = scriptArray[0]\n",
    "        checkInJSON = scriptString[scriptString.find(checkinStopWord)+len(checkinStopWord):scriptString.find(venueStopWord)]\n",
    "        try:\n",
    "            parsedCheckins.append(json.loads(checkInJSON))\n",
    "        except:\n",
    "            failed = failed + 1\n",
    "print 'Failed to parse:', failed"
   ]
  },
  {
   "cell_type": "markdown",
   "metadata": {},
   "source": [
    "# Step 4: Save it all to big JSON array"
   ]
  },
  {
   "cell_type": "code",
   "execution_count": null,
   "metadata": {
    "collapsed": true
   },
   "outputs": [],
   "source": [
    "with open('data/checkins.json', 'w') as outfile:\n",
    "    json.dump(parsedCheckins, outfile)"
   ]
  },
  {
   "cell_type": "code",
   "execution_count": 130,
   "metadata": {
    "collapsed": false
   },
   "outputs": [
    {
     "name": "stdout",
     "output_type": "stream",
     "text": [
      "87049\n"
     ]
    }
   ],
   "source": [
    "with open('data/allSpringCheckins.json', 'r') as datafile:\n",
    "      parsedCheckins = json.load(datafile)\n",
    "print len(parsedCheckins)"
   ]
  },
  {
   "cell_type": "markdown",
   "metadata": {},
   "source": [
    "# Step 5: Get Data Frame out of JSON"
   ]
  },
  {
   "cell_type": "code",
   "execution_count": 131,
   "metadata": {
    "collapsed": true
   },
   "outputs": [],
   "source": [
    "#Create Categories data frame\n",
    "categories = []\n",
    "categoryIds = []\n",
    "for checkIn in parsedCheckins:\n",
    "    checkInVenue = checkIn['venue']\n",
    "    for category in checkInVenue['categories']:\n",
    "        if category['primary']:\n",
    "            if category['id'] not in categoryIds:\n",
    "                categories.append({'categoryId':category['id'],\n",
    "                                  'name':category['name']})\n",
    "                categoryIds.append(category['id'])\n",
    "                \n",
    "categoriesDF = pd.DataFrame(categories)"
   ]
  },
  {
   "cell_type": "code",
   "execution_count": 132,
   "metadata": {
    "collapsed": false
   },
   "outputs": [],
   "source": [
    "#Create Venues data frame\n",
    "venues = []\n",
    "venuesIds = []\n",
    "for checkIn in parsedCheckins:\n",
    "    checkInVenue = checkIn['venue']\n",
    "    if checkInVenue['id'] not in venuesIds:\n",
    "        venueInfo = {'venueId':checkInVenue['id'],\n",
    "                    'name':checkInVenue['name'],\n",
    "                    'checkinsCount':checkInVenue['stats']['checkinsCount'],\n",
    "                    'tipCount':checkInVenue['stats']['tipCount'],\n",
    "                    'usersCount':checkInVenue['stats']['usersCount']}\n",
    "        for category in checkInVenue['categories']:\n",
    "            if category['primary']:\n",
    "                venueInfo[\"categoryId\"] = category['id']\n",
    "        if checkInVenue['location']:\n",
    "            if 'address' in checkInVenue['location'].keys() and checkInVenue['location']['address']:\n",
    "                venueInfo[\"address\"] = checkInVenue['location']['address']\n",
    "        if 'postalCode' in checkInVenue['location'].keys() and checkInVenue['location']['postalCode']:\n",
    "            venueInfo[\"postalCode\"] = checkInVenue['location']['postalCode']\n",
    "        if 'neighborhood' in checkInVenue['location'].keys() and checkInVenue['location']['neighborhood']:\n",
    "            venueInfo[\"neighborhood\"] = checkInVenue['location']['neighborhood']\n",
    "        if 'lat' in checkInVenue['location'].keys() and 'lng' in checkInVenue['location'].keys() and checkInVenue['location']['lat'] and checkInVenue['location']['lng']:\n",
    "            venueInfo[\"lat\"] = checkInVenue['location']['lat']\n",
    "            venueInfo[\"lng\"] = checkInVenue['location']['lng']\n",
    "        venues.append(venueInfo)\n",
    "        venuesIds.append(checkInVenue['id'])\n",
    "                \n",
    "venuesDF = pd.DataFrame(venues)"
   ]
  },
  {
   "cell_type": "code",
   "execution_count": 133,
   "metadata": {
    "collapsed": false
   },
   "outputs": [],
   "source": [
    "#Create Users data frame\n",
    "users = []\n",
    "userIds = []\n",
    "for checkIn in parsedCheckins:\n",
    "    userInVenue = checkIn['user']\n",
    "    if userInVenue['id'] not in userIds:\n",
    "        userInfo = {'userId':userInVenue['id'],\n",
    "                    'checkinsCount':0}\n",
    "        if 'gender' in userInVenue.keys() and userInVenue['gender']:\n",
    "            userInfo[\"gender\"] = userInVenue['gender']\n",
    "        if 'firstName' in userInVenue.keys() and userInVenue['firstName']:\n",
    "            userInfo[\"firstName\"] = userInVenue['firstName']\n",
    "        if 'lastName' in userInVenue.keys() and userInVenue['lastName']:\n",
    "            userInfo[\"lastName\"] = userInVenue['lastName']\n",
    "        users.append(userInfo)\n",
    "        userIds.append(userInVenue['id'])\n",
    "                \n",
    "usersDF = pd.DataFrame(users)"
   ]
  },
  {
   "cell_type": "code",
   "execution_count": 134,
   "metadata": {
    "collapsed": false
   },
   "outputs": [],
   "source": [
    "#Create Check-ins data frame\n",
    "checkIns = []\n",
    "checinIds = []\n",
    "for checkIn in parsedCheckins:\n",
    "    if checkIn['id'] not in checinIds:\n",
    "        checkInInfo = {'checkinId':checkIn['id'],\n",
    "                    'createdAt':checkIn['createdAt'],\n",
    "                    'tzOffset':checkIn['timeZoneOffset'],\n",
    "                    'userId':checkIn['user']['id'],\n",
    "                    'venueId':checkIn['venue']['id']}\n",
    "        \n",
    "        if 'likes' in checkIn.keys() and checkIn['likes']:\n",
    "            userInfo[\"likes\"] = checkIn['likes']['count']\n",
    "        if 'photos' in checkIn.keys() and checkIn['photos']:\n",
    "            userInfo[\"photos\"] = checkIn['photos']['count']\n",
    "        checkIns.append(checkInInfo)\n",
    "        checinIds.append(checkIn['id'])\n",
    "                \n",
    "checkinsDF = pd.DataFrame(checkIns)"
   ]
  },
  {
   "cell_type": "code",
   "execution_count": 67,
   "metadata": {
    "collapsed": true
   },
   "outputs": [],
   "source": [
    "# A try on generic parser\n",
    "def getDataFrameFromCheckinsJSON(keysMapping, optionalKeysMapping, parsedCheckins, subPath = False):\n",
    "    items = []\n",
    "    itemIds = []\n",
    "    for checkIn in parsedCheckins:\n",
    "        \n",
    "        if subPath:\n",
    "            itemData = checkIn[subPath]\n",
    "        else:\n",
    "            itemData = checkIn\n",
    "\n",
    "        if itemData['id'] not in itemIds:\n",
    "            itemInfo = {}\n",
    "            \n",
    "            #Add all requires values\n",
    "            for keysMap in keysMapping:\n",
    "                if keysMap['jsonKey'] is str:\n",
    "                    itemInfo[keysMap['pandasKey']] = itemData[keysMap['jsonkey']]\n",
    "                else:\n",
    "                    itemInfo[keysMap['pandasKey']] = itemData[keysMap['jsonKey']['key']][keysMap['jsonKey']['subKey']]\n",
    "            \n",
    "            #Add all optional values\n",
    "            for key in optionalKeysMapping:\n",
    "                if keysMap['jsonKey'] is str:\n",
    "                    if keysMap['jsonkey'] in itemData.keys():\n",
    "                        itemInfo[keysMap['pandasKey']] = itemData[keysMap['jsonkey']]\n",
    "                else:\n",
    "                    if keysMap['jsonKey']['key'] in itemData.keys() and keysMap['jsonKey']['subKey'] in itemData[keysMap['jsonKey']['key']].keys():\n",
    "                        itemInfo[keysMap['pandasKey']] = itemData[keysMap['jsonKey']['key']][keysMap['jsonKey']['subKey']]\n",
    "\n",
    "            users.append(itemInfo)\n",
    "            itemIds.append(itemData['id'])\n",
    "\n",
    "    itemsDF = pd.DataFrame(items)"
   ]
  },
  {
   "cell_type": "code",
   "execution_count": 20,
   "metadata": {
    "collapsed": true
   },
   "outputs": [],
   "source": [
    "def extractComponents(row):\n",
    "    date = datetime.utcfromtimestamp(row.createdAt+(row.tzOffset-60)*60)\n",
    "    months.append(date.month)\n",
    "    days.append(date.day)\n",
    "    hours.append(date.hour)\n",
    "    miuntes.append(date.minute)\n",
    "    weekdays.append(date.weekday())\n",
    "    \n",
    "months = []\n",
    "days = []\n",
    "hours = []\n",
    "miuntes = []\n",
    "weekdays = []\n",
    "\n",
    "checkinsDF.apply(extractComponents, axis=1)\n",
    "checkinsDF['month'] = months\n",
    "checkinsDF['day'] = days\n",
    "checkinsDF['hour'] = hours\n",
    "checkinsDF['minute'] = miuntes\n",
    "checkinsDF['weekday'] = weekdays\n",
    "#help(pytz)"
   ]
  },
  {
   "cell_type": "markdown",
   "metadata": {},
   "source": [
    "# Step 6: Saving all data from JSON to SQLLite with tables: Users, Venues, Checkins, Categories"
   ]
  },
  {
   "cell_type": "code",
   "execution_count": 13,
   "metadata": {
    "collapsed": false
   },
   "outputs": [],
   "source": [
    "#Saving all data from JSON to SQLLite\n",
    "checkinCon = sqlite3.connect('data/checkinsSpring.db')"
   ]
  },
  {
   "cell_type": "code",
   "execution_count": 137,
   "metadata": {
    "collapsed": false
   },
   "outputs": [],
   "source": [
    "checkinsDF.to_sql('checkins', checkinCon)"
   ]
  },
  {
   "cell_type": "code",
   "execution_count": 138,
   "metadata": {
    "collapsed": false
   },
   "outputs": [],
   "source": [
    "categoriesDF.to_sql('categories', checkinCon)"
   ]
  },
  {
   "cell_type": "code",
   "execution_count": 139,
   "metadata": {
    "collapsed": true
   },
   "outputs": [],
   "source": [
    "venuesDF.to_sql('venues', checkinCon)"
   ]
  },
  {
   "cell_type": "code",
   "execution_count": 140,
   "metadata": {
    "collapsed": true
   },
   "outputs": [],
   "source": [
    "usersDF.to_sql('users', checkinCon)"
   ]
  },
  {
   "cell_type": "code",
   "execution_count": 3,
   "metadata": {
    "collapsed": true
   },
   "outputs": [],
   "source": [
    "checkinsDF = pd.read_sql('SELECT * from checkins', checkinCon)\n",
    "categoriesDF = pd.read_sql('SELECT * from categories', checkinCon)\n",
    "venuesDF = pd.read_sql('SELECT * from venues', checkinCon)\n",
    "usersDF = pd.read_sql('SELECT * from users', checkinCon)"
   ]
  },
  {
   "cell_type": "code",
   "execution_count": 141,
   "metadata": {
    "collapsed": false
   },
   "outputs": [],
   "source": [
    "healthVenues.to_csv('data/venues.tsv', sep='\\t',encoding='utf-8')\n",
    "healthCheckIns.to_csv('data/checkins.tsv', sep='\\t',encoding='utf-8')\n",
    "healthUsers.to_csv('data/users.tsv', sep='\\t',encoding='utf-8')"
   ]
  },
  {
   "cell_type": "code",
   "execution_count": 24,
   "metadata": {
    "collapsed": false
   },
   "outputs": [
    {
     "data": {
      "text/plain": [
       "<matplotlib.axes._subplots.AxesSubplot at 0x10d972c10>"
      ]
     },
     "execution_count": 24,
     "metadata": {},
     "output_type": "execute_result"
    },
    {
     "data": {
      "image/png": "[encoded data removed]",
      "text/plain": [
       "<matplotlib.figure.Figure at 0x10d9c6350>"
      ]
     },
     "metadata": {},
     "output_type": "display_data"
    }
   ],
   "source": [
    "%matplotlib inline\n",
    "checkinsDF.hour.hist(bins = 24)"
   ]
  },
  {
   "cell_type": "code",
   "execution_count": null,
   "metadata": {
    "collapsed": true
   },
   "outputs": [],
   "source": []
  },
  {
   "cell_type": "code",
   "execution_count": null,
   "metadata": {
    "collapsed": true
   },
   "outputs": [],
   "source": []
  },
  {
   "cell_type": "markdown",
   "metadata": {},
   "source": [
    "### Analyze!"
   ]
  },
  {
   "cell_type": "code",
   "execution_count": 14,
   "metadata": {
    "collapsed": true
   },
   "outputs": [],
   "source": [
    "with open('data/healthCategories.json') as healthCatsFile:\n",
    "    healthCategories = json.load(healthCatsFile)\n",
    "    healthIds = [healthCat['id'] for healthCat in healthCategories]"
   ]
  },
  {
   "cell_type": "code",
   "execution_count": 15,
   "metadata": {
    "collapsed": false
   },
   "outputs": [],
   "source": [
    "#Get all the health venues\n",
    "healthVenues = venuesDF[venuesDF.categoryId.isin(healthIds)].sort('checkinsCount',ascending = False)"
   ]
  },
  {
   "cell_type": "code",
   "execution_count": 22,
   "metadata": {
    "collapsed": false
   },
   "outputs": [],
   "source": [
    "#Get correspoding check-ins\n",
    "healthCheckIns = checkinsDF[checkinsDF.venueId.isin(healthVenues.venueId.tolist())]"
   ]
  },
  {
   "cell_type": "code",
   "execution_count": 19,
   "metadata": {
    "collapsed": false
   },
   "outputs": [
    {
     "data": {
      "text/plain": [
       "2369"
      ]
     },
     "execution_count": 19,
     "metadata": {},
     "output_type": "execute_result"
    }
   ],
   "source": [
    "len(healthUsers)"
   ]
  },
  {
   "cell_type": "code",
   "execution_count": 18,
   "metadata": {
    "collapsed": true
   },
   "outputs": [],
   "source": [
    "healthUsers = usersDF[usersDF.userId.isin(healthCheckIns.userId.tolist())]"
   ]
  },
  {
   "cell_type": "code",
   "execution_count": 7,
   "metadata": {
    "collapsed": false
   },
   "outputs": [],
   "source": [
    "sortedHealthVenues = []\n",
    "for venueId, group in healthCheckIns.groupby('venueId').agg('size').order(ascending = False).iteritems():\n",
    "    sortedHealthVenues.append(venueId)"
   ]
  },
  {
   "cell_type": "code",
   "execution_count": 8,
   "metadata": {
    "collapsed": false
   },
   "outputs": [],
   "source": [
    "#add a specific order\n",
    "healthVenues['sortedId'] = pd.Categorical(\n",
    "    healthVenues['venueId'], \n",
    "    categories=sortedHealthVenues, \n",
    "    ordered=True\n",
    ")"
   ]
  },
  {
   "cell_type": "code",
   "execution_count": 10,
   "metadata": {
    "collapsed": false
   },
   "outputs": [],
   "source": [
    "top50HealtIds = healthVenues.sort('sortedId', ascending=True)[:90]['venueId'].tolist()\n",
    "top50HealtLats = healthVenues.sort('sortedId', ascending=True)[:90]['lat'].tolist()\n",
    "top50HealtLongs = healthVenues.sort('sortedId', ascending=True)[:90]['lng'].tolist()"
   ]
  },
  {
   "cell_type": "code",
   "execution_count": 11,
   "metadata": {
    "collapsed": false
   },
   "outputs": [],
   "source": [
    "healthJson = []\n",
    "for index, venueId in enumerate(top50HealtIds):\n",
    "    healthJson.append({'venueId':venueId,\n",
    "                      'll':str(top50HealtLats[index])+','+str(top50HealtLongs[index])})\n",
    "with open('data/top90healthVenuesSummer.json', 'w') as outfile:\n",
    "    json.dump(healthJson, outfile)"
   ]
  },
  {
   "cell_type": "code",
   "execution_count": 12,
   "metadata": {
    "collapsed": true
   },
   "outputs": [],
   "source": [
    "healthVenues.sort('sortedId', ascending=True)[:90].to_csv('data/topHealthVenues90.tsv', sep='\\t',encoding='utf-8')"
   ]
  },
  {
   "cell_type": "code",
   "execution_count": 150,
   "metadata": {
    "collapsed": true
   },
   "outputs": [],
   "source": [
    "with open('data/top50healthPlacesSpring.json', 'w') as outfile:\n",
    "    json.dump(top50HealtPlaces, outfile)"
   ]
  },
  {
   "cell_type": "code",
   "execution_count": 151,
   "metadata": {
    "collapsed": false
   },
   "outputs": [
    {
     "data": {
      "text/html": [
       "<div>\n",
       "<table border=\"1\" class=\"dataframe\">\n",
       "  <thead>\n",
       "    <tr style=\"text-align: right;\">\n",
       "      <th></th>\n",
       "      <th>address</th>\n",
       "      <th>categoryId</th>\n",
       "      <th>checkinsCount</th>\n",
       "      <th>lat</th>\n",
       "      <th>lng</th>\n",
       "      <th>name</th>\n",
       "      <th>neighborhood</th>\n",
       "      <th>postalCode</th>\n",
       "      <th>tipCount</th>\n",
       "      <th>usersCount</th>\n",
       "      <th>venueId</th>\n",
       "      <th>sortedId</th>\n",
       "    </tr>\n",
       "  </thead>\n",
       "  <tbody>\n",
       "    <tr>\n",
       "      <th>1687</th>\n",
       "      <td>ул. Крымский Вал, 9</td>\n",
       "      <td>4bf58dd8d48988d163941735</td>\n",
       "      <td>402360</td>\n",
       "      <td>55.728125</td>\n",
       "      <td>37.601223</td>\n",
       "      <td>ЦПКиО им. Горького / Gorky Park</td>\n",
       "      <td>Парк Горького</td>\n",
       "      <td>119049</td>\n",
       "      <td>1419</td>\n",
       "      <td>113166</td>\n",
       "      <td>4bdd5f27f219c9b6bb751210</td>\n",
       "      <td>4bdd5f27f219c9b6bb751210</td>\n",
       "    </tr>\n",
       "    <tr>\n",
       "      <th>110</th>\n",
       "      <td>просп. Мира, 119</td>\n",
       "      <td>4bf58dd8d48988d163941735</td>\n",
       "      <td>105461</td>\n",
       "      <td>55.829830</td>\n",
       "      <td>37.631800</td>\n",
       "      <td>ВДНХ (Выставка достижений народного хозяйства)</td>\n",
       "      <td>Останкинский</td>\n",
       "      <td>129223</td>\n",
       "      <td>504</td>\n",
       "      <td>49650</td>\n",
       "      <td>4e4aab0f62e13240b700e034</td>\n",
       "      <td>4e4aab0f62e13240b700e034</td>\n",
       "    </tr>\n",
       "    <tr>\n",
       "      <th>1666</th>\n",
       "      <td>Крымская наб.</td>\n",
       "      <td>4bf58dd8d48988d163941735</td>\n",
       "      <td>51045</td>\n",
       "      <td>55.735181</td>\n",
       "      <td>37.607789</td>\n",
       "      <td>Парк искусств «Музеон» / Muzeon Park</td>\n",
       "      <td>Якиманка</td>\n",
       "      <td>119049</td>\n",
       "      <td>366</td>\n",
       "      <td>28295</td>\n",
       "      <td>4bc090ca920eb7132e14192c</td>\n",
       "      <td>4bc090ca920eb7132e14192c</td>\n",
       "    </tr>\n",
       "    <tr>\n",
       "      <th>266</th>\n",
       "      <td>ул. Сокольнический Вал, 1, стр. 1</td>\n",
       "      <td>4bf58dd8d48988d163941735</td>\n",
       "      <td>100019</td>\n",
       "      <td>55.794719</td>\n",
       "      <td>37.676561</td>\n",
       "      <td>ПКиО «Сокольники»</td>\n",
       "      <td>Сокольники</td>\n",
       "      <td>107113</td>\n",
       "      <td>686</td>\n",
       "      <td>45437</td>\n",
       "      <td>4bc8760792b376b03767513a</td>\n",
       "      <td>4bc8760792b376b03767513a</td>\n",
       "    </tr>\n",
       "    <tr>\n",
       "      <th>2034</th>\n",
       "      <td>Олимпийский просп., 16</td>\n",
       "      <td>4bf58dd8d48988d184941735</td>\n",
       "      <td>44706</td>\n",
       "      <td>55.781026</td>\n",
       "      <td>37.626436</td>\n",
       "      <td>СК «Олимпийский»</td>\n",
       "      <td>Мещанский</td>\n",
       "      <td>129090</td>\n",
       "      <td>238</td>\n",
       "      <td>26782</td>\n",
       "      <td>4b9bb751f964a520361d36e3</td>\n",
       "      <td>4b9bb751f964a520361d36e3</td>\n",
       "    </tr>\n",
       "    <tr>\n",
       "      <th>1640</th>\n",
       "      <td>Малая Бронная ул.</td>\n",
       "      <td>4bf58dd8d48988d163941735</td>\n",
       "      <td>74870</td>\n",
       "      <td>55.763887</td>\n",
       "      <td>37.592082</td>\n",
       "      <td>Патриаршие пруды / Patriarshiye Ponds</td>\n",
       "      <td>Патриаршие пруды</td>\n",
       "      <td>NaN</td>\n",
       "      <td>314</td>\n",
       "      <td>33821</td>\n",
       "      <td>4bb41c28f187a593f1e913f8</td>\n",
       "      <td>4bb41c28f187a593f1e913f8</td>\n",
       "    </tr>\n",
       "    <tr>\n",
       "      <th>1738</th>\n",
       "      <td>Кутузовский просп.</td>\n",
       "      <td>4bf58dd8d48988d163941735</td>\n",
       "      <td>61913</td>\n",
       "      <td>55.731677</td>\n",
       "      <td>37.506981</td>\n",
       "      <td>Парк Победы (Поклонная гора) / Victory Park</td>\n",
       "      <td>Дорогомилово</td>\n",
       "      <td>NaN</td>\n",
       "      <td>218</td>\n",
       "      <td>31856</td>\n",
       "      <td>4bdc9716afe8c9b689235085</td>\n",
       "      <td>4bdc9716afe8c9b689235085</td>\n",
       "    </tr>\n",
       "    <tr>\n",
       "      <th>560</th>\n",
       "      <td>NaN</td>\n",
       "      <td>4bf58dd8d48988d163941735</td>\n",
       "      <td>53498</td>\n",
       "      <td>55.661272</td>\n",
       "      <td>37.664051</td>\n",
       "      <td>Музей-заповедник «Коломенское»</td>\n",
       "      <td>NaN</td>\n",
       "      <td>115487</td>\n",
       "      <td>372</td>\n",
       "      <td>28365</td>\n",
       "      <td>4b827a36f964a52098d430e3</td>\n",
       "      <td>4b827a36f964a52098d430e3</td>\n",
       "    </tr>\n",
       "    <tr>\n",
       "      <th>2683</th>\n",
       "      <td>ТРЦ \"Филион\"</td>\n",
       "      <td>4bf58dd8d48988d175941735</td>\n",
       "      <td>14363</td>\n",
       "      <td>55.744273</td>\n",
       "      <td>37.509048</td>\n",
       "      <td>ALEX-Fitness</td>\n",
       "      <td>Филёвский парк</td>\n",
       "      <td>NaN</td>\n",
       "      <td>83</td>\n",
       "      <td>1291</td>\n",
       "      <td>4cee97333b03f04da5ba3adc</td>\n",
       "      <td>4cee97333b03f04da5ba3adc</td>\n",
       "    </tr>\n",
       "    <tr>\n",
       "      <th>319</th>\n",
       "      <td>Дольская ул., 1</td>\n",
       "      <td>4bf58dd8d48988d163941735</td>\n",
       "      <td>47773</td>\n",
       "      <td>55.615880</td>\n",
       "      <td>37.682161</td>\n",
       "      <td>Музей-заповедник «Царицыно»</td>\n",
       "      <td>Бирюлёво Восточное</td>\n",
       "      <td>115569</td>\n",
       "      <td>410</td>\n",
       "      <td>28329</td>\n",
       "      <td>4c11f318d5599521185818b9</td>\n",
       "      <td>4c11f318d5599521185818b9</td>\n",
       "    </tr>\n",
       "    <tr>\n",
       "      <th>1214</th>\n",
       "      <td>ул. Правды, д.21, с.2</td>\n",
       "      <td>4bf58dd8d48988d175941735</td>\n",
       "      <td>19852</td>\n",
       "      <td>55.788012</td>\n",
       "      <td>37.579647</td>\n",
       "      <td>Планета Фитнес</td>\n",
       "      <td>Беговой</td>\n",
       "      <td>125040</td>\n",
       "      <td>119</td>\n",
       "      <td>1434</td>\n",
       "      <td>4bc6e22e0050b7138eb3b73b</td>\n",
       "      <td>4bc6e22e0050b7138eb3b73b</td>\n",
       "    </tr>\n",
       "    <tr>\n",
       "      <th>1176</th>\n",
       "      <td>ТРЦ «Афимолл Сити»</td>\n",
       "      <td>4bf58dd8d48988d175941735</td>\n",
       "      <td>7541</td>\n",
       "      <td>55.749398</td>\n",
       "      <td>37.541477</td>\n",
       "      <td>Физика</td>\n",
       "      <td>Москва-Сити</td>\n",
       "      <td>NaN</td>\n",
       "      <td>27</td>\n",
       "      <td>776</td>\n",
       "      <td>538c981b498e254777d000e8</td>\n",
       "      <td>538c981b498e254777d000e8</td>\n",
       "    </tr>\n",
       "    <tr>\n",
       "      <th>4519</th>\n",
       "      <td>Александровский сад</td>\n",
       "      <td>4bf58dd8d48988d163941735</td>\n",
       "      <td>33326</td>\n",
       "      <td>55.752381</td>\n",
       "      <td>37.613497</td>\n",
       "      <td>Александровский сад / Alexander Garden</td>\n",
       "      <td>Хамовники</td>\n",
       "      <td>119019</td>\n",
       "      <td>151</td>\n",
       "      <td>21577</td>\n",
       "      <td>4bf7fa734a67c928e27624cf</td>\n",
       "      <td>4bf7fa734a67c928e27624cf</td>\n",
       "    </tr>\n",
       "    <tr>\n",
       "      <th>2021</th>\n",
       "      <td>ул. Авиамоторная, 10</td>\n",
       "      <td>4bf58dd8d48988d175941735</td>\n",
       "      <td>11670</td>\n",
       "      <td>55.754216</td>\n",
       "      <td>37.715292</td>\n",
       "      <td>Планета Фитнес</td>\n",
       "      <td>Лефортово</td>\n",
       "      <td>111024</td>\n",
       "      <td>47</td>\n",
       "      <td>926</td>\n",
       "      <td>4be05b23652b0f4790247211</td>\n",
       "      <td>4be05b23652b0f4790247211</td>\n",
       "    </tr>\n",
       "    <tr>\n",
       "      <th>749</th>\n",
       "      <td>Пятницкое ш., 29, корп. 5</td>\n",
       "      <td>4bf58dd8d48988d175941735</td>\n",
       "      <td>15924</td>\n",
       "      <td>55.850606</td>\n",
       "      <td>37.360146</td>\n",
       "      <td>World Class Lite</td>\n",
       "      <td>Митино</td>\n",
       "      <td>125430</td>\n",
       "      <td>94</td>\n",
       "      <td>998</td>\n",
       "      <td>4c1dde9ab306c928913f66b7</td>\n",
       "      <td>4c1dde9ab306c928913f66b7</td>\n",
       "    </tr>\n",
       "    <tr>\n",
       "      <th>128</th>\n",
       "      <td>Волгоградский пр. д. 1 стр. 2</td>\n",
       "      <td>4bf58dd8d48988d175941735</td>\n",
       "      <td>12305</td>\n",
       "      <td>55.734227</td>\n",
       "      <td>37.670687</td>\n",
       "      <td>Зебра</td>\n",
       "      <td>Южнопортовый</td>\n",
       "      <td>NaN</td>\n",
       "      <td>85</td>\n",
       "      <td>964</td>\n",
       "      <td>4ee75de0e4b06ce67470a92a</td>\n",
       "      <td>4ee75de0e4b06ce67470a92a</td>\n",
       "    </tr>\n",
       "    <tr>\n",
       "      <th>1688</th>\n",
       "      <td>ш. Энтузиастов</td>\n",
       "      <td>4bf58dd8d48988d163941735</td>\n",
       "      <td>30406</td>\n",
       "      <td>55.778118</td>\n",
       "      <td>37.776489</td>\n",
       "      <td>ПКиО «Измайловский»</td>\n",
       "      <td>Измайлово</td>\n",
       "      <td>105187</td>\n",
       "      <td>201</td>\n",
       "      <td>13337</td>\n",
       "      <td>4bd335bc41b9ef3bbe8dffe5</td>\n",
       "      <td>4bd335bc41b9ef3bbe8dffe5</td>\n",
       "    </tr>\n",
       "    <tr>\n",
       "      <th>1511</th>\n",
       "      <td>Ленинградское ш.</td>\n",
       "      <td>4bf58dd8d48988d163941735</td>\n",
       "      <td>22611</td>\n",
       "      <td>55.852673</td>\n",
       "      <td>37.480288</td>\n",
       "      <td>Парк Дружбы</td>\n",
       "      <td>Левобережный</td>\n",
       "      <td>NaN</td>\n",
       "      <td>106</td>\n",
       "      <td>5541</td>\n",
       "      <td>4bfb86c2f214a5930e4eaf0e</td>\n",
       "      <td>4bfb86c2f214a5930e4eaf0e</td>\n",
       "    </tr>\n",
       "    <tr>\n",
       "      <th>1566</th>\n",
       "      <td>Олимпийский просп., 16, стр. 2</td>\n",
       "      <td>4bf58dd8d48988d15e941735</td>\n",
       "      <td>16941</td>\n",
       "      <td>55.782655</td>\n",
       "      <td>37.626436</td>\n",
       "      <td>Бассейн «Олимпийский»</td>\n",
       "      <td>Мещанский</td>\n",
       "      <td>NaN</td>\n",
       "      <td>158</td>\n",
       "      <td>3655</td>\n",
       "      <td>4c3f4508e26920a1aa2f5be7</td>\n",
       "      <td>4c3f4508e26920a1aa2f5be7</td>\n",
       "    </tr>\n",
       "    <tr>\n",
       "      <th>2088</th>\n",
       "      <td>Столярный пер., 3</td>\n",
       "      <td>4bf58dd8d48988d175941735</td>\n",
       "      <td>6039</td>\n",
       "      <td>55.763795</td>\n",
       "      <td>37.566637</td>\n",
       "      <td>Swim</td>\n",
       "      <td>Пресненский</td>\n",
       "      <td>NaN</td>\n",
       "      <td>20</td>\n",
       "      <td>445</td>\n",
       "      <td>4cdfdba3567d2d430c6ca11c</td>\n",
       "      <td>4cdfdba3567d2d430c6ca11c</td>\n",
       "    </tr>\n",
       "    <tr>\n",
       "      <th>4266</th>\n",
       "      <td>Люблинская ул., 169, корп. 2</td>\n",
       "      <td>4bf58dd8d48988d176941735</td>\n",
       "      <td>11530</td>\n",
       "      <td>55.649202</td>\n",
       "      <td>37.745419</td>\n",
       "      <td>Alex Fitness</td>\n",
       "      <td>Марьино</td>\n",
       "      <td>NaN</td>\n",
       "      <td>50</td>\n",
       "      <td>896</td>\n",
       "      <td>4e477763a809fb2fa3f9d686</td>\n",
       "      <td>4e477763a809fb2fa3f9d686</td>\n",
       "    </tr>\n",
       "    <tr>\n",
       "      <th>1719</th>\n",
       "      <td>Каланчевская ул., 16</td>\n",
       "      <td>4bf58dd8d48988d175941735</td>\n",
       "      <td>15259</td>\n",
       "      <td>55.777490</td>\n",
       "      <td>37.649095</td>\n",
       "      <td>Зебра</td>\n",
       "      <td>Красносельский</td>\n",
       "      <td>NaN</td>\n",
       "      <td>113</td>\n",
       "      <td>1164</td>\n",
       "      <td>4e005aa57d8beaa1649c2cdb</td>\n",
       "      <td>4e005aa57d8beaa1649c2cdb</td>\n",
       "    </tr>\n",
       "    <tr>\n",
       "      <th>156</th>\n",
       "      <td>Ленинский просп.</td>\n",
       "      <td>4bf58dd8d48988d163941735</td>\n",
       "      <td>35920</td>\n",
       "      <td>55.716110</td>\n",
       "      <td>37.586000</td>\n",
       "      <td>Нескучный сад</td>\n",
       "      <td>Нескучный Сад</td>\n",
       "      <td>NaN</td>\n",
       "      <td>208</td>\n",
       "      <td>18557</td>\n",
       "      <td>4c1ce5e6fcf8c9b673c0aa0b</td>\n",
       "      <td>4c1ce5e6fcf8c9b673c0aa0b</td>\n",
       "    </tr>\n",
       "    <tr>\n",
       "      <th>506</th>\n",
       "      <td>Докукина, 8 стр.2</td>\n",
       "      <td>4bf58dd8d48988d176941735</td>\n",
       "      <td>8044</td>\n",
       "      <td>55.838844</td>\n",
       "      <td>37.654030</td>\n",
       "      <td>Зебра</td>\n",
       "      <td>Ростокино</td>\n",
       "      <td>NaN</td>\n",
       "      <td>59</td>\n",
       "      <td>716</td>\n",
       "      <td>4d89fe434757721e4c1cad69</td>\n",
       "      <td>4d89fe434757721e4c1cad69</td>\n",
       "    </tr>\n",
       "    <tr>\n",
       "      <th>1955</th>\n",
       "      <td>ул. Петрозаводская, 11/3</td>\n",
       "      <td>4bf58dd8d48988d176941735</td>\n",
       "      <td>2353</td>\n",
       "      <td>55.865900</td>\n",
       "      <td>37.495738</td>\n",
       "      <td>Париж Life</td>\n",
       "      <td>Ховрино</td>\n",
       "      <td>NaN</td>\n",
       "      <td>9</td>\n",
       "      <td>254</td>\n",
       "      <td>4da70a944df0260c3e9ef20a</td>\n",
       "      <td>4da70a944df0260c3e9ef20a</td>\n",
       "    </tr>\n",
       "    <tr>\n",
       "      <th>411</th>\n",
       "      <td>БЦ «Silver City»</td>\n",
       "      <td>4bf58dd8d48988d176941735</td>\n",
       "      <td>1769</td>\n",
       "      <td>55.750488</td>\n",
       "      <td>37.653423</td>\n",
       "      <td>Republika</td>\n",
       "      <td>Таганский</td>\n",
       "      <td>NaN</td>\n",
       "      <td>13</td>\n",
       "      <td>151</td>\n",
       "      <td>52ebc5dc498e2dabed48406a</td>\n",
       "      <td>52ebc5dc498e2dabed48406a</td>\n",
       "    </tr>\n",
       "    <tr>\n",
       "      <th>507</th>\n",
       "      <td>Лужнецкая наб., 24, стр. 1</td>\n",
       "      <td>4bf58dd8d48988d184941735</td>\n",
       "      <td>46277</td>\n",
       "      <td>55.715677</td>\n",
       "      <td>37.553802</td>\n",
       "      <td>Стадион «Лужники» / Luzhniki Stadium</td>\n",
       "      <td>Хамовники</td>\n",
       "      <td>119270</td>\n",
       "      <td>74</td>\n",
       "      <td>20865</td>\n",
       "      <td>4bb733c646d4a593732cc7c0</td>\n",
       "      <td>4bb733c646d4a593732cc7c0</td>\n",
       "    </tr>\n",
       "    <tr>\n",
       "      <th>2930</th>\n",
       "      <td>Сиреневый бул., 2</td>\n",
       "      <td>4bf58dd8d48988d15e941735</td>\n",
       "      <td>4074</td>\n",
       "      <td>55.800953</td>\n",
       "      <td>37.756014</td>\n",
       "      <td>Бассейн РГУФКСиТ</td>\n",
       "      <td>Измайлово</td>\n",
       "      <td>NaN</td>\n",
       "      <td>25</td>\n",
       "      <td>994</td>\n",
       "      <td>4d4e8116e0f2a1cdf4d98d8d</td>\n",
       "      <td>4d4e8116e0f2a1cdf4d98d8d</td>\n",
       "    </tr>\n",
       "    <tr>\n",
       "      <th>278</th>\n",
       "      <td>ул. Свободы</td>\n",
       "      <td>4bf58dd8d48988d163941735</td>\n",
       "      <td>17122</td>\n",
       "      <td>55.857876</td>\n",
       "      <td>37.452307</td>\n",
       "      <td>Парк «Северное Тушино»</td>\n",
       "      <td>Северное Тушино</td>\n",
       "      <td>125364</td>\n",
       "      <td>184</td>\n",
       "      <td>5756</td>\n",
       "      <td>4be3777821d5a593b15c1911</td>\n",
       "      <td>4be3777821d5a593b15c1911</td>\n",
       "    </tr>\n",
       "    <tr>\n",
       "      <th>1209</th>\n",
       "      <td>Мясницкая ул., 15</td>\n",
       "      <td>4bf58dd8d48988d134941735</td>\n",
       "      <td>5065</td>\n",
       "      <td>55.763012</td>\n",
       "      <td>37.634547</td>\n",
       "      <td>9 залов</td>\n",
       "      <td>Красносельский</td>\n",
       "      <td>101000</td>\n",
       "      <td>18</td>\n",
       "      <td>847</td>\n",
       "      <td>4f2a821bc2eeafc8a7ba872e</td>\n",
       "      <td>4f2a821bc2eeafc8a7ba872e</td>\n",
       "    </tr>\n",
       "  </tbody>\n",
       "</table>\n",
       "</div>"
      ],
      "text/plain": [
       "                                address                categoryId  \\\n",
       "1687                ул. Крымский Вал, 9  4bf58dd8d48988d163941735   \n",
       "110                    просп. Мира, 119  4bf58dd8d48988d163941735   \n",
       "1666                      Крымская наб.  4bf58dd8d48988d163941735   \n",
       "266   ул. Сокольнический Вал, 1, стр. 1  4bf58dd8d48988d163941735   \n",
       "2034             Олимпийский просп., 16  4bf58dd8d48988d184941735   \n",
       "1640                  Малая Бронная ул.  4bf58dd8d48988d163941735   \n",
       "1738                 Кутузовский просп.  4bf58dd8d48988d163941735   \n",
       "560                                 NaN  4bf58dd8d48988d163941735   \n",
       "2683                       ТРЦ \"Филион\"  4bf58dd8d48988d175941735   \n",
       "319                     Дольская ул., 1  4bf58dd8d48988d163941735   \n",
       "1214              ул. Правды, д.21, с.2  4bf58dd8d48988d175941735   \n",
       "1176                 ТРЦ «Афимолл Сити»  4bf58dd8d48988d175941735   \n",
       "4519                Александровский сад  4bf58dd8d48988d163941735   \n",
       "2021               ул. Авиамоторная, 10  4bf58dd8d48988d175941735   \n",
       "749           Пятницкое ш., 29, корп. 5  4bf58dd8d48988d175941735   \n",
       "128       Волгоградский пр. д. 1 стр. 2  4bf58dd8d48988d175941735   \n",
       "1688                     ш. Энтузиастов  4bf58dd8d48988d163941735   \n",
       "1511                   Ленинградское ш.  4bf58dd8d48988d163941735   \n",
       "1566     Олимпийский просп., 16, стр. 2  4bf58dd8d48988d15e941735   \n",
       "2088                  Столярный пер., 3  4bf58dd8d48988d175941735   \n",
       "4266       Люблинская ул., 169, корп. 2  4bf58dd8d48988d176941735   \n",
       "1719               Каланчевская ул., 16  4bf58dd8d48988d175941735   \n",
       "156                    Ленинский просп.  4bf58dd8d48988d163941735   \n",
       "506                   Докукина, 8 стр.2  4bf58dd8d48988d176941735   \n",
       "1955           ул. Петрозаводская, 11/3  4bf58dd8d48988d176941735   \n",
       "411                    БЦ «Silver City»  4bf58dd8d48988d176941735   \n",
       "507          Лужнецкая наб., 24, стр. 1  4bf58dd8d48988d184941735   \n",
       "2930                  Сиреневый бул., 2  4bf58dd8d48988d15e941735   \n",
       "278                         ул. Свободы  4bf58dd8d48988d163941735   \n",
       "1209                  Мясницкая ул., 15  4bf58dd8d48988d134941735   \n",
       "\n",
       "      checkinsCount        lat        lng  \\\n",
       "1687         402360  55.728125  37.601223   \n",
       "110          105461  55.829830  37.631800   \n",
       "1666          51045  55.735181  37.607789   \n",
       "266          100019  55.794719  37.676561   \n",
       "2034          44706  55.781026  37.626436   \n",
       "1640          74870  55.763887  37.592082   \n",
       "1738          61913  55.731677  37.506981   \n",
       "560           53498  55.661272  37.664051   \n",
       "2683          14363  55.744273  37.509048   \n",
       "319           47773  55.615880  37.682161   \n",
       "1214          19852  55.788012  37.579647   \n",
       "1176           7541  55.749398  37.541477   \n",
       "4519          33326  55.752381  37.613497   \n",
       "2021          11670  55.754216  37.715292   \n",
       "749           15924  55.850606  37.360146   \n",
       "128           12305  55.734227  37.670687   \n",
       "1688          30406  55.778118  37.776489   \n",
       "1511          22611  55.852673  37.480288   \n",
       "1566          16941  55.782655  37.626436   \n",
       "2088           6039  55.763795  37.566637   \n",
       "4266          11530  55.649202  37.745419   \n",
       "1719          15259  55.777490  37.649095   \n",
       "156           35920  55.716110  37.586000   \n",
       "506            8044  55.838844  37.654030   \n",
       "1955           2353  55.865900  37.495738   \n",
       "411            1769  55.750488  37.653423   \n",
       "507           46277  55.715677  37.553802   \n",
       "2930           4074  55.800953  37.756014   \n",
       "278           17122  55.857876  37.452307   \n",
       "1209           5065  55.763012  37.634547   \n",
       "\n",
       "                                                name        neighborhood  \\\n",
       "1687                 ЦПКиО им. Горького / Gorky Park       Парк Горького   \n",
       "110   ВДНХ (Выставка достижений народного хозяйства)        Останкинский   \n",
       "1666            Парк искусств «Музеон» / Muzeon Park            Якиманка   \n",
       "266                                ПКиО «Сокольники»          Сокольники   \n",
       "2034                                СК «Олимпийский»           Мещанский   \n",
       "1640           Патриаршие пруды / Patriarshiye Ponds    Патриаршие пруды   \n",
       "1738     Парк Победы (Поклонная гора) / Victory Park        Дорогомилово   \n",
       "560                   Музей-заповедник «Коломенское»                 NaN   \n",
       "2683                                    ALEX-Fitness      Филёвский парк   \n",
       "319                      Музей-заповедник «Царицыно»  Бирюлёво Восточное   \n",
       "1214                                  Планета Фитнес             Беговой   \n",
       "1176                                          Физика         Москва-Сити   \n",
       "4519          Александровский сад / Alexander Garden           Хамовники   \n",
       "2021                                  Планета Фитнес           Лефортово   \n",
       "749                                 World Class Lite              Митино   \n",
       "128                                            Зебра        Южнопортовый   \n",
       "1688                             ПКиО «Измайловский»           Измайлово   \n",
       "1511                                     Парк Дружбы        Левобережный   \n",
       "1566                           Бассейн «Олимпийский»           Мещанский   \n",
       "2088                                            Swim         Пресненский   \n",
       "4266                                    Alex Fitness             Марьино   \n",
       "1719                                           Зебра      Красносельский   \n",
       "156                                    Нескучный сад       Нескучный Сад   \n",
       "506                                            Зебра           Ростокино   \n",
       "1955                                      Париж Life             Ховрино   \n",
       "411                                        Republika           Таганский   \n",
       "507             Стадион «Лужники» / Luzhniki Stadium           Хамовники   \n",
       "2930                                Бассейн РГУФКСиТ           Измайлово   \n",
       "278                           Парк «Северное Тушино»     Северное Тушино   \n",
       "1209                                         9 залов      Красносельский   \n",
       "\n",
       "     postalCode  tipCount  usersCount                   venueId  \\\n",
       "1687     119049      1419      113166  4bdd5f27f219c9b6bb751210   \n",
       "110      129223       504       49650  4e4aab0f62e13240b700e034   \n",
       "1666     119049       366       28295  4bc090ca920eb7132e14192c   \n",
       "266      107113       686       45437  4bc8760792b376b03767513a   \n",
       "2034     129090       238       26782  4b9bb751f964a520361d36e3   \n",
       "1640        NaN       314       33821  4bb41c28f187a593f1e913f8   \n",
       "1738        NaN       218       31856  4bdc9716afe8c9b689235085   \n",
       "560      115487       372       28365  4b827a36f964a52098d430e3   \n",
       "2683        NaN        83        1291  4cee97333b03f04da5ba3adc   \n",
       "319      115569       410       28329  4c11f318d5599521185818b9   \n",
       "1214     125040       119        1434  4bc6e22e0050b7138eb3b73b   \n",
       "1176        NaN        27         776  538c981b498e254777d000e8   \n",
       "4519     119019       151       21577  4bf7fa734a67c928e27624cf   \n",
       "2021     111024        47         926  4be05b23652b0f4790247211   \n",
       "749      125430        94         998  4c1dde9ab306c928913f66b7   \n",
       "128         NaN        85         964  4ee75de0e4b06ce67470a92a   \n",
       "1688     105187       201       13337  4bd335bc41b9ef3bbe8dffe5   \n",
       "1511        NaN       106        5541  4bfb86c2f214a5930e4eaf0e   \n",
       "1566        NaN       158        3655  4c3f4508e26920a1aa2f5be7   \n",
       "2088        NaN        20         445  4cdfdba3567d2d430c6ca11c   \n",
       "4266        NaN        50         896  4e477763a809fb2fa3f9d686   \n",
       "1719        NaN       113        1164  4e005aa57d8beaa1649c2cdb   \n",
       "156         NaN       208       18557  4c1ce5e6fcf8c9b673c0aa0b   \n",
       "506         NaN        59         716  4d89fe434757721e4c1cad69   \n",
       "1955        NaN         9         254  4da70a944df0260c3e9ef20a   \n",
       "411         NaN        13         151  52ebc5dc498e2dabed48406a   \n",
       "507      119270        74       20865  4bb733c646d4a593732cc7c0   \n",
       "2930        NaN        25         994  4d4e8116e0f2a1cdf4d98d8d   \n",
       "278      125364       184        5756  4be3777821d5a593b15c1911   \n",
       "1209     101000        18         847  4f2a821bc2eeafc8a7ba872e   \n",
       "\n",
       "                      sortedId  \n",
       "1687  4bdd5f27f219c9b6bb751210  \n",
       "110   4e4aab0f62e13240b700e034  \n",
       "1666  4bc090ca920eb7132e14192c  \n",
       "266   4bc8760792b376b03767513a  \n",
       "2034  4b9bb751f964a520361d36e3  \n",
       "1640  4bb41c28f187a593f1e913f8  \n",
       "1738  4bdc9716afe8c9b689235085  \n",
       "560   4b827a36f964a52098d430e3  \n",
       "2683  4cee97333b03f04da5ba3adc  \n",
       "319   4c11f318d5599521185818b9  \n",
       "1214  4bc6e22e0050b7138eb3b73b  \n",
       "1176  538c981b498e254777d000e8  \n",
       "4519  4bf7fa734a67c928e27624cf  \n",
       "2021  4be05b23652b0f4790247211  \n",
       "749   4c1dde9ab306c928913f66b7  \n",
       "128   4ee75de0e4b06ce67470a92a  \n",
       "1688  4bd335bc41b9ef3bbe8dffe5  \n",
       "1511  4bfb86c2f214a5930e4eaf0e  \n",
       "1566  4c3f4508e26920a1aa2f5be7  \n",
       "2088  4cdfdba3567d2d430c6ca11c  \n",
       "4266  4e477763a809fb2fa3f9d686  \n",
       "1719  4e005aa57d8beaa1649c2cdb  \n",
       "156   4c1ce5e6fcf8c9b673c0aa0b  \n",
       "506   4d89fe434757721e4c1cad69  \n",
       "1955  4da70a944df0260c3e9ef20a  \n",
       "411   52ebc5dc498e2dabed48406a  \n",
       "507   4bb733c646d4a593732cc7c0  \n",
       "2930  4d4e8116e0f2a1cdf4d98d8d  \n",
       "278   4be3777821d5a593b15c1911  \n",
       "1209  4f2a821bc2eeafc8a7ba872e  "
      ]
     },
     "execution_count": 151,
     "metadata": {},
     "output_type": "execute_result"
    }
   ],
   "source": [
    "healthVenues.sort('sortedId')[:30]"
   ]
  },
  {
   "cell_type": "code",
   "execution_count": 247,
   "metadata": {
    "collapsed": false
   },
   "outputs": [
    {
     "data": {
      "text/plain": [
       "name\n",
       "Law School                         69\n",
       "Parking                            68\n",
       "Cosmetics Shop                     67\n",
       "Dentist's Office                   66\n",
       "Ramen / Noodle House               65\n",
       "TV Station                         65\n",
       "Convention Center                  64\n",
       "Sporting Goods Shop                64\n",
       "Asian Restaurant                   61\n",
       "Electronics Store                  60\n",
       "Embassy / Consulate                60\n",
       "Road                               58\n",
       "Supermarket                        58\n",
       "Athletics & Sports                 57\n",
       "Hockey Arena                       56\n",
       "Other Event                        56\n",
       "Botanical Garden                   56\n",
       "Arcade                             56\n",
       "Airport Gate                       55\n",
       "Library                            53\n",
       "General Travel                     53\n",
       "Music Venue                        51\n",
       "Cultural Center                    51\n",
       "Steakhouse                         50\n",
       "Rock Club                          48\n",
       "Pool                               48\n",
       "Food & Drink Shop                  48\n",
       "Nail Salon                         47\n",
       "Factory                            47\n",
       "Historic Site                      46\n",
       "Car Wash                           46\n",
       "Soccer Field                       46\n",
       "Sandwich Place                     45\n",
       "Circus                             45\n",
       "Convenience Store                  44\n",
       "Hardware Store                     44\n",
       "Cemetery                           44\n",
       "Museum                             44\n",
       "Gym Pool                           43\n",
       "Vegetarian / Vegan Restaurant      42\n",
       "Playground                         42\n",
       "College Administrative Building    41\n",
       "Modern European Restaurant         41\n",
       "College Science Building           40\n",
       "Community College                  39\n",
       "Medical School                     38\n",
       "Gaming Cafe                        38\n",
       "Sports Bar                         38\n",
       "Karaoke Bar                        37\n",
       "Racetrack                          37\n",
       "Name: id, dtype: int64"
      ]
     },
     "execution_count": 247,
     "metadata": {},
     "output_type": "execute_result"
    }
   ],
   "source": [
    "groupedCat[100:150]"
   ]
  },
  {
   "cell_type": "code",
   "execution_count": 263,
   "metadata": {
    "collapsed": false
   },
   "outputs": [],
   "source": [
    "# Get the last unbroken script\n",
    "scriptId = 0\n",
    "scriptStep = 0\n",
    "for scriptArray in theScripts:\n",
    "    if len(scriptArray)>0:\n",
    "        scriptId = scriptStep\n",
    "    scriptStep = scriptStep+1"
   ]
  },
  {
   "cell_type": "code",
   "execution_count": null,
   "metadata": {
    "collapsed": true
   },
   "outputs": [],
   "source": [
    "healthCategories = [\n",
    "     {'id':'4bf58dd8d48988d163941735',\n",
    " 'name':'Park'},\n",
    "{'id':'4bf58dd8d48988d175941735',\n",
    "'name':'Gym / Fitness Center'},\n",
    "{'id':'4bf58dd8d48988d176941735',\n",
    "'name':'Gym'},\n",
    "{'id':'4bf58dd8d48988d188941735 ',\n",
    "'name':'Soccer Stadium'},\n",
    "{'id':'4bf58dd8d48988d104941735',\n",
    "'name':'Medical Center'},\n",
    "{'id':'4bf58dd8d48988d196941735',\n",
    "'name':'Hospital'},\n",
    "{'id':'4bf58dd8d48988d134941735',\n",
    "'name':'Dance Studio'},\n",
    "{'id':'4bf58dd8d48988d184941735',\n",
    "'name':'Stadium'},\n",
    "{'id':'4bf58dd8d48988d178941735',\n",
    "'name':'Dentist\\'s Office '},\n",
    "{'id':'4bf58dd8d48988d185941735',\n",
    "'name':'Hockey Arena'},\n",
    "{'id':'4bf58dd8d48988d105941735',\n",
    "'name':'Gym Pool'},\n",
    "{'id':'4bf58dd8d48988d15e941735',\n",
    "'name':'Pool'},\n",
    "{'id':'4f4528bc4b90abdf24c9de85',\n",
    "'name':'Athletics & Sports'},\n",
    "{'id':'4cce455aebf7b749d5e191f5',\n",
    "'name':'Soccer Field'},\n",
    " {'id':'4bf58dd8d48988d102941735',\n",
    "'name':'Yoga Studio'}]\n",
    "\n",
    "with open('data/healthCategories.json', 'w') as outfile:\n",
    "    json.dump(healthCategories, outfile)"
   ]
  }
 ],
 "metadata": {
  "kernelspec": {
   "display_name": "Python 2",
   "language": "python",
   "name": "python2"
  },
  "language_info": {
   "codemirror_mode": {
    "name": "ipython",
    "version": 2
   },
   "file_extension": ".py",
   "mimetype": "text/x-python",
   "name": "python",
   "nbconvert_exporter": "python",
   "pygments_lexer": "ipython2",
   "version": "2.7.6"
  }
 },
 "nbformat": 4,
 "nbformat_minor": 0
}
