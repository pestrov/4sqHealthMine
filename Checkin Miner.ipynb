{
 "cells": [
  {
   "cell_type": "code",
   "execution_count": 1,
   "metadata": {
    "collapsed": false
   },
   "outputs": [],
   "source": [
    "import json\n",
    "import foursquareWithHosts\n",
    "with open('keys/appCredentials.json') as credentialsFile:    \n",
    "    credentials = json.load(credentialsFile)\n",
    "with open('keys/accessTokens.json') as tokensFile:    \n",
    "    accessTokens = json.load(tokensFile)"
   ]
  },
  {
   "cell_type": "code",
   "execution_count": 24,
   "metadata": {
    "collapsed": false
   },
   "outputs": [
    {
     "name": "stdout",
     "output_type": "stream",
     "text": [
      "Hi\n",
      "Hi\n",
      "Hi\n",
      "Hi\n",
      "Hi\n",
      "Hi\n",
      "Hi\n",
      "Hi\n",
      "Hi\n",
      "Hi\n"
     ]
    }
   ],
   "source": [
    "clients = []\n",
    "users = []\n",
    "for accessToken in accessTokens[0:10]:\n",
    "    client = foursquareWithHosts.Foursquare(client_id=credentials[0]['client_id'], client_secret=credentials[0]['client_secret'], redirect_uri=credentials[0]['redirect_uri'])\n",
    "    client.set_access_token(accessToken)\n",
    "    user = client.users()\n",
    "    clients.append(client)\n",
    "    users.append(user)"
   ]
  },
  {
   "cell_type": "code",
   "execution_count": 25,
   "metadata": {
    "collapsed": true
   },
   "outputs": [],
   "source": [
    "from datetime import datetime\n",
    "from sys import stdout\n",
    "def extractComponents(createdAt, tzOffset):\n",
    "    date = datetime.utcfromtimestamp(createdAt+(tzOffset-60)*60)\n",
    "    return date\n",
    "import requests\n",
    "requests.packages.urllib3.disable_warnings()"
   ]
  },
  {
   "cell_type": "markdown",
   "metadata": {},
   "source": [
    "# Getting the data"
   ]
  },
  {
   "cell_type": "code",
   "execution_count": 26,
   "metadata": {
    "collapsed": true
   },
   "outputs": [],
   "source": [
    "import pandas as pd\n",
    "usersDF = pd.DataFrame()\n",
    "checkinsDF = pd.DataFrame()\n",
    "checkpointsDF = pd.DataFrame()\n",
    "\n",
    "allUsersIds = []\n",
    "allCheckInsIds = []\n",
    "\n",
    "currentVenueId = 0\n",
    "currentBotId = 0"
   ]
  },
  {
   "cell_type": "code",
   "execution_count": 27,
   "metadata": {
    "collapsed": true
   },
   "outputs": [],
   "source": [
    "with open('keys/botIds.json') as botIdsFile:\n",
    "    botIds = json.load(botIdsFile)\n",
    "allUsersIds = botIds"
   ]
  },
  {
   "cell_type": "code",
   "execution_count": 28,
   "metadata": {
    "collapsed": true
   },
   "outputs": [],
   "source": [
    "#3.1 Savethe info to the DB\n",
    "def parseHereNowDict(hereNowDict, venueId):\n",
    "    usersInVenue = []\n",
    "    currentCheckIns = []\n",
    "\n",
    "    if hereNowDict['hereNow']:\n",
    "        global checkpointsDF\n",
    "        global usersDF\n",
    "        global checkinsDF\n",
    "        hereNowCount =  hereNowDict['hereNow']['count']\n",
    "        checkpointsDF = checkpointsDF.append([{'createdAt':datetime.now(),\n",
    "                                               'hereNow':hereNowCount, \n",
    "                                               'venueId':venueId}])\n",
    "\n",
    "        print 'Here now:', hereNowCount\n",
    "        print ''\n",
    "        print 'real here now:', len(hereNowDict['hereNow']['items'])\n",
    "        #print  hereNowDict['hereNow']\n",
    "\n",
    "        #Get check-in info first\n",
    "        for checkinAtVenue in hereNowDict['hereNow']['items']:\n",
    "            if checkinAtVenue['type'] == 'checkin':\n",
    "                if checkinAtVenue['id'] not in allCheckInsIds and checkinAtVenue['user']['id'] not in botIds:\n",
    "                    currentCheckIns.append({'checkInId':checkinAtVenue['id'],\n",
    "                                            'createdAt':checkinAtVenue['createdAt'],\n",
    "                                            'createdAtDate':extractComponents(checkinAtVenue['createdAt'],checkinAtVenue['timeZoneOffset']),\n",
    "                                            'venueId':venueId,\n",
    "                                            'userId':checkinAtVenue['user']['id']\n",
    "                                           })\n",
    "                    allCheckInsIds.append(checkinAtVenue['id'])\n",
    "                    #Now get the user\n",
    "                    userInVenue =  checkinAtVenue['user']\n",
    "                    #print 'User', userInVenue['id'],'Checked-in at:', extractComponents(checkinAtVenue['createdAt'],checkinAtVenue['timeZoneOffset'])\n",
    "                    if userInVenue['id'] not in allUsersIds:\n",
    "                        userInfo = {'userId':userInVenue['id']}\n",
    "                        if 'gender' in userInVenue.keys() and userInVenue['gender']:\n",
    "                            userInfo[\"gender\"] = userInVenue['gender']\n",
    "                        if 'firstName' in userInVenue.keys() and userInVenue['firstName']:\n",
    "                            userInfo[\"firstName\"] = userInVenue['firstName']\n",
    "                        if 'lastName' in userInVenue.keys() and userInVenue['lastName']:\n",
    "                            userInfo[\"lastName\"] = userInVenue['lastName']\n",
    "                        usersInVenue.append(userInfo)\n",
    "                        allUsersIds.append(userInVenue['id'])\n",
    "        if len(usersInVenue):\n",
    "            usersDF = usersDF.append(usersInVenue)\n",
    "        if len(currentCheckIns):\n",
    "            checkinsDF = checkinsDF.append(currentCheckIns)\n",
    "\n",
    "        usersDF.to_csv('data/LastJuneWeekend/users.tsv', sep='\\t',encoding='utf-8')\n",
    "        checkinsDF.to_csv('data/LastJuneWeekend/checkins.tsv', sep='\\t',encoding='utf-8')\n",
    "        checkpointsDF.to_csv('data/LastJuneWeekend/checkPoints.tsv', sep='\\t',encoding='utf-8')"
   ]
  },
  {
   "cell_type": "code",
   "execution_count": 29,
   "metadata": {
    "collapsed": false
   },
   "outputs": [],
   "source": [
    "def getNextCheckinInfo():\n",
    "    global currentBotId\n",
    "    global currentVenues\n",
    "    global currentVenueId\n",
    "    currentVenue = venuesForUsers[currentVenueId]\n",
    "    try:\n",
    "        checkIn = clients[currentBotId].checkins.add(currentVenue)\n",
    "        hereNowDict = clients[currentBotId].venues.herenow(currentVenue['venueId'])\n",
    "        parseHereNowDict(hereNowDict, currentVenue['venueId'])\n",
    "        \n",
    "        currentVenueId = (currentVenueId+1)%len(venuesForUsers)\n",
    "        currentBotId = (currentBotId+1)%len(clients)\n",
    "    except:\n",
    "        print 'Failed'\n",
    "    print 'Next bot ID:', currentBotId\n",
    "    print 'Next venue ID:',currentVenueId"
   ]
  },
  {
   "cell_type": "code",
   "execution_count": 30,
   "metadata": {
    "collapsed": true
   },
   "outputs": [],
   "source": [
    "with open('data/top90healthVenuesSummer.json') as venuesFile:\n",
    "    topHealtPlaces = json.load(venuesFile)\n",
    "    \n",
    "venuesForUsers = topHealtPlaces"
   ]
  },
  {
   "cell_type": "markdown",
   "metadata": {},
   "source": [
    "# Run the loop"
   ]
  },
  {
   "cell_type": "code",
   "execution_count": null,
   "metadata": {
    "collapsed": false
   },
   "outputs": [],
   "source": [
    "import schedule\n",
    "import time\n",
    "\n",
    "schedule.clear()\n",
    "\n",
    "timeInterval = 3*60/len(venuesForUsers)\n",
    "schedule.every(timeInterval).minutes.do(getNextCheckinInfo)\n",
    "\n",
    "while True:\n",
    "    schedule.run_pending()\n",
    "    time.sleep(1)"
   ]
  },
  {
   "cell_type": "code",
   "execution_count": 33,
   "metadata": {
    "collapsed": false
   },
   "outputs": [
    {
     "name": "stdout",
     "output_type": "stream",
     "text": [
      "Here now: 9\n",
      "\n",
      "real here now: 8\n",
      "Next bot ID: 2\n",
      "Next venue ID: 2\n"
     ]
    }
   ],
   "source": [
    "getNextCheckinInfo()"
   ]
  },
  {
   "cell_type": "code",
   "execution_count": 40,
   "metadata": {
    "collapsed": false
   },
   "outputs": [
    {
     "data": {
      "text/plain": [
       "90"
      ]
     },
     "execution_count": 40,
     "metadata": {},
     "output_type": "execute_result"
    }
   ],
   "source": [
    "len(venuesForUsers)"
   ]
  },
  {
   "cell_type": "code",
   "execution_count": null,
   "metadata": {
    "collapsed": true
   },
   "outputs": [],
   "source": []
  }
 ],
 "metadata": {
  "kernelspec": {
   "display_name": "Python 2",
   "language": "python",
   "name": "python2"
  },
  "language_info": {
   "codemirror_mode": {
    "name": "ipython",
    "version": 2
   },
   "file_extension": ".py",
   "mimetype": "text/x-python",
   "name": "python",
   "nbconvert_exporter": "python",
   "pygments_lexer": "ipython2",
   "version": "2.7.6"
  }
 },
 "nbformat": 4,
 "nbformat_minor": 0
}
