{
 "cells": [
  {
   "cell_type": "code",
   "execution_count": 27,
   "metadata": {
    "collapsed": false
   },
   "outputs": [
    {
     "name": "stdout",
     "output_type": "stream",
     "text": [
      "{u'_id': ObjectId('55898fe2165dfc495573e8d4'), u'name': u'Moscow', u'year': 1888}\n"
     ]
    }
   ],
   "source": [
    "def add_city(db):\n",
    "    # Changes to this function will be reflected in the output. \n",
    "    # All other functions are for local use only.\n",
    "    # Try changing the name of the city to be inserted\n",
    "    #db.cities.insert({\"name\" : \"Chicago\"})\n",
    "    db.cities.insert({\"name\" : \"Moscow\",\n",
    "                     'year':1888})\n",
    "    \n",
    "def get_city(db):\n",
    "    return db.cities.find_one_and_delete({'name':'Moscow'})\n",
    "\n",
    "def get_db():\n",
    "    # For local use\n",
    "    from pymongo import MongoClient\n",
    "    client = MongoClient('mongodb://localhost:27017/')\n",
    "    # 'examples' here is the database name. It will be created if it does not exist.\n",
    "    db = client.examples\n",
    "    return db\n",
    "\n",
    "if __name__ == \"__main__\":\n",
    "    # For local use\n",
    "    db = get_db() # uncomment this line if you want to run this locally\n",
    "    add_city(db)\n",
    "    print get_city(db)"
   ]
  },
  {
   "cell_type": "code",
   "execution_count": 67,
   "metadata": {
    "collapsed": false
   },
   "outputs": [],
   "source": [
    "from pymongo import MongoClient\n",
    "client = MongoClient('mongodb://localhost:27017/')"
   ]
  },
  {
   "cell_type": "code",
   "execution_count": 8,
   "metadata": {
    "collapsed": false
   },
   "outputs": [
    {
     "data": {
      "text/plain": [
       "MongoClient('localhost', 2701)"
      ]
     },
     "execution_count": 8,
     "metadata": {},
     "output_type": "execute_result"
    }
   ],
   "source": [
    "client"
   ]
  },
  {
   "cell_type": "code",
   "execution_count": 68,
   "metadata": {
    "collapsed": true
   },
   "outputs": [],
   "source": [
    "db = client.examples"
   ]
  },
  {
   "cell_type": "code",
   "execution_count": 16,
   "metadata": {
    "collapsed": true
   },
   "outputs": [],
   "source": [
    "def add_city(db):\n",
    "    # Changes to this function will be reflected in the output. \n",
    "    # All other functions are for local use only.\n",
    "    # Try changing the name of the city to be inserted\n",
    "    db.cities.insert({\"name\" : \"Chicago\"})\n",
    "    db.cities.insert({\"name\" : \"Moscow\",\n",
    "                     'year':1888})"
   ]
  },
  {
   "cell_type": "code",
   "execution_count": 1,
   "metadata": {
    "collapsed": false
   },
   "outputs": [],
   "source": [
    "from datetime import datetime\n",
    "from sys import stdout\n",
    "def extractComponents(createdAt, tzOffset):\n",
    "    date = datetime.utcfromtimestamp(createdAt+(tzOffset-60)*60)\n",
    "    return date"
   ]
  },
  {
   "cell_type": "code",
   "execution_count": 2,
   "metadata": {
    "collapsed": false
   },
   "outputs": [],
   "source": [
    "def getMongoDBInstance():\n",
    "    client = MongoClient('mongodb://localhost:27017/')\n",
    "    db = client.habidatum\n",
    "    return db\n",
    "import pandas as pd\n",
    "import numpy as np\n",
    "from pymongo import MongoClient\n",
    "db = getMongoDBInstance()"
   ]
  },
  {
   "cell_type": "code",
   "execution_count": 3,
   "metadata": {
    "collapsed": false
   },
   "outputs": [],
   "source": [
    "def getActivitiesFromDB(db):\n",
    "    activityProjection = {\"_id\":0,\n",
    "                          \"activity.activities.items.content.object.venue.id\":1,\n",
    "                          \"activity.activities.items.content.object.venue.name\":1,\n",
    "                          \"activity.activities.items.content.object.id\":1,\n",
    "                          \"activity.activities.items.content.object.venue.stats\":1,\n",
    "                          \"activity.activities.items.content.object.venue.categories\":1,\n",
    "                            \"activity.activities.items.content.object.venue.location.lat\":1,\n",
    "                            \"activity.activities.items.content.object.venue.location.lng\":1,\n",
    "                            \"activity.activities.items.content.object.checkin.venue.id\":1,\n",
    "                            \"activity.activities.items.content.object.checkin.venue.name\":1,\n",
    "                             \"activity.activities.items.content.object.checkin.venue.location.lat\":1,\n",
    "                             \"activity.activities.items.content.object.checkin.venue.location.lng\":1,\n",
    "                             \"activity.activities.items.createdAt\":1,\n",
    "                              \"requestedUserId\":1}\n",
    "    activityQuery = {\"activity.activities.items.content.type\":\"checkin\"}\n",
    "    usersVenues = db.activities.find(activityQuery, activityProjection)\n",
    "    return usersVenues\n",
    "\n",
    "def saveDataToCSV(checkinsForUsers):\n",
    "    plainListOfCheckins = [item for sublist in checkinsForUsers for item in sublist]\n",
    "    plainListOfCheckinsDF = pd.DataFrame(plainListOfCheckins)\n",
    "    plainListOfCheckinsDF.to_csv('data/July/extendedCheckinsHistory.tsv', sep='\\t',encoding='utf-8')\n",
    "    \n",
    "#Transfer the data to python objects\n",
    "def getActivitiesObjects(usersVenues):\n",
    "    tried = 0\n",
    "    checkinsForUsers = []\n",
    "    for userActivity in enumerate(usersVenues):\n",
    "        checkinsForUser = []\n",
    "        for checkIn in userActivity[1]['activity']['activities']['items']:\n",
    "            checkinInfo = {}\n",
    "            checkinInfo['userId'] = userActivity[1]['requestedUserId']\n",
    "            checkinInfo[\"createdAt\"] = checkIn['createdAt']\n",
    "            checkinInfo[\"createdAtDate\"] = str(extractComponents(checkIn['createdAt'], 240))#Get the real time zone\n",
    "\n",
    "            if \"venue\" in checkIn['content']['object'].keys():\n",
    "                checkinInfo[\"venueId\"] = checkIn['content']['object'][\"venue\"][\"id\"]\n",
    "                if tried == 0:\n",
    "                    print checkIn['content']['object'][\"id\"]\n",
    "                    tried = 1\n",
    "                checkinInfo['checkinId'] = checkIn['content']['object'][\"id\"]\n",
    "                checkinInfo[\"name\"] = checkIn['content']['object'][\"venue\"][\"name\"]\n",
    "                checkinInfo[\"lat\"] = checkIn['content']['object'][\"venue\"][\"location\"][\"lat\"]\n",
    "                checkinInfo[\"lng\"] = checkIn['content']['object'][\"venue\"][\"location\"][\"lng\"]\n",
    "                \n",
    "                checkinInfo[\"checkinsCount\"] = checkIn['content']['object'][\"venue\"][\"stats\"][\"checkinsCount\"]\n",
    "                checkinInfo[\"tipCount\"] = checkIn['content']['object'][\"venue\"][\"stats\"][\"tipCount\"]\n",
    "                checkinInfo[\"usersCount\"] = checkIn['content']['object'][\"venue\"][\"stats\"][\"usersCount\"]\n",
    "                \n",
    "                for category in checkIn['content']['object'][\"venue\"]['categories']:\n",
    "                    if category['primary']:\n",
    "                        checkinInfo['categoryId'] = category['id']\n",
    "                        checkinInfo['categoryName'] = category['name']\n",
    "                \n",
    "                checkinsForUser.append(checkinInfo)\n",
    "            elif \"venue\" in checkIn['content']['object'].keys():\n",
    "                checkinInfo[\"venueId\"] = checkIn['content']['object']['checkin'][\"venue\"][\"id\"]\n",
    "                checkinInfo[\"name\"] = checkIn['content']['object']['checkin'][\"venue\"][\"name\"]\n",
    "                checkinInfo[\"lat\"] = checkIn['content']['object']['checkin'][\"venue\"][\"location\"][\"lat\"]\n",
    "                checkinInfo[\"lng\"] = checkIn['content']['object']['checkin'][\"venue\"][\"location\"][\"lng\"]\n",
    "                checkinsForUser.append(checkinInfo)\n",
    "        checkinsForUsers.append(checkinsForUser)\n",
    "    return checkinsForUsers"
   ]
  },
  {
   "cell_type": "code",
   "execution_count": 4,
   "metadata": {
    "collapsed": false
   },
   "outputs": [
    {
     "name": "stdout",
     "output_type": "stream",
     "text": [
      "5592136d498ea3f73761c68b\n"
     ]
    }
   ],
   "source": [
    "usersVenues = getActivitiesFromDB(db)\n",
    "checkinsForUsers = getActivitiesObjects(usersVenues)\n",
    "saveDataToCSV(checkinsForUsers)"
   ]
  },
  {
   "cell_type": "code",
   "execution_count": 22,
   "metadata": {
    "collapsed": false
   },
   "outputs": [],
   "source": [
    "venueSample = {u'stats': {u'checkinsCount': 2028, u'tipCount': 18, u'usersCount': 721}, u'name': u'\\u0426\\u0435\\u043d\\u0442\\u0440\\u0430\\u043b\\u044c\\u043d\\u0430\\u044f \\u0433\\u043e\\u0440\\u043e\\u0434\\u0441\\u043a\\u0430\\u044f \\u0431\\u043e\\u043b\\u044c\\u043d\\u0438\\u0446\\u0430 \\u2116 1', u'contact': {u'phone': u'84955116363', u'formattedPhone': u'8 (495) 511-63-63'}, u'location': {u'city': u'\\u041a\\u043e\\u0440\\u043e\\u043b\\u0451\\u0432', u'lat': 55.91927755960679, u'contextGeoId': 72057594038482169L, u'cc': u'RU', u'country': u'\\u0420\\u043e\\u0441\\u0441\\u0438\\u044f', u'contextLine': u'\\u041a\\u043e\\u0440\\u043e\\u043b\\u0451\\u0432', u'state': u'\\u041c\\u043e\\u0441\\u043a\\u043e\\u0432\\u0441\\u043a\\u0430\\u044f \\u043e\\u0431\\u043b.', u'formattedAddress': [u'\\u0443\\u043b. \\u0426\\u0438\\u043e\\u043b\\u043a\\u043e\\u0432\\u0441\\u043a\\u043e\\u0433\\u043e, \\u0434. 24', u'141070, \\u041a\\u043e\\u0440\\u043e\\u043b\\u0451\\u0432'], u'address': u'\\u0443\\u043b. \\u0426\\u0438\\u043e\\u043b\\u043a\\u043e\\u0432\\u0441\\u043a\\u043e\\u0433\\u043e, \\u0434. 24', u'postalCode': u'141070', u'lng': 37.82716155052185}, u'verified': False, u'id': u'4e6cb9a7ae603c15efbda057', u'categories': [{u'pluralName': u'Hospitals', u'primary': True, u'name': u'Hospital', u'shortName': u'Hospital', u'id': u'4bf58dd8d48988d196941735', u'icon': {u'prefix': u'https://ss3.4sqi.net/img/categories_v2/building/medical_', u'suffix': u'.png'}}], u'like': False}"
   ]
  },
  {
   "cell_type": "code",
   "execution_count": 27,
   "metadata": {
    "collapsed": false
   },
   "outputs": [
    {
     "name": "stdout",
     "output_type": "stream",
     "text": [
      "[u'like', u'contact', u'stats', u'name', u'verified', u'id', u'categories', u'location']\n",
      "{u'like': False, u'contact': {u'phone': u'84955116363', u'formattedPhone': u'8 (495) 511-63-63'}, u'stats': {u'tipCount': 18, u'checkinsCount': 2028, u'usersCount': 721}, u'name': u'\\u0426\\u0435\\u043d\\u0442\\u0440\\u0430\\u043b\\u044c\\u043d\\u0430\\u044f \\u0433\\u043e\\u0440\\u043e\\u0434\\u0441\\u043a\\u0430\\u044f \\u0431\\u043e\\u043b\\u044c\\u043d\\u0438\\u0446\\u0430 \\u2116 1', u'verified': False, u'id': u'4e6cb9a7ae603c15efbda057', u'categories': [{u'pluralName': u'Hospitals', u'primary': True, u'name': u'Hospital', u'shortName': u'Hospital', u'id': u'4bf58dd8d48988d196941735', u'icon': {u'prefix': u'https://ss3.4sqi.net/img/categories_v2/building/medical_', u'suffix': u'.png'}}], u'location': {u'contextGeoId': 72057594038482169L, u'cc': u'RU', u'postalCode': u'141070', u'formattedAddress': [u'\\u0443\\u043b. \\u0426\\u0438\\u043e\\u043b\\u043a\\u043e\\u0432\\u0441\\u043a\\u043e\\u0433\\u043e, \\u0434. 24', u'141070, \\u041a\\u043e\\u0440\\u043e\\u043b\\u0451\\u0432'], u'address': u'\\u0443\\u043b. \\u0426\\u0438\\u043e\\u043b\\u043a\\u043e\\u0432\\u0441\\u043a\\u043e\\u0433\\u043e, \\u0434. 24', u'lat': 55.91927755960679, u'lng': 37.82716155052185, u'city': u'\\u041a\\u043e\\u0440\\u043e\\u043b\\u0451\\u0432', u'country': u'\\u0420\\u043e\\u0441\\u0441\\u0438\\u044f', u'state': u'\\u041c\\u043e\\u0441\\u043a\\u043e\\u0432\\u0441\\u043a\\u0430\\u044f \\u043e\\u0431\\u043b.', u'contextLine': u'\\u041a\\u043e\\u0440\\u043e\\u043b\\u0451\\u0432'}}\n"
     ]
    }
   ],
   "source": [
    "print venueSample.keys()\n",
    "print venueSample"
   ]
  },
  {
   "cell_type": "code",
   "execution_count": null,
   "metadata": {
    "collapsed": true
   },
   "outputs": [],
   "source": []
  }
 ],
 "metadata": {
  "kernelspec": {
   "display_name": "Python 2",
   "language": "python",
   "name": "python2"
  },
  "language_info": {
   "codemirror_mode": {
    "name": "ipython",
    "version": 2
   },
   "file_extension": ".py",
   "mimetype": "text/x-python",
   "name": "python",
   "nbconvert_exporter": "python",
   "pygments_lexer": "ipython2",
   "version": "2.7.6"
  }
 },
 "nbformat": 4,
 "nbformat_minor": 0
}
