{
 "cells": [
  {
   "cell_type": "code",
   "execution_count": 27,
   "metadata": {
    "collapsed": false
   },
   "outputs": [
    {
     "name": "stdout",
     "output_type": "stream",
     "text": [
      "{u'_id': ObjectId('55898fe2165dfc495573e8d4'), u'name': u'Moscow', u'year': 1888}\n"
     ]
    }
   ],
   "source": [
    "def add_city(db):\n",
    "    # Changes to this function will be reflected in the output. \n",
    "    # All other functions are for local use only.\n",
    "    # Try changing the name of the city to be inserted\n",
    "    #db.cities.insert({\"name\" : \"Chicago\"})\n",
    "    db.cities.insert({\"name\" : \"Moscow\",\n",
    "                     'year':1888})\n",
    "    \n",
    "def get_city(db):\n",
    "    return db.cities.find_one_and_delete({'name':'Moscow'})\n",
    "\n",
    "def get_db():\n",
    "    # For local use\n",
    "    from pymongo import MongoClient\n",
    "    client = MongoClient('mongodb://localhost:27017/')\n",
    "    # 'examples' here is the database name. It will be created if it does not exist.\n",
    "    db = client.examples\n",
    "    return db\n",
    "\n",
    "if __name__ == \"__main__\":\n",
    "    # For local use\n",
    "    db = get_db() # uncomment this line if you want to run this locally\n",
    "    add_city(db)\n",
    "    print get_city(db)"
   ]
  },
  {
   "cell_type": "code",
   "execution_count": 67,
   "metadata": {
    "collapsed": false
   },
   "outputs": [],
   "source": [
    "from pymongo import MongoClient\n",
    "client = MongoClient('mongodb://localhost:27017/')"
   ]
  },
  {
   "cell_type": "code",
   "execution_count": 8,
   "metadata": {
    "collapsed": false
   },
   "outputs": [
    {
     "data": {
      "text/plain": [
       "MongoClient('localhost', 2701)"
      ]
     },
     "execution_count": 8,
     "metadata": {},
     "output_type": "execute_result"
    }
   ],
   "source": [
    "client"
   ]
  },
  {
   "cell_type": "code",
   "execution_count": 68,
   "metadata": {
    "collapsed": true
   },
   "outputs": [],
   "source": [
    "db = client.examples"
   ]
  },
  {
   "cell_type": "code",
   "execution_count": 16,
   "metadata": {
    "collapsed": true
   },
   "outputs": [],
   "source": [
    "def add_city(db):\n",
    "    # Changes to this function will be reflected in the output. \n",
    "    # All other functions are for local use only.\n",
    "    # Try changing the name of the city to be inserted\n",
    "    db.cities.insert({\"name\" : \"Chicago\"})\n",
    "    db.cities.insert({\"name\" : \"Moscow\",\n",
    "                     'year':1888})"
   ]
  },
  {
   "cell_type": "code",
   "execution_count": 21,
   "metadata": {
    "collapsed": false
   },
   "outputs": [
    {
     "data": {
      "text/plain": [
       "{u'_id': ObjectId('55898fa1165dfc495573e8d2'), u'name': u'Chicago'}"
      ]
     },
     "execution_count": 21,
     "metadata": {},
     "output_type": "execute_result"
    }
   ],
   "source": [
    "db = get_db()\n",
    "get_city(db)"
   ]
  },
  {
   "cell_type": "code",
   "execution_count": 69,
   "metadata": {
    "collapsed": false
   },
   "outputs": [],
   "source": [
    "citiesCh = db.activityCheck.find_one()"
   ]
  },
  {
   "cell_type": "code",
   "execution_count": 59,
   "metadata": {
    "collapsed": false
   },
   "outputs": [
    {
     "name": "stdout",
     "output_type": "stream",
     "text": [
      "{u'year': 1888}\n",
      "{u'year': 1888}\n",
      "{u'year': 1888}\n",
      "{u'year': 1888}\n",
      "{u'year': 1888}\n",
      "{u'year': 1888}\n",
      "{u'year': 1888}\n"
     ]
    }
   ],
   "source": [
    "from pprint import pprint\n",
    "for city in citiesCh:\n",
    "    pprint(city)"
   ]
  },
  {
   "cell_type": "code",
   "execution_count": null,
   "metadata": {
    "collapsed": true
   },
   "outputs": [],
   "source": []
  }
 ],
 "metadata": {
  "kernelspec": {
   "display_name": "Python 2",
   "language": "python",
   "name": "python2"
  },
  "language_info": {
   "codemirror_mode": {
    "name": "ipython",
    "version": 2
   },
   "file_extension": ".py",
   "mimetype": "text/x-python",
   "name": "python",
   "nbconvert_exporter": "python",
   "pygments_lexer": "ipython2",
   "version": "2.7.6"
  }
 },
 "nbformat": 4,
 "nbformat_minor": 0
}
