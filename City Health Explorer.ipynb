{
 "cells": [
  {
   "cell_type": "code",
   "execution_count": 1,
   "metadata": {
    "collapsed": false
   },
   "outputs": [],
   "source": [
    "import json\n",
    "import foursquareWithHosts\n",
    "with open('keys/appCredentialsSudo.json') as credentialsFile:    \n",
    "    credentials = json.load(credentialsFile)\n",
    "with open('keys/hosts.json') as hostsFile:    \n",
    "    hosts = json.load(hostsFile)\n",
    "with open('keys/accessTokensSudo.json') as tokensFile:    \n",
    "    accessTokens = json.load(tokensFile)"
   ]
  },
  {
   "cell_type": "code",
   "execution_count": null,
   "metadata": {
    "collapsed": false
   },
   "outputs": [],
   "source": [
    "clients = []\n",
    "users = []\n",
    "for accessToken in accessTokens[:3]:\n",
    "    client = foursquareWithHosts.Foursquare(client_id=credentials['client_id'], client_secret=credentials['client_secret'], redirect_uri=credentials['redirect_uri'])\n",
    "    client.set_access_token(accessToken)\n",
    "    user = client.users()\n",
    "    clients.append(client)\n",
    "    users.append(user)"
   ]
  },
  {
   "cell_type": "code",
   "execution_count": null,
   "metadata": {
    "collapsed": true
   },
   "outputs": [],
   "source": [
    "auth_uri = client.oauth.auth_url()"
   ]
  },
  {
   "cell_type": "code",
   "execution_count": null,
   "metadata": {
    "collapsed": false
   },
   "outputs": [],
   "source": [
    "# Interrogate foursquare's servers to get the user's access_token\n",
    "access_token = client.oauth.get_token('code')\n",
    "\n",
    "# Apply the returned access token to the client\n",
    "client.set_access_token(access_token)\n",
    "\n",
    "# Get the user's data\n",
    "user = client.users()"
   ]
  },
  {
   "cell_type": "code",
   "execution_count": null,
   "metadata": {
    "collapsed": false
   },
   "outputs": [],
   "source": [
    "client.set_access_token(accessTokens[1])\n",
    "\n",
    "# Get the user's data\n",
    "user = client.users()"
   ]
  },
  {
   "cell_type": "code",
   "execution_count": null,
   "metadata": {
    "collapsed": false
   },
   "outputs": [],
   "source": [
    "#1 Get the venues of interes\n",
    "yogaVenues = client.venues.search(params={'query': 'worldclass', 'near':'Moscow'})\n",
    "for yogaPlace in yogaVenues['venues']:\n",
    "    if yogaPlace['hereNow']['count'] > 0:\n",
    "        print ''\n",
    "        print yogaPlace['name']\n",
    "        print yogaPlace['id']\n",
    "        print 'here now:', yogaPlace['hereNow']['count']\n",
    "        print 'total users:', yogaPlace['stats']['usersCount']"
   ]
  },
  {
   "cell_type": "code",
   "execution_count": 35,
   "metadata": {
    "collapsed": false
   },
   "outputs": [
    {
     "name": "stdout",
     "output_type": "stream",
     "text": [
      "[u'verified', u'name', u'referralId', u'hereNow', u'specials', u'contact', u'location', u'stats', u'id', u'categories']\n"
     ]
    }
   ],
   "source": [
    "print yogaVenues['venues'][0].keys()"
   ]
  },
  {
   "cell_type": "code",
   "execution_count": 14,
   "metadata": {
    "collapsed": false
   },
   "outputs": [],
   "source": [
    "#Save info about Moscow\n",
    "with open('moscowGeocode.json', 'w') as outfile:\n",
    "    json.dump(yogaVenues['geocode'], outfile)"
   ]
  },
  {
   "cell_type": "code",
   "execution_count": 7,
   "metadata": {
    "collapsed": true
   },
   "outputs": [],
   "source": []
  },
  {
   "cell_type": "code",
   "execution_count": null,
   "metadata": {
    "collapsed": false
   },
   "outputs": [],
   "source": [
    "#2 Check-in a user into the venue of interest\n",
    "clients[0].checkins.add({'venueId':venuesForUsers[0][0]})"
   ]
  },
  {
   "cell_type": "code",
   "execution_count": null,
   "metadata": {
    "collapsed": false
   },
   "outputs": [],
   "source": [
    "#3 Get info about the venue right now\n",
    "hereNowDict = clients[0].venues.herenow(venuesForUsers[0][0])"
   ]
  },
  {
   "cell_type": "markdown",
   "metadata": {},
   "source": [
    "# Getting the data "
   ]
  },
  {
   "cell_type": "code",
   "execution_count": 9,
   "metadata": {
    "collapsed": true
   },
   "outputs": [],
   "source": [
    "import pandas as pd\n",
    "usersDF = pd.DataFrame()\n",
    "checkinsDF = pd.DataFrame()\n",
    "checkpointsDF = pd.DataFrame()\n",
    "allUsersIds = []\n",
    "allCheckInsIds = []\n",
    "\n",
    "currentVenues = [0,0,0]\n",
    "currentBotId = 0"
   ]
  },
  {
   "cell_type": "code",
   "execution_count": 4,
   "metadata": {
    "collapsed": false
   },
   "outputs": [],
   "source": [
    "#3.1 Savethe info to the DB\n",
    "def parseHereNowDict(hereNowDict, venue):\n",
    "    usersInVenue = []\n",
    "    currentCheckIns = []\n",
    "\n",
    "    if hereNowDict['hereNow']:\n",
    "        global checkpointsDF\n",
    "        global usersDF\n",
    "        global checkinsDF\n",
    "        hereNowCount =  hereNowDict['hereNow']['count']\n",
    "        checkpointsDF = checkpointsDF.append([{'createdAt':datetime.now(),\n",
    "                                               'hereNow':hereNowCount, \n",
    "                                               'venueId':venue['venueId']}])\n",
    "\n",
    "        print 'Here now:', hereNowCount\n",
    "        print ''\n",
    "\n",
    "        #Get check-in info first\n",
    "        for checkinAtVenue in hereNowDict['hereNow']['items']:\n",
    "            if checkinAtVenue['type'] == 'checkin':\n",
    "                if checkinAtVenue['id'] not in allCheckInsIds:\n",
    "                    currentCheckIns.append({'checkInId':checkinAtVenue['id'],\n",
    "                                            'createdAt':checkinAtVenue['createdAt'],\n",
    "                                            'createdAtDate':extractComponents(checkinAtVenue['createdAt'],checkinAtVenue['timeZoneOffset'])\n",
    "                                           })\n",
    "                    allCheckInsIds.append(checkinAtVenue['id'])\n",
    "                    #Now get the user\n",
    "                    userInVenue =  checkinAtVenue['user']\n",
    "                    #print 'User', userInVenue['id'],'Checked-in at:', extractComponents(checkinAtVenue['createdAt'],checkinAtVenue['timeZoneOffset'])\n",
    "                    if userInVenue['id'] not in allUsersIds:\n",
    "                        userInfo = {'userId':userInVenue['id']}\n",
    "                        if 'gender' in userInVenue.keys() and userInVenue['gender']:\n",
    "                            userInfo[\"gender\"] = userInVenue['gender']\n",
    "                        if 'firstName' in userInVenue.keys() and userInVenue['firstName']:\n",
    "                            userInfo[\"firstName\"] = userInVenue['firstName']\n",
    "                        if 'lastName' in userInVenue.keys() and userInVenue['lastName']:\n",
    "                            userInfo[\"lastName\"] = userInVenue['lastName']\n",
    "                        usersInVenue.append(userInfo)\n",
    "                        allUsersIds.append(userInVenue['id'])\n",
    "        if len(usersInVenue):\n",
    "            usersDF = usersDF.append(usersInVenue)\n",
    "        if len(currentCheckIns):\n",
    "            checkinsDF = checkinsDF.append(currentCheckIns)\n",
    "\n",
    "        usersDF.to_csv('data/realUsers.tsv', sep='\\t',encoding='utf-8')\n",
    "        checkinsDF.to_csv('data/realCheckins.tsv', sep='\\t',encoding='utf-8')\n",
    "        checkpointsDF.to_csv('data/checkPoints.tsv', sep='\\t',encoding='utf-8')"
   ]
  },
  {
   "cell_type": "code",
   "execution_count": 5,
   "metadata": {
    "collapsed": true
   },
   "outputs": [],
   "source": [
    "def getNextCheckinInfo():\n",
    "    global currentBotId\n",
    "    global currentVenues\n",
    "    currentVenue = {'venueId':venuesForUsers[currentBotId][currentVenues[currentBotId]]}\n",
    "    checkIn = clients[currentBotId].checkins.add(currentVenue)\n",
    "    hereNowDict = clients[currentBotId].venues.herenow(currentVenue['venueId'])\n",
    "    parseHereNowDict(hereNowDict,currentVenue)\n",
    "    \n",
    "    currentVenues[currentBotId] = (currentVenues[currentBotId]+1)%len(venuesForUsers[currentBotId])\n",
    "    currentBotId = (currentBotId+1)%len(clients)\n",
    "    print currentBotId\n",
    "    print currentVenues"
   ]
  },
  {
   "cell_type": "code",
   "execution_count": 6,
   "metadata": {
    "collapsed": true
   },
   "outputs": [],
   "source": [
    "with open('data/top50healthPlacesSummer.json') as venuesFile:\n",
    "    top50HealtPlaces = json.load(venuesFile)\n",
    "    \n",
    "venuesForUsers = [[],[],[]]\n",
    "for i, x in enumerate(top50HealtPlaces[:30]):\n",
    "    venuesForUsers[i%3].append(x)"
   ]
  },
  {
   "cell_type": "code",
   "execution_count": 8,
   "metadata": {
    "collapsed": true
   },
   "outputs": [],
   "source": [
    "from datetime import datetime\n",
    "def extractComponents(createdAt, tzOffset):\n",
    "    date = datetime.utcfromtimestamp(createdAt+(tzOffset-60)*60)\n",
    "    return date"
   ]
  },
  {
   "cell_type": "code",
   "execution_count": 9,
   "metadata": {
    "collapsed": false
   },
   "outputs": [],
   "source": [
    "timeInterval = 3*60/(len(venuesForUsers[0])*len(clients))"
   ]
  },
  {
   "cell_type": "code",
   "execution_count": null,
   "metadata": {
    "collapsed": false
   },
   "outputs": [
    {
     "name": "stderr",
     "output_type": "stream",
     "text": [
      "/System/Library/Frameworks/Python.framework/Versions/2.7/lib/python2.7/site-packages/requests/packages/urllib3/util/ssl_.py:90: InsecurePlatformWarning: A true SSLContext object is not available. This prevents urllib3 from configuring SSL appropriately and may cause certain SSL connections to fail. For more information, see https://urllib3.readthedocs.org/en/latest/security.html#insecureplatformwarning.\n",
      "  InsecurePlatformWarning\n",
      "/System/Library/Frameworks/Python.framework/Versions/2.7/lib/python2.7/site-packages/requests/packages/urllib3/util/ssl_.py:90: InsecurePlatformWarning: A true SSLContext object is not available. This prevents urllib3 from configuring SSL appropriately and may cause certain SSL connections to fail. For more information, see https://urllib3.readthedocs.org/en/latest/security.html#insecureplatformwarning.\n",
      "  InsecurePlatformWarning\n"
     ]
    }
   ],
   "source": [
    "import schedule\n",
    "import time\n",
    "\n",
    "timeInterval = 3*60/(len(venuesForUsers[0])*len(clients))\n",
    "schedule.every(timeInterval).minutes.do(getNextCheckinInfo)\n",
    "\n",
    "while True:\n",
    "    schedule.run_pending()\n",
    "    time.sleep(1)"
   ]
  },
  {
   "cell_type": "code",
   "execution_count": 32,
   "metadata": {
    "collapsed": false
   },
   "outputs": [
    {
     "data": {
      "text/plain": [
       "Every 6 minutes do getNextCheckinInfo() (last run: [never], next run: 2015-06-23 18:12:28)"
      ]
     },
     "execution_count": 32,
     "metadata": {},
     "output_type": "execute_result"
    }
   ],
   "source": [
    "schedule.every(timeInterval).minutes.do(getNextCheckinInfo)"
   ]
  },
  {
   "cell_type": "code",
   "execution_count": 27,
   "metadata": {
    "collapsed": false
   },
   "outputs": [
    {
     "data": {
      "text/plain": [
       "Every 10 minutes do job() (last run: [never], next run: 2015-06-23 18:15:24)"
      ]
     },
     "execution_count": 27,
     "metadata": {},
     "output_type": "execute_result"
    }
   ],
   "source": [
    "def job():\n",
    "    print(\"I'm working...\")\n",
    "\n",
    "schedule.every(10).minutes.do(job)"
   ]
  },
  {
   "cell_type": "code",
   "execution_count": 73,
   "metadata": {
    "collapsed": true
   },
   "outputs": [],
   "source": [
    "requestedUsersFriends = []\n",
    "requestedUsers = []"
   ]
  },
  {
   "cell_type": "code",
   "execution_count": null,
   "metadata": {
    "collapsed": false
   },
   "outputs": [],
   "source": [
    "#4 Get the user that was checked-in\n",
    "requestedUser = client.users('someUserId')\n",
    "\n",
    "#5 Send requests to their friends \n",
    "if requestedUser['user']:\n",
    "    requestedUserInfo = requestedUser['user']\n",
    "    print 'Blocked:', requestedUserInfo['blockedStatus']\n",
    "    print requestedUserInfo['homeCity']\n",
    "    print requestedUserInfo['checkins']\n",
    "    print requestedUserInfo['gender']\n",
    "    print 'friends count:', requestedUserInfo['friends']['count']\n",
    "    for friendGroup in requestedUserInfo['friends']['groups']:\n",
    "        if friendGroup['type'] == 'friends':\n",
    "            if friendGroup['count'] > 3:\n",
    "                print 'Enough mutual friends'\n",
    "                break\n",
    "        if 0:\n",
    "            print 'Already requested'\n",
    "        print ''\n",
    "        for friend in friendGroup['items']:\n",
    "            if not friend['id'] in requestedUsersFriends:\n",
    "                print 'Add'\n",
    "                requestedUsersFriends.append(friend['id'])\n",
    "                client.users.request(friend['id'])\n",
    "    #0 for Mutual friends, type = 'friends', 1 for other friends, type = 'others'\n",
    "    #print requestedUserInfo['friends']['groups']\n",
    "    #print requestedUser['user']['lists']\n",
    "     #print requestedUser['user']['tips']"
   ]
  },
  {
   "cell_type": "code",
   "execution_count": 66,
   "metadata": {
    "collapsed": false
   },
   "outputs": [
    {
     "data": {
      "text/plain": [
       "[u'checkins',\n",
       " u'bio',\n",
       " u'gender',\n",
       " u'type',\n",
       " u'firstName',\n",
       " u'lastName',\n",
       " u'blockedStatus',\n",
       " u'pings',\n",
       " u'homeCity',\n",
       " u'photos',\n",
       " u'contact',\n",
       " u'checkinPings',\n",
       " u'lists',\n",
       " u'photo',\n",
       " u'tips',\n",
       " u'mayorships',\n",
       " u'friends',\n",
       " u'id',\n",
       " u'badges']"
      ]
     },
     "execution_count": 66,
     "metadata": {},
     "output_type": "execute_result"
    }
   ],
   "source": [
    "requestedUser['user'].keys()"
   ]
  },
  {
   "cell_type": "code",
   "execution_count": 179,
   "metadata": {
    "collapsed": false
   },
   "outputs": [
    {
     "name": "stdout",
     "output_type": "stream",
     "text": [
      "{u'count': 0, u'items': [], u'type': u'others', u'name': u'Other friends'}\n"
     ]
    }
   ],
   "source": [
    "print user['user']['friends']['groups'][1]"
   ]
  },
  {
   "cell_type": "code",
   "execution_count": 128,
   "metadata": {
    "collapsed": true
   },
   "outputs": [],
   "source": [
    "# Get the user's data\n",
    "user = client.users()"
   ]
  },
  {
   "cell_type": "code",
   "execution_count": null,
   "metadata": {
    "collapsed": false
   },
   "outputs": [],
   "source": [
    "#6 One way to get some check-in\n",
    "aFriend = client.users('')\n",
    "print aFriend['user']['checkins']['items'][0]"
   ]
  },
  {
   "cell_type": "code",
   "execution_count": 180,
   "metadata": {
    "collapsed": false
   },
   "outputs": [],
   "source": [
    "#6 Another way — get recent check-ins\n",
    "recent = client.checkins.recent()['recent']"
   ]
  },
  {
   "cell_type": "code",
   "execution_count": 184,
   "metadata": {
    "collapsed": false
   },
   "outputs": [
    {
     "data": {
      "text/plain": [
       "[]"
      ]
     },
     "execution_count": 184,
     "metadata": {},
     "output_type": "execute_result"
    }
   ],
   "source": [
    "recent"
   ]
  },
  {
   "cell_type": "code",
   "execution_count": 119,
   "metadata": {
    "collapsed": false
   },
   "outputs": [],
   "source": [
    "#Doesn't work now:(\n",
    "someCheckIns = client.users.all_checkins('')"
   ]
  },
  {
   "cell_type": "code",
   "execution_count": 148,
   "metadata": {
    "collapsed": false
   },
   "outputs": [
    {
     "data": {
      "text/plain": [
       "[]"
      ]
     },
     "execution_count": 148,
     "metadata": {},
     "output_type": "execute_result"
    }
   ],
   "source": [
    "requestedUsers"
   ]
  },
  {
   "cell_type": "code",
   "execution_count": 23,
   "metadata": {
    "collapsed": true
   },
   "outputs": [],
   "source": [
    "user = client.users()"
   ]
  },
  {
   "cell_type": "code",
   "execution_count": 4,
   "metadata": {
    "collapsed": false
   },
   "outputs": [
    {
     "name": "stderr",
     "output_type": "stream",
     "text": [
      "ERROR:foursquareWithHosts:Error connecting with foursquare API: HTTPSConnectionPool(host='api.foursquare.com', port=443): Max retries exceeded with url: /v2/users/requests?oauth_token=1S15WHU0U430GNROBTF5OEMLWBN3I2I3GJO1PUZQVJ32SQ4M&v=20150526 (Caused by ProxyError('Cannot connect to proxy.', error(60, 'Operation timed out')))\n",
      "ERROR:foursquareWithHosts:Error connecting with foursquare API: HTTPSConnectionPool(host='api.foursquare.com', port=443): Max retries exceeded with url: /v2/users/requests?oauth_token=1S15WHU0U430GNROBTF5OEMLWBN3I2I3GJO1PUZQVJ32SQ4M&v=20150526 (Caused by ProxyError('Cannot connect to proxy.', error(60, 'Operation timed out')))\n",
      "/System/Library/Frameworks/Python.framework/Versions/2.7/lib/python2.7/site-packages/requests/packages/urllib3/util/ssl_.py:90: InsecurePlatformWarning: A true SSLContext object is not available. This prevents urllib3 from configuring SSL appropriately and may cause certain SSL connections to fail. For more information, see https://urllib3.readthedocs.org/en/latest/security.html#insecureplatformwarning.\n",
      "  InsecurePlatformWarning\n"
     ]
    },
    {
     "data": {
      "text/plain": [
       "{u'requests': []}"
      ]
     },
     "execution_count": 4,
     "metadata": {},
     "output_type": "execute_result"
    }
   ],
   "source": [
    "client.users.requests()"
   ]
  },
  {
   "cell_type": "code",
   "execution_count": 45,
   "metadata": {
    "collapsed": false
   },
   "outputs": [],
   "source": []
  },
  {
   "cell_type": "code",
   "execution_count": null,
   "metadata": {
    "collapsed": true
   },
   "outputs": [],
   "source": []
  }
 ],
 "metadata": {
  "kernelspec": {
   "display_name": "Python 2",
   "language": "python",
   "name": "python2"
  },
  "language_info": {
   "codemirror_mode": {
    "name": "ipython",
    "version": 2
   },
   "file_extension": ".py",
   "mimetype": "text/x-python",
   "name": "python",
   "nbconvert_exporter": "python",
   "pygments_lexer": "ipython2",
   "version": "2.7.6"
  }
 },
 "nbformat": 4,
 "nbformat_minor": 0
}
