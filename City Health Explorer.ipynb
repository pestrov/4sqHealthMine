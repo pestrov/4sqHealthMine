{
 "cells": [
  {
   "cell_type": "code",
   "execution_count": 1,
   "metadata": {
    "collapsed": false
   },
   "outputs": [],
   "source": [
    "import json\n",
    "import foursquareWithHosts\n",
    "with open('keys/appCredentialsSudo.json') as credentialsFile:    \n",
    "    credentials = json.load(credentialsFile)\n",
    "with open('keys/hosts.json') as hostsFile:    \n",
    "    hosts = json.load(hostsFile)\n",
    "with open('keys/accessTokensSudo.json') as tokensFile:    \n",
    "    accessTokens = json.load(tokensFile)"
   ]
  },
  {
   "cell_type": "code",
   "execution_count": 34,
   "metadata": {
    "collapsed": true
   },
   "outputs": [],
   "source": [
    "from datetime import datetime\n",
    "from sys import stdout"
   ]
  },
  {
   "cell_type": "code",
   "execution_count": 2,
   "metadata": {
    "collapsed": false
   },
   "outputs": [
    {
     "name": "stdout",
     "output_type": "stream",
     "text": [
      "Hi\n",
      "Hi"
     ]
    },
    {
     "name": "stderr",
     "output_type": "stream",
     "text": [
      "/System/Library/Frameworks/Python.framework/Versions/2.7/lib/python2.7/site-packages/requests/packages/urllib3/util/ssl_.py:90: InsecurePlatformWarning: A true SSLContext object is not available. This prevents urllib3 from configuring SSL appropriately and may cause certain SSL connections to fail. For more information, see https://urllib3.readthedocs.org/en/latest/security.html#insecureplatformwarning.\n",
      "  InsecurePlatformWarning\n",
      "/System/Library/Frameworks/Python.framework/Versions/2.7/lib/python2.7/site-packages/requests/packages/urllib3/util/ssl_.py:90: InsecurePlatformWarning: A true SSLContext object is not available. This prevents urllib3 from configuring SSL appropriately and may cause certain SSL connections to fail. For more information, see https://urllib3.readthedocs.org/en/latest/security.html#insecureplatformwarning.\n",
      "  InsecurePlatformWarning\n"
     ]
    },
    {
     "name": "stdout",
     "output_type": "stream",
     "text": [
      "\n",
      "Hi\n",
      "Hi"
     ]
    },
    {
     "name": "stderr",
     "output_type": "stream",
     "text": [
      "/System/Library/Frameworks/Python.framework/Versions/2.7/lib/python2.7/site-packages/requests/packages/urllib3/util/ssl_.py:90: InsecurePlatformWarning: A true SSLContext object is not available. This prevents urllib3 from configuring SSL appropriately and may cause certain SSL connections to fail. For more information, see https://urllib3.readthedocs.org/en/latest/security.html#insecureplatformwarning.\n",
      "  InsecurePlatformWarning\n",
      "/System/Library/Frameworks/Python.framework/Versions/2.7/lib/python2.7/site-packages/requests/packages/urllib3/util/ssl_.py:90: InsecurePlatformWarning: A true SSLContext object is not available. This prevents urllib3 from configuring SSL appropriately and may cause certain SSL connections to fail. For more information, see https://urllib3.readthedocs.org/en/latest/security.html#insecureplatformwarning.\n",
      "  InsecurePlatformWarning\n"
     ]
    },
    {
     "name": "stdout",
     "output_type": "stream",
     "text": [
      "\n",
      "Hi\n"
     ]
    },
    {
     "name": "stderr",
     "output_type": "stream",
     "text": [
      "/System/Library/Frameworks/Python.framework/Versions/2.7/lib/python2.7/site-packages/requests/packages/urllib3/util/ssl_.py:90: InsecurePlatformWarning: A true SSLContext object is not available. This prevents urllib3 from configuring SSL appropriately and may cause certain SSL connections to fail. For more information, see https://urllib3.readthedocs.org/en/latest/security.html#insecureplatformwarning.\n",
      "  InsecurePlatformWarning\n"
     ]
    }
   ],
   "source": [
    "clients = []\n",
    "users = []\n",
    "for accessToken in accessTokens[:5]:\n",
    "    client = foursquareWithHosts.Foursquare(client_id=credentials['client_id'], client_secret=credentials['client_secret'], redirect_uri=credentials['redirect_uri'])\n",
    "    client.set_access_token(accessToken)\n",
    "    user = client.users()\n",
    "    clients.append(client)\n",
    "    users.append(user)"
   ]
  },
  {
   "cell_type": "code",
   "execution_count": null,
   "metadata": {
    "collapsed": true
   },
   "outputs": [],
   "source": [
    "auth_uri = client.oauth.auth_url()"
   ]
  },
  {
   "cell_type": "code",
   "execution_count": null,
   "metadata": {
    "collapsed": false
   },
   "outputs": [],
   "source": [
    "# Interrogate foursquare's servers to get the user's access_token\n",
    "access_token = client.oauth.get_token('code')\n",
    "\n",
    "# Apply the returned access token to the client\n",
    "client.set_access_token(access_token)\n",
    "\n",
    "# Get the user's data\n",
    "user = client.users()"
   ]
  },
  {
   "cell_type": "code",
   "execution_count": null,
   "metadata": {
    "collapsed": false
   },
   "outputs": [],
   "source": [
    "client.set_access_token(accessTokens[1])\n",
    "\n",
    "# Get the user's data\n",
    "user = client.users()"
   ]
  },
  {
   "cell_type": "code",
   "execution_count": null,
   "metadata": {
    "collapsed": false
   },
   "outputs": [],
   "source": [
    "#1 Get the venues of interes\n",
    "yogaVenues = client.venues.search(params={'query': 'worldclass', 'near':'Moscow'})\n",
    "for yogaPlace in yogaVenues['venues']:\n",
    "    if yogaPlace['hereNow']['count'] > 0:\n",
    "        print ''\n",
    "        print yogaPlace['name']\n",
    "        print yogaPlace['id']\n",
    "        print 'here now:', yogaPlace['hereNow']['count']\n",
    "        print 'total users:', yogaPlace['stats']['usersCount']"
   ]
  },
  {
   "cell_type": "code",
   "execution_count": 35,
   "metadata": {
    "collapsed": false
   },
   "outputs": [
    {
     "name": "stdout",
     "output_type": "stream",
     "text": [
      "[u'verified', u'name', u'referralId', u'hereNow', u'specials', u'contact', u'location', u'stats', u'id', u'categories']\n"
     ]
    }
   ],
   "source": [
    "print yogaVenues['venues'][0].keys()"
   ]
  },
  {
   "cell_type": "code",
   "execution_count": 14,
   "metadata": {
    "collapsed": false
   },
   "outputs": [],
   "source": [
    "#Save info about Moscow\n",
    "with open('moscowGeocode.json', 'w') as outfile:\n",
    "    json.dump(yogaVenues['geocode'], outfile)"
   ]
  },
  {
   "cell_type": "code",
   "execution_count": 7,
   "metadata": {
    "collapsed": true
   },
   "outputs": [],
   "source": []
  },
  {
   "cell_type": "code",
   "execution_count": null,
   "metadata": {
    "collapsed": false
   },
   "outputs": [],
   "source": [
    "#2 Check-in a user into the venue of interest\n",
    "clients[0].checkins.add({'venueId':venuesForUsers[0][0]})"
   ]
  },
  {
   "cell_type": "code",
   "execution_count": null,
   "metadata": {
    "collapsed": false
   },
   "outputs": [],
   "source": [
    "#3 Get info about the venue right now\n",
    "hereNowDict = clients[0].venues.herenow(venuesForUsers[0][0])"
   ]
  },
  {
   "cell_type": "markdown",
   "metadata": {},
   "source": [
    "# Getting the data "
   ]
  },
  {
   "cell_type": "code",
   "execution_count": 18,
   "metadata": {
    "collapsed": true
   },
   "outputs": [],
   "source": [
    "import pandas as pd\n",
    "usersDF = pd.DataFrame()\n",
    "checkinsDF = pd.DataFrame()\n",
    "checkpointsDF = pd.DataFrame()\n",
    "allUsersIds = []\n",
    "allCheckInsIds = []\n",
    "\n",
    "currentVenues = [0,0,0]\n",
    "currentBotId = 0"
   ]
  },
  {
   "cell_type": "code",
   "execution_count": 19,
   "metadata": {
    "collapsed": false
   },
   "outputs": [],
   "source": [
    "#3.1 Savethe info to the DB\n",
    "def parseHereNowDict(hereNowDict, venueId):\n",
    "    usersInVenue = []\n",
    "    currentCheckIns = []\n",
    "\n",
    "    if hereNowDict['hereNow']:\n",
    "        global checkpointsDF\n",
    "        global usersDF\n",
    "        global checkinsDF\n",
    "        hereNowCount =  hereNowDict['hereNow']['count']\n",
    "        checkpointsDF = checkpointsDF.append([{'createdAt':datetime.now(),\n",
    "                                               'hereNow':hereNowCount, \n",
    "                                               'venueId':venueId}])\n",
    "\n",
    "        print 'Here now:', hereNowCount\n",
    "        print ''\n",
    "\n",
    "        #Get check-in info first\n",
    "        for checkinAtVenue in hereNowDict['hereNow']['items']:\n",
    "            if checkinAtVenue['type'] == 'checkin':\n",
    "                if checkinAtVenue['id'] not in allCheckInsIds:\n",
    "                    currentCheckIns.append({'checkInId':checkinAtVenue['id'],\n",
    "                                            'createdAt':checkinAtVenue['createdAt'],\n",
    "                                            'createdAtDate':extractComponents(checkinAtVenue['createdAt'],checkinAtVenue['timeZoneOffset']),\n",
    "                                            'venueId':venueId,\n",
    "                                            'userId':checkinAtVenue['user']['id']\n",
    "                                           })\n",
    "                    allCheckInsIds.append(checkinAtVenue['id'])\n",
    "                    #Now get the user\n",
    "                    userInVenue =  checkinAtVenue['user']\n",
    "                    #print 'User', userInVenue['id'],'Checked-in at:', extractComponents(checkinAtVenue['createdAt'],checkinAtVenue['timeZoneOffset'])\n",
    "                    if userInVenue['id'] not in allUsersIds:\n",
    "                        userInfo = {'userId':userInVenue['id']}\n",
    "                        if 'gender' in userInVenue.keys() and userInVenue['gender']:\n",
    "                            userInfo[\"gender\"] = userInVenue['gender']\n",
    "                        if 'firstName' in userInVenue.keys() and userInVenue['firstName']:\n",
    "                            userInfo[\"firstName\"] = userInVenue['firstName']\n",
    "                        if 'lastName' in userInVenue.keys() and userInVenue['lastName']:\n",
    "                            userInfo[\"lastName\"] = userInVenue['lastName']\n",
    "                        usersInVenue.append(userInfo)\n",
    "                        allUsersIds.append(userInVenue['id'])\n",
    "        if len(usersInVenue):\n",
    "            usersDF = usersDF.append(usersInVenue)\n",
    "        if len(currentCheckIns):\n",
    "            checkinsDF = checkinsDF.append(currentCheckIns)\n",
    "\n",
    "        usersDF.to_csv('data/realUsers.tsv', sep='\\t',encoding='utf-8')\n",
    "        checkinsDF.to_csv('data/realCheckins.tsv', sep='\\t',encoding='utf-8')\n",
    "        checkpointsDF.to_csv('data/checkPoints.tsv', sep='\\t',encoding='utf-8')"
   ]
  },
  {
   "cell_type": "code",
   "execution_count": 20,
   "metadata": {
    "collapsed": true
   },
   "outputs": [],
   "source": [
    "def getNextCheckinInfo():\n",
    "    global currentBotId\n",
    "    global currentVenues\n",
    "    currentVenue = venuesForUsers[currentBotId][currentVenues[currentBotId]]\n",
    "    checkIn = clients[currentBotId].checkins.add(currentVenue)\n",
    "    hereNowDict = clients[currentBotId].venues.herenow(currentVenue['venueId'])\n",
    "    parseHereNowDict(hereNowDict, currentVenue['venueId'])\n",
    "    \n",
    "    currentVenues[currentBotId] = (currentVenues[currentBotId]+1)%len(venuesForUsers[currentBotId])\n",
    "    currentBotId = (currentBotId+1)%len(clients)\n",
    "    print currentBotId\n",
    "    print currentVenues"
   ]
  },
  {
   "cell_type": "code",
   "execution_count": 21,
   "metadata": {
    "collapsed": true
   },
   "outputs": [],
   "source": [
    "with open('data/top90healthVenuesSummer.json') as venuesFile:\n",
    "    top50HealtPlaces = json.load(venuesFile)\n",
    "    \n",
    "venuesForUsers = [[],[],[]]\n",
    "for i, x in enumerate(top50HealtPlaces):\n",
    "    venuesForUsers[i%3].append(x)"
   ]
  },
  {
   "cell_type": "code",
   "execution_count": 164,
   "metadata": {
    "collapsed": true
   },
   "outputs": [],
   "source": [
    "from datetime import datetime\n",
    "def extractComponents(createdAt, tzOffset):\n",
    "    date = datetime.utcfromtimestamp(createdAt+(tzOffset-60)*60)\n",
    "    return date"
   ]
  },
  {
   "cell_type": "code",
   "execution_count": 8,
   "metadata": {
    "collapsed": false
   },
   "outputs": [],
   "source": [
    "timeInterval = 3*60/(len(venuesForUsers[0])*len(clients))"
   ]
  },
  {
   "cell_type": "code",
   "execution_count": null,
   "metadata": {
    "collapsed": false,
    "scrolled": true
   },
   "outputs": [],
   "source": [
    "import schedule\n",
    "import time\n",
    "\n",
    "timeInterval = 3*60/(len(venuesForUsers[0])*len(clients))\n",
    "schedule.every(1).minutes.do(getNextCheckinInfo)\n",
    "\n",
    "while True:\n",
    "    schedule.run_pending()\n",
    "    time.sleep(1)"
   ]
  },
  {
   "cell_type": "code",
   "execution_count": 44,
   "metadata": {
    "collapsed": false
   },
   "outputs": [],
   "source": [
    "checkinsDF1.to_csv('data/realCheckins.tsv', sep='\\t',encoding='utf-8')"
   ]
  },
  {
   "cell_type": "markdown",
   "metadata": {},
   "source": [
    "# Getting Friends"
   ]
  },
  {
   "cell_type": "code",
   "execution_count": 75,
   "metadata": {
    "collapsed": true
   },
   "outputs": [],
   "source": [
    "from datetime import datetime\n",
    "from sys import stdout\n",
    "import pandas as pd"
   ]
  },
  {
   "cell_type": "code",
   "execution_count": 151,
   "metadata": {
    "collapsed": false
   },
   "outputs": [],
   "source": [
    "checkinsDF = pd.read_csv('data/24June2/checkins.tsv', sep='\\t',encoding='utf-8')\n",
    "checkpointsDF = pd.read_csv('data/24June2/checkPoints.tsv', sep='\\t',encoding='utf-8')\n",
    "usersDF = pd.read_csv('data/24June2/users.tsv', sep='\\t',encoding='utf-8')"
   ]
  },
  {
   "cell_type": "code",
   "execution_count": null,
   "metadata": {
    "collapsed": true
   },
   "outputs": [],
   "source": [
    "from pymongo import MongoClient\n",
    "client = MongoClient('mongodb://localhost:27017/')\n",
    "db = client.habidatum"
   ]
  },
  {
   "cell_type": "code",
   "execution_count": 152,
   "metadata": {
    "collapsed": false
   },
   "outputs": [],
   "source": [
    "#Getting old requested and pending users\n",
    "existingRequestedUsers = []\n",
    "existingRequestedUsersCoursor = db.requestedUsers.find()\n",
    "for requestedUser in existingRequestedUsersCoursor:\n",
    "    existingRequestedUsers.append(int(requestedUser['requestedUser']['user']['id']))\n",
    "\n",
    "existingPendingFriends = []\n",
    "existingPendingFriendsCoursor = db.pendingUsers.find()\n",
    "for pendingFriend in existingPendingFriendsCoursor:\n",
    "    existingPendingFriends.append(int(pendingFriend['requestedUser']['user']['id']))"
   ]
  },
  {
   "cell_type": "code",
   "execution_count": 153,
   "metadata": {
    "collapsed": false
   },
   "outputs": [],
   "source": [
    "usersToRequest = usersDF[~usersDF.userId.isin(existingRequestedUsers)].userId.tolist()\n",
    "usersToFriend = usersDF[~usersDF.userId.isin(existingPendingFriends)].userId.tolist()"
   ]
  },
  {
   "cell_type": "code",
   "execution_count": 162,
   "metadata": {
    "collapsed": false
   },
   "outputs": [
    {
     "data": {
      "text/plain": [
       "237"
      ]
     },
     "execution_count": 162,
     "metadata": {},
     "output_type": "execute_result"
    }
   ],
   "source": [
    "len(usersToRequest)"
   ]
  },
  {
   "cell_type": "code",
   "execution_count": null,
   "metadata": {
    "collapsed": false
   },
   "outputs": [],
   "source": [
    "requestedUsers = []\n",
    "for index, userId in enumerate(usersToRequest):\n",
    "    progress(index,len(usersToRequest))\n",
    "    requestedUser = clients[index%len(clients)].users(userId)\n",
    "    requestedUsers.append(requestedUser)\n",
    "    db.requestedUsers.insert({'requestingUser':index%len(clients),\n",
    "                                'requestedUser':requestedUser,\n",
    "                                 'requestedAt':datetime.now()})"
   ]
  },
  {
   "cell_type": "code",
   "execution_count": 163,
   "metadata": {
    "collapsed": false
   },
   "outputs": [
    {
     "name": "stdout",
     "output_type": "stream",
     "text": [
      "100%\n",
      "\n"
     ]
    }
   ],
   "source": [
    "pendingUsers = []\n",
    "for index, userId in enumerate(usersToFriend):\n",
    "    progress(index,len(usersToFriend))\n",
    "    pendingUser = clients[index%len(clients)].users.request(userId)\n",
    "    pendingUsers.append(pendingUser)\n",
    "    db.pendingUsers.insert({'requestingUser':index%len(clients),\n",
    "                                'requestedUser':pendingUser,\n",
    "                                 'requestedAt':datetime.now()})"
   ]
  },
  {
   "cell_type": "code",
   "execution_count": null,
   "metadata": {
    "collapsed": false
   },
   "outputs": [],
   "source": [
    "allRequestedStoredUsers = db.pendingUsers.find({\"requestingUser\":3},{\"_id\":0})\n",
    "for userR in allRequestedStoredUsers:\n",
    "    print userR[\"requestedUser\"][\"user\"][\"checkins\"][\"count\"]"
   ]
  },
  {
   "cell_type": "code",
   "execution_count": null,
   "metadata": {
    "collapsed": false
   },
   "outputs": [],
   "source": [
    "#4 Get the user that was checked-in\n",
    "requestedUser = client.users('someUserId')\n",
    "\n",
    "#5 Send requests to their friends \n",
    "if requestedUser['user']:\n",
    "    requestedUserInfo = requestedUser['user']\n",
    "    print 'Blocked:', requestedUserInfo['blockedStatus']\n",
    "    print requestedUserInfo['homeCity']\n",
    "    print requestedUserInfo['checkins']\n",
    "    print requestedUserInfo['gender']\n",
    "    print 'friends count:', requestedUserInfo['friends']['count']\n",
    "    for friendGroup in requestedUserInfo['friends']['groups']:\n",
    "        if friendGroup['type'] == 'friends':\n",
    "            if friendGroup['count'] > 3:\n",
    "                print 'Enough mutual friends'\n",
    "                break\n",
    "        if 0:\n",
    "            print 'Already requested'\n",
    "        print ''\n",
    "        for friend in friendGroup['items']:\n",
    "            if not friend['id'] in requestedUsersFriends:\n",
    "                print 'Add'\n",
    "                requestedUsersFriends.append(friend['id'])\n",
    "                client.users.request(friend['id'])\n",
    "    #0 for Mutual friends, type = 'friends', 1 for other friends, type = 'others'\n",
    "    #print requestedUserInfo['friends']['groups']\n",
    "    #print requestedUser['user']['lists']\n",
    "     #print requestedUser['user']['tips']"
   ]
  },
  {
   "cell_type": "code",
   "execution_count": 66,
   "metadata": {
    "collapsed": false
   },
   "outputs": [
    {
     "data": {
      "text/plain": [
       "[u'checkins',\n",
       " u'bio',\n",
       " u'gender',\n",
       " u'type',\n",
       " u'firstName',\n",
       " u'lastName',\n",
       " u'blockedStatus',\n",
       " u'pings',\n",
       " u'homeCity',\n",
       " u'photos',\n",
       " u'contact',\n",
       " u'checkinPings',\n",
       " u'lists',\n",
       " u'photo',\n",
       " u'tips',\n",
       " u'mayorships',\n",
       " u'friends',\n",
       " u'id',\n",
       " u'badges']"
      ]
     },
     "execution_count": 66,
     "metadata": {},
     "output_type": "execute_result"
    }
   ],
   "source": [
    "requestedUser['user'].keys()"
   ]
  },
  {
   "cell_type": "code",
   "execution_count": 179,
   "metadata": {
    "collapsed": false
   },
   "outputs": [
    {
     "name": "stdout",
     "output_type": "stream",
     "text": [
      "{u'count': 0, u'items': [], u'type': u'others', u'name': u'Other friends'}\n"
     ]
    }
   ],
   "source": [
    "print user['user']['friends']['groups'][1]"
   ]
  },
  {
   "cell_type": "code",
   "execution_count": 128,
   "metadata": {
    "collapsed": true
   },
   "outputs": [],
   "source": [
    "# Get the user's data\n",
    "user = client.users()"
   ]
  },
  {
   "cell_type": "code",
   "execution_count": null,
   "metadata": {
    "collapsed": false
   },
   "outputs": [],
   "source": [
    "#6 One way to get some check-in\n",
    "aFriend = client.users('')\n",
    "print aFriend['user']['checkins']['items'][0]"
   ]
  },
  {
   "cell_type": "code",
   "execution_count": 180,
   "metadata": {
    "collapsed": false
   },
   "outputs": [],
   "source": [
    "#6 Another way — get recent check-ins\n",
    "recent = client.checkins.recent()['recent']"
   ]
  },
  {
   "cell_type": "markdown",
   "metadata": {},
   "source": [
    "# Get Activities"
   ]
  },
  {
   "cell_type": "code",
   "execution_count": 28,
   "metadata": {
    "collapsed": false
   },
   "outputs": [],
   "source": [
    "def progress(i, n):\n",
    "    stdout.write(\"\\r%f%%\" % (i*100/float(n)))\n",
    "    stdout.flush()\n",
    "    if i == n-1:\n",
    "        stdout.write(\"\\r100%\")\n",
    "        print(\"\\r\\n\")"
   ]
  },
  {
   "cell_type": "code",
   "execution_count": 237,
   "metadata": {
    "collapsed": false
   },
   "outputs": [],
   "source": [
    "#Get current friends info\n",
    "usersFriends = []\n",
    "for client in clients[:5]:\n",
    "    userInfo = client.users()\n",
    "    usersFriends.append(userInfo['user']['friends'])"
   ]
  },
  {
   "cell_type": "code",
   "execution_count": 238,
   "metadata": {
    "collapsed": false
   },
   "outputs": [
    {
     "name": "stdout",
     "output_type": "stream",
     "text": [
      "[[u'88228148', u'34214626', u'69456382', u'84581388', u'39412244', u'74434491', u'36992706', u'88664435', u'22067849', u'59201697'], [u'28817862', u'50319940', u'6186570', u'31333619', u'52043686', u'39412205', u'64994770', u'128636353'], [u'79385836', u'77922328', u'97221369', u'86408982', u'65982110', u'40653286', u'7369996', u'44738421', u'5599388', u'58243642'], [u'12700194', u'25345770', u'58092923', u'64994791', u'13031153', u'69499174', u'86717627', u'131302695', u'130936768'], [u'67732190', u'46916093', u'116444949', u'55049378', u'63842094', u'61474907', u'13886058', u'39702002', u'126472040', u'91418757']]\n"
     ]
    }
   ],
   "source": [
    "#Get current friends ids\n",
    "avaliableFriends = []\n",
    "for userFriendSet in usersFriends:\n",
    "    userFriendGroup = userFriendSet['groups'][1]['items']\n",
    "    friendIds = []\n",
    "    for friend in userFriendGroup:\n",
    "        friendIds.append(friend['id'])\n",
    "    avaliableFriends.append(friendIds)\n",
    "print(avaliableFriends)"
   ]
  },
  {
   "cell_type": "code",
   "execution_count": 227,
   "metadata": {
    "collapsed": false
   },
   "outputs": [
    {
     "name": "stdout",
     "output_type": "stream",
     "text": [
      "51\n"
     ]
    }
   ],
   "source": [
    "print len(requestedActivitiesIds)"
   ]
  },
  {
   "cell_type": "code",
   "execution_count": 226,
   "metadata": {
    "collapsed": false
   },
   "outputs": [
    {
     "name": "stdout",
     "output_type": "stream",
     "text": [
      "100%\n",
      "\n"
     ]
    }
   ],
   "source": [
    "userActivities = []\n",
    "\n",
    "for index, userSet in enumerate(avaliableFriends):\n",
    "    progress(index, len(clients))\n",
    "    for userId in userSet:\n",
    "        if userId not in requestedActivitiesIds:\n",
    "            userActivity = clients[index].users.activities(userId)\n",
    "            userActivities.append(userActivity)\n",
    "            db.activities.insert({'requestingUser':index,\n",
    "                                    'requestedUserId':userId,\n",
    "                                    'activity':userActivity,\n",
    "                                    'requestedAt':datetime.now()})\n",
    "            requestedActivitiesIds.append(userId)"
   ]
  },
  {
   "cell_type": "code",
   "execution_count": 231,
   "metadata": {
    "collapsed": false
   },
   "outputs": [],
   "source": [
    "activityProjection = {\"_id\":0,\n",
    "                      \"activity.activities.items.content.object.venue.id\":1,\n",
    "                      \"activity.activities.items.content.object.venue.name\":1,\n",
    "                        \"activity.activities.items.content.object.venue.location.lat\":1,\n",
    "                        \"activity.activities.items.content.object.venue.location.lng\":1,\n",
    "                        \"activity.activities.items.content.object.checkin.venue.id\":1,\n",
    "                        \"activity.activities.items.content.object.checkin.venue.name\":1,\n",
    "                         \"activity.activities.items.content.object.checkin.venue.location.lat\":1,\n",
    "                         \"activity.activities.items.content.object.checkin.venue.location.lng\":1,\n",
    "                         \"activity.activities.items.createdAt\":1,\n",
    "                          \"requestedUserId\":1}\n",
    "activityQuery = {\"activity.activities.items.content.type\":\"checkin\"}\n",
    "usersVenues = db.activities.find(activityQuery, activityProjection)"
   ]
  },
  {
   "cell_type": "code",
   "execution_count": 232,
   "metadata": {
    "collapsed": false
   },
   "outputs": [],
   "source": [
    "checkinsForUsers = []\n",
    "for userActivity in enumerate(usersVenues):\n",
    "    checkinsForUser = []\n",
    "    for checkIn in userActivity[1]['activity']['activities']['items']:\n",
    "        checkinInfo = {}\n",
    "        checkinInfo['userId'] = userActivity[1]['requestedUserId']\n",
    "        checkinInfo[\"createdAt\"] = checkIn['createdAt']\n",
    "        checkinInfo[\"createdAtDate\"] = str(extractComponents(checkIn['createdAt'], 240))#Get the real time zone\n",
    "        \n",
    "        if \"venue\" in checkIn['content']['object'].keys():\n",
    "            checkinInfo[\"venueId\"] = checkIn['content']['object'][\"venue\"][\"id\"]\n",
    "            checkinInfo[\"name\"] = checkIn['content']['object'][\"venue\"][\"name\"]\n",
    "            checkinInfo[\"lat\"] = checkIn['content']['object'][\"venue\"][\"location\"][\"lat\"]\n",
    "            checkinInfo[\"lng\"] = checkIn['content']['object'][\"venue\"][\"location\"][\"lng\"]\n",
    "            checkinsForUser.append(checkinInfo)\n",
    "        elif \"venue\" in checkIn['content']['object'].keys():\n",
    "            checkinInfo[\"venueId\"] = checkIn['content']['object']['checkin'][\"venue\"][\"id\"]\n",
    "            checkinInfo[\"name\"] = checkIn['content']['object']['checkin'][\"venue\"][\"name\"]\n",
    "            checkinInfo[\"lat\"] = checkIn['content']['object']['checkin'][\"venue\"][\"location\"][\"lat\"]\n",
    "            checkinInfo[\"lng\"] = checkIn['content']['object']['checkin'][\"venue\"][\"location\"][\"lng\"]\n",
    "            checkinsForUser.append(checkinInfo)\n",
    "    checkinsForUsers.append(checkinsForUser)"
   ]
  },
  {
   "cell_type": "code",
   "execution_count": 235,
   "metadata": {
    "collapsed": false
   },
   "outputs": [],
   "source": [
    "newIds = []\n",
    "for userSet in avaliableFriends:\n",
    "    for user in userSet:\n",
    "        newIds.append(user)"
   ]
  },
  {
   "cell_type": "code",
   "execution_count": 160,
   "metadata": {
    "collapsed": false
   },
   "outputs": [],
   "source": [
    "import requests\n",
    "requests.packages.urllib3.disable_warnings()"
   ]
  },
  {
   "cell_type": "code",
   "execution_count": 233,
   "metadata": {
    "collapsed": false
   },
   "outputs": [],
   "source": [
    "plainListOfCheckins = [item for sublist in checkinsForUsers for item in sublist]\n",
    "plainListOfCheckinsDF = pd.DataFrame(plainListOfCheckins)\n",
    "plainListOfCheckinsDF.to_csv('data/24June2/checkinsHistory.tsv', sep='\\t',encoding='utf-8')"
   ]
  },
  {
   "cell_type": "code",
   "execution_count": 234,
   "metadata": {
    "collapsed": false
   },
   "outputs": [
    {
     "data": {
      "text/plain": [
       "6529"
      ]
     },
     "execution_count": 234,
     "metadata": {},
     "output_type": "execute_result"
    }
   ],
   "source": [
    "len(plainListOfCheckins)"
   ]
  },
  {
   "cell_type": "code",
   "execution_count": 239,
   "metadata": {
    "collapsed": false
   },
   "outputs": [
    {
     "data": {
      "text/plain": [
       "46"
      ]
     },
     "execution_count": 239,
     "metadata": {},
     "output_type": "execute_result"
    }
   ],
   "source": [
    "len(newIds)"
   ]
  },
  {
   "cell_type": "code",
   "execution_count": null,
   "metadata": {
    "collapsed": true
   },
   "outputs": [],
   "source": []
  }
 ],
 "metadata": {
  "kernelspec": {
   "display_name": "Python 2",
   "language": "python",
   "name": "python2"
  },
  "language_info": {
   "codemirror_mode": {
    "name": "ipython",
    "version": 2
   },
   "file_extension": ".py",
   "mimetype": "text/x-python",
   "name": "python",
   "nbconvert_exporter": "python",
   "pygments_lexer": "ipython2",
   "version": "2.7.6"
  }
 },
 "nbformat": 4,
 "nbformat_minor": 0
}
