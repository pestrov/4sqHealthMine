{
 "cells": [
  {
   "cell_type": "code",
   "execution_count": 1,
   "metadata": {
    "collapsed": false
   },
   "outputs": [],
   "source": [
    "import json\n",
    "import foursquareWithHosts\n",
    "with open('keys/appCredentialsSudo.json') as credentialsFile:    \n",
    "    credentials = json.load(credentialsFile)\n",
    "with open('keys/hosts.json') as hostsFile:    \n",
    "    hosts = json.load(hostsFile)\n",
    "with open('keys/accessTokensSudo.json') as tokensFile:    \n",
    "    accessTokens = json.load(tokensFile)"
   ]
  },
  {
   "cell_type": "code",
   "execution_count": 34,
   "metadata": {
    "collapsed": true
   },
   "outputs": [],
   "source": [
    "from datetime import datetime\n",
    "from sys import stdout"
   ]
  },
  {
   "cell_type": "code",
   "execution_count": 2,
   "metadata": {
    "collapsed": false
   },
   "outputs": [
    {
     "name": "stdout",
     "output_type": "stream",
     "text": [
      "Hi\n",
      "Hi"
     ]
    },
    {
     "name": "stderr",
     "output_type": "stream",
     "text": [
      "/System/Library/Frameworks/Python.framework/Versions/2.7/lib/python2.7/site-packages/requests/packages/urllib3/util/ssl_.py:90: InsecurePlatformWarning: A true SSLContext object is not available. This prevents urllib3 from configuring SSL appropriately and may cause certain SSL connections to fail. For more information, see https://urllib3.readthedocs.org/en/latest/security.html#insecureplatformwarning.\n",
      "  InsecurePlatformWarning\n",
      "/System/Library/Frameworks/Python.framework/Versions/2.7/lib/python2.7/site-packages/requests/packages/urllib3/util/ssl_.py:90: InsecurePlatformWarning: A true SSLContext object is not available. This prevents urllib3 from configuring SSL appropriately and may cause certain SSL connections to fail. For more information, see https://urllib3.readthedocs.org/en/latest/security.html#insecureplatformwarning.\n",
      "  InsecurePlatformWarning\n"
     ]
    },
    {
     "name": "stdout",
     "output_type": "stream",
     "text": [
      "\n",
      "Hi\n",
      "Hi"
     ]
    },
    {
     "name": "stderr",
     "output_type": "stream",
     "text": [
      "/System/Library/Frameworks/Python.framework/Versions/2.7/lib/python2.7/site-packages/requests/packages/urllib3/util/ssl_.py:90: InsecurePlatformWarning: A true SSLContext object is not available. This prevents urllib3 from configuring SSL appropriately and may cause certain SSL connections to fail. For more information, see https://urllib3.readthedocs.org/en/latest/security.html#insecureplatformwarning.\n",
      "  InsecurePlatformWarning\n",
      "/System/Library/Frameworks/Python.framework/Versions/2.7/lib/python2.7/site-packages/requests/packages/urllib3/util/ssl_.py:90: InsecurePlatformWarning: A true SSLContext object is not available. This prevents urllib3 from configuring SSL appropriately and may cause certain SSL connections to fail. For more information, see https://urllib3.readthedocs.org/en/latest/security.html#insecureplatformwarning.\n",
      "  InsecurePlatformWarning\n"
     ]
    },
    {
     "name": "stdout",
     "output_type": "stream",
     "text": [
      "\n",
      "Hi\n"
     ]
    },
    {
     "name": "stderr",
     "output_type": "stream",
     "text": [
      "/System/Library/Frameworks/Python.framework/Versions/2.7/lib/python2.7/site-packages/requests/packages/urllib3/util/ssl_.py:90: InsecurePlatformWarning: A true SSLContext object is not available. This prevents urllib3 from configuring SSL appropriately and may cause certain SSL connections to fail. For more information, see https://urllib3.readthedocs.org/en/latest/security.html#insecureplatformwarning.\n",
      "  InsecurePlatformWarning\n"
     ]
    }
   ],
   "source": [
    "clients = []\n",
    "users = []\n",
    "for accessToken in accessTokens[:5]:\n",
    "    client = foursquareWithHosts.Foursquare(client_id=credentials['client_id'], client_secret=credentials['client_secret'], redirect_uri=credentials['redirect_uri'])\n",
    "    client.set_access_token(accessToken)\n",
    "    user = client.users()\n",
    "    clients.append(client)\n",
    "    users.append(user)"
   ]
  },
  {
   "cell_type": "code",
   "execution_count": null,
   "metadata": {
    "collapsed": true
   },
   "outputs": [],
   "source": [
    "auth_uri = client.oauth.auth_url()"
   ]
  },
  {
   "cell_type": "code",
   "execution_count": null,
   "metadata": {
    "collapsed": false
   },
   "outputs": [],
   "source": [
    "# Interrogate foursquare's servers to get the user's access_token\n",
    "access_token = client.oauth.get_token('code')\n",
    "\n",
    "# Apply the returned access token to the client\n",
    "client.set_access_token(access_token)\n",
    "\n",
    "# Get the user's data\n",
    "user = client.users()"
   ]
  },
  {
   "cell_type": "code",
   "execution_count": null,
   "metadata": {
    "collapsed": false
   },
   "outputs": [],
   "source": [
    "client.set_access_token(accessTokens[1])\n",
    "\n",
    "# Get the user's data\n",
    "user = client.users()"
   ]
  },
  {
   "cell_type": "code",
   "execution_count": null,
   "metadata": {
    "collapsed": false
   },
   "outputs": [],
   "source": [
    "#1 Get the venues of interes\n",
    "yogaVenues = client.venues.search(params={'query': 'worldclass', 'near':'Moscow'})\n",
    "for yogaPlace in yogaVenues['venues']:\n",
    "    if yogaPlace['hereNow']['count'] > 0:\n",
    "        print ''\n",
    "        print yogaPlace['name']\n",
    "        print yogaPlace['id']\n",
    "        print 'here now:', yogaPlace['hereNow']['count']\n",
    "        print 'total users:', yogaPlace['stats']['usersCount']"
   ]
  },
  {
   "cell_type": "code",
   "execution_count": 35,
   "metadata": {
    "collapsed": false
   },
   "outputs": [
    {
     "name": "stdout",
     "output_type": "stream",
     "text": [
      "[u'verified', u'name', u'referralId', u'hereNow', u'specials', u'contact', u'location', u'stats', u'id', u'categories']\n"
     ]
    }
   ],
   "source": [
    "print yogaVenues['venues'][0].keys()"
   ]
  },
  {
   "cell_type": "code",
   "execution_count": 14,
   "metadata": {
    "collapsed": false
   },
   "outputs": [],
   "source": [
    "#Save info about Moscow\n",
    "with open('moscowGeocode.json', 'w') as outfile:\n",
    "    json.dump(yogaVenues['geocode'], outfile)"
   ]
  },
  {
   "cell_type": "code",
   "execution_count": 7,
   "metadata": {
    "collapsed": true
   },
   "outputs": [],
   "source": []
  },
  {
   "cell_type": "code",
   "execution_count": null,
   "metadata": {
    "collapsed": false
   },
   "outputs": [],
   "source": [
    "#2 Check-in a user into the venue of interest\n",
    "clients[0].checkins.add({'venueId':venuesForUsers[0][0]})"
   ]
  },
  {
   "cell_type": "code",
   "execution_count": null,
   "metadata": {
    "collapsed": false
   },
   "outputs": [],
   "source": [
    "#3 Get info about the venue right now\n",
    "hereNowDict = clients[0].venues.herenow(venuesForUsers[0][0])"
   ]
  },
  {
   "cell_type": "markdown",
   "metadata": {},
   "source": [
    "# Getting the data "
   ]
  },
  {
   "cell_type": "code",
   "execution_count": 18,
   "metadata": {
    "collapsed": true
   },
   "outputs": [],
   "source": [
    "import pandas as pd\n",
    "usersDF = pd.DataFrame()\n",
    "checkinsDF = pd.DataFrame()\n",
    "checkpointsDF = pd.DataFrame()\n",
    "allUsersIds = []\n",
    "allCheckInsIds = []\n",
    "\n",
    "currentVenues = [0,0,0]\n",
    "currentBotId = 0"
   ]
  },
  {
   "cell_type": "code",
   "execution_count": 19,
   "metadata": {
    "collapsed": false
   },
   "outputs": [],
   "source": [
    "#3.1 Savethe info to the DB\n",
    "def parseHereNowDict(hereNowDict, venueId):\n",
    "    usersInVenue = []\n",
    "    currentCheckIns = []\n",
    "\n",
    "    if hereNowDict['hereNow']:\n",
    "        global checkpointsDF\n",
    "        global usersDF\n",
    "        global checkinsDF\n",
    "        hereNowCount =  hereNowDict['hereNow']['count']\n",
    "        checkpointsDF = checkpointsDF.append([{'createdAt':datetime.now(),\n",
    "                                               'hereNow':hereNowCount, \n",
    "                                               'venueId':venueId}])\n",
    "\n",
    "        print 'Here now:', hereNowCount\n",
    "        print ''\n",
    "\n",
    "        #Get check-in info first\n",
    "        for checkinAtVenue in hereNowDict['hereNow']['items']:\n",
    "            if checkinAtVenue['type'] == 'checkin':\n",
    "                if checkinAtVenue['id'] not in allCheckInsIds:\n",
    "                    currentCheckIns.append({'checkInId':checkinAtVenue['id'],\n",
    "                                            'createdAt':checkinAtVenue['createdAt'],\n",
    "                                            'createdAtDate':extractComponents(checkinAtVenue['createdAt'],checkinAtVenue['timeZoneOffset']),\n",
    "                                            'venueId':venueId,\n",
    "                                            'userId':checkinAtVenue['user']['id']\n",
    "                                           })\n",
    "                    allCheckInsIds.append(checkinAtVenue['id'])\n",
    "                    #Now get the user\n",
    "                    userInVenue =  checkinAtVenue['user']\n",
    "                    #print 'User', userInVenue['id'],'Checked-in at:', extractComponents(checkinAtVenue['createdAt'],checkinAtVenue['timeZoneOffset'])\n",
    "                    if userInVenue['id'] not in allUsersIds:\n",
    "                        userInfo = {'userId':userInVenue['id']}\n",
    "                        if 'gender' in userInVenue.keys() and userInVenue['gender']:\n",
    "                            userInfo[\"gender\"] = userInVenue['gender']\n",
    "                        if 'firstName' in userInVenue.keys() and userInVenue['firstName']:\n",
    "                            userInfo[\"firstName\"] = userInVenue['firstName']\n",
    "                        if 'lastName' in userInVenue.keys() and userInVenue['lastName']:\n",
    "                            userInfo[\"lastName\"] = userInVenue['lastName']\n",
    "                        usersInVenue.append(userInfo)\n",
    "                        allUsersIds.append(userInVenue['id'])\n",
    "        if len(usersInVenue):\n",
    "            usersDF = usersDF.append(usersInVenue)\n",
    "        if len(currentCheckIns):\n",
    "            checkinsDF = checkinsDF.append(currentCheckIns)\n",
    "\n",
    "        usersDF.to_csv('data/realUsers.tsv', sep='\\t',encoding='utf-8')\n",
    "        checkinsDF.to_csv('data/realCheckins.tsv', sep='\\t',encoding='utf-8')\n",
    "        checkpointsDF.to_csv('data/checkPoints.tsv', sep='\\t',encoding='utf-8')"
   ]
  },
  {
   "cell_type": "code",
   "execution_count": 20,
   "metadata": {
    "collapsed": true
   },
   "outputs": [],
   "source": [
    "def getNextCheckinInfo():\n",
    "    global currentBotId\n",
    "    global currentVenues\n",
    "    currentVenue = venuesForUsers[currentBotId][currentVenues[currentBotId]]\n",
    "    checkIn = clients[currentBotId].checkins.add(currentVenue)\n",
    "    hereNowDict = clients[currentBotId].venues.herenow(currentVenue['venueId'])\n",
    "    parseHereNowDict(hereNowDict, currentVenue['venueId'])\n",
    "    \n",
    "    currentVenues[currentBotId] = (currentVenues[currentBotId]+1)%len(venuesForUsers[currentBotId])\n",
    "    currentBotId = (currentBotId+1)%len(clients)\n",
    "    print currentBotId\n",
    "    print currentVenues"
   ]
  },
  {
   "cell_type": "code",
   "execution_count": 21,
   "metadata": {
    "collapsed": true
   },
   "outputs": [],
   "source": [
    "with open('data/top90healthVenuesSummer.json') as venuesFile:\n",
    "    top50HealtPlaces = json.load(venuesFile)\n",
    "    \n",
    "venuesForUsers = [[],[],[]]\n",
    "for i, x in enumerate(top50HealtPlaces):\n",
    "    venuesForUsers[i%3].append(x)"
   ]
  },
  {
   "cell_type": "code",
   "execution_count": 164,
   "metadata": {
    "collapsed": true
   },
   "outputs": [],
   "source": [
    "from datetime import datetime\n",
    "def extractComponents(createdAt, tzOffset):\n",
    "    date = datetime.utcfromtimestamp(createdAt+(tzOffset-60)*60)\n",
    "    return date"
   ]
  },
  {
   "cell_type": "code",
   "execution_count": 8,
   "metadata": {
    "collapsed": false
   },
   "outputs": [],
   "source": [
    "timeInterval = 3*60/(len(venuesForUsers[0])*len(clients))"
   ]
  },
  {
   "cell_type": "code",
   "execution_count": null,
   "metadata": {
    "collapsed": false,
    "scrolled": true
   },
   "outputs": [],
   "source": [
    "import schedule\n",
    "import time\n",
    "\n",
    "timeInterval = 3*60/(len(venuesForUsers[0])*len(clients))\n",
    "schedule.every(1).minutes.do(getNextCheckinInfo)\n",
    "\n",
    "while True:\n",
    "    schedule.run_pending()\n",
    "    time.sleep(1)"
   ]
  },
  {
   "cell_type": "code",
   "execution_count": 44,
   "metadata": {
    "collapsed": false
   },
   "outputs": [],
   "source": [
    "checkinsDF1.to_csv('data/realCheckins.tsv', sep='\\t',encoding='utf-8')"
   ]
  },
  {
   "cell_type": "markdown",
   "metadata": {},
   "source": [
    "# Getting Friends"
   ]
  },
  {
   "cell_type": "code",
   "execution_count": 75,
   "metadata": {
    "collapsed": true
   },
   "outputs": [],
   "source": [
    "from datetime import datetime\n",
    "from sys import stdout\n",
    "import pandas as pd"
   ]
  },
  {
   "cell_type": "code",
   "execution_count": 361,
   "metadata": {
    "collapsed": false
   },
   "outputs": [],
   "source": [
    "checkinsDF = pd.read_csv('data/24June3/checkins.tsv', sep='\\t',encoding='utf-8')\n",
    "checkpointsDF = pd.read_csv('data/24June3/checkPoints.tsv', sep='\\t',encoding='utf-8')\n",
    "usersDF = pd.read_csv('data/24June3/users.tsv', sep='\\t',encoding='utf-8')"
   ]
  },
  {
   "cell_type": "code",
   "execution_count": null,
   "metadata": {
    "collapsed": true
   },
   "outputs": [],
   "source": [
    "from pymongo import MongoClient\n",
    "client = MongoClient('mongodb://localhost:27017/')\n",
    "db = client.habidatum"
   ]
  },
  {
   "cell_type": "code",
   "execution_count": 367,
   "metadata": {
    "collapsed": false
   },
   "outputs": [],
   "source": [
    "#Getting old requested and pending users\n",
    "existingRequestedUsers = []\n",
    "existingRequestedUsersCoursor = db.requestedUsers.find()\n",
    "for requestedUser in existingRequestedUsersCoursor:\n",
    "    existingRequestedUsers.append(int(requestedUser['requestedUser']['user']['id']))\n",
    "\n",
    "existingPendingFriends = []\n",
    "existingPendingFriendsCoursor = db.pendingUsers.find()\n",
    "for pendingFriend in existingPendingFriendsCoursor:\n",
    "    existingPendingFriends.append(int(pendingFriend['requestedUser']['user']['id']))"
   ]
  },
  {
   "cell_type": "code",
   "execution_count": 368,
   "metadata": {
    "collapsed": false
   },
   "outputs": [],
   "source": [
    "usersToRequest = usersDF[~usersDF.userId.isin(existingRequestedUsers)].userId.tolist()\n",
    "usersToFriend = usersDF[~usersDF.userId.isin(existingPendingFriends)].userId.tolist()"
   ]
  },
  {
   "cell_type": "code",
   "execution_count": 369,
   "metadata": {
    "collapsed": false
   },
   "outputs": [
    {
     "data": {
      "text/plain": [
       "43"
      ]
     },
     "execution_count": 369,
     "metadata": {},
     "output_type": "execute_result"
    }
   ],
   "source": [
    "len(usersToFriend)"
   ]
  },
  {
   "cell_type": "code",
   "execution_count": 365,
   "metadata": {
    "collapsed": false
   },
   "outputs": [
    {
     "name": "stdout",
     "output_type": "stream",
     "text": [
      "100%\n",
      "\n"
     ]
    }
   ],
   "source": [
    "requestedUsers = []\n",
    "for index, userId in enumerate(usersToRequest):\n",
    "    progress(index,len(usersToRequest))\n",
    "    requestedUser = clients[index%len(clients)].users(userId)\n",
    "    requestedUsers.append(requestedUser)\n",
    "    db.requestedUsers.insert({'requestingUser':index%len(clients),\n",
    "                                'requestedUser':requestedUser,\n",
    "                                 'requestedAt':datetime.now()})"
   ]
  },
  {
   "cell_type": "code",
   "execution_count": 370,
   "metadata": {
    "collapsed": false
   },
   "outputs": [
    {
     "name": "stdout",
     "output_type": "stream",
     "text": [
      "100%\n",
      "\n"
     ]
    }
   ],
   "source": [
    "pendingUsers = []\n",
    "for index, userId in enumerate(usersToFriend):\n",
    "    progress(index,len(usersToFriend))\n",
    "    pendingUser = clients[index%len(clients)].users.request(userId)\n",
    "    pendingUsers.append(pendingUser)\n",
    "    db.pendingUsers.insert({'requestingUser':index%len(clients),\n",
    "                                'requestedUser':pendingUser,\n",
    "                                 'requestedAt':datetime.now()})"
   ]
  },
  {
   "cell_type": "code",
   "execution_count": null,
   "metadata": {
    "collapsed": false
   },
   "outputs": [],
   "source": [
    "#4 Get the user that was checked-in\n",
    "requestedUser = client.users('someUserId')\n",
    "\n",
    "#5 Send requests to their friends \n",
    "if requestedUser['user']:\n",
    "    requestedUserInfo = requestedUser['user']\n",
    "    print 'Blocked:', requestedUserInfo['blockedStatus']\n",
    "    print requestedUserInfo['homeCity']\n",
    "    print requestedUserInfo['checkins']\n",
    "    print requestedUserInfo['gender']\n",
    "    print 'friends count:', requestedUserInfo['friends']['count']\n",
    "    for friendGroup in requestedUserInfo['friends']['groups']:\n",
    "        if friendGroup['type'] == 'friends':\n",
    "            if friendGroup['count'] > 3:\n",
    "                print 'Enough mutual friends'\n",
    "                break\n",
    "        if 0:\n",
    "            print 'Already requested'\n",
    "        print ''\n",
    "        for friend in friendGroup['items']:\n",
    "            if not friend['id'] in requestedUsersFriends:\n",
    "                print 'Add'\n",
    "                requestedUsersFriends.append(friend['id'])\n",
    "                client.users.request(friend['id'])"
   ]
  },
  {
   "cell_type": "code",
   "execution_count": 66,
   "metadata": {
    "collapsed": false
   },
   "outputs": [
    {
     "data": {
      "text/plain": [
       "[u'checkins',\n",
       " u'bio',\n",
       " u'gender',\n",
       " u'type',\n",
       " u'firstName',\n",
       " u'lastName',\n",
       " u'blockedStatus',\n",
       " u'pings',\n",
       " u'homeCity',\n",
       " u'photos',\n",
       " u'contact',\n",
       " u'checkinPings',\n",
       " u'lists',\n",
       " u'photo',\n",
       " u'tips',\n",
       " u'mayorships',\n",
       " u'friends',\n",
       " u'id',\n",
       " u'badges']"
      ]
     },
     "execution_count": 66,
     "metadata": {},
     "output_type": "execute_result"
    }
   ],
   "source": [
    "requestedUser['user'].keys()"
   ]
  },
  {
   "cell_type": "code",
   "execution_count": 179,
   "metadata": {
    "collapsed": false
   },
   "outputs": [
    {
     "name": "stdout",
     "output_type": "stream",
     "text": [
      "{u'count': 0, u'items': [], u'type': u'others', u'name': u'Other friends'}\n"
     ]
    }
   ],
   "source": [
    "print user['user']['friends']['groups'][1]"
   ]
  },
  {
   "cell_type": "code",
   "execution_count": 128,
   "metadata": {
    "collapsed": true
   },
   "outputs": [],
   "source": [
    "# Get the user's data\n",
    "user = client.users()"
   ]
  },
  {
   "cell_type": "code",
   "execution_count": null,
   "metadata": {
    "collapsed": false
   },
   "outputs": [],
   "source": [
    "#6 One way to get some check-in\n",
    "aFriend = client.users('')\n",
    "print aFriend['user']['checkins']['items'][0]"
   ]
  },
  {
   "cell_type": "code",
   "execution_count": 180,
   "metadata": {
    "collapsed": false
   },
   "outputs": [],
   "source": [
    "#6 Another way — get recent check-ins\n",
    "recent = client.checkins.recent()['recent']"
   ]
  },
  {
   "cell_type": "markdown",
   "metadata": {},
   "source": [
    "# Get Activities"
   ]
  },
  {
   "cell_type": "code",
   "execution_count": 28,
   "metadata": {
    "collapsed": false
   },
   "outputs": [],
   "source": [
    "def progress(i, n):\n",
    "    stdout.write(\"\\r%f%%\" % (i*100/float(n)))\n",
    "    stdout.flush()\n",
    "    if i == n-1:\n",
    "        stdout.write(\"\\r100%\")\n",
    "        print(\"\\r\\n\")"
   ]
  },
  {
   "cell_type": "code",
   "execution_count": 386,
   "metadata": {
    "collapsed": false
   },
   "outputs": [],
   "source": [
    "#Get current friends info\n",
    "def getFriendsInfo(clients):\n",
    "    usersFriends = []\n",
    "    for client in clients[:5]:\n",
    "        friendsInfo = client.users.friends()\n",
    "        usersFriends.append(friendsInfo['friends'])\n",
    "    return usersFriends"
   ]
  },
  {
   "cell_type": "code",
   "execution_count": 387,
   "metadata": {
    "collapsed": false
   },
   "outputs": [],
   "source": [
    "#Get current friends ids\n",
    "def extractFriendsIds(usersFriends):\n",
    "    avaliableFriends = []\n",
    "    for userFriendSet in usersFriends:\n",
    "        userFriendGroup = userFriendSet['items']\n",
    "        friendIds = []\n",
    "        for friend in userFriendGroup:\n",
    "            friendIds.append(friend['id'])\n",
    "        avaliableFriends.append(friendIds)\n",
    "    return avaliableFriends"
   ]
  },
  {
   "cell_type": "code",
   "execution_count": 318,
   "metadata": {
    "collapsed": false
   },
   "outputs": [],
   "source": [
    "def countNewFriends(avaliableFriends):\n",
    "    newFriends = 0\n",
    "    for index, userSet in enumerate(avaliableFriends):\n",
    "        for userId in userSet:\n",
    "            if userId not in requestedActivitiesIds:\n",
    "                newFriends = newFriends+1\n",
    "    if newFriends:\n",
    "        print('{} new friends').format(newFriends)\n",
    "    else:\n",
    "        print('No new friends')\n",
    "    return newFriends"
   ]
  },
  {
   "cell_type": "code",
   "execution_count": 273,
   "metadata": {
    "collapsed": false
   },
   "outputs": [
    {
     "name": "stdout",
     "output_type": "stream",
     "text": [
      "71\n"
     ]
    }
   ],
   "source": [
    "print len(requestedActivitiesIds)"
   ]
  },
  {
   "cell_type": "code",
   "execution_count": 321,
   "metadata": {
    "collapsed": false
   },
   "outputs": [],
   "source": [
    "#Get the activities of new users\n",
    "def getFriendsActivities(avaliableFriends, clients, requestedActivitiesIds):\n",
    "    userActivities = []\n",
    "\n",
    "    for index, userSet in enumerate(avaliableFriends):\n",
    "        progress(index, len(clients))\n",
    "        for userId in userSet:\n",
    "            if userId not in requestedActivitiesIds:\n",
    "                userActivity = clients[index].users.activities(userId)\n",
    "                userActivities.append(userActivity)\n",
    "                db.activities.insert({'requestingUser':index,\n",
    "                                        'requestedUserId':userId,\n",
    "                                        'activity':userActivity,\n",
    "                                        'requestedAt':datetime.now()})\n",
    "                requestedActivitiesIds.append(userId)\n",
    "    return requestedActivitiesIds"
   ]
  },
  {
   "cell_type": "code",
   "execution_count": 320,
   "metadata": {
    "collapsed": false
   },
   "outputs": [],
   "source": [
    "#Get all the data from DataBase\n",
    "def getActivitiesFromDB(db):\n",
    "    activityProjection = {\"_id\":0,\n",
    "                          \"activity.activities.items.content.object.venue.id\":1,\n",
    "                          \"activity.activities.items.content.object.venue.name\":1,\n",
    "                            \"activity.activities.items.content.object.venue.location.lat\":1,\n",
    "                            \"activity.activities.items.content.object.venue.location.lng\":1,\n",
    "                            \"activity.activities.items.content.object.checkin.venue.id\":1,\n",
    "                            \"activity.activities.items.content.object.checkin.venue.name\":1,\n",
    "                             \"activity.activities.items.content.object.checkin.venue.location.lat\":1,\n",
    "                             \"activity.activities.items.content.object.checkin.venue.location.lng\":1,\n",
    "                             \"activity.activities.items.createdAt\":1,\n",
    "                              \"requestedUserId\":1}\n",
    "    activityQuery = {\"activity.activities.items.content.type\":\"checkin\"}\n",
    "    usersVenues = db.activities.find(activityQuery, activityProjection)\n",
    "    return usersVenues"
   ]
  },
  {
   "cell_type": "code",
   "execution_count": 322,
   "metadata": {
    "collapsed": false
   },
   "outputs": [],
   "source": [
    "#Transfer the data to python objects\n",
    "def getActivitiesObjects(usersVenues):\n",
    "    checkinsForUsers = []\n",
    "    for userActivity in enumerate(usersVenues):\n",
    "        checkinsForUser = []\n",
    "        for checkIn in userActivity[1]['activity']['activities']['items']:\n",
    "            checkinInfo = {}\n",
    "            checkinInfo['userId'] = userActivity[1]['requestedUserId']\n",
    "            checkinInfo[\"createdAt\"] = checkIn['createdAt']\n",
    "            checkinInfo[\"createdAtDate\"] = str(extractComponents(checkIn['createdAt'], 240))#Get the real time zone\n",
    "\n",
    "            if \"venue\" in checkIn['content']['object'].keys():\n",
    "                checkinInfo[\"venueId\"] = checkIn['content']['object'][\"venue\"][\"id\"]\n",
    "                checkinInfo[\"name\"] = checkIn['content']['object'][\"venue\"][\"name\"]\n",
    "                checkinInfo[\"lat\"] = checkIn['content']['object'][\"venue\"][\"location\"][\"lat\"]\n",
    "                checkinInfo[\"lng\"] = checkIn['content']['object'][\"venue\"][\"location\"][\"lng\"]\n",
    "                checkinsForUser.append(checkinInfo)\n",
    "            elif \"venue\" in checkIn['content']['object'].keys():\n",
    "                checkinInfo[\"venueId\"] = checkIn['content']['object']['checkin'][\"venue\"][\"id\"]\n",
    "                checkinInfo[\"name\"] = checkIn['content']['object']['checkin'][\"venue\"][\"name\"]\n",
    "                checkinInfo[\"lat\"] = checkIn['content']['object']['checkin'][\"venue\"][\"location\"][\"lat\"]\n",
    "                checkinInfo[\"lng\"] = checkIn['content']['object']['checkin'][\"venue\"][\"location\"][\"lng\"]\n",
    "                checkinsForUser.append(checkinInfo)\n",
    "        checkinsForUsers.append(checkinsForUser)\n",
    "    return checkinsForUsers"
   ]
  },
  {
   "cell_type": "code",
   "execution_count": 347,
   "metadata": {
    "collapsed": false
   },
   "outputs": [],
   "source": [
    "def countTotalFriends(avaliableFriends):\n",
    "    totalFriends = 0\n",
    "    for userSet in avaliableFriends:\n",
    "        totalFriends = totalFriends + len(userSet)\n",
    "    print('{} friends total').format(totalFriends)"
   ]
  },
  {
   "cell_type": "code",
   "execution_count": 324,
   "metadata": {
    "collapsed": false
   },
   "outputs": [],
   "source": [
    "#Save data to tsv\n",
    "def saveDataToCSV(checkinsForUsers):\n",
    "    plainListOfCheckins = [item for sublist in checkinsForUsers for item in sublist]\n",
    "    plainListOfCheckinsDF = pd.DataFrame(plainListOfCheckins)\n",
    "    plainListOfCheckinsDF.to_csv('data/24June2/checkinsHistory.tsv', sep='\\t',encoding='utf-8')"
   ]
  },
  {
   "cell_type": "code",
   "execution_count": 314,
   "metadata": {
    "collapsed": false
   },
   "outputs": [
    {
     "data": {
      "text/plain": [
       "10156"
      ]
     },
     "execution_count": 314,
     "metadata": {},
     "output_type": "execute_result"
    }
   ],
   "source": [
    "len(plainListOfCheckins)"
   ]
  },
  {
   "cell_type": "code",
   "execution_count": 326,
   "metadata": {
    "collapsed": false
   },
   "outputs": [],
   "source": [
    "def saveRequestedActivitiesIds(requestedActivitiesIds):\n",
    "    with open('data/requestedActivitiesIds.json','wb') as activitiesFile:\n",
    "        json.dump(requestedActivitiesIds,activitiesFile)"
   ]
  },
  {
   "cell_type": "code",
   "execution_count": null,
   "metadata": {
    "collapsed": true
   },
   "outputs": [],
   "source": [
    "import requests\n",
    "requests.packages.urllib3.disable_warnings()"
   ]
  },
  {
   "cell_type": "code",
   "execution_count": 389,
   "metadata": {
    "collapsed": true
   },
   "outputs": [],
   "source": [
    "def updateFriendListAndGetNewHistories(clients, requestedActivitiesIds):\n",
    "    print datetime.now()\n",
    "    #Check for new users\n",
    "    usersFriends = getFriendsInfo(clients)\n",
    "    avaliableFriends = extractFriendsIds(usersFriends)\n",
    "    #Get activities of new ones\n",
    "    if countNewFriends(avaliableFriends):\n",
    "        print('Obtaining new users\\' activities')\n",
    "        requestedActivitiesIds = getFriendsActivities(avaliableFriends, clients, requestedActivitiesIds)\n",
    "        usersVenues = getActivitiesFromDB(db)\n",
    "        checkinsForUsers = getActivitiesObjects(usersVenues)\n",
    "        saveDataToCSV(checkinsForUsers)\n",
    "        saveRequestedActivitiesIds(requestedActivitiesIds)\n",
    "    countTotalFriends(avaliableFriends)\n",
    "    print ''"
   ]
  },
  {
   "cell_type": "code",
   "execution_count": 390,
   "metadata": {
    "collapsed": false
   },
   "outputs": [
    {
     "name": "stdout",
     "output_type": "stream",
     "text": [
      "2015-06-25 00:02:37.478069\n",
      "No new friends\n",
      "71 friends total\n",
      "\n"
     ]
    }
   ],
   "source": [
    "updateFriendListAndGetNewHistories(clients, requestedActivitiesIds)"
   ]
  },
  {
   "cell_type": "code",
   "execution_count": 375,
   "metadata": {
    "collapsed": false
   },
   "outputs": [
    {
     "data": {
      "text/plain": [
       "103"
      ]
     },
     "execution_count": 375,
     "metadata": {},
     "output_type": "execute_result"
    }
   ],
   "source": [
    "len(np.unique(requestedActivitiesIds))"
   ]
  },
  {
   "cell_type": "code",
   "execution_count": 372,
   "metadata": {
    "collapsed": false
   },
   "outputs": [
    {
     "data": {
      "text/plain": [
       "85"
      ]
     },
     "execution_count": 372,
     "metadata": {},
     "output_type": "execute_result"
    }
   ],
   "source": [
    "len(checkinsForUsers)"
   ]
  },
  {
   "cell_type": "code",
   "execution_count": 374,
   "metadata": {
    "collapsed": false
   },
   "outputs": [
    {
     "name": "stdout",
     "output_type": "stream",
     "text": [
      "2015-06-24 23:21:52.687355\n",
      "1 new friends\n",
      "Obtaining new users' activities\n",
      "100%\n",
      "\n",
      "50 friends total\n",
      "\n",
      "2015-06-24 23:26:53.417202\n",
      "2 new friends\n",
      "Obtaining new users' activities\n",
      "100%\n",
      "\n",
      "50 friends total\n",
      "\n",
      "2015-06-24 23:27:04.613239\n",
      "No new friends\n",
      "\n",
      "2015-06-24 23:32:03.641674\n",
      "No new friends\n",
      "\n",
      "2015-06-24 23:32:08.290273\n",
      "No new friends\n",
      "\n",
      "2015-06-24 23:37:07.513051\n",
      "No new friends\n",
      "\n",
      "2015-06-24 23:37:11.883838\n",
      "No new friends\n",
      "\n",
      "2015-06-24 23:42:11.670884\n",
      "2 new friends\n",
      "Obtaining new users' activities\n",
      "100%\n",
      "\n",
      "49 friends total\n",
      "\n",
      "2015-06-24 23:42:22.197438\n",
      "No new friends\n",
      "\n",
      "2015-06-24 23:47:21.454829\n",
      "No new friends\n",
      "\n",
      "2015-06-24 23:47:25.754084\n",
      "No new friends\n",
      "\n",
      "2015-06-24 23:52:25.460484\n",
      "No new friends\n",
      "\n",
      "2015-06-24 23:52:30.773970\n",
      "No new friends\n",
      "\n",
      "2015-06-24 23:57:30.464217\n",
      "No new friends\n",
      "\n",
      "2015-06-24 23:57:34.893785\n",
      "No new friends\n",
      "\n"
     ]
    },
    {
     "ename": "KeyboardInterrupt",
     "evalue": "",
     "output_type": "error",
     "traceback": [
      "\u001b[0;31m---------------------------------------------------------------------------\u001b[0m",
      "\u001b[0;31mKeyboardInterrupt\u001b[0m                         Traceback (most recent call last)",
      "\u001b[0;32m<ipython-input-374-9031199e51e5>\u001b[0m in \u001b[0;36m<module>\u001b[0;34m()\u001b[0m\n\u001b[1;32m      6\u001b[0m \u001b[0;32mwhile\u001b[0m \u001b[0mTrue\u001b[0m\u001b[0;34m:\u001b[0m\u001b[0;34m\u001b[0m\u001b[0m\n\u001b[1;32m      7\u001b[0m     \u001b[0mschedule\u001b[0m\u001b[0;34m.\u001b[0m\u001b[0mrun_pending\u001b[0m\u001b[0;34m(\u001b[0m\u001b[0;34m)\u001b[0m\u001b[0;34m\u001b[0m\u001b[0m\n\u001b[0;32m----> 8\u001b[0;31m     \u001b[0mtime\u001b[0m\u001b[0;34m.\u001b[0m\u001b[0msleep\u001b[0m\u001b[0;34m(\u001b[0m\u001b[0;36m1\u001b[0m\u001b[0;34m)\u001b[0m\u001b[0;34m\u001b[0m\u001b[0m\n\u001b[0m",
      "\u001b[0;31mKeyboardInterrupt\u001b[0m: "
     ]
    }
   ],
   "source": [
    "import schedule\n",
    "import time\n",
    "\n",
    "schedule.clear()\n",
    "schedule.every(5).minutes.do(updateFriendListAndGetNewHistories, clients, requestedActivitiesIds)\n",
    "\n",
    "while True:\n",
    "    schedule.run_pending()\n",
    "    time.sleep(1)"
   ]
  },
  {
   "cell_type": "code",
   "execution_count": 377,
   "metadata": {
    "collapsed": false
   },
   "outputs": [],
   "source": [
    "myFriends = clients[2].users.friends()"
   ]
  },
  {
   "cell_type": "code",
   "execution_count": 385,
   "metadata": {
    "collapsed": false
   },
   "outputs": [
    {
     "data": {
      "text/plain": [
       "u'16090902'"
      ]
     },
     "execution_count": 385,
     "metadata": {},
     "output_type": "execute_result"
    }
   ],
   "source": [
    "myFriends['friends']['items'][0]['id']"
   ]
  },
  {
   "cell_type": "code",
   "execution_count": null,
   "metadata": {
    "collapsed": true
   },
   "outputs": [],
   "source": []
  }
 ],
 "metadata": {
  "kernelspec": {
   "display_name": "Python 2",
   "language": "python",
   "name": "python2"
  },
  "language_info": {
   "codemirror_mode": {
    "name": "ipython",
    "version": 2
   },
   "file_extension": ".py",
   "mimetype": "text/x-python",
   "name": "python",
   "nbconvert_exporter": "python",
   "pygments_lexer": "ipython2",
   "version": "2.7.6"
  }
 },
 "nbformat": 4,
 "nbformat_minor": 0
}
