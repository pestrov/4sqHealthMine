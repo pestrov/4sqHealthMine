{
 "cells": [
  {
   "cell_type": "code",
   "execution_count": 27,
   "metadata": {
    "collapsed": true
   },
   "outputs": [],
   "source": [
    "import pandas as pd\n",
    "import numpy as np\n",
    "import json\n",
    "import datetime \n",
    "from sys import stdout\n",
    "import collections\n",
    "from itertools import tee, izip"
   ]
  },
  {
   "cell_type": "code",
   "execution_count": 11,
   "metadata": {
    "collapsed": true
   },
   "outputs": [],
   "source": [
    "def getCheckinsDataFrame():\n",
    "    return pd.read_csv('data/LDAClusteredUsersMoreThan10.tsv', sep=\"\\t\", encoding=\"utf-8\")\n",
    "checkinsDF = getCheckinsDataFrame()"
   ]
  },
  {
   "cell_type": "code",
   "execution_count": 55,
   "metadata": {
    "collapsed": false
   },
   "outputs": [
    {
     "data": {
      "text/html": [
       "<div>\n",
       "<table border=\"1\" class=\"dataframe\">\n",
       "  <thead>\n",
       "    <tr style=\"text-align: right;\">\n",
       "      <th></th>\n",
       "      <th>venueId</th>\n",
       "      <th>lat</th>\n",
       "    </tr>\n",
       "  </thead>\n",
       "  <tbody>\n",
       "    <tr>\n",
       "      <th>0</th>\n",
       "      <td>4fcf81d6e4b00eed05e2a4f7</td>\n",
       "      <td>55.906964</td>\n",
       "    </tr>\n",
       "    <tr>\n",
       "      <th>1</th>\n",
       "      <td>4f439ce8e4b0804937f9cd28</td>\n",
       "      <td>55.844934</td>\n",
       "    </tr>\n",
       "  </tbody>\n",
       "</table>\n",
       "</div>"
      ],
      "text/plain": [
       "                    venueId        lat\n",
       "0  4fcf81d6e4b00eed05e2a4f7  55.906964\n",
       "1  4f439ce8e4b0804937f9cd28  55.844934"
      ]
     },
     "execution_count": 55,
     "metadata": {},
     "output_type": "execute_result"
    }
   ],
   "source": [
    "checkinsDF[:2][['venueId','lat']]"
   ]
  },
  {
   "cell_type": "code",
   "execution_count": 34,
   "metadata": {
    "collapsed": true
   },
   "outputs": [],
   "source": [
    "def getDataFor(clusterId, categoryName):\n",
    "    nTop = 10\n",
    "    relevantCheckins = checkinsDF[checkinsDF.clusterId == clusterId]\n",
    "    \n",
    "    (venuePairsGroupedByUser, categoryPairsGroupedByUser, userIds) = getSequencesFromCheckins(relevantCheckins)\n",
    "    \n",
    "    matrix = getMatrixForTopSuccessors(categoryName, categoryPairsGroupedByUser, nTop, 0)\n",
    "    categoriesDict = getTopSuccessorsColorsDict(categoryName, categoryPairsGroupedByUser, nTop)\n",
    "    return {'matrix':matrix,\n",
    "           'categories':categoriesDict}"
   ]
  },
  {
   "cell_type": "code",
   "execution_count": 61,
   "metadata": {
    "collapsed": false
   },
   "outputs": [
    {
     "data": {
      "text/plain": [
       "[55.806917181700001, 38.0564014972]"
      ]
     },
     "execution_count": 61,
     "metadata": {},
     "output_type": "execute_result"
    }
   ],
   "source": [
    "checkinsDF[checkinsDF.venueId == venueId].iloc[0][['lat','lng']].tolist()"
   ]
  },
  {
   "cell_type": "code",
   "execution_count": 38,
   "metadata": {
    "collapsed": true
   },
   "outputs": [],
   "source": [
    "def countUsersAtVenue(venuedId, checkinsDF):\n",
    "    return len(np.unique(checkinsDF[checkinsDF.venueId == venueId]['userId'].tolist()))\n",
    "\n",
    "#Create loopup dict\n",
    "venuesCatDict = {}\n",
    "for venueId in set(checkinsDF.venueId.tolist()):\n",
    "    venuesCatDict[venueId] = checkinsDF[checkinsDF.venueId == venueId].iloc[0]['categoryName']\n",
    "    \n",
    "def venueCategoryFromId(venueId, checkinsDF):\n",
    "    if venueId not in venuesCatDict:\n",
    "        venuesCatDict[venueId] = checkinsDF[checkinsDF.venueId == venueId].iloc[0]['categoryName']\n",
    "    return venuesCatDict[venueId]"
   ]
  },
  {
   "cell_type": "code",
   "execution_count": 51,
   "metadata": {
    "collapsed": true
   },
   "outputs": [],
   "source": [
    "with open('vis/venuesCatDict.json','w') as filename:\n",
    "    json.dump(venuesCatDict, filename)"
   ]
  },
  {
   "cell_type": "code",
   "execution_count": 24,
   "metadata": {
    "collapsed": true
   },
   "outputs": [],
   "source": [
    "def progress(i, n):\n",
    "    stdout.write(\"\\r%f%%\" % (i*100/float(n)))\n",
    "    stdout.flush()\n",
    "    if i == n-1:\n",
    "        stdout.write(\"\\r100%\")\n",
    "        print(\"\\r\\n\")"
   ]
  },
  {
   "cell_type": "code",
   "execution_count": 26,
   "metadata": {
    "collapsed": true
   },
   "outputs": [],
   "source": [
    "def pairwise(iterable):\n",
    "    a, b = tee(iterable)\n",
    "    next(b, None)\n",
    "    return izip(a, b)"
   ]
  },
  {
   "cell_type": "code",
   "execution_count": 45,
   "metadata": {
    "collapsed": true
   },
   "outputs": [],
   "source": [
    "def getSequencesFromCheckins(checkinsDF):\n",
    "    checkinsGroupedByUser = checkinsDF.groupby('userId')\n",
    "    venuePairsGroupedByUser = []\n",
    "    categoryPairsGroupedByUser = []\n",
    "    userIds = []\n",
    "    count = len(checkinsGroupedByUser)\n",
    "\n",
    "    for index, group in enumerate(checkinsGroupedByUser):\n",
    "        #progress(index, count)\n",
    "        sortedCheckins = group[1].sort(\"createdAt\")\n",
    "        \n",
    "        venuePairs = []\n",
    "        categoryPairs = []\n",
    "        \n",
    "        for venue1, venue2 in pairwise(sortedCheckins['venueId'].tolist()):\n",
    "            venuePairs.append((venue1, venue2))\n",
    "            categoryPairs.append((venueCategoryFromId(venue1, checkinsDF), venueCategoryFromId(venue2, checkinsDF)))\n",
    "            \n",
    "        timeDiffs = []\n",
    "        for checkin1, checkin2 in pairwise(sortedCheckins['createdAt'].tolist()):\n",
    "            timeDiffs.append((checkin2-checkin1)/60)\n",
    "            \n",
    "        venuePairsGroupedByUser.append(zip(venuePairs,timeDiffs))\n",
    "        categoryPairsGroupedByUser.append(zip(categoryPairs,timeDiffs))\n",
    "        userIds.append(group[0])\n",
    "    return (venuePairsGroupedByUser, categoryPairsGroupedByUser, userIds)"
   ]
  },
  {
   "cell_type": "code",
   "execution_count": 20,
   "metadata": {
    "collapsed": true
   },
   "outputs": [],
   "source": [
    "def getCategoryPredcessorsCounter(categoryName, categoryPairs):\n",
    "    predcessorsByUser = [[transitionTuple[0][0] for transitionTuple in userTransitions if transitionTuple[0][1] == categoryName and transitionTuple[1] < 60*6] for userTransitions in categoryPairs]\n",
    "    predcessorsList = [item for sublist in predcessorsByUser for item in sublist]\n",
    "    return collections.Counter(predcessorsList)\n",
    "\n",
    "def getCategorySuccessorsCounter(categoryName, categoryPairs):\n",
    "    successorsByUser = [[transitionTuple[0][1] for transitionTuple in userTransitions if transitionTuple[0][0] == categoryName and transitionTuple[1] < 60*6] for userTransitions in categoryPairs]\n",
    "    successorsList =  [item for sublist in successorsByUser for item in sublist]\n",
    "    return collections.Counter(successorsList)"
   ]
  },
  {
   "cell_type": "code",
   "execution_count": 21,
   "metadata": {
    "collapsed": true
   },
   "outputs": [],
   "source": [
    "def getTopSuccessorsNames(categoryName, categoryPairs, nTop = 10):\n",
    "    topNames = [commonTuple[0] for commonTuple in  getCategoryPredcessorsCounter(categoryName, categoryPairs).most_common(nTop)]\n",
    "    return topNames\n",
    "\n",
    "def getTopSuccessorsColorsDict(categoryName, categoryPairs, nTop = 10):\n",
    "    topNames = getTopSuccessorsNames(categoryName, categoryPairs, nTop)\n",
    "    topColors = ['#3182bd', '#e6550d', '#fdae6b', '#31a354', '#756bb1', '#636363', '#d6616b', '#7b4173', '#bd9e39', #'#b5cf6b',\n",
    "    '#a1d99b']\n",
    "    dictOfColors = [dict(zip(['name', 'color'], row)) for row in izip(topNames, topColors)]\n",
    "    return dictOfColors"
   ]
  },
  {
   "cell_type": "code",
   "execution_count": 22,
   "metadata": {
    "collapsed": true
   },
   "outputs": [],
   "source": [
    "def getMatrixForTopSuccessors(categoryName, categoryPairs, nTop = 10, withOthers = 1):\n",
    "    #Get the counter and list of successors\n",
    "    categoryCounter = getCategorySuccessorsCounter(categoryName, categoryPairs)\n",
    "    categoryTopSuccessors = categoryCounter.most_common(nTop)\n",
    "    topSuccessorsNames = [commonTuple[0] for commonTuple in categoryTopSuccessors]\n",
    "    \n",
    "    #Calculate total sums of inputs/outputs\n",
    "    totalOut = sum(categoryCounter.values())\n",
    "    totalTopCatsInterOut = 0\n",
    "    totalIn = sum(getCategoryPredcessorsCounter(categoryName, categoryPairs).values())\n",
    "    \n",
    "    #+1 for Others section\n",
    "    adjMatrix = [[] for i in range(nTop + withOthers)]\n",
    "    \n",
    "    #Fill the first element with the self value\n",
    "    adjMatrix[0] = [0 for i in range(nTop + withOthers)]\n",
    "    adjMatrix[0][0] = categoryCounter[categoryName]\n",
    "    \n",
    "    index = 1\n",
    "    for commonTuple in  categoryTopSuccessors:\n",
    "        successorCategory = commonTuple[0]\n",
    "        if successorCategory != categoryName:\n",
    "            #Count of transitions from source category\n",
    "            adjMatrix[0][index] = commonTuple[1]\n",
    "            \n",
    "            successorCategoryCounter = getCategorySuccessorsCounter(successorCategory, categoryPairs)\n",
    "            #Counts for all the important categories\n",
    "            adjRow = [0 for i in range(nTop)]\n",
    "            adjRow[0] = successorCategoryCounter[categoryName]\n",
    "            adjRow[1:] = [successorCategoryCounter[catName] for catName in topSuccessorsNames if catName!=categoryName]\n",
    "            #Others set to 0\n",
    "            if withOthers:\n",
    "                adjRow.append(0)\n",
    "            adjMatrix[index] = adjRow\n",
    "            totalTopCatsInterOut  = totalTopCatsInterOut + sum(adjRow)\n",
    "            index = index + 1\n",
    "    if withOthers:\n",
    "        adjMatrix[0][nTop] = totalOut - sum(adjMatrix[0])\n",
    "        adjMatrix[nTop] = [0 for i in range(nTop + withOthers)]\n",
    "        adjMatrix[nTop][0] = totalIn - sum(row[0] for row in adjMatrix)\n",
    "    \n",
    "    #Normalize\n",
    "    total = sum([sum(sublist) for sublist in adjMatrix])\n",
    "    normMatrix = [[float(count)/total for count in adjRow] for adjRow in adjMatrix]\n",
    "    return normMatrix"
   ]
  },
  {
   "cell_type": "code",
   "execution_count": null,
   "metadata": {
    "collapsed": true
   },
   "outputs": [],
   "source": [
    "with open('vis/coffeeMatrix5.json', 'w') as outfile:\n",
    "    json.dump(getMatrixForTopSuccessors('Coffee Shop', categoryPairsGroupedByUser5, 10, 0), outfile)"
   ]
  }
 ],
 "metadata": {
  "kernelspec": {
   "display_name": "Python 2",
   "language": "python",
   "name": "python2"
  },
  "language_info": {
   "codemirror_mode": {
    "name": "ipython",
    "version": 2
   },
   "file_extension": ".py",
   "mimetype": "text/x-python",
   "name": "python",
   "nbconvert_exporter": "python",
   "pygments_lexer": "ipython2",
   "version": "2.7.10"
  }
 },
 "nbformat": 4,
 "nbformat_minor": 0
}
