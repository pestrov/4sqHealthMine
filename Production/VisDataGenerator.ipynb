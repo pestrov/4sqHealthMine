{
 "cells": [
  {
   "cell_type": "code",
   "execution_count": 27,
   "metadata": {
    "collapsed": true
   },
   "outputs": [],
   "source": [
    "import pandas as pd\n",
    "import numpy as np\n",
    "import json\n",
    "import datetime \n",
    "from sys import stdout\n",
    "import collections\n",
    "from itertools import tee, izip"
   ]
  },
  {
   "cell_type": "code",
   "execution_count": 11,
   "metadata": {
    "collapsed": true
   },
   "outputs": [],
   "source": [
    "def getCheckinsDataFrame():\n",
    "    return pd.read_csv('data/LDAClusteredUsersMoreThan10.tsv', sep=\"\\t\", encoding=\"utf-8\")\n",
    "checkinsDF = getCheckinsDataFrame()"
   ]
  },
  {
   "cell_type": "code",
   "execution_count": 12,
   "metadata": {
    "collapsed": false
   },
   "outputs": [
    {
     "data": {
      "text/html": [
       "<div>\n",
       "<table border=\"1\" class=\"dataframe\">\n",
       "  <thead>\n",
       "    <tr style=\"text-align: right;\">\n",
       "      <th></th>\n",
       "      <th>categoryId</th>\n",
       "      <th>categoryName</th>\n",
       "      <th>checkinId</th>\n",
       "      <th>checkinsCount</th>\n",
       "      <th>createdAt</th>\n",
       "      <th>createdAtDate</th>\n",
       "      <th>lat</th>\n",
       "      <th>lng</th>\n",
       "      <th>name</th>\n",
       "      <th>tipCount</th>\n",
       "      <th>userId</th>\n",
       "      <th>usersCount</th>\n",
       "      <th>venueId</th>\n",
       "      <th>clusterId</th>\n",
       "      <th>hour</th>\n",
       "      <th>weekday</th>\n",
       "    </tr>\n",
       "  </thead>\n",
       "  <tbody>\n",
       "    <tr>\n",
       "      <th>0</th>\n",
       "      <td>4d954b06a243a5684965b473</td>\n",
       "      <td>Residential Building (Apartment / Condo)</td>\n",
       "      <td>558aec01498e30990f36b715</td>\n",
       "      <td>933</td>\n",
       "      <td>1435167745</td>\n",
       "      <td>2015-06-24 20:42:25</td>\n",
       "      <td>55.906964</td>\n",
       "      <td>37.401733</td>\n",
       "      <td>Марии Рубцовой, 7</td>\n",
       "      <td>1</td>\n",
       "      <td>88228148</td>\n",
       "      <td>107</td>\n",
       "      <td>4fcf81d6e4b00eed05e2a4f7</td>\n",
       "      <td>1</td>\n",
       "      <td>20</td>\n",
       "      <td>2</td>\n",
       "    </tr>\n",
       "    <tr>\n",
       "      <th>1</th>\n",
       "      <td>52f2ab2ebcbc57f1066b8b4f</td>\n",
       "      <td>Bus Stop</td>\n",
       "      <td>558ac1be498e887c536685a0</td>\n",
       "      <td>4676</td>\n",
       "      <td>1435156926</td>\n",
       "      <td>2015-06-24 17:42:06</td>\n",
       "      <td>55.844934</td>\n",
       "      <td>37.637837</td>\n",
       "      <td>Остановка «Метро Ботанический сад»</td>\n",
       "      <td>11</td>\n",
       "      <td>88228148</td>\n",
       "      <td>2011</td>\n",
       "      <td>4f439ce8e4b0804937f9cd28</td>\n",
       "      <td>1</td>\n",
       "      <td>17</td>\n",
       "      <td>2</td>\n",
       "    </tr>\n",
       "  </tbody>\n",
       "</table>\n",
       "</div>"
      ],
      "text/plain": [
       "                 categoryId                              categoryName  \\\n",
       "0  4d954b06a243a5684965b473  Residential Building (Apartment / Condo)   \n",
       "1  52f2ab2ebcbc57f1066b8b4f                                  Bus Stop   \n",
       "\n",
       "                  checkinId  checkinsCount   createdAt        createdAtDate  \\\n",
       "0  558aec01498e30990f36b715            933  1435167745  2015-06-24 20:42:25   \n",
       "1  558ac1be498e887c536685a0           4676  1435156926  2015-06-24 17:42:06   \n",
       "\n",
       "         lat        lng                                name  tipCount  \\\n",
       "0  55.906964  37.401733                   Марии Рубцовой, 7         1   \n",
       "1  55.844934  37.637837  Остановка «Метро Ботанический сад»        11   \n",
       "\n",
       "     userId  usersCount                   venueId  clusterId  hour  weekday  \n",
       "0  88228148         107  4fcf81d6e4b00eed05e2a4f7          1    20        2  \n",
       "1  88228148        2011  4f439ce8e4b0804937f9cd28          1    17        2  "
      ]
     },
     "execution_count": 12,
     "metadata": {},
     "output_type": "execute_result"
    }
   ],
   "source": [
    "checkinsDF[:2]"
   ]
  },
  {
   "cell_type": "code",
   "execution_count": 34,
   "metadata": {
    "collapsed": true
   },
   "outputs": [],
   "source": [
    "def getDataFor(clusterId, categoryName):\n",
    "    nTop = 10\n",
    "    relevantCheckins = checkinsDF[checkinsDF.clusterId == clusterId]\n",
    "    \n",
    "    (venuePairsGroupedByUser, categoryPairsGroupedByUser, userIds) = getSequencesFromCheckins(relevantCheckins)\n",
    "    \n",
    "    matrix = getMatrixForTopSuccessors(categoryName, categoryPairsGroupedByUser, nTop, 0)\n",
    "    categoriesDict = getTopSuccessorsColorsDict(categoryName, categoryPairsGroupedByUser, nTop)\n",
    "    return {'matrix':matrix,\n",
    "           'categories':categoriesDict}"
   ]
  },
  {
   "cell_type": "code",
   "execution_count": 50,
   "metadata": {
    "collapsed": false
   },
   "outputs": [
    {
     "data": {
      "text/plain": [
       "[{'color': '#3182bd', 'name': u'Park'},\n",
       " {'color': '#e6550d', 'name': u'Bridge'},\n",
       " {'color': '#fdae6b', 'name': u'Mall'},\n",
       " {'color': '#31a354', 'name': u'Street'},\n",
       " {'color': '#756bb1', 'name': u'Coffee Shop'},\n",
       " {'color': '#636363', 'name': u'General College & University'},\n",
       " {'color': '#d6616b', 'name': u'Plaza'},\n",
       " {'color': '#7b4173', 'name': u'Home (private)'},\n",
       " {'color': '#bd9e39', 'name': u'Fast Food Restaurant'},\n",
       " {'color': '#a1d99b', 'name': u'Pedestrian Plaza'}]"
      ]
     },
     "execution_count": 50,
     "metadata": {},
     "output_type": "execute_result"
    }
   ],
   "source": [
    "getDataFor(12, 'Park')['categories']"
   ]
  },
  {
   "cell_type": "code",
   "execution_count": 38,
   "metadata": {
    "collapsed": true
   },
   "outputs": [],
   "source": [
    "def countUsersAtVenue(venuedId, checkinsDF):\n",
    "    return len(np.unique(checkinsDF[checkinsDF.venueId == venueId]['userId'].tolist()))\n",
    "\n",
    "#Create loopup dict\n",
    "venuesCatDict = {}\n",
    "for venueId in set(checkinsDF.venueId.tolist()):\n",
    "    venuesCatDict[venueId] = checkinsDF[checkinsDF.venueId == venueId].iloc[0]['categoryName']\n",
    "    \n",
    "def venueCategoryFromId(venueId, checkinsDF):\n",
    "    if venueId not in venuesCatDict:\n",
    "        venuesCatDict[venueId] = checkinsDF[checkinsDF.venueId == venueId].iloc[0]['categoryName']\n",
    "    return venuesCatDict[venueId]"
   ]
  },
  {
   "cell_type": "code",
   "execution_count": 51,
   "metadata": {
    "collapsed": true
   },
   "outputs": [],
   "source": [
    "with open('vis/venuesCatDict.json','w') as filename:\n",
    "    json.dump(venuesCatDict, filename)"
   ]
  },
  {
   "cell_type": "code",
   "execution_count": 24,
   "metadata": {
    "collapsed": true
   },
   "outputs": [],
   "source": [
    "def progress(i, n):\n",
    "    stdout.write(\"\\r%f%%\" % (i*100/float(n)))\n",
    "    stdout.flush()\n",
    "    if i == n-1:\n",
    "        stdout.write(\"\\r100%\")\n",
    "        print(\"\\r\\n\")"
   ]
  },
  {
   "cell_type": "code",
   "execution_count": 26,
   "metadata": {
    "collapsed": true
   },
   "outputs": [],
   "source": [
    "def pairwise(iterable):\n",
    "    a, b = tee(iterable)\n",
    "    next(b, None)\n",
    "    return izip(a, b)"
   ]
  },
  {
   "cell_type": "code",
   "execution_count": 45,
   "metadata": {
    "collapsed": true
   },
   "outputs": [],
   "source": [
    "def getSequencesFromCheckins(checkinsDF):\n",
    "    checkinsGroupedByUser = checkinsDF.groupby('userId')\n",
    "    venuePairsGroupedByUser = []\n",
    "    categoryPairsGroupedByUser = []\n",
    "    userIds = []\n",
    "    count = len(checkinsGroupedByUser)\n",
    "\n",
    "    for index, group in enumerate(checkinsGroupedByUser):\n",
    "        #progress(index, count)\n",
    "        sortedCheckins = group[1].sort(\"createdAt\")\n",
    "        \n",
    "        venuePairs = []\n",
    "        categoryPairs = []\n",
    "        \n",
    "        for venue1, venue2 in pairwise(sortedCheckins['venueId'].tolist()):\n",
    "            venuePairs.append((venue1, venue2))\n",
    "            categoryPairs.append((venueCategoryFromId(venue1, checkinsDF), venueCategoryFromId(venue2, checkinsDF)))\n",
    "            \n",
    "        timeDiffs = []\n",
    "        for checkin1, checkin2 in pairwise(sortedCheckins['createdAt'].tolist()):\n",
    "            timeDiffs.append((checkin2-checkin1)/60)\n",
    "            \n",
    "        venuePairsGroupedByUser.append(zip(venuePairs,timeDiffs))\n",
    "        categoryPairsGroupedByUser.append(zip(categoryPairs,timeDiffs))\n",
    "        userIds.append(group[0])\n",
    "    return (venuePairsGroupedByUser, categoryPairsGroupedByUser, userIds)"
   ]
  },
  {
   "cell_type": "code",
   "execution_count": 20,
   "metadata": {
    "collapsed": true
   },
   "outputs": [],
   "source": [
    "def getCategoryPredcessorsCounter(categoryName, categoryPairs):\n",
    "    predcessorsByUser = [[transitionTuple[0][0] for transitionTuple in userTransitions if transitionTuple[0][1] == categoryName and transitionTuple[1] < 60*6] for userTransitions in categoryPairs]\n",
    "    predcessorsList = [item for sublist in predcessorsByUser for item in sublist]\n",
    "    return collections.Counter(predcessorsList)\n",
    "\n",
    "def getCategorySuccessorsCounter(categoryName, categoryPairs):\n",
    "    successorsByUser = [[transitionTuple[0][1] for transitionTuple in userTransitions if transitionTuple[0][0] == categoryName and transitionTuple[1] < 60*6] for userTransitions in categoryPairs]\n",
    "    successorsList =  [item for sublist in successorsByUser for item in sublist]\n",
    "    return collections.Counter(successorsList)"
   ]
  },
  {
   "cell_type": "code",
   "execution_count": 21,
   "metadata": {
    "collapsed": true
   },
   "outputs": [],
   "source": [
    "def getTopSuccessorsNames(categoryName, categoryPairs, nTop = 10):\n",
    "    topNames = [commonTuple[0] for commonTuple in  getCategoryPredcessorsCounter(categoryName, categoryPairs).most_common(nTop)]\n",
    "    return topNames\n",
    "\n",
    "def getTopSuccessorsColorsDict(categoryName, categoryPairs, nTop = 10):\n",
    "    topNames = getTopSuccessorsNames(categoryName, categoryPairs, nTop)\n",
    "    topColors = ['#3182bd', '#e6550d', '#fdae6b', '#31a354', '#756bb1', '#636363', '#d6616b', '#7b4173', '#bd9e39', #'#b5cf6b',\n",
    "    '#a1d99b']\n",
    "    dictOfColors = [dict(zip(['name', 'color'], row)) for row in izip(topNames, topColors)]\n",
    "    return dictOfColors"
   ]
  },
  {
   "cell_type": "code",
   "execution_count": 22,
   "metadata": {
    "collapsed": true
   },
   "outputs": [],
   "source": [
    "def getMatrixForTopSuccessors(categoryName, categoryPairs, nTop = 10, withOthers = 1):\n",
    "    #Get the counter and list of successors\n",
    "    categoryCounter = getCategorySuccessorsCounter(categoryName, categoryPairs)\n",
    "    categoryTopSuccessors = categoryCounter.most_common(nTop)\n",
    "    topSuccessorsNames = [commonTuple[0] for commonTuple in categoryTopSuccessors]\n",
    "    \n",
    "    #Calculate total sums of inputs/outputs\n",
    "    totalOut = sum(categoryCounter.values())\n",
    "    totalTopCatsInterOut = 0\n",
    "    totalIn = sum(getCategoryPredcessorsCounter(categoryName, categoryPairs).values())\n",
    "    \n",
    "    #+1 for Others section\n",
    "    adjMatrix = [[] for i in range(nTop + withOthers)]\n",
    "    \n",
    "    #Fill the first element with the self value\n",
    "    adjMatrix[0] = [0 for i in range(nTop + withOthers)]\n",
    "    adjMatrix[0][0] = categoryCounter[categoryName]\n",
    "    \n",
    "    index = 1\n",
    "    for commonTuple in  categoryTopSuccessors:\n",
    "        successorCategory = commonTuple[0]\n",
    "        if successorCategory != categoryName:\n",
    "            #Count of transitions from source category\n",
    "            adjMatrix[0][index] = commonTuple[1]\n",
    "            \n",
    "            successorCategoryCounter = getCategorySuccessorsCounter(successorCategory, categoryPairs)\n",
    "            #Counts for all the important categories\n",
    "            adjRow = [0 for i in range(nTop)]\n",
    "            adjRow[0] = successorCategoryCounter[categoryName]\n",
    "            adjRow[1:] = [successorCategoryCounter[catName] for catName in topSuccessorsNames if catName!=categoryName]\n",
    "            #Others set to 0\n",
    "            if withOthers:\n",
    "                adjRow.append(0)\n",
    "            adjMatrix[index] = adjRow\n",
    "            totalTopCatsInterOut  = totalTopCatsInterOut + sum(adjRow)\n",
    "            index = index + 1\n",
    "    if withOthers:\n",
    "        adjMatrix[0][nTop] = totalOut - sum(adjMatrix[0])\n",
    "        adjMatrix[nTop] = [0 for i in range(nTop + withOthers)]\n",
    "        adjMatrix[nTop][0] = totalIn - sum(row[0] for row in adjMatrix)\n",
    "    \n",
    "    #Normalize\n",
    "    total = sum([sum(sublist) for sublist in adjMatrix])\n",
    "    normMatrix = [[float(count)/total for count in adjRow] for adjRow in adjMatrix]\n",
    "    return normMatrix"
   ]
  },
  {
   "cell_type": "code",
   "execution_count": null,
   "metadata": {
    "collapsed": true
   },
   "outputs": [],
   "source": [
    "with open('vis/coffeeMatrix5.json', 'w') as outfile:\n",
    "    json.dump(getMatrixForTopSuccessors('Coffee Shop', categoryPairsGroupedByUser5, 10, 0), outfile)"
   ]
  }
 ],
 "metadata": {
  "kernelspec": {
   "display_name": "Python 2",
   "language": "python",
   "name": "python2"
  },
  "language_info": {
   "codemirror_mode": {
    "name": "ipython",
    "version": 2
   },
   "file_extension": ".py",
   "mimetype": "text/x-python",
   "name": "python",
   "nbconvert_exporter": "python",
   "pygments_lexer": "ipython2",
   "version": "2.7.10"
  }
 },
 "nbformat": 4,
 "nbformat_minor": 0
}
