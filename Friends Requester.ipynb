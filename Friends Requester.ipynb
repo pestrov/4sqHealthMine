{
 "cells": [
  {
   "cell_type": "code",
   "execution_count": 1,
   "metadata": {
    "collapsed": false
   },
   "outputs": [],
   "source": [
    "import json\n",
    "import foursquareWithHosts\n",
    "from datetime import datetime\n",
    "from sys import stdout\n",
    "import requests\n",
    "with open('keys/appCredentialsSudo.json') as credentialsFile:    \n",
    "    credentials = json.load(credentialsFile)\n",
    "with open('keys/accessTokensSudo.json') as tokensFile:    \n",
    "    accessTokens = json.load(tokensFile)\n",
    "requests.packages.urllib3.disable_warnings()"
   ]
  },
  {
   "cell_type": "code",
   "execution_count": 2,
   "metadata": {
    "collapsed": false
   },
   "outputs": [
    {
     "name": "stdout",
     "output_type": "stream",
     "text": [
      "Hi\n",
      "Hi\n",
      "Hi\n",
      "Hi\n",
      "Hi\n",
      "Hi\n",
      "Hi\n",
      "Hi\n",
      "Hi\n",
      "Hi\n",
      "Hi\n",
      "Hi\n",
      "Hi\n",
      "Hi\n",
      "Hi\n",
      "Hi\n",
      "Hi\n",
      "Hi\n",
      "Hi\n",
      "Hi\n"
     ]
    }
   ],
   "source": [
    "clients = []\n",
    "users = []\n",
    "for accessToken in accessTokens:\n",
    "    client = foursquareWithHosts.Foursquare(client_id=credentials['client_id'], client_secret=credentials['client_secret'], redirect_uri=credentials['redirect_uri'])\n",
    "    client.set_access_token(accessToken)\n",
    "    user = client.users()\n",
    "    clients.append(client)\n",
    "    users.append(user)"
   ]
  },
  {
   "cell_type": "markdown",
   "metadata": {},
   "source": [
    "# Check and add new friends"
   ]
  },
  {
   "cell_type": "code",
   "execution_count": 3,
   "metadata": {
    "collapsed": true
   },
   "outputs": [],
   "source": [
    "def progress(i, n):\n",
    "    stdout.write(\"\\r%f%%\" % (i*100/float(n)))\n",
    "    stdout.flush()\n",
    "    if i == n-1:\n",
    "        stdout.write(\"\\r100%\")\n",
    "        print(\"\\r\\n\")"
   ]
  },
  {
   "cell_type": "code",
   "execution_count": 4,
   "metadata": {
    "collapsed": true
   },
   "outputs": [],
   "source": [
    "def getMongoDBInstance():\n",
    "    client = MongoClient('mongodb://localhost:27017/')\n",
    "    db = client.habidatum\n",
    "    return db"
   ]
  },
  {
   "cell_type": "code",
   "execution_count": 5,
   "metadata": {
    "collapsed": false
   },
   "outputs": [],
   "source": [
    "import pandas as pd\n",
    "import numpy as np\n",
    "from pymongo import MongoClient\n",
    "db = getMongoDBInstance()"
   ]
  },
  {
   "cell_type": "code",
   "execution_count": 6,
   "metadata": {
    "collapsed": true
   },
   "outputs": [],
   "source": [
    "def fillSourceDataFrames(folderName):\n",
    "    checkinsDF = pd.read_csv('data/'+folderName+'checkins.tsv', sep='\\t',encoding='utf-8')\n",
    "    checkpointsDF = pd.read_csv('data/'+folderName+'checkPoints.tsv', sep='\\t',encoding='utf-8')\n",
    "    usersDF = pd.read_csv('data/'+folderName+'users.tsv', sep='\\t',encoding='utf-8')\n",
    "    return (checkinsDF, checkpointsDF, usersDF)"
   ]
  },
  {
   "cell_type": "code",
   "execution_count": 7,
   "metadata": {
    "collapsed": false
   },
   "outputs": [],
   "source": [
    "with open('data/pendingFriendsIds.json') as oldPendingFriendsFile:    \n",
    "    oldPendingFriends = json.load(oldPendingFriendsFile)"
   ]
  },
  {
   "cell_type": "code",
   "execution_count": 8,
   "metadata": {
    "collapsed": true
   },
   "outputs": [],
   "source": [
    "#Getting old  pending users\n",
    "def getPendingFriends(db):\n",
    "    existingPendingFriends = oldPendingFriends\n",
    "    existingPendingFriendsCoursor = db.pendingUsers.find()\n",
    "    for pendingFriend in existingPendingFriendsCoursor:\n",
    "        existingPendingFriends.append(int(pendingFriend['requestedUser']['user']['id']))\n",
    "    return existingPendingFriends"
   ]
  },
  {
   "cell_type": "code",
   "execution_count": 9,
   "metadata": {
    "collapsed": true
   },
   "outputs": [],
   "source": [
    "def getUnfriendedFriendsForUser(db, userIndex):\n",
    "    existingPendingFriends = []\n",
    "    existingPendingFriendsCoursor = db.unfriendedUsers.find({\"unfriendingUser\":userIndex})\n",
    "    for pendingFriend in existingPendingFriendsCoursor:\n",
    "        existingPendingFriends.append(int(pendingFriend['unfriendedUser']))\n",
    "    return existingPendingFriends"
   ]
  },
  {
   "cell_type": "code",
   "execution_count": 10,
   "metadata": {
    "collapsed": true
   },
   "outputs": [],
   "source": [
    "def getPendedFriendsForUser(db, userIndex):\n",
    "    existingPendingFriends = []\n",
    "    existingPendingFriendsCoursor = db.pendingUsers.find({\"requestingUser\":userIndex})\n",
    "    for pendingFriend in existingPendingFriendsCoursor:\n",
    "        existingPendingFriends.append(int(pendingFriend['requestedUser']['user']['id']))\n",
    "    return existingPendingFriends"
   ]
  },
  {
   "cell_type": "code",
   "execution_count": 11,
   "metadata": {
    "collapsed": true
   },
   "outputs": [],
   "source": [
    "def getUsersToFriend(usersDF, existingPendingFriends):\n",
    "    return usersDF[~usersDF.userId.isin(existingPendingFriends)].userId.tolist()"
   ]
  },
  {
   "cell_type": "code",
   "execution_count": 12,
   "metadata": {
    "collapsed": true
   },
   "outputs": [],
   "source": [
    "def countUsersToFriend(usersToFriend):\n",
    "    usersToFriendCount = len(usersToFriend)\n",
    "    if usersToFriendCount:\n",
    "        print('{} users to friend').format(usersToFriendCount)\n",
    "    else:\n",
    "        print('No new users to friend')\n",
    "    return usersToFriendCount"
   ]
  },
  {
   "cell_type": "code",
   "execution_count": 17,
   "metadata": {
    "collapsed": false
   },
   "outputs": [],
   "source": [
    "def unfriendAllUsers( db, clients):\n",
    "    for clientId, client in enumerate(clients):\n",
    "        print ''\n",
    "        print 'Client:', clientId\n",
    "        pendedUsers = getPendedFriendsForUser(db, clientId)\n",
    "        unfriendedUsers = getUnfriendedFriendsForUser(db, clientId)\n",
    "        print ''\n",
    "        print 'Pending: ', len(pendedUsers)\n",
    "        print 'Already unfriended: ', len(unfriendedUsers)\n",
    "        for index, userId in enumerate(pendedUsers[:-50]):\n",
    "            progress(index, len(pendedUsers[:-50]))\n",
    "            if userId not in unfriendedUsers:\n",
    "                try:\n",
    "                    clients[clientId].users.unfriend(userId)\n",
    "                    db.unfriendedUsers.insert({'unfriendingUser':clientId,\n",
    "                                                'unfriendedUser':userId,\n",
    "                                                'unfriendedAt':datetime.now()})\n",
    "                except Exception as e:\n",
    "                    pass"
   ]
  },
  {
   "cell_type": "code",
   "execution_count": null,
   "metadata": {
    "collapsed": false
   },
   "outputs": [],
   "source": [
    "unfriendAllUsers(db, clients)"
   ]
  },
  {
   "cell_type": "code",
   "execution_count": 14,
   "metadata": {
    "collapsed": false
   },
   "outputs": [],
   "source": [
    "def friendUsers(usersToFriend, db, clients):\n",
    "    pendingUsers = []\n",
    "    for index, userId in enumerate(usersToFriend):\n",
    "        progress(index,len(usersToFriend))\n",
    "        currentUserId = index%len(clients)\n",
    "        try:\n",
    "            pendingUser = clients[currentUserId].users.request(userId)\n",
    "            pendingUsers.append(pendingUser)\n",
    "            db.pendingUsers.insert({'requestingUser':currentUserId,\n",
    "                                        'requestedUser':pendingUser,\n",
    "                                         'requestedAt':datetime.now()})\n",
    "        except Exception as e:\n",
    "            print ''\n",
    "            print e\n",
    "            print 'User',currentUserId, 'Can\\'t friend'\n",
    "            \n",
    "            pendedUsers = getPendedFriendsForUser(db, currentUserId)\n",
    "            unfriendedUsers = getUnfriendedFriendsForUser(db, currentUserId)\n",
    "            for index, userId in enumerate(pendedUsers):\n",
    "                progress(index, 400)\n",
    "                if userId not in unfriendedUsers:\n",
    "                    try:\n",
    "                        clients[currentUserId].users.unfriend(userId)\n",
    "                        db.unfriendedUsers.insert({'unfriendingUser':currentUserId,\n",
    "                                                    'unfriendedUser':userId,\n",
    "                                                     'unfriendedAt':datetime.now()})\n",
    "                    except Exception as e:\n",
    "                        pass\n",
    "    return pendingUsers"
   ]
  },
  {
   "cell_type": "code",
   "execution_count": 15,
   "metadata": {
    "collapsed": true
   },
   "outputs": [],
   "source": [
    "def addNewUsersFromCheckins(folderName, clients, db):\n",
    "    (checkinsDF, checkpointsDF, usersDF) = fillSourceDataFrames(folderName)\n",
    "    existingPendingFriends = getPendingFriends(db)\n",
    "    usersToFriend = getUsersToFriend(usersDF, existingPendingFriends)\n",
    "    if countUsersToFriend(usersToFriend):\n",
    "        friendUsers(usersToFriend, db, clients)"
   ]
  },
  {
   "cell_type": "markdown",
   "metadata": {},
   "source": [
    "# Run the loop"
   ]
  },
  {
   "cell_type": "code",
   "execution_count": null,
   "metadata": {
    "collapsed": false
   },
   "outputs": [
    {
     "name": "stdout",
     "output_type": "stream",
     "text": [
      "3 users to friend\n",
      "66.666667%"
     ]
    }
   ],
   "source": [
    "import schedule\n",
    "import time\n",
    "\n",
    "schedule.clear()\n",
    "addNewUsersFromCheckins('July/', clients, db)\n",
    "schedule.every(10).minutes.do(addNewUsersFromCheckins,'July/', clients, db)\n",
    "schedule.every(24).hours.do(unfriendAllUsers,db, clients)\n",
    "\n",
    "while True:\n",
    "    schedule.run_pending()\n",
    "    time.sleep(1)"
   ]
  },
  {
   "cell_type": "code",
   "execution_count": null,
   "metadata": {
    "collapsed": false
   },
   "outputs": [],
   "source": [
    "addNewUsersFromCheckins('July/', clients, db)"
   ]
  },
  {
   "cell_type": "code",
   "execution_count": 26,
   "metadata": {
    "collapsed": true
   },
   "outputs": [],
   "source": [
    "existingPendingFriendsCoursor0 = db.pendingUsers.find({'requestingUser':4})"
   ]
  },
  {
   "cell_type": "code",
   "execution_count": 35,
   "metadata": {
    "collapsed": false
   },
   "outputs": [
    {
     "name": "stdout",
     "output_type": "stream",
     "text": [
      "100%\n",
      "\n"
     ]
    }
   ],
   "source": [
    "for index, userId in enumerate(oldPendingFriends[-500:]):\n",
    "    removed = False\n",
    "    progress(index, 500)\n",
    "    for client in clients:\n",
    "        if removed:\n",
    "            continue\n",
    "        try:\n",
    "            client.users.unfriend(userId)\n",
    "            removed = True\n",
    "        except:\n",
    "            pass"
   ]
  },
  {
   "cell_type": "code",
   "execution_count": null,
   "metadata": {
    "collapsed": true
   },
   "outputs": [],
   "source": []
  }
 ],
 "metadata": {
  "kernelspec": {
   "display_name": "Python 2",
   "language": "python",
   "name": "python2"
  },
  "language_info": {
   "codemirror_mode": {
    "name": "ipython",
    "version": 2
   },
   "file_extension": ".py",
   "mimetype": "text/x-python",
   "name": "python",
   "nbconvert_exporter": "python",
   "pygments_lexer": "ipython2",
   "version": "2.7.6"
  }
 },
 "nbformat": 4,
 "nbformat_minor": 0
}
