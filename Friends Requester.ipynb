{
 "cells": [
  {
   "cell_type": "code",
   "execution_count": 4,
   "metadata": {
    "collapsed": false
   },
   "outputs": [],
   "source": [
    "import json\n",
    "import foursquareWithHosts\n",
    "from datetime import datetime\n",
    "from sys import stdout\n",
    "import requests\n",
    "with open('keys/appCredentials.json') as credentialsFile:    \n",
    "    credentials = json.load(credentialsFile)\n",
    "with open('keys/accessTokens.json') as tokensFile:    \n",
    "    accessTokens = json.load(tokensFile)\n",
    "requests.packages.urllib3.disable_warnings()"
   ]
  },
  {
   "cell_type": "code",
   "execution_count": 5,
   "metadata": {
    "collapsed": false
   },
   "outputs": [
    {
     "name": "stdout",
     "output_type": "stream",
     "text": [
      "Hi\n",
      "Hi\n",
      "Hi\n",
      "Hi\n",
      "Hi\n"
     ]
    }
   ],
   "source": [
    "clients = []\n",
    "users = []\n",
    "for accessToken in accessTokens[:5]:\n",
    "    client = foursquareWithHosts.Foursquare(client_id=credentials['client_id'], client_secret=credentials['client_secret'], redirect_uri=credentials['redirect_uri'])\n",
    "    client.set_access_token(accessToken)\n",
    "    user = client.users()\n",
    "    clients.append(client)\n",
    "    users.append(user)"
   ]
  },
  {
   "cell_type": "markdown",
   "metadata": {},
   "source": [
    "# Check and add new friends"
   ]
  },
  {
   "cell_type": "code",
   "execution_count": 6,
   "metadata": {
    "collapsed": true
   },
   "outputs": [],
   "source": [
    "def progress(i, n):\n",
    "    stdout.write(\"\\r%f%%\" % (i*100/float(n)))\n",
    "    stdout.flush()\n",
    "    if i == n-1:\n",
    "        stdout.write(\"\\r100%\")\n",
    "        print(\"\\r\\n\")"
   ]
  },
  {
   "cell_type": "code",
   "execution_count": 8,
   "metadata": {
    "collapsed": true
   },
   "outputs": [],
   "source": [
    "def getMongoDBInstance():\n",
    "    client = MongoClient('mongodb://localhost:27017/')\n",
    "    db = client.habidatum\n",
    "    return db"
   ]
  },
  {
   "cell_type": "code",
   "execution_count": 9,
   "metadata": {
    "collapsed": false
   },
   "outputs": [],
   "source": [
    "import pandas as pd\n",
    "import numpy as np\n",
    "from pymongo import MongoClient\n",
    "db = getMongoDBInstance()"
   ]
  },
  {
   "cell_type": "code",
   "execution_count": 10,
   "metadata": {
    "collapsed": true
   },
   "outputs": [],
   "source": [
    "def fillSourceDataFrames(folderName):\n",
    "    checkinsDF = pd.read_csv('data/'+folderName+'checkins.tsv', sep='\\t',encoding='utf-8')\n",
    "    checkpointsDF = pd.read_csv('data/'+folderName+'checkPoints.tsv', sep='\\t',encoding='utf-8')\n",
    "    usersDF = pd.read_csv('data/'+folderName+'users.tsv', sep='\\t',encoding='utf-8')\n",
    "    return (checkinsDF, checkpointsDF, usersDF)"
   ]
  },
  {
   "cell_type": "code",
   "execution_count": 11,
   "metadata": {
    "collapsed": true
   },
   "outputs": [],
   "source": [
    "#Getting old  pending users\n",
    "def getPendingFriends(db):\n",
    "    existingPendingFriends = []\n",
    "    existingPendingFriendsCoursor = db.pendingUsers.find()\n",
    "    for pendingFriend in existingPendingFriendsCoursor:\n",
    "        existingPendingFriends.append(int(pendingFriend['requestedUser']['user']['id']))\n",
    "    return existingPendingFriends"
   ]
  },
  {
   "cell_type": "code",
   "execution_count": 12,
   "metadata": {
    "collapsed": true
   },
   "outputs": [],
   "source": [
    "def getUsersToFriend(usersDF, existingPendingFriends):\n",
    "    return usersDF[~usersDF.userId.isin(existingPendingFriends)].userId.tolist()"
   ]
  },
  {
   "cell_type": "code",
   "execution_count": 13,
   "metadata": {
    "collapsed": true
   },
   "outputs": [],
   "source": [
    "def countUsersToFriend(usersToFriend):\n",
    "    usersToFriendCount = len(usersToFriend)\n",
    "    if usersToFriendCount:\n",
    "        print('{} users to friend').format(usersToFriendCount)\n",
    "    else:\n",
    "        print('No new users to friend')\n",
    "    return usersToFriendCount"
   ]
  },
  {
   "cell_type": "code",
   "execution_count": 14,
   "metadata": {
    "collapsed": true
   },
   "outputs": [],
   "source": [
    "def friendUsers(usersToFriend, db, clients):\n",
    "    pendingUsers = []\n",
    "    for index, userId in enumerate(usersToFriend):\n",
    "        progress(index,len(usersToFriend))\n",
    "        pendingUser = clients[index%len(clients)].users.request(userId)\n",
    "        pendingUsers.append(pendingUser)\n",
    "        db.pendingUsers.insert({'requestingUser':index%len(clients),\n",
    "                                    'requestedUser':pendingUser,\n",
    "                                     'requestedAt':datetime.now()})\n",
    "    return pendingUsers"
   ]
  },
  {
   "cell_type": "code",
   "execution_count": 17,
   "metadata": {
    "collapsed": true
   },
   "outputs": [],
   "source": [
    "def addNewUsersFromCheckins(folderName, clients, db):\n",
    "    (checkinsDF, checkpointsDF, usersDF) = fillSourceDataFrames(folderName)\n",
    "    existingPendingFriends = getPendingFriends(db)\n",
    "    usersToFriend = getUsersToFriend(usersDF, existingPendingFriends)\n",
    "    if countUsersToFriend(usersToFriend):\n",
    "        friendUsers(usersToFriend, db, clients)"
   ]
  },
  {
   "cell_type": "markdown",
   "metadata": {},
   "source": [
    "# Run the loop"
   ]
  },
  {
   "cell_type": "code",
   "execution_count": null,
   "metadata": {
    "collapsed": false
   },
   "outputs": [],
   "source": [
    "import schedule\n",
    "import time\n",
    "\n",
    "schedule.clear()\n",
    "schedule.every(2).minutes.do(addNewUsersFromCheckins,'25June/', clients, db)\n",
    "\n",
    "while True:\n",
    "    schedule.run_pending()\n",
    "    time.sleep(1)"
   ]
  },
  {
   "cell_type": "code",
   "execution_count": null,
   "metadata": {
    "collapsed": true
   },
   "outputs": [],
   "source": []
  }
 ],
 "metadata": {
  "kernelspec": {
   "display_name": "Python 2",
   "language": "python",
   "name": "python2"
  },
  "language_info": {
   "codemirror_mode": {
    "name": "ipython",
    "version": 2
   },
   "file_extension": ".py",
   "mimetype": "text/x-python",
   "name": "python",
   "nbconvert_exporter": "python",
   "pygments_lexer": "ipython2",
   "version": "2.7.6"
  }
 },
 "nbformat": 4,
 "nbformat_minor": 0
}
